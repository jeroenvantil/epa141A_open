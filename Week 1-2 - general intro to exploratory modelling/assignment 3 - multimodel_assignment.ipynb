{
 "cells": [
  {
   "cell_type": "markdown",
   "metadata": {},
   "source": [
    "# EPA1361 - Model-Based Decision Making\n",
    "\n",
    "## Multi-model analysis\n",
    "\n",
    "This exercise uses a simple version of the [Lotka-Volterra predator-prey equations](https://en.wikipedia.org/wiki/Lotka%E2%80%93Volterra_equations) to show how the EMA Workbench can be used for a\n",
    "multi-model analysis, in addition to typical parametric/structural uncertainties. This will let you test the connectors provided in the Workbench for Excel, NetLogo, and Vensim / PySD; we'll also use the models for the sensitivity analysis exercise in week 3.\n",
    "\n",
    "**Assignment**\n",
    "Using the three model files provided and the Python function below, define model objects for each implementation (Excel, NetLogo, Vensim/PySD, and Python), and test them using a single ensemble. Use 50 experiments sampled from the parameters below (so that each experiment will be executed for the 4 models, for a total of 200), and retrieve outputs for the _TIME_, _predators_, and _prey_ variables.\n",
    "   * Excel and Vensim are only supported on Windows\n",
    "   * Vensim requires the DSS version of Vensim\n",
    "   * Netlogo supoprt depends on [jpype](http://jpype.readthedocs.io/en/latest/install.html) and [pynetlogo](https://pynetlogo.readthedocs.io/en/latest/). Also, if you don't have NetLogo installed, please get [NetLogo 6.3.0](https://ccl.northwestern.edu/netlogo/download.shtml)\n",
    "   * for pysd, see [its documentation](http://pysd.readthedocs.io/en/master/installation.html)\n",
    "   * If possible try to work with all model versions, but even 2 or 3 (pure python and something else should be sufficient).\n",
    "\n",
    "\n",
    "|Parameter\t|Range or value\t        |\n",
    "|-----------|--------------:|\n",
    "|prey_birth_rate    \t|0.015 – 0.035\t|\n",
    "|predation_rate|0.0005 – 0.003 \t|\n",
    "|predator_efficiency     \t|0.001 – 0.004\t    |\n",
    "|predator_loss_rate\t    |0.04 – 0.08\t    |\n",
    "|Final time\t    |365\t    |\n",
    "|dt\t    |0.25\t    |\n",
    "\n",
    "* Note that your EMA Workbench installation includes [example scripts](https://github.com/quaquel/EMAworkbench/tree/master/ema_workbench/examples) for the different connectors. The different model objects follow a similar syntax but will need to be slightly adjusted depending on the software (e.g. to specify the NetLogo run length or the sheet name in Excel).\n",
    "  * This [tutorial](https://emaworkbench.readthedocs.io/en/latest/basic_tutorial.html) also shows a simple model in Python, Vensim and Excel connected to the workbench.\n",
    "\n",
    "* These model objects can be used with a replication functionality (for instance to test the effect of stochastic uncertainty in a NetLogo model), which repeats a given experiment over multiple replications. You can use a single replication in this exercise as the models are not stochastic. By default, each outcome array will then have a shape of (# experiments, # replications, # time steps). Try adapting the outcome arrays so that they can be used with the _lines_ plotting function of the Workbench, and plot the results grouped by model.\n",
    "\n",
    "* To check the graphical results, find the maximum absolute error of the time series you obtained for the _prey_ variable in the Excel, NetLogo, and Vensim/PySD models, relative to the Python function."
   ]
  },
  {
   "cell_type": "code",
   "execution_count": 2,
   "outputs": [],
   "source": [
    "# Some imports you may need\n",
    "import numpy as np\n",
    "import matplotlib.pyplot as plt\n",
    "\n",
    "from ema_workbench import (Model, RealParameter, TimeSeriesOutcome, perform_experiments, ema_logging)\n",
    "\n",
    "from ema_workbench.connectors.netlogo import NetLogoModel\n",
    "from ema_workbench.connectors.excel import ExcelModel\n",
    "from ema_workbench.connectors.pysd_connector import PysdModel\n",
    "\n",
    "from ema_workbench.em_framework.samplers import LHSSampler\n",
    "from ema_workbench.em_framework.salib_samplers import MorrisSampler, SobolSampler\n",
    "\n",
    "from ema_workbench.analysis.plotting import lines, Density"
   ],
   "metadata": {
    "collapsed": false,
    "ExecuteTime": {
     "end_time": "2024-04-29T14:23:36.410054400Z",
     "start_time": "2024-04-29T14:23:36.406797900Z"
    }
   }
  },
  {
   "cell_type": "code",
   "execution_count": 3,
   "outputs": [],
   "source": [
    "# Import the Python function\n",
    "from model.pred_prey import PredPrey"
   ],
   "metadata": {
    "collapsed": false,
    "ExecuteTime": {
     "end_time": "2024-04-29T14:23:38.373402100Z",
     "start_time": "2024-04-29T14:23:38.366080200Z"
    }
   }
  },
  {
   "cell_type": "code",
   "execution_count": 6,
   "metadata": {
    "collapsed": false,
    "ExecuteTime": {
     "end_time": "2024-04-29T14:26:14.929186600Z",
     "start_time": "2024-04-29T14:26:14.915617700Z"
    }
   },
   "outputs": [],
   "source": [
    "# Define uncertainties and outcomes\n",
    "from ema_workbench import Model, RealParameter, ScalarOutcome\n",
    "\n",
    "model = Model('PredPrey', function=PredPrey)\n",
    "\n",
    "# Specify uncertainties\n",
    "model.uncertainties = [RealParameter('prey_birth_rate', 0.015, 0.035),\n",
    "                       RealParameter('predation_rate', 0.0005, 0.003),\n",
    "                       RealParameter('predator_efficiency', 0.001, 0.004),\n",
    "                       RealParameter('predator_loss_rate', 0.04, 0.08)]\n",
    "\n",
    "model.outcomes = [TimeSeriesOutcome('TIME'),\n",
    "                  TimeSeriesOutcome('predators'),\n",
    "                  TimeSeriesOutcome('prey')]\n",
    "\n",
    "\n",
    "# Define model objects for the different implementations\n",
    "\n"
   ]
  },
  {
   "cell_type": "code",
   "outputs": [
    {
     "name": "stderr",
     "output_type": "stream",
     "text": [
      "\n",
      "  0%|                                                   | 0/50 [00:00<?, ?it/s]\u001B[A\n",
      "100%|█████████████████████████████████████████| 50/50 [00:00<00:00, 261.37it/s]\u001B[A\n"
     ]
    }
   ],
   "source": [
    "from ema_workbench import SequentialEvaluator\n",
    "\n",
    "with SequentialEvaluator(model) as evaluator:\n",
    "    experiments, outcomes = evaluator.perform_experiments(scenarios=50)"
   ],
   "metadata": {
    "collapsed": false,
    "ExecuteTime": {
     "end_time": "2024-04-29T14:26:16.232218Z",
     "start_time": "2024-04-29T14:26:16.030756800Z"
    }
   },
   "execution_count": 7
  },
  {
   "cell_type": "code",
   "outputs": [
    {
     "data": {
      "text/plain": "    predation_rate  predator_efficiency  predator_loss_rate  prey_birth_rate  \\\n0         0.001600             0.003656            0.051242         0.027822   \n1         0.002373             0.003235            0.068528         0.034669   \n2         0.000960             0.002135            0.058512         0.034512   \n3         0.001831             0.001672            0.055868         0.029075   \n4         0.002432             0.002483            0.061883         0.033106   \n5         0.002873             0.003170            0.061021         0.024170   \n6         0.001275             0.003956            0.078221         0.018970   \n7         0.002728             0.003598            0.050922         0.015308   \n8         0.001401             0.003558            0.062786         0.023538   \n9         0.001134             0.002584            0.066479         0.033496   \n10        0.002112             0.001264            0.072598         0.025413   \n11        0.002330             0.003352            0.059486         0.025288   \n12        0.001867             0.003122            0.077244         0.025879   \n13        0.000866             0.002074            0.079475         0.024324   \n14        0.002752             0.001789            0.078645         0.029912   \n15        0.002828             0.002835            0.047484         0.017150   \n16        0.000941             0.002694            0.066188         0.022758   \n17        0.002204             0.002643            0.053311         0.017701   \n18        0.000671             0.001539            0.052105         0.020792   \n19        0.001986             0.002244            0.071271         0.028211   \n20        0.000849             0.002344            0.046090         0.023252   \n21        0.000709             0.001162            0.073751         0.021084   \n22        0.002580             0.002980            0.049392         0.032265   \n23        0.000522             0.003496            0.070130         0.026817   \n24        0.001907             0.002863            0.064468         0.018066   \n25        0.001526             0.001645            0.063720         0.022056   \n26        0.001225             0.001569            0.056094         0.031905   \n27        0.002603             0.003054            0.045373         0.027412   \n28        0.001770             0.003702            0.054890         0.020202   \n29        0.002156             0.001737            0.049940         0.019657   \n30        0.002976             0.003330            0.074771         0.030655   \n31        0.002057             0.001106            0.041805         0.031155   \n32        0.002653             0.001362            0.069164         0.031470   \n33        0.002904             0.001844            0.054124         0.015618   \n34        0.000784             0.001942            0.067364         0.029656   \n35        0.002256             0.002173            0.044123         0.016925   \n36        0.002486             0.001320            0.073198         0.021442   \n37        0.001350             0.001053            0.058053         0.022308   \n38        0.001484             0.002770            0.060273         0.028984   \n39        0.002546             0.003444            0.057414         0.027069   \n40        0.002015             0.002311            0.040117         0.030481   \n41        0.001197             0.003793            0.075649         0.019194   \n42        0.001329             0.002384            0.041400         0.032959   \n43        0.001652             0.001979            0.042874         0.019859   \n44        0.001736             0.001448            0.046593         0.016540   \n45        0.001638             0.003851            0.065384         0.026533   \n46        0.001049             0.003036            0.043358         0.018587   \n47        0.000593             0.001203            0.048044         0.034020   \n48        0.000615             0.003911            0.071124         0.016153   \n49        0.001063             0.002523            0.076390         0.024913   \n\n   scenario policy     model  \n0        50   None  PredPrey  \n1        51   None  PredPrey  \n2        52   None  PredPrey  \n3        53   None  PredPrey  \n4        54   None  PredPrey  \n5        55   None  PredPrey  \n6        56   None  PredPrey  \n7        57   None  PredPrey  \n8        58   None  PredPrey  \n9        59   None  PredPrey  \n10       60   None  PredPrey  \n11       61   None  PredPrey  \n12       62   None  PredPrey  \n13       63   None  PredPrey  \n14       64   None  PredPrey  \n15       65   None  PredPrey  \n16       66   None  PredPrey  \n17       67   None  PredPrey  \n18       68   None  PredPrey  \n19       69   None  PredPrey  \n20       70   None  PredPrey  \n21       71   None  PredPrey  \n22       72   None  PredPrey  \n23       73   None  PredPrey  \n24       74   None  PredPrey  \n25       75   None  PredPrey  \n26       76   None  PredPrey  \n27       77   None  PredPrey  \n28       78   None  PredPrey  \n29       79   None  PredPrey  \n30       80   None  PredPrey  \n31       81   None  PredPrey  \n32       82   None  PredPrey  \n33       83   None  PredPrey  \n34       84   None  PredPrey  \n35       85   None  PredPrey  \n36       86   None  PredPrey  \n37       87   None  PredPrey  \n38       88   None  PredPrey  \n39       89   None  PredPrey  \n40       90   None  PredPrey  \n41       91   None  PredPrey  \n42       92   None  PredPrey  \n43       93   None  PredPrey  \n44       94   None  PredPrey  \n45       95   None  PredPrey  \n46       96   None  PredPrey  \n47       97   None  PredPrey  \n48       98   None  PredPrey  \n49       99   None  PredPrey  ",
      "text/html": "<div>\n<style scoped>\n    .dataframe tbody tr th:only-of-type {\n        vertical-align: middle;\n    }\n\n    .dataframe tbody tr th {\n        vertical-align: top;\n    }\n\n    .dataframe thead th {\n        text-align: right;\n    }\n</style>\n<table border=\"1\" class=\"dataframe\">\n  <thead>\n    <tr style=\"text-align: right;\">\n      <th></th>\n      <th>predation_rate</th>\n      <th>predator_efficiency</th>\n      <th>predator_loss_rate</th>\n      <th>prey_birth_rate</th>\n      <th>scenario</th>\n      <th>policy</th>\n      <th>model</th>\n    </tr>\n  </thead>\n  <tbody>\n    <tr>\n      <th>0</th>\n      <td>0.001600</td>\n      <td>0.003656</td>\n      <td>0.051242</td>\n      <td>0.027822</td>\n      <td>50</td>\n      <td>None</td>\n      <td>PredPrey</td>\n    </tr>\n    <tr>\n      <th>1</th>\n      <td>0.002373</td>\n      <td>0.003235</td>\n      <td>0.068528</td>\n      <td>0.034669</td>\n      <td>51</td>\n      <td>None</td>\n      <td>PredPrey</td>\n    </tr>\n    <tr>\n      <th>2</th>\n      <td>0.000960</td>\n      <td>0.002135</td>\n      <td>0.058512</td>\n      <td>0.034512</td>\n      <td>52</td>\n      <td>None</td>\n      <td>PredPrey</td>\n    </tr>\n    <tr>\n      <th>3</th>\n      <td>0.001831</td>\n      <td>0.001672</td>\n      <td>0.055868</td>\n      <td>0.029075</td>\n      <td>53</td>\n      <td>None</td>\n      <td>PredPrey</td>\n    </tr>\n    <tr>\n      <th>4</th>\n      <td>0.002432</td>\n      <td>0.002483</td>\n      <td>0.061883</td>\n      <td>0.033106</td>\n      <td>54</td>\n      <td>None</td>\n      <td>PredPrey</td>\n    </tr>\n    <tr>\n      <th>5</th>\n      <td>0.002873</td>\n      <td>0.003170</td>\n      <td>0.061021</td>\n      <td>0.024170</td>\n      <td>55</td>\n      <td>None</td>\n      <td>PredPrey</td>\n    </tr>\n    <tr>\n      <th>6</th>\n      <td>0.001275</td>\n      <td>0.003956</td>\n      <td>0.078221</td>\n      <td>0.018970</td>\n      <td>56</td>\n      <td>None</td>\n      <td>PredPrey</td>\n    </tr>\n    <tr>\n      <th>7</th>\n      <td>0.002728</td>\n      <td>0.003598</td>\n      <td>0.050922</td>\n      <td>0.015308</td>\n      <td>57</td>\n      <td>None</td>\n      <td>PredPrey</td>\n    </tr>\n    <tr>\n      <th>8</th>\n      <td>0.001401</td>\n      <td>0.003558</td>\n      <td>0.062786</td>\n      <td>0.023538</td>\n      <td>58</td>\n      <td>None</td>\n      <td>PredPrey</td>\n    </tr>\n    <tr>\n      <th>9</th>\n      <td>0.001134</td>\n      <td>0.002584</td>\n      <td>0.066479</td>\n      <td>0.033496</td>\n      <td>59</td>\n      <td>None</td>\n      <td>PredPrey</td>\n    </tr>\n    <tr>\n      <th>10</th>\n      <td>0.002112</td>\n      <td>0.001264</td>\n      <td>0.072598</td>\n      <td>0.025413</td>\n      <td>60</td>\n      <td>None</td>\n      <td>PredPrey</td>\n    </tr>\n    <tr>\n      <th>11</th>\n      <td>0.002330</td>\n      <td>0.003352</td>\n      <td>0.059486</td>\n      <td>0.025288</td>\n      <td>61</td>\n      <td>None</td>\n      <td>PredPrey</td>\n    </tr>\n    <tr>\n      <th>12</th>\n      <td>0.001867</td>\n      <td>0.003122</td>\n      <td>0.077244</td>\n      <td>0.025879</td>\n      <td>62</td>\n      <td>None</td>\n      <td>PredPrey</td>\n    </tr>\n    <tr>\n      <th>13</th>\n      <td>0.000866</td>\n      <td>0.002074</td>\n      <td>0.079475</td>\n      <td>0.024324</td>\n      <td>63</td>\n      <td>None</td>\n      <td>PredPrey</td>\n    </tr>\n    <tr>\n      <th>14</th>\n      <td>0.002752</td>\n      <td>0.001789</td>\n      <td>0.078645</td>\n      <td>0.029912</td>\n      <td>64</td>\n      <td>None</td>\n      <td>PredPrey</td>\n    </tr>\n    <tr>\n      <th>15</th>\n      <td>0.002828</td>\n      <td>0.002835</td>\n      <td>0.047484</td>\n      <td>0.017150</td>\n      <td>65</td>\n      <td>None</td>\n      <td>PredPrey</td>\n    </tr>\n    <tr>\n      <th>16</th>\n      <td>0.000941</td>\n      <td>0.002694</td>\n      <td>0.066188</td>\n      <td>0.022758</td>\n      <td>66</td>\n      <td>None</td>\n      <td>PredPrey</td>\n    </tr>\n    <tr>\n      <th>17</th>\n      <td>0.002204</td>\n      <td>0.002643</td>\n      <td>0.053311</td>\n      <td>0.017701</td>\n      <td>67</td>\n      <td>None</td>\n      <td>PredPrey</td>\n    </tr>\n    <tr>\n      <th>18</th>\n      <td>0.000671</td>\n      <td>0.001539</td>\n      <td>0.052105</td>\n      <td>0.020792</td>\n      <td>68</td>\n      <td>None</td>\n      <td>PredPrey</td>\n    </tr>\n    <tr>\n      <th>19</th>\n      <td>0.001986</td>\n      <td>0.002244</td>\n      <td>0.071271</td>\n      <td>0.028211</td>\n      <td>69</td>\n      <td>None</td>\n      <td>PredPrey</td>\n    </tr>\n    <tr>\n      <th>20</th>\n      <td>0.000849</td>\n      <td>0.002344</td>\n      <td>0.046090</td>\n      <td>0.023252</td>\n      <td>70</td>\n      <td>None</td>\n      <td>PredPrey</td>\n    </tr>\n    <tr>\n      <th>21</th>\n      <td>0.000709</td>\n      <td>0.001162</td>\n      <td>0.073751</td>\n      <td>0.021084</td>\n      <td>71</td>\n      <td>None</td>\n      <td>PredPrey</td>\n    </tr>\n    <tr>\n      <th>22</th>\n      <td>0.002580</td>\n      <td>0.002980</td>\n      <td>0.049392</td>\n      <td>0.032265</td>\n      <td>72</td>\n      <td>None</td>\n      <td>PredPrey</td>\n    </tr>\n    <tr>\n      <th>23</th>\n      <td>0.000522</td>\n      <td>0.003496</td>\n      <td>0.070130</td>\n      <td>0.026817</td>\n      <td>73</td>\n      <td>None</td>\n      <td>PredPrey</td>\n    </tr>\n    <tr>\n      <th>24</th>\n      <td>0.001907</td>\n      <td>0.002863</td>\n      <td>0.064468</td>\n      <td>0.018066</td>\n      <td>74</td>\n      <td>None</td>\n      <td>PredPrey</td>\n    </tr>\n    <tr>\n      <th>25</th>\n      <td>0.001526</td>\n      <td>0.001645</td>\n      <td>0.063720</td>\n      <td>0.022056</td>\n      <td>75</td>\n      <td>None</td>\n      <td>PredPrey</td>\n    </tr>\n    <tr>\n      <th>26</th>\n      <td>0.001225</td>\n      <td>0.001569</td>\n      <td>0.056094</td>\n      <td>0.031905</td>\n      <td>76</td>\n      <td>None</td>\n      <td>PredPrey</td>\n    </tr>\n    <tr>\n      <th>27</th>\n      <td>0.002603</td>\n      <td>0.003054</td>\n      <td>0.045373</td>\n      <td>0.027412</td>\n      <td>77</td>\n      <td>None</td>\n      <td>PredPrey</td>\n    </tr>\n    <tr>\n      <th>28</th>\n      <td>0.001770</td>\n      <td>0.003702</td>\n      <td>0.054890</td>\n      <td>0.020202</td>\n      <td>78</td>\n      <td>None</td>\n      <td>PredPrey</td>\n    </tr>\n    <tr>\n      <th>29</th>\n      <td>0.002156</td>\n      <td>0.001737</td>\n      <td>0.049940</td>\n      <td>0.019657</td>\n      <td>79</td>\n      <td>None</td>\n      <td>PredPrey</td>\n    </tr>\n    <tr>\n      <th>30</th>\n      <td>0.002976</td>\n      <td>0.003330</td>\n      <td>0.074771</td>\n      <td>0.030655</td>\n      <td>80</td>\n      <td>None</td>\n      <td>PredPrey</td>\n    </tr>\n    <tr>\n      <th>31</th>\n      <td>0.002057</td>\n      <td>0.001106</td>\n      <td>0.041805</td>\n      <td>0.031155</td>\n      <td>81</td>\n      <td>None</td>\n      <td>PredPrey</td>\n    </tr>\n    <tr>\n      <th>32</th>\n      <td>0.002653</td>\n      <td>0.001362</td>\n      <td>0.069164</td>\n      <td>0.031470</td>\n      <td>82</td>\n      <td>None</td>\n      <td>PredPrey</td>\n    </tr>\n    <tr>\n      <th>33</th>\n      <td>0.002904</td>\n      <td>0.001844</td>\n      <td>0.054124</td>\n      <td>0.015618</td>\n      <td>83</td>\n      <td>None</td>\n      <td>PredPrey</td>\n    </tr>\n    <tr>\n      <th>34</th>\n      <td>0.000784</td>\n      <td>0.001942</td>\n      <td>0.067364</td>\n      <td>0.029656</td>\n      <td>84</td>\n      <td>None</td>\n      <td>PredPrey</td>\n    </tr>\n    <tr>\n      <th>35</th>\n      <td>0.002256</td>\n      <td>0.002173</td>\n      <td>0.044123</td>\n      <td>0.016925</td>\n      <td>85</td>\n      <td>None</td>\n      <td>PredPrey</td>\n    </tr>\n    <tr>\n      <th>36</th>\n      <td>0.002486</td>\n      <td>0.001320</td>\n      <td>0.073198</td>\n      <td>0.021442</td>\n      <td>86</td>\n      <td>None</td>\n      <td>PredPrey</td>\n    </tr>\n    <tr>\n      <th>37</th>\n      <td>0.001350</td>\n      <td>0.001053</td>\n      <td>0.058053</td>\n      <td>0.022308</td>\n      <td>87</td>\n      <td>None</td>\n      <td>PredPrey</td>\n    </tr>\n    <tr>\n      <th>38</th>\n      <td>0.001484</td>\n      <td>0.002770</td>\n      <td>0.060273</td>\n      <td>0.028984</td>\n      <td>88</td>\n      <td>None</td>\n      <td>PredPrey</td>\n    </tr>\n    <tr>\n      <th>39</th>\n      <td>0.002546</td>\n      <td>0.003444</td>\n      <td>0.057414</td>\n      <td>0.027069</td>\n      <td>89</td>\n      <td>None</td>\n      <td>PredPrey</td>\n    </tr>\n    <tr>\n      <th>40</th>\n      <td>0.002015</td>\n      <td>0.002311</td>\n      <td>0.040117</td>\n      <td>0.030481</td>\n      <td>90</td>\n      <td>None</td>\n      <td>PredPrey</td>\n    </tr>\n    <tr>\n      <th>41</th>\n      <td>0.001197</td>\n      <td>0.003793</td>\n      <td>0.075649</td>\n      <td>0.019194</td>\n      <td>91</td>\n      <td>None</td>\n      <td>PredPrey</td>\n    </tr>\n    <tr>\n      <th>42</th>\n      <td>0.001329</td>\n      <td>0.002384</td>\n      <td>0.041400</td>\n      <td>0.032959</td>\n      <td>92</td>\n      <td>None</td>\n      <td>PredPrey</td>\n    </tr>\n    <tr>\n      <th>43</th>\n      <td>0.001652</td>\n      <td>0.001979</td>\n      <td>0.042874</td>\n      <td>0.019859</td>\n      <td>93</td>\n      <td>None</td>\n      <td>PredPrey</td>\n    </tr>\n    <tr>\n      <th>44</th>\n      <td>0.001736</td>\n      <td>0.001448</td>\n      <td>0.046593</td>\n      <td>0.016540</td>\n      <td>94</td>\n      <td>None</td>\n      <td>PredPrey</td>\n    </tr>\n    <tr>\n      <th>45</th>\n      <td>0.001638</td>\n      <td>0.003851</td>\n      <td>0.065384</td>\n      <td>0.026533</td>\n      <td>95</td>\n      <td>None</td>\n      <td>PredPrey</td>\n    </tr>\n    <tr>\n      <th>46</th>\n      <td>0.001049</td>\n      <td>0.003036</td>\n      <td>0.043358</td>\n      <td>0.018587</td>\n      <td>96</td>\n      <td>None</td>\n      <td>PredPrey</td>\n    </tr>\n    <tr>\n      <th>47</th>\n      <td>0.000593</td>\n      <td>0.001203</td>\n      <td>0.048044</td>\n      <td>0.034020</td>\n      <td>97</td>\n      <td>None</td>\n      <td>PredPrey</td>\n    </tr>\n    <tr>\n      <th>48</th>\n      <td>0.000615</td>\n      <td>0.003911</td>\n      <td>0.071124</td>\n      <td>0.016153</td>\n      <td>98</td>\n      <td>None</td>\n      <td>PredPrey</td>\n    </tr>\n    <tr>\n      <th>49</th>\n      <td>0.001063</td>\n      <td>0.002523</td>\n      <td>0.076390</td>\n      <td>0.024913</td>\n      <td>99</td>\n      <td>None</td>\n      <td>PredPrey</td>\n    </tr>\n  </tbody>\n</table>\n</div>"
     },
     "execution_count": 8,
     "metadata": {},
     "output_type": "execute_result"
    }
   ],
   "source": [
    "experiments"
   ],
   "metadata": {
    "collapsed": false,
    "ExecuteTime": {
     "end_time": "2024-04-29T14:26:19.260119400Z",
     "start_time": "2024-04-29T14:26:19.217947200Z"
    }
   },
   "execution_count": 8
  },
  {
   "cell_type": "code",
   "outputs": [
    {
     "data": {
      "text/plain": "{'TIME': array([[[0.0000e+00, 2.5000e-01, 5.0000e-01, ..., 3.6450e+02,\n          3.6475e+02, 3.6500e+02]],\n \n        [[0.0000e+00, 2.5000e-01, 5.0000e-01, ..., 3.6450e+02,\n          3.6475e+02, 3.6500e+02]],\n \n        [[0.0000e+00, 2.5000e-01, 5.0000e-01, ..., 3.6450e+02,\n          3.6475e+02, 3.6500e+02]],\n \n        ...,\n \n        [[0.0000e+00, 2.5000e-01, 5.0000e-01, ..., 3.6450e+02,\n          3.6475e+02, 3.6500e+02]],\n \n        [[0.0000e+00, 2.5000e-01, 5.0000e-01, ..., 3.6450e+02,\n          3.6475e+02, 3.6500e+02]],\n \n        [[0.0000e+00, 2.5000e-01, 5.0000e-01, ..., 3.6450e+02,\n          3.6475e+02, 3.6500e+02]]]),\n 'predators': array([[[20.        , 20.65772101, 21.33608599, ...,  0.68812415,\n           0.68341338,  0.67876209]],\n \n        [[20.        , 20.46619365, 20.94060642, ...,  5.2235479 ,\n           5.1627046 ,  5.10272764]],\n \n        [[20.        , 20.24128346, 20.48754565, ..., 45.0084016 ,\n          44.5966108 , 44.18805601]],\n \n        ...,\n \n        [[20.        , 20.06064505, 20.12314551, ..., 57.02550582,\n          57.78284178, 58.55030558]],\n \n        [[20.        , 20.62214678, 21.26461798, ...,  2.21093455,\n           2.18392612,  2.15729257]],\n \n        [[20.        , 20.24886669, 20.50141181, ..., 26.52430569,\n          26.27714545, 26.03207662]]]),\n 'prey': array([[[50.        , 49.9477813 , 49.88247655, ...,  6.52638656,\n           6.56998493,  6.61388693]],\n \n        [[50.        , 49.84005292, 49.66683174, ...,  6.78014537,\n           6.81789832,  6.8561076 ]],\n \n        [[50.        , 50.19136657, 50.38055871, ..., 10.26290304,\n          10.24057662, 10.21931098]],\n \n        ...,\n \n        [[50.        , 50.27694698, 50.55497575, ..., 84.06318932,\n          84.06721108, 84.06179084]],\n \n        [[50.        , 50.04816033, 50.09157962, ...,  5.69177103,\n           5.71282102,  5.73397258]],\n \n        [[50.        , 50.04554055, 50.08781128, ..., 15.50248117,\n          15.48971037, 15.47796795]]])}"
     },
     "execution_count": 9,
     "metadata": {},
     "output_type": "execute_result"
    }
   ],
   "source": [
    "outcomes"
   ],
   "metadata": {
    "collapsed": false,
    "ExecuteTime": {
     "end_time": "2024-04-29T14:26:20.653650600Z",
     "start_time": "2024-04-29T14:26:20.644639Z"
    }
   },
   "execution_count": 9
  },
  {
   "cell_type": "code",
   "outputs": [
    {
     "data": {
      "text/plain": "array([[50.        , 49.9477813 , 49.88247655, ...,  6.52638656,\n         6.56998493,  6.61388693]])"
     },
     "execution_count": 26,
     "metadata": {},
     "output_type": "execute_result"
    }
   ],
   "source": [
    "outcomes['prey'][0]"
   ],
   "metadata": {
    "collapsed": false,
    "ExecuteTime": {
     "end_time": "2024-04-29T14:32:08.322472600Z",
     "start_time": "2024-04-29T14:32:08.312301700Z"
    }
   },
   "execution_count": 26
  },
  {
   "cell_type": "code",
   "outputs": [],
   "source": [],
   "metadata": {
    "collapsed": false,
    "ExecuteTime": {
     "end_time": "2024-04-29T14:13:24.789445900Z",
     "start_time": "2024-04-29T14:13:24.780354Z"
    }
   },
   "execution_count": 14
  },
  {
   "cell_type": "code",
   "outputs": [],
   "source": [],
   "metadata": {
    "collapsed": false
   }
  }
 ],
 "metadata": {
  "kernelspec": {
   "display_name": "Python 3",
   "language": "python",
   "name": "python3"
  },
  "language_info": {
   "codemirror_mode": {
    "name": "ipython",
    "version": 3
   },
   "file_extension": ".py",
   "mimetype": "text/x-python",
   "name": "python",
   "nbconvert_exporter": "python",
   "pygments_lexer": "ipython3",
   "version": "3.8.5"
  }
 },
 "nbformat": 4,
 "nbformat_minor": 4
}
