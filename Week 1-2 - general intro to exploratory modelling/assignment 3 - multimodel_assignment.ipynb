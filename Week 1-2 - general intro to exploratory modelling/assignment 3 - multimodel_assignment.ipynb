{
 "cells": [
  {
   "cell_type": "markdown",
   "metadata": {},
   "source": [
    "# EPA1361 - Model-Based Decision Making\n",
    "\n",
    "## Multi-model analysis\n",
    "\n",
    "This exercise uses a simple version of the [Lotka-Volterra predator-prey equations](https://en.wikipedia.org/wiki/Lotka%E2%80%93Volterra_equations) to show how the EMA Workbench can be used for a\n",
    "multi-model analysis, in addition to typical parametric/structural uncertainties. This will let you test the connectors provided in the Workbench for Excel, NetLogo, and Vensim / PySD; we'll also use the models for the sensitivity analysis exercise in week 3.\n",
    "\n",
    "**Assignment**\n",
    "Using the three model files provided and the Python function below, define model objects for each implementation (Excel, NetLogo, Vensim/PySD, and Python), and test them using a single ensemble. Use 50 experiments sampled from the parameters below (so that each experiment will be executed for the 4 models, for a total of 200), and retrieve outputs for the _TIME_, _predators_, and _prey_ variables.\n",
    "   * Excel and Vensim are only supported on Windows\n",
    "   * Vensim requires the DSS version of Vensim\n",
    "   * Netlogo supoprt depends on [jpype](http://jpype.readthedocs.io/en/latest/install.html) and [pynetlogo](https://pynetlogo.readthedocs.io/en/latest/). Also, if you don't have NetLogo installed, please get [NetLogo 6.3.0](https://ccl.northwestern.edu/netlogo/download.shtml)\n",
    "   * for pysd, see [its documentation](http://pysd.readthedocs.io/en/master/installation.html)\n",
    "   * If possible try to work with all model versions, but even 2 or 3 (pure python and something else should be sufficient).\n",
    "\n",
    "\n",
    "|Parameter\t|Range or value\t        |\n",
    "|-----------|--------------:|\n",
    "|prey_birth_rate    \t|0.015 – 0.035\t|\n",
    "|predation_rate|0.0005 – 0.003 \t|\n",
    "|predator_efficiency     \t|0.001 – 0.004\t    |\n",
    "|predator_loss_rate\t    |0.04 – 0.08\t    |\n",
    "|Final time\t    |365\t    |\n",
    "|dt\t    |0.25\t    |\n",
    "\n",
    "* Note that your EMA Workbench installation includes [example scripts](https://github.com/quaquel/EMAworkbench/tree/master/ema_workbench/examples) for the different connectors. The different model objects follow a similar syntax but will need to be slightly adjusted depending on the software (e.g. to specify the NetLogo run length or the sheet name in Excel).\n",
    "  * This [tutorial](https://emaworkbench.readthedocs.io/en/latest/basic_tutorial.html) also shows a simple model in Python, Vensim and Excel connected to the workbench.\n",
    "\n",
    "* These model objects can be used with a replication functionality (for instance to test the effect of stochastic uncertainty in a NetLogo model), which repeats a given experiment over multiple replications. You can use a single replication in this exercise as the models are not stochastic. By default, each outcome array will then have a shape of (# experiments, # replications, # time steps). Try adapting the outcome arrays so that they can be used with the _lines_ plotting function of the Workbench, and plot the results grouped by model.\n",
    "\n",
    "* To check the graphical results, find the maximum absolute error of the time series you obtained for the _prey_ variable in the Excel, NetLogo, and Vensim/PySD models, relative to the Python function."
   ]
  },
  {
   "cell_type": "code",
   "execution_count": 1,
   "outputs": [
    {
     "name": "stderr",
     "output_type": "stream",
     "text": [
      "C:\\Users\\jeroe\\anaconda3\\Lib\\site-packages\\ema_workbench\\connectors\\__init__.py:19: ImportWarning: vensim connector not available\n",
      "  warnings.warn(\"vensim connector not available\", ImportWarning)\n",
      "C:\\Users\\jeroe\\anaconda3\\Lib\\site-packages\\ema_workbench\\connectors\\__init__.py:34: ImportWarning: simio connector not available\n",
      "  warnings.warn(\"simio connector not available\", ImportWarning)\n"
     ]
    }
   ],
   "source": [
    "# Some imports you may need\n",
    "import numpy as np\n",
    "import matplotlib.pyplot as plt\n",
    "\n",
    "from ema_workbench import (Model, RealParameter, TimeSeriesOutcome, perform_experiments, ema_logging)\n",
    "\n",
    "from ema_workbench.connectors.netlogo import NetLogoModel\n",
    "from ema_workbench.connectors.excel import ExcelModel\n",
    "from ema_workbench.connectors.pysd_connector import PysdModel\n",
    "\n",
    "from ema_workbench.em_framework.samplers import LHSSampler\n",
    "from ema_workbench.em_framework.salib_samplers import MorrisSampler, SobolSampler\n",
    "\n",
    "from ema_workbench.analysis.plotting import lines, Density"
   ],
   "metadata": {
    "collapsed": false,
    "ExecuteTime": {
     "end_time": "2024-05-02T11:35:23.274980900Z",
     "start_time": "2024-05-02T11:35:14.300318600Z"
    }
   }
  },
  {
   "cell_type": "code",
   "execution_count": 2,
   "outputs": [],
   "source": [
    "# Import the Python function\n",
    "from model.pred_prey import PredPrey"
   ],
   "metadata": {
    "collapsed": false,
    "ExecuteTime": {
     "end_time": "2024-05-02T11:35:23.311698500Z",
     "start_time": "2024-05-02T11:35:23.279969100Z"
    }
   }
  },
  {
   "cell_type": "code",
   "execution_count": 3,
   "metadata": {
    "collapsed": false,
    "ExecuteTime": {
     "end_time": "2024-05-02T11:35:23.329651200Z",
     "start_time": "2024-05-02T11:35:23.307702800Z"
    }
   },
   "outputs": [],
   "source": [
    "# Define uncertainties and outcomes\n",
    "from ema_workbench import Model, RealParameter, ScalarOutcome\n",
    "\n",
    "model = Model('PredPrey', function=PredPrey)\n",
    "\n",
    "# Specify uncertainties\n",
    "model.uncertainties = [RealParameter('prey_birth_rate', 0.015, 0.035),\n",
    "                       RealParameter('predation_rate', 0.0005, 0.003),\n",
    "                       RealParameter('predator_efficiency', 0.001, 0.004),\n",
    "                       RealParameter('predator_loss_rate', 0.04, 0.08)]\n",
    "\n",
    "model.outcomes = [TimeSeriesOutcome('TIME'),\n",
    "                  TimeSeriesOutcome('predators'),\n",
    "                  TimeSeriesOutcome('prey')]\n",
    "\n",
    "\n",
    "# Define model objects for the different implementations\n",
    "\n"
   ]
  },
  {
   "cell_type": "code",
   "outputs": [
    {
     "name": "stderr",
     "output_type": "stream",
     "text": [
      "100%|██████████████████████████████████████████| 50/50 [00:00<00:00, 66.01it/s]\n"
     ]
    }
   ],
   "source": [
    "from ema_workbench import SequentialEvaluator\n",
    "\n",
    "with SequentialEvaluator(model) as evaluator:\n",
    "    experiments, outcomes = evaluator.perform_experiments(scenarios=50)"
   ],
   "metadata": {
    "collapsed": false,
    "ExecuteTime": {
     "end_time": "2024-05-02T11:35:24.136735800Z",
     "start_time": "2024-05-02T11:35:23.315689300Z"
    }
   },
   "execution_count": 4
  },
  {
   "cell_type": "code",
   "outputs": [
    {
     "data": {
      "text/plain": "    predation_rate  predator_efficiency  predator_loss_rate  prey_birth_rate  \\\n0         0.001492             0.001981            0.077638         0.021868   \n1         0.000676             0.003439            0.068871         0.029017   \n2         0.001699             0.002943            0.052491         0.032891   \n3         0.001604             0.001245            0.051629         0.016115   \n4         0.002015             0.002261            0.058590         0.018287   \n5         0.001279             0.002199            0.061432         0.030753   \n6         0.002536             0.002587            0.054203         0.031057   \n7         0.002464             0.003274            0.047320         0.023916   \n8         0.002171             0.002084            0.067367         0.020403   \n9         0.002698             0.003092            0.043922         0.018958   \n10        0.002994             0.002797            0.048879         0.015504   \n11        0.002785             0.003927            0.053233         0.034600   \n12        0.000945             0.001456            0.071498         0.025688   \n13        0.001125             0.001594            0.060670         0.020652   \n14        0.001445             0.002057            0.062851         0.025135   \n15        0.000824             0.003364            0.046351         0.020038   \n16        0.002639             0.002504            0.056008         0.023310   \n17        0.000868             0.002992            0.055859         0.033250   \n18        0.002559             0.003858            0.070560         0.028632   \n19        0.001230             0.003653            0.063731         0.033958   \n20        0.001199             0.003953            0.078520         0.026948   \n21        0.001575             0.001104            0.069814         0.031810   \n22        0.001785             0.001635            0.073568         0.017549   \n23        0.000578             0.003602            0.062389         0.028134   \n24        0.000791             0.003742            0.075330         0.033776   \n25        0.002144             0.001379            0.065666         0.024805   \n26        0.002418             0.001220            0.044444         0.032466   \n27        0.001549             0.001758            0.050765         0.023557   \n28        0.000975             0.002451            0.040043         0.017396   \n29        0.001347             0.003462            0.042789         0.028391   \n30        0.002834             0.002913            0.074682         0.022350   \n31        0.002294             0.002212            0.077024         0.026368   \n32        0.001744             0.001152            0.057586         0.027414   \n33        0.000645             0.003782            0.076362         0.021534   \n34        0.001045             0.001006            0.068106         0.029787   \n35        0.002374             0.003210            0.041935         0.015227   \n36        0.000710             0.001526            0.064949         0.019238   \n37        0.001399             0.001355            0.049842         0.030104   \n38        0.002317             0.001944            0.064407         0.034897   \n39        0.001907             0.003549            0.040803         0.016934   \n40        0.002747             0.002665            0.045382         0.024248   \n41        0.001815             0.003110            0.074219         0.030505   \n42        0.000522             0.001839            0.072444         0.017877   \n43        0.002248             0.002384            0.079328         0.025863   \n44        0.001958             0.001665            0.059801         0.031722   \n45        0.002920             0.002841            0.046702         0.022636   \n46        0.001071             0.002723            0.058198         0.021292   \n47        0.001868             0.002361            0.066822         0.027289   \n48        0.002053             0.001859            0.054732         0.016459   \n49        0.002868             0.003319            0.048674         0.019761   \n\n   scenario policy     model  \n0         0   None  PredPrey  \n1         1   None  PredPrey  \n2         2   None  PredPrey  \n3         3   None  PredPrey  \n4         4   None  PredPrey  \n5         5   None  PredPrey  \n6         6   None  PredPrey  \n7         7   None  PredPrey  \n8         8   None  PredPrey  \n9         9   None  PredPrey  \n10       10   None  PredPrey  \n11       11   None  PredPrey  \n12       12   None  PredPrey  \n13       13   None  PredPrey  \n14       14   None  PredPrey  \n15       15   None  PredPrey  \n16       16   None  PredPrey  \n17       17   None  PredPrey  \n18       18   None  PredPrey  \n19       19   None  PredPrey  \n20       20   None  PredPrey  \n21       21   None  PredPrey  \n22       22   None  PredPrey  \n23       23   None  PredPrey  \n24       24   None  PredPrey  \n25       25   None  PredPrey  \n26       26   None  PredPrey  \n27       27   None  PredPrey  \n28       28   None  PredPrey  \n29       29   None  PredPrey  \n30       30   None  PredPrey  \n31       31   None  PredPrey  \n32       32   None  PredPrey  \n33       33   None  PredPrey  \n34       34   None  PredPrey  \n35       35   None  PredPrey  \n36       36   None  PredPrey  \n37       37   None  PredPrey  \n38       38   None  PredPrey  \n39       39   None  PredPrey  \n40       40   None  PredPrey  \n41       41   None  PredPrey  \n42       42   None  PredPrey  \n43       43   None  PredPrey  \n44       44   None  PredPrey  \n45       45   None  PredPrey  \n46       46   None  PredPrey  \n47       47   None  PredPrey  \n48       48   None  PredPrey  \n49       49   None  PredPrey  ",
      "text/html": "<div>\n<style scoped>\n    .dataframe tbody tr th:only-of-type {\n        vertical-align: middle;\n    }\n\n    .dataframe tbody tr th {\n        vertical-align: top;\n    }\n\n    .dataframe thead th {\n        text-align: right;\n    }\n</style>\n<table border=\"1\" class=\"dataframe\">\n  <thead>\n    <tr style=\"text-align: right;\">\n      <th></th>\n      <th>predation_rate</th>\n      <th>predator_efficiency</th>\n      <th>predator_loss_rate</th>\n      <th>prey_birth_rate</th>\n      <th>scenario</th>\n      <th>policy</th>\n      <th>model</th>\n    </tr>\n  </thead>\n  <tbody>\n    <tr>\n      <th>0</th>\n      <td>0.001492</td>\n      <td>0.001981</td>\n      <td>0.077638</td>\n      <td>0.021868</td>\n      <td>0</td>\n      <td>None</td>\n      <td>PredPrey</td>\n    </tr>\n    <tr>\n      <th>1</th>\n      <td>0.000676</td>\n      <td>0.003439</td>\n      <td>0.068871</td>\n      <td>0.029017</td>\n      <td>1</td>\n      <td>None</td>\n      <td>PredPrey</td>\n    </tr>\n    <tr>\n      <th>2</th>\n      <td>0.001699</td>\n      <td>0.002943</td>\n      <td>0.052491</td>\n      <td>0.032891</td>\n      <td>2</td>\n      <td>None</td>\n      <td>PredPrey</td>\n    </tr>\n    <tr>\n      <th>3</th>\n      <td>0.001604</td>\n      <td>0.001245</td>\n      <td>0.051629</td>\n      <td>0.016115</td>\n      <td>3</td>\n      <td>None</td>\n      <td>PredPrey</td>\n    </tr>\n    <tr>\n      <th>4</th>\n      <td>0.002015</td>\n      <td>0.002261</td>\n      <td>0.058590</td>\n      <td>0.018287</td>\n      <td>4</td>\n      <td>None</td>\n      <td>PredPrey</td>\n    </tr>\n    <tr>\n      <th>5</th>\n      <td>0.001279</td>\n      <td>0.002199</td>\n      <td>0.061432</td>\n      <td>0.030753</td>\n      <td>5</td>\n      <td>None</td>\n      <td>PredPrey</td>\n    </tr>\n    <tr>\n      <th>6</th>\n      <td>0.002536</td>\n      <td>0.002587</td>\n      <td>0.054203</td>\n      <td>0.031057</td>\n      <td>6</td>\n      <td>None</td>\n      <td>PredPrey</td>\n    </tr>\n    <tr>\n      <th>7</th>\n      <td>0.002464</td>\n      <td>0.003274</td>\n      <td>0.047320</td>\n      <td>0.023916</td>\n      <td>7</td>\n      <td>None</td>\n      <td>PredPrey</td>\n    </tr>\n    <tr>\n      <th>8</th>\n      <td>0.002171</td>\n      <td>0.002084</td>\n      <td>0.067367</td>\n      <td>0.020403</td>\n      <td>8</td>\n      <td>None</td>\n      <td>PredPrey</td>\n    </tr>\n    <tr>\n      <th>9</th>\n      <td>0.002698</td>\n      <td>0.003092</td>\n      <td>0.043922</td>\n      <td>0.018958</td>\n      <td>9</td>\n      <td>None</td>\n      <td>PredPrey</td>\n    </tr>\n    <tr>\n      <th>10</th>\n      <td>0.002994</td>\n      <td>0.002797</td>\n      <td>0.048879</td>\n      <td>0.015504</td>\n      <td>10</td>\n      <td>None</td>\n      <td>PredPrey</td>\n    </tr>\n    <tr>\n      <th>11</th>\n      <td>0.002785</td>\n      <td>0.003927</td>\n      <td>0.053233</td>\n      <td>0.034600</td>\n      <td>11</td>\n      <td>None</td>\n      <td>PredPrey</td>\n    </tr>\n    <tr>\n      <th>12</th>\n      <td>0.000945</td>\n      <td>0.001456</td>\n      <td>0.071498</td>\n      <td>0.025688</td>\n      <td>12</td>\n      <td>None</td>\n      <td>PredPrey</td>\n    </tr>\n    <tr>\n      <th>13</th>\n      <td>0.001125</td>\n      <td>0.001594</td>\n      <td>0.060670</td>\n      <td>0.020652</td>\n      <td>13</td>\n      <td>None</td>\n      <td>PredPrey</td>\n    </tr>\n    <tr>\n      <th>14</th>\n      <td>0.001445</td>\n      <td>0.002057</td>\n      <td>0.062851</td>\n      <td>0.025135</td>\n      <td>14</td>\n      <td>None</td>\n      <td>PredPrey</td>\n    </tr>\n    <tr>\n      <th>15</th>\n      <td>0.000824</td>\n      <td>0.003364</td>\n      <td>0.046351</td>\n      <td>0.020038</td>\n      <td>15</td>\n      <td>None</td>\n      <td>PredPrey</td>\n    </tr>\n    <tr>\n      <th>16</th>\n      <td>0.002639</td>\n      <td>0.002504</td>\n      <td>0.056008</td>\n      <td>0.023310</td>\n      <td>16</td>\n      <td>None</td>\n      <td>PredPrey</td>\n    </tr>\n    <tr>\n      <th>17</th>\n      <td>0.000868</td>\n      <td>0.002992</td>\n      <td>0.055859</td>\n      <td>0.033250</td>\n      <td>17</td>\n      <td>None</td>\n      <td>PredPrey</td>\n    </tr>\n    <tr>\n      <th>18</th>\n      <td>0.002559</td>\n      <td>0.003858</td>\n      <td>0.070560</td>\n      <td>0.028632</td>\n      <td>18</td>\n      <td>None</td>\n      <td>PredPrey</td>\n    </tr>\n    <tr>\n      <th>19</th>\n      <td>0.001230</td>\n      <td>0.003653</td>\n      <td>0.063731</td>\n      <td>0.033958</td>\n      <td>19</td>\n      <td>None</td>\n      <td>PredPrey</td>\n    </tr>\n    <tr>\n      <th>20</th>\n      <td>0.001199</td>\n      <td>0.003953</td>\n      <td>0.078520</td>\n      <td>0.026948</td>\n      <td>20</td>\n      <td>None</td>\n      <td>PredPrey</td>\n    </tr>\n    <tr>\n      <th>21</th>\n      <td>0.001575</td>\n      <td>0.001104</td>\n      <td>0.069814</td>\n      <td>0.031810</td>\n      <td>21</td>\n      <td>None</td>\n      <td>PredPrey</td>\n    </tr>\n    <tr>\n      <th>22</th>\n      <td>0.001785</td>\n      <td>0.001635</td>\n      <td>0.073568</td>\n      <td>0.017549</td>\n      <td>22</td>\n      <td>None</td>\n      <td>PredPrey</td>\n    </tr>\n    <tr>\n      <th>23</th>\n      <td>0.000578</td>\n      <td>0.003602</td>\n      <td>0.062389</td>\n      <td>0.028134</td>\n      <td>23</td>\n      <td>None</td>\n      <td>PredPrey</td>\n    </tr>\n    <tr>\n      <th>24</th>\n      <td>0.000791</td>\n      <td>0.003742</td>\n      <td>0.075330</td>\n      <td>0.033776</td>\n      <td>24</td>\n      <td>None</td>\n      <td>PredPrey</td>\n    </tr>\n    <tr>\n      <th>25</th>\n      <td>0.002144</td>\n      <td>0.001379</td>\n      <td>0.065666</td>\n      <td>0.024805</td>\n      <td>25</td>\n      <td>None</td>\n      <td>PredPrey</td>\n    </tr>\n    <tr>\n      <th>26</th>\n      <td>0.002418</td>\n      <td>0.001220</td>\n      <td>0.044444</td>\n      <td>0.032466</td>\n      <td>26</td>\n      <td>None</td>\n      <td>PredPrey</td>\n    </tr>\n    <tr>\n      <th>27</th>\n      <td>0.001549</td>\n      <td>0.001758</td>\n      <td>0.050765</td>\n      <td>0.023557</td>\n      <td>27</td>\n      <td>None</td>\n      <td>PredPrey</td>\n    </tr>\n    <tr>\n      <th>28</th>\n      <td>0.000975</td>\n      <td>0.002451</td>\n      <td>0.040043</td>\n      <td>0.017396</td>\n      <td>28</td>\n      <td>None</td>\n      <td>PredPrey</td>\n    </tr>\n    <tr>\n      <th>29</th>\n      <td>0.001347</td>\n      <td>0.003462</td>\n      <td>0.042789</td>\n      <td>0.028391</td>\n      <td>29</td>\n      <td>None</td>\n      <td>PredPrey</td>\n    </tr>\n    <tr>\n      <th>30</th>\n      <td>0.002834</td>\n      <td>0.002913</td>\n      <td>0.074682</td>\n      <td>0.022350</td>\n      <td>30</td>\n      <td>None</td>\n      <td>PredPrey</td>\n    </tr>\n    <tr>\n      <th>31</th>\n      <td>0.002294</td>\n      <td>0.002212</td>\n      <td>0.077024</td>\n      <td>0.026368</td>\n      <td>31</td>\n      <td>None</td>\n      <td>PredPrey</td>\n    </tr>\n    <tr>\n      <th>32</th>\n      <td>0.001744</td>\n      <td>0.001152</td>\n      <td>0.057586</td>\n      <td>0.027414</td>\n      <td>32</td>\n      <td>None</td>\n      <td>PredPrey</td>\n    </tr>\n    <tr>\n      <th>33</th>\n      <td>0.000645</td>\n      <td>0.003782</td>\n      <td>0.076362</td>\n      <td>0.021534</td>\n      <td>33</td>\n      <td>None</td>\n      <td>PredPrey</td>\n    </tr>\n    <tr>\n      <th>34</th>\n      <td>0.001045</td>\n      <td>0.001006</td>\n      <td>0.068106</td>\n      <td>0.029787</td>\n      <td>34</td>\n      <td>None</td>\n      <td>PredPrey</td>\n    </tr>\n    <tr>\n      <th>35</th>\n      <td>0.002374</td>\n      <td>0.003210</td>\n      <td>0.041935</td>\n      <td>0.015227</td>\n      <td>35</td>\n      <td>None</td>\n      <td>PredPrey</td>\n    </tr>\n    <tr>\n      <th>36</th>\n      <td>0.000710</td>\n      <td>0.001526</td>\n      <td>0.064949</td>\n      <td>0.019238</td>\n      <td>36</td>\n      <td>None</td>\n      <td>PredPrey</td>\n    </tr>\n    <tr>\n      <th>37</th>\n      <td>0.001399</td>\n      <td>0.001355</td>\n      <td>0.049842</td>\n      <td>0.030104</td>\n      <td>37</td>\n      <td>None</td>\n      <td>PredPrey</td>\n    </tr>\n    <tr>\n      <th>38</th>\n      <td>0.002317</td>\n      <td>0.001944</td>\n      <td>0.064407</td>\n      <td>0.034897</td>\n      <td>38</td>\n      <td>None</td>\n      <td>PredPrey</td>\n    </tr>\n    <tr>\n      <th>39</th>\n      <td>0.001907</td>\n      <td>0.003549</td>\n      <td>0.040803</td>\n      <td>0.016934</td>\n      <td>39</td>\n      <td>None</td>\n      <td>PredPrey</td>\n    </tr>\n    <tr>\n      <th>40</th>\n      <td>0.002747</td>\n      <td>0.002665</td>\n      <td>0.045382</td>\n      <td>0.024248</td>\n      <td>40</td>\n      <td>None</td>\n      <td>PredPrey</td>\n    </tr>\n    <tr>\n      <th>41</th>\n      <td>0.001815</td>\n      <td>0.003110</td>\n      <td>0.074219</td>\n      <td>0.030505</td>\n      <td>41</td>\n      <td>None</td>\n      <td>PredPrey</td>\n    </tr>\n    <tr>\n      <th>42</th>\n      <td>0.000522</td>\n      <td>0.001839</td>\n      <td>0.072444</td>\n      <td>0.017877</td>\n      <td>42</td>\n      <td>None</td>\n      <td>PredPrey</td>\n    </tr>\n    <tr>\n      <th>43</th>\n      <td>0.002248</td>\n      <td>0.002384</td>\n      <td>0.079328</td>\n      <td>0.025863</td>\n      <td>43</td>\n      <td>None</td>\n      <td>PredPrey</td>\n    </tr>\n    <tr>\n      <th>44</th>\n      <td>0.001958</td>\n      <td>0.001665</td>\n      <td>0.059801</td>\n      <td>0.031722</td>\n      <td>44</td>\n      <td>None</td>\n      <td>PredPrey</td>\n    </tr>\n    <tr>\n      <th>45</th>\n      <td>0.002920</td>\n      <td>0.002841</td>\n      <td>0.046702</td>\n      <td>0.022636</td>\n      <td>45</td>\n      <td>None</td>\n      <td>PredPrey</td>\n    </tr>\n    <tr>\n      <th>46</th>\n      <td>0.001071</td>\n      <td>0.002723</td>\n      <td>0.058198</td>\n      <td>0.021292</td>\n      <td>46</td>\n      <td>None</td>\n      <td>PredPrey</td>\n    </tr>\n    <tr>\n      <th>47</th>\n      <td>0.001868</td>\n      <td>0.002361</td>\n      <td>0.066822</td>\n      <td>0.027289</td>\n      <td>47</td>\n      <td>None</td>\n      <td>PredPrey</td>\n    </tr>\n    <tr>\n      <th>48</th>\n      <td>0.002053</td>\n      <td>0.001859</td>\n      <td>0.054732</td>\n      <td>0.016459</td>\n      <td>48</td>\n      <td>None</td>\n      <td>PredPrey</td>\n    </tr>\n    <tr>\n      <th>49</th>\n      <td>0.002868</td>\n      <td>0.003319</td>\n      <td>0.048674</td>\n      <td>0.019761</td>\n      <td>49</td>\n      <td>None</td>\n      <td>PredPrey</td>\n    </tr>\n  </tbody>\n</table>\n</div>"
     },
     "execution_count": 5,
     "metadata": {},
     "output_type": "execute_result"
    }
   ],
   "source": [
    "experiments"
   ],
   "metadata": {
    "collapsed": false,
    "ExecuteTime": {
     "end_time": "2024-05-02T11:35:24.252766200Z",
     "start_time": "2024-05-02T11:35:24.137729700Z"
    }
   },
   "execution_count": 5
  },
  {
   "cell_type": "code",
   "outputs": [
    {
     "data": {
      "text/plain": "{'TIME': array([[[0.0000e+00, 2.5000e-01, 5.0000e-01, ..., 3.6450e+02,\n          3.6475e+02, 3.6500e+02]],\n \n        [[0.0000e+00, 2.5000e-01, 5.0000e-01, ..., 3.6450e+02,\n          3.6475e+02, 3.6500e+02]],\n \n        [[0.0000e+00, 2.5000e-01, 5.0000e-01, ..., 3.6450e+02,\n          3.6475e+02, 3.6500e+02]],\n \n        ...,\n \n        [[0.0000e+00, 2.5000e-01, 5.0000e-01, ..., 3.6450e+02,\n          3.6475e+02, 3.6500e+02]],\n \n        [[0.0000e+00, 2.5000e-01, 5.0000e-01, ..., 3.6450e+02,\n          3.6475e+02, 3.6500e+02]],\n \n        [[0.0000e+00, 2.5000e-01, 5.0000e-01, ..., 3.6450e+02,\n          3.6475e+02, 3.6500e+02]]]),\n 'predators': array([[[ 20.        ,  20.10717337,  20.2139285 , ...,  15.22332132,\n           15.13561819,  15.04837667]],\n \n        [[ 20.        ,  20.51534371,  21.04738242, ..., 171.7984396 ,\n          173.56281176, 175.24137347]],\n \n        [[ 20.        ,  20.47317626,  20.95734142, ...,  31.85002471,\n           32.62302031,  33.40830211]],\n \n        ...,\n \n        [[ 20.        ,  20.25607803,  20.51392952, ...,  17.80200914,\n           17.63752786,  17.47436984]],\n \n        [[ 20.        ,  20.19102865,  20.38099681, ...,   1.25222729,\n            1.24670171,   1.24124064]],\n \n        [[ 20.        ,  20.58641266,  21.18199141, ...,   7.22424668,\n            7.14293168,   7.06253039]]]),\n 'prey': array([[[50.        , 49.90034912, 49.79890204, ..., 27.55223135,\n          27.54640924, 27.54148949]],\n \n        [[50.        , 50.193686  , 50.38375003, ..., 31.97368252,\n          31.27715033, 30.58646401]],\n \n        [[50.        , 49.98632937, 49.96261473, ..., 50.83064318,\n          50.56086387, 50.27591343]],\n \n        ...,\n \n        [[50.        , 49.87408197, 49.74251628, ..., 12.65022127,\n          12.63134928, 12.61347575]],\n \n        [[50.        , 49.69250511, 49.38202935, ..., 19.94968426,\n          20.01895006, 20.08851312]],\n \n        [[50.        , 49.53004433, 49.04368153, ...,  1.09989584,\n           1.0996326 ,  1.09943352]]])}"
     },
     "execution_count": 6,
     "metadata": {},
     "output_type": "execute_result"
    }
   ],
   "source": [
    "outcomes"
   ],
   "metadata": {
    "collapsed": false,
    "ExecuteTime": {
     "end_time": "2024-05-02T11:35:24.301102600Z",
     "start_time": "2024-05-02T11:35:24.237318900Z"
    }
   },
   "execution_count": 6
  },
  {
   "cell_type": "code",
   "outputs": [
    {
     "data": {
      "text/plain": "array([[50.        , 49.90034912, 49.79890204, ..., 27.55223135,\n        27.54640924, 27.54148949]])"
     },
     "execution_count": 7,
     "metadata": {},
     "output_type": "execute_result"
    }
   ],
   "source": [
    "outcomes['prey'][0]"
   ],
   "metadata": {
    "collapsed": false,
    "ExecuteTime": {
     "end_time": "2024-05-02T11:35:24.393864600Z",
     "start_time": "2024-05-02T11:35:24.266729500Z"
    }
   },
   "execution_count": 7
  },
  {
   "cell_type": "code",
   "outputs": [],
   "source": [],
   "metadata": {
    "collapsed": false,
    "ExecuteTime": {
     "end_time": "2024-04-29T14:13:24.789445900Z",
     "start_time": "2024-04-29T14:13:24.780354Z"
    }
   },
   "execution_count": 14
  },
  {
   "cell_type": "code",
   "outputs": [],
   "source": [],
   "metadata": {
    "collapsed": false
   }
  }
 ],
 "metadata": {
  "kernelspec": {
   "display_name": "Python 3",
   "language": "python",
   "name": "python3"
  },
  "language_info": {
   "codemirror_mode": {
    "name": "ipython",
    "version": 3
   },
   "file_extension": ".py",
   "mimetype": "text/x-python",
   "name": "python",
   "nbconvert_exporter": "python",
   "pygments_lexer": "ipython3",
   "version": "3.8.5"
  }
 },
 "nbformat": 4,
 "nbformat_minor": 4
}
