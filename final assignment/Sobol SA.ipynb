{
 "cells": [
  {
   "cell_type": "code",
   "id": "initial_id",
   "metadata": {
    "collapsed": true,
    "ExecuteTime": {
     "end_time": "2024-06-03T11:56:37.230966Z",
     "start_time": "2024-06-03T11:56:35.912851Z"
    }
   },
   "source": [
    "import numpy as np\n",
    "import scipy as sp\n",
    "import pandas as pd\n",
    "import matplotlib.pyplot as plt\n",
    "import seaborn as sns\n",
    "import networkx as nx\n",
    "import pickle"
   ],
   "outputs": [],
   "execution_count": 1
  },
  {
   "metadata": {
    "ExecuteTime": {
     "end_time": "2024-06-03T11:56:37.246595Z",
     "start_time": "2024-06-03T11:56:37.230966Z"
    }
   },
   "cell_type": "code",
   "source": [
    "# make sure pandas is version 1.0 or higher\n",
    "# make sure networkx is verion 2.4 or higher\n",
    "print(pd.__version__)\n",
    "print(nx.__version__)"
   ],
   "id": "e0871b9c7c58999b",
   "outputs": [
    {
     "name": "stdout",
     "output_type": "stream",
     "text": [
      "2.1.3\n",
      "3.2.1\n"
     ]
    }
   ],
   "execution_count": 2
  },
  {
   "metadata": {
    "ExecuteTime": {
     "end_time": "2024-06-03T11:56:42.032598Z",
     "start_time": "2024-06-03T11:56:37.246595Z"
    }
   },
   "cell_type": "code",
   "source": [
    "from ema_workbench import (\n",
    "    Model,\n",
    "    Policy,\n",
    "    ema_logging,\n",
    "    SequentialEvaluator,\n",
    "    MultiprocessingEvaluator, \n",
    "    perform_experiments,\n",
    "    Samplers, \n",
    ")\n",
    "from SALib.analyze import sobol\n",
    "from ema_workbench.em_framework.salib_samplers import get_SALib_problem\n",
    "from ema_workbench.analysis import (feature_scoring, pairs_plotting)\n",
    "\n",
    "from dike_model_function import DikeNetwork  # @UnresolvedImport\n",
    "from problem_formulation import get_model_for_problem_formulation, sum_over, sum_over_time\n",
    "\n"
   ],
   "id": "e947f765056209ab",
   "outputs": [],
   "execution_count": 3
  },
  {
   "metadata": {
    "ExecuteTime": {
     "end_time": "2024-06-03T11:56:42.868377Z",
     "start_time": "2024-06-03T11:56:42.032598Z"
    }
   },
   "cell_type": "code",
   "source": [
    "ema_logging.log_to_stderr(ema_logging.INFO)\n",
    "\n",
    "# choose problem formulation number, between 0-5\n",
    "# each problem formulation has its own list of outcomes\n",
    "dike_model, planning_steps = get_model_for_problem_formulation(2)"
   ],
   "id": "d6081791f9fac9cb",
   "outputs": [],
   "execution_count": 4
  },
  {
   "metadata": {
    "ExecuteTime": {
     "end_time": "2024-06-03T11:56:42.899619Z",
     "start_time": "2024-06-03T11:56:42.868377Z"
    }
   },
   "cell_type": "code",
   "source": [
    "# enlisting uncertainties, their types (RealParameter/IntegerParameter/CategoricalParameter), lower boundary, and upper boundary\n",
    "import copy\n",
    "\n",
    "for unc in dike_model.uncertainties:\n",
    "    print(repr(unc))\n",
    "\n",
    "uncertainties = copy.deepcopy(dike_model.uncertainties)"
   ],
   "id": "e468ea63e363929",
   "outputs": [
    {
     "name": "stdout",
     "output_type": "stream",
     "text": [
      "CategoricalParameter('discount rate 0', [0, 1, 2, 3])\n",
      "CategoricalParameter('discount rate 1', [0, 1, 2, 3])\n",
      "CategoricalParameter('discount rate 2', [0, 1, 2, 3])\n",
      "IntegerParameter('A.0_ID flood wave shape', 0, 132, resolution=None, default=None, variable_name=['A.0_ID flood wave shape'], pff=False)\n",
      "RealParameter('A.1_Bmax', 30, 350, resolution=None, default=None, variable_name=['A.1_Bmax'], pff=False)\n",
      "RealParameter('A.1_pfail', 0, 1, resolution=None, default=None, variable_name=['A.1_pfail'], pff=False)\n",
      "CategoricalParameter('A.1_Brate', [0, 1, 2])\n",
      "RealParameter('A.2_Bmax', 30, 350, resolution=None, default=None, variable_name=['A.2_Bmax'], pff=False)\n",
      "RealParameter('A.2_pfail', 0, 1, resolution=None, default=None, variable_name=['A.2_pfail'], pff=False)\n",
      "CategoricalParameter('A.2_Brate', [0, 1, 2])\n",
      "RealParameter('A.3_Bmax', 30, 350, resolution=None, default=None, variable_name=['A.3_Bmax'], pff=False)\n",
      "RealParameter('A.3_pfail', 0, 1, resolution=None, default=None, variable_name=['A.3_pfail'], pff=False)\n",
      "CategoricalParameter('A.3_Brate', [0, 1, 2])\n",
      "RealParameter('A.4_Bmax', 30, 350, resolution=None, default=None, variable_name=['A.4_Bmax'], pff=False)\n",
      "RealParameter('A.4_pfail', 0, 1, resolution=None, default=None, variable_name=['A.4_pfail'], pff=False)\n",
      "CategoricalParameter('A.4_Brate', [0, 1, 2])\n",
      "RealParameter('A.5_Bmax', 30, 350, resolution=None, default=None, variable_name=['A.5_Bmax'], pff=False)\n",
      "RealParameter('A.5_pfail', 0, 1, resolution=None, default=None, variable_name=['A.5_pfail'], pff=False)\n",
      "CategoricalParameter('A.5_Brate', [0, 1, 2])\n"
     ]
    }
   ],
   "execution_count": 5
  },
  {
   "metadata": {
    "ExecuteTime": {
     "end_time": "2024-06-03T11:56:42.931276Z",
     "start_time": "2024-06-03T11:56:42.899619Z"
    }
   },
   "cell_type": "code",
   "source": [
    "# enlisting policy levers, their types (RealParameter/IntegerParameter), lower boundary, and upper boundary\n",
    "for policy in dike_model.levers:\n",
    "    print(repr(policy))\n",
    "\n",
    "levers = copy.deepcopy(dike_model.levers)"
   ],
   "id": "fc7c1bfa14c3a063",
   "outputs": [
    {
     "name": "stdout",
     "output_type": "stream",
     "text": [
      "IntegerParameter('0_RfR 0', 0, 1, resolution=None, default=None, variable_name=['0_RfR 0'], pff=False)\n",
      "IntegerParameter('0_RfR 1', 0, 1, resolution=None, default=None, variable_name=['0_RfR 1'], pff=False)\n",
      "IntegerParameter('0_RfR 2', 0, 1, resolution=None, default=None, variable_name=['0_RfR 2'], pff=False)\n",
      "IntegerParameter('1_RfR 0', 0, 1, resolution=None, default=None, variable_name=['1_RfR 0'], pff=False)\n",
      "IntegerParameter('1_RfR 1', 0, 1, resolution=None, default=None, variable_name=['1_RfR 1'], pff=False)\n",
      "IntegerParameter('1_RfR 2', 0, 1, resolution=None, default=None, variable_name=['1_RfR 2'], pff=False)\n",
      "IntegerParameter('2_RfR 0', 0, 1, resolution=None, default=None, variable_name=['2_RfR 0'], pff=False)\n",
      "IntegerParameter('2_RfR 1', 0, 1, resolution=None, default=None, variable_name=['2_RfR 1'], pff=False)\n",
      "IntegerParameter('2_RfR 2', 0, 1, resolution=None, default=None, variable_name=['2_RfR 2'], pff=False)\n",
      "IntegerParameter('3_RfR 0', 0, 1, resolution=None, default=None, variable_name=['3_RfR 0'], pff=False)\n",
      "IntegerParameter('3_RfR 1', 0, 1, resolution=None, default=None, variable_name=['3_RfR 1'], pff=False)\n",
      "IntegerParameter('3_RfR 2', 0, 1, resolution=None, default=None, variable_name=['3_RfR 2'], pff=False)\n",
      "IntegerParameter('4_RfR 0', 0, 1, resolution=None, default=None, variable_name=['4_RfR 0'], pff=False)\n",
      "IntegerParameter('4_RfR 1', 0, 1, resolution=None, default=None, variable_name=['4_RfR 1'], pff=False)\n",
      "IntegerParameter('4_RfR 2', 0, 1, resolution=None, default=None, variable_name=['4_RfR 2'], pff=False)\n",
      "IntegerParameter('EWS_DaysToThreat', 0, 4, resolution=None, default=None, variable_name=['EWS_DaysToThreat'], pff=False)\n",
      "IntegerParameter('A.1_DikeIncrease 0', 0, 10, resolution=None, default=None, variable_name=['A.1_DikeIncrease 0'], pff=False)\n",
      "IntegerParameter('A.1_DikeIncrease 1', 0, 10, resolution=None, default=None, variable_name=['A.1_DikeIncrease 1'], pff=False)\n",
      "IntegerParameter('A.1_DikeIncrease 2', 0, 10, resolution=None, default=None, variable_name=['A.1_DikeIncrease 2'], pff=False)\n",
      "IntegerParameter('A.2_DikeIncrease 0', 0, 10, resolution=None, default=None, variable_name=['A.2_DikeIncrease 0'], pff=False)\n",
      "IntegerParameter('A.2_DikeIncrease 1', 0, 10, resolution=None, default=None, variable_name=['A.2_DikeIncrease 1'], pff=False)\n",
      "IntegerParameter('A.2_DikeIncrease 2', 0, 10, resolution=None, default=None, variable_name=['A.2_DikeIncrease 2'], pff=False)\n",
      "IntegerParameter('A.3_DikeIncrease 0', 0, 10, resolution=None, default=None, variable_name=['A.3_DikeIncrease 0'], pff=False)\n",
      "IntegerParameter('A.3_DikeIncrease 1', 0, 10, resolution=None, default=None, variable_name=['A.3_DikeIncrease 1'], pff=False)\n",
      "IntegerParameter('A.3_DikeIncrease 2', 0, 10, resolution=None, default=None, variable_name=['A.3_DikeIncrease 2'], pff=False)\n",
      "IntegerParameter('A.4_DikeIncrease 0', 0, 10, resolution=None, default=None, variable_name=['A.4_DikeIncrease 0'], pff=False)\n",
      "IntegerParameter('A.4_DikeIncrease 1', 0, 10, resolution=None, default=None, variable_name=['A.4_DikeIncrease 1'], pff=False)\n",
      "IntegerParameter('A.4_DikeIncrease 2', 0, 10, resolution=None, default=None, variable_name=['A.4_DikeIncrease 2'], pff=False)\n",
      "IntegerParameter('A.5_DikeIncrease 0', 0, 10, resolution=None, default=None, variable_name=['A.5_DikeIncrease 0'], pff=False)\n",
      "IntegerParameter('A.5_DikeIncrease 1', 0, 10, resolution=None, default=None, variable_name=['A.5_DikeIncrease 1'], pff=False)\n",
      "IntegerParameter('A.5_DikeIncrease 2', 0, 10, resolution=None, default=None, variable_name=['A.5_DikeIncrease 2'], pff=False)\n"
     ]
    }
   ],
   "execution_count": 6
  },
  {
   "metadata": {
    "ExecuteTime": {
     "end_time": "2024-06-03T11:56:42.946898Z",
     "start_time": "2024-06-03T11:56:42.931276Z"
    }
   },
   "cell_type": "code",
   "source": [
    "# enlisting outcomes\n",
    "for outcome in dike_model.outcomes:\n",
    "    print(repr(outcome))"
   ],
   "id": "4fa86888a97868c7",
   "outputs": [
    {
     "name": "stdout",
     "output_type": "stream",
     "text": [
      "ScalarOutcome('Expected Annual Damage', variable_name=('A.1_Expected Annual Damage', 'A.2_Expected Annual Damage', 'A.3_Expected Annual Damage', 'A.4_Expected Annual Damage', 'A.5_Expected Annual Damage'), function=<function sum_over at 0x0000020045F561F0>)\n",
      "ScalarOutcome('Dike Investment Costs', variable_name=('A.1_Dike Investment Costs', 'A.2_Dike Investment Costs', 'A.3_Dike Investment Costs', 'A.4_Dike Investment Costs', 'A.5_Dike Investment Costs'), function=<function sum_over at 0x0000020045F561F0>)\n",
      "ScalarOutcome('RfR Investment Costs', variable_name=('RfR Total Costs',), function=<function sum_over at 0x0000020045F561F0>)\n",
      "ScalarOutcome('Evacuation Costs', variable_name=('Expected Evacuation Costs',), function=<function sum_over at 0x0000020045F561F0>)\n",
      "ScalarOutcome('Expected Number of Deaths', variable_name=('A.1_Expected Number of Deaths', 'A.2_Expected Number of Deaths', 'A.3_Expected Number of Deaths', 'A.4_Expected Number of Deaths', 'A.5_Expected Number of Deaths'), function=<function sum_over at 0x0000020045F561F0>)\n"
     ]
    }
   ],
   "execution_count": 7
  },
  {
   "metadata": {},
   "cell_type": "code",
   "outputs": [],
   "execution_count": null,
   "source": "",
   "id": "528e03cc4dbbb562"
  },
  {
   "metadata": {},
   "cell_type": "markdown",
   "source": "# Putting the outcomes in a dataframe",
   "id": "7a69547b365d857d"
  },
  {
   "metadata": {
    "ExecuteTime": {
     "end_time": "2024-06-03T12:02:22.077685Z",
     "start_time": "2024-06-03T12:02:22.016648Z"
    }
   },
   "cell_type": "code",
   "source": [
    "with open('saved_experiments.pkl', 'rb') as file:\n",
    "    experiments = pickle.load(file)\n",
    "    \n",
    "with open('saved_outcomes.pkl', 'rb') as file:\n",
    "    outcomes = pickle.load(file)"
   ],
   "id": "3953ca7253a876ad",
   "outputs": [],
   "execution_count": 13
  },
  {
   "metadata": {
    "ExecuteTime": {
     "end_time": "2024-06-03T12:34:02.477048Z",
     "start_time": "2024-06-03T12:34:02.461435Z"
    }
   },
   "cell_type": "code",
   "source": "",
   "id": "98b21225ea18d640",
   "outputs": [],
   "execution_count": 50
  },
  {
   "metadata": {
    "ExecuteTime": {
     "end_time": "2024-06-03T12:34:03.247551Z",
     "start_time": "2024-06-03T12:34:03.229409Z"
    }
   },
   "cell_type": "code",
   "source": "",
   "id": "cfcbe0dad26f5b69",
   "outputs": [],
   "execution_count": 50
  },
  {
   "metadata": {
    "ExecuteTime": {
     "end_time": "2024-06-03T12:34:04.901729Z",
     "start_time": "2024-06-03T12:34:04.886085Z"
    }
   },
   "cell_type": "code",
   "source": "",
   "id": "f31caa830141cbeb",
   "outputs": [],
   "execution_count": 50
  },
  {
   "metadata": {
    "ExecuteTime": {
     "end_time": "2024-06-03T12:34:05.630576Z",
     "start_time": "2024-06-03T12:34:05.614957Z"
    }
   },
   "cell_type": "code",
   "source": [
    "# Store all outcome names in a list\n",
    "outcome_names = list(outcomes.keys())\n",
    "print(outcome_names)\n"
   ],
   "id": "8f83396e93c78b0b",
   "outputs": [
    {
     "name": "stdout",
     "output_type": "stream",
     "text": [
      "['A.1 Total Costs', 'A.1_Expected Number of Deaths', 'A.2 Total Costs', 'A.2_Expected Number of Deaths', 'A.3 Total Costs', 'A.3_Expected Number of Deaths', 'A.4 Total Costs', 'A.4_Expected Number of Deaths', 'A.5 Total Costs', 'A.5_Expected Number of Deaths', 'RfR Total Costs', 'Expected Evacuation Costs']\n"
     ]
    }
   ],
   "execution_count": 51
  },
  {
   "metadata": {},
   "cell_type": "code",
   "outputs": [],
   "execution_count": null,
   "source": [
    "# Make a Dataframe with the Outcomes on the columns and the Uncertainties as rows\n",
    "results = {}\n",
    "for i in outcome_names:\n",
    "    Si = sobol.analyze(problem, outcomes[i], calc_second_order=True, print_to_console=True)\n",
    "    results[i] = Si"
   ],
   "id": "987a8e3b00bf0c57"
  },
  {
   "metadata": {
    "ExecuteTime": {
     "end_time": "2024-06-03T12:34:36.521504Z",
     "start_time": "2024-06-03T12:34:14.364967Z"
    }
   },
   "cell_type": "code",
   "source": [
    "results = {}\n",
    "for i in outcome_names:\n",
    "    Si = sobol.analyze(problem, outcomes[i], calc_second_order=True, print_to_console=True)\n",
    "    results[i] = Si\n"
   ],
   "id": "b8a9ff1dec8b6389",
   "outputs": [
    {
     "name": "stderr",
     "output_type": "stream",
     "text": [
      "C:\\Users\\mmtud\\anaconda3\\envs\\gds\\lib\\site-packages\\SALib\\util\\__init__.py:274: FutureWarning: unique with argument that is not not a Series, Index, ExtensionArray, or np.ndarray is deprecated and will raise in a future version.\n",
      "  names = list(pd.unique(groups))\n"
     ]
    },
    {
     "name": "stdout",
     "output_type": "stream",
     "text": [
      "                               ST   ST_conf\n",
      "A.0_ID flood wave shape  0.001555  0.000591\n",
      "A.1_Bmax                 0.000000  0.000000\n",
      "A.1_Brate                0.000000  0.000000\n",
      "A.1_pfail                0.985283  0.069963\n",
      "A.2_Bmax                 0.000000  0.000000\n",
      "A.2_Brate                0.000000  0.000000\n",
      "A.2_pfail                0.000000  0.000000\n",
      "A.3_Bmax                 0.000000  0.000000\n",
      "A.3_Brate                0.000000  0.000000\n",
      "A.3_pfail                0.000000  0.000000\n",
      "A.4_Bmax                 0.000000  0.000000\n",
      "A.4_Brate                0.000000  0.000000\n",
      "A.4_pfail                0.000000  0.000000\n",
      "A.5_Bmax                 0.000000  0.000000\n",
      "A.5_Brate                0.000000  0.000000\n",
      "A.5_pfail                0.000000  0.000000\n",
      "discount rate 0          0.012768  0.001521\n",
      "discount rate 1          0.012664  0.001647\n",
      "discount rate 2          0.012649  0.001736\n",
      "                               S1   S1_conf\n",
      "A.0_ID flood wave shape -0.002125  0.004049\n",
      "A.1_Bmax                 0.000000  0.000000\n",
      "A.1_Brate                0.000000  0.000000\n",
      "A.1_pfail                0.957308  0.070467\n",
      "A.2_Bmax                 0.000000  0.000000\n",
      "A.2_Brate                0.000000  0.000000\n",
      "A.2_pfail                0.000000  0.000000\n",
      "A.3_Bmax                 0.000000  0.000000\n",
      "A.3_Brate                0.000000  0.000000\n",
      "A.3_pfail                0.000000  0.000000\n",
      "A.4_Bmax                 0.000000  0.000000\n",
      "A.4_Brate                0.000000  0.000000\n",
      "A.4_pfail                0.000000  0.000000\n",
      "A.5_Bmax                 0.000000  0.000000\n",
      "A.5_Brate                0.000000  0.000000\n",
      "A.5_pfail                0.000000  0.000000\n",
      "discount rate 0          0.004370  0.010068\n",
      "discount rate 1          0.004590  0.009290\n",
      "discount rate 2          0.005594  0.008999\n",
      "                                                S2       S2_conf\n",
      "(A.0_ID flood wave shape, A.1_Bmax)   5.125665e-04  5.474680e-03\n",
      "(A.0_ID flood wave shape, A.1_Brate)  5.125665e-04  5.474680e-03\n",
      "(A.0_ID flood wave shape, A.1_pfail)  3.473602e-03  5.901150e-03\n",
      "(A.0_ID flood wave shape, A.2_Bmax)   5.125665e-04  5.474680e-03\n",
      "(A.0_ID flood wave shape, A.2_Brate)  5.125665e-04  5.474680e-03\n",
      "...                                            ...           ...\n",
      "(A.5_pfail, discount rate 1)          0.000000e+00  1.008508e-17\n",
      "(A.5_pfail, discount rate 2)         -2.602085e-18  1.018514e-17\n",
      "(discount rate 0, discount rate 1)    8.003448e-04  1.995232e-02\n",
      "(discount rate 0, discount rate 2)   -1.089471e-04  1.957985e-02\n",
      "(discount rate 1, discount rate 2)   -6.788248e-04  1.447946e-02\n",
      "\n",
      "[171 rows x 2 columns]\n"
     ]
    },
    {
     "name": "stderr",
     "output_type": "stream",
     "text": [
      "C:\\Users\\mmtud\\anaconda3\\envs\\gds\\lib\\site-packages\\SALib\\util\\__init__.py:274: FutureWarning: unique with argument that is not not a Series, Index, ExtensionArray, or np.ndarray is deprecated and will raise in a future version.\n",
      "  names = list(pd.unique(groups))\n"
     ]
    },
    {
     "name": "stdout",
     "output_type": "stream",
     "text": [
      "                               ST   ST_conf\n",
      "A.0_ID flood wave shape  0.001815  0.000700\n",
      "A.1_Bmax                 0.000000  0.000000\n",
      "A.1_Brate                0.000000  0.000000\n",
      "A.1_pfail                0.999837  0.059502\n",
      "A.2_Bmax                 0.000000  0.000000\n",
      "A.2_Brate                0.000000  0.000000\n",
      "A.2_pfail                0.000000  0.000000\n",
      "A.3_Bmax                 0.000000  0.000000\n",
      "A.3_Brate                0.000000  0.000000\n",
      "A.3_pfail                0.000000  0.000000\n",
      "A.4_Bmax                 0.000000  0.000000\n",
      "A.4_Brate                0.000000  0.000000\n",
      "A.4_pfail                0.000000  0.000000\n",
      "A.5_Bmax                 0.000000  0.000000\n",
      "A.5_Brate                0.000000  0.000000\n",
      "A.5_pfail                0.000000  0.000000\n",
      "discount rate 0          0.000000  0.000000\n",
      "discount rate 1          0.000000  0.000000\n",
      "discount rate 2          0.000000  0.000000\n",
      "                               S1   S1_conf\n",
      "A.0_ID flood wave shape -0.002379  0.004006\n",
      "A.1_Bmax                 0.000000  0.000000\n",
      "A.1_Brate                0.000000  0.000000\n",
      "A.1_pfail                0.997897  0.063367\n",
      "A.2_Bmax                 0.000000  0.000000\n",
      "A.2_Brate                0.000000  0.000000\n",
      "A.2_pfail                0.000000  0.000000\n",
      "A.3_Bmax                 0.000000  0.000000\n",
      "A.3_Brate                0.000000  0.000000\n",
      "A.3_pfail                0.000000  0.000000\n",
      "A.4_Bmax                 0.000000  0.000000\n",
      "A.4_Brate                0.000000  0.000000\n",
      "A.4_pfail                0.000000  0.000000\n",
      "A.5_Bmax                 0.000000  0.000000\n",
      "A.5_Brate                0.000000  0.000000\n",
      "A.5_pfail                0.000000  0.000000\n",
      "discount rate 0          0.000000  0.000000\n",
      "discount rate 1          0.000000  0.000000\n",
      "discount rate 2          0.000000  0.000000\n",
      "                                            S2   S2_conf\n",
      "(A.0_ID flood wave shape, A.1_Bmax)   0.000791  0.005382\n",
      "(A.0_ID flood wave shape, A.1_Brate)  0.000791  0.005382\n",
      "(A.0_ID flood wave shape, A.1_pfail)  0.004090  0.006055\n",
      "(A.0_ID flood wave shape, A.2_Bmax)   0.000791  0.005382\n",
      "(A.0_ID flood wave shape, A.2_Brate)  0.000791  0.005382\n",
      "...                                        ...       ...\n",
      "(A.5_pfail, discount rate 1)          0.000000  0.000000\n",
      "(A.5_pfail, discount rate 2)          0.000000  0.000000\n",
      "(discount rate 0, discount rate 1)    0.000000  0.000000\n",
      "(discount rate 0, discount rate 2)    0.000000  0.000000\n",
      "(discount rate 1, discount rate 2)    0.000000  0.000000\n",
      "\n",
      "[171 rows x 2 columns]\n"
     ]
    },
    {
     "name": "stderr",
     "output_type": "stream",
     "text": [
      "C:\\Users\\mmtud\\anaconda3\\envs\\gds\\lib\\site-packages\\SALib\\util\\__init__.py:274: FutureWarning: unique with argument that is not not a Series, Index, ExtensionArray, or np.ndarray is deprecated and will raise in a future version.\n",
      "  names = list(pd.unique(groups))\n"
     ]
    },
    {
     "name": "stdout",
     "output_type": "stream",
     "text": [
      "                               ST   ST_conf\n",
      "A.0_ID flood wave shape  0.005098  0.001809\n",
      "A.1_Bmax                 0.023350  0.013492\n",
      "A.1_Brate                0.000099  0.000117\n",
      "A.1_pfail                0.201903  0.054100\n",
      "A.2_Bmax                 0.000000  0.000000\n",
      "A.2_Brate                0.000000  0.000000\n",
      "A.2_pfail                0.899929  0.086976\n",
      "A.3_Bmax                 0.000000  0.000000\n",
      "A.3_Brate                0.000000  0.000000\n",
      "A.3_pfail                0.000000  0.000000\n",
      "A.4_Bmax                 0.000000  0.000000\n",
      "A.4_Brate                0.000000  0.000000\n",
      "A.4_pfail                0.000000  0.000000\n",
      "A.5_Bmax                 0.000000  0.000000\n",
      "A.5_Brate                0.000000  0.000000\n",
      "A.5_pfail                0.000000  0.000000\n",
      "discount rate 0          0.009626  0.002015\n",
      "discount rate 1          0.009510  0.002271\n",
      "discount rate 2          0.009031  0.001967\n",
      "                               S1   S1_conf\n",
      "A.0_ID flood wave shape -0.001220  0.008260\n",
      "A.1_Bmax                 0.003637  0.012066\n",
      "A.1_Brate                0.000089  0.000340\n",
      "A.1_pfail                0.065506  0.031269\n",
      "A.2_Bmax                 0.000000  0.000000\n",
      "A.2_Brate                0.000000  0.000000\n",
      "A.2_pfail                0.739212  0.120437\n",
      "A.3_Bmax                 0.000000  0.000000\n",
      "A.3_Brate                0.000000  0.000000\n",
      "A.3_pfail                0.000000  0.000000\n",
      "A.4_Bmax                 0.000000  0.000000\n",
      "A.4_Brate                0.000000  0.000000\n",
      "A.4_pfail                0.000000  0.000000\n",
      "A.5_Bmax                 0.000000  0.000000\n",
      "A.5_Brate                0.000000  0.000000\n",
      "A.5_pfail                0.000000  0.000000\n",
      "discount rate 0          0.004848  0.006422\n",
      "discount rate 1          0.006135  0.010090\n",
      "discount rate 2          0.002357  0.009822\n",
      "                                                S2       S2_conf\n",
      "(A.0_ID flood wave shape, A.1_Bmax)   4.855032e-04  1.207704e-02\n",
      "(A.0_ID flood wave shape, A.1_Brate) -5.471247e-04  1.225408e-02\n",
      "(A.0_ID flood wave shape, A.1_pfail) -1.497050e-03  1.265055e-02\n",
      "(A.0_ID flood wave shape, A.2_Bmax)  -6.015669e-04  1.225610e-02\n",
      "(A.0_ID flood wave shape, A.2_Brate) -6.015669e-04  1.225610e-02\n",
      "...                                            ...           ...\n",
      "(A.5_pfail, discount rate 1)          1.734723e-18  7.321135e-18\n",
      "(A.5_pfail, discount rate 2)          3.035766e-18  6.700411e-18\n",
      "(discount rate 0, discount rate 1)   -2.098024e-03  1.140457e-02\n",
      "(discount rate 0, discount rate 2)   -2.353763e-03  1.161440e-02\n",
      "(discount rate 1, discount rate 2)   -3.965344e-03  1.933160e-02\n",
      "\n",
      "[171 rows x 2 columns]\n"
     ]
    },
    {
     "name": "stderr",
     "output_type": "stream",
     "text": [
      "C:\\Users\\mmtud\\anaconda3\\envs\\gds\\lib\\site-packages\\SALib\\util\\__init__.py:274: FutureWarning: unique with argument that is not not a Series, Index, ExtensionArray, or np.ndarray is deprecated and will raise in a future version.\n",
      "  names = list(pd.unique(groups))\n"
     ]
    },
    {
     "name": "stdout",
     "output_type": "stream",
     "text": [
      "                               ST   ST_conf\n",
      "A.0_ID flood wave shape  0.004930  0.001626\n",
      "A.1_Bmax                 0.025907  0.012903\n",
      "A.1_Brate                0.000147  0.000236\n",
      "A.1_pfail                0.216402  0.056887\n",
      "A.2_Bmax                 0.000000  0.000000\n",
      "A.2_Brate                0.000000  0.000000\n",
      "A.2_pfail                0.902384  0.069187\n",
      "A.3_Bmax                 0.000000  0.000000\n",
      "A.3_Brate                0.000000  0.000000\n",
      "A.3_pfail                0.000000  0.000000\n",
      "A.4_Bmax                 0.000000  0.000000\n",
      "A.4_Brate                0.000000  0.000000\n",
      "A.4_pfail                0.000000  0.000000\n",
      "A.5_Bmax                 0.000000  0.000000\n",
      "A.5_Brate                0.000000  0.000000\n",
      "A.5_pfail                0.000000  0.000000\n",
      "discount rate 0          0.000000  0.000000\n",
      "discount rate 1          0.000000  0.000000\n",
      "discount rate 2          0.000000  0.000000\n",
      "                               S1   S1_conf\n",
      "A.0_ID flood wave shape  0.000056  0.007613\n",
      "A.1_Bmax                 0.003001  0.012155\n",
      "A.1_Brate                0.000101  0.000456\n",
      "A.1_pfail                0.076728  0.037723\n",
      "A.2_Bmax                 0.000000  0.000000\n",
      "A.2_Brate                0.000000  0.000000\n",
      "A.2_pfail                0.761112  0.107092\n",
      "A.3_Bmax                 0.000000  0.000000\n",
      "A.3_Brate                0.000000  0.000000\n",
      "A.3_pfail                0.000000  0.000000\n",
      "A.4_Bmax                 0.000000  0.000000\n",
      "A.4_Brate                0.000000  0.000000\n",
      "A.4_pfail                0.000000  0.000000\n",
      "A.5_Bmax                 0.000000  0.000000\n",
      "A.5_Brate                0.000000  0.000000\n",
      "A.5_pfail                0.000000  0.000000\n",
      "discount rate 0          0.000000  0.000000\n",
      "discount rate 1          0.000000  0.000000\n",
      "discount rate 2          0.000000  0.000000\n",
      "                                            S2   S2_conf\n",
      "(A.0_ID flood wave shape, A.1_Bmax)  -0.000156  0.011602\n",
      "(A.0_ID flood wave shape, A.1_Brate) -0.001849  0.011819\n",
      "(A.0_ID flood wave shape, A.1_pfail) -0.003235  0.012317\n",
      "(A.0_ID flood wave shape, A.2_Bmax)  -0.001910  0.011843\n",
      "(A.0_ID flood wave shape, A.2_Brate) -0.001910  0.011843\n",
      "...                                        ...       ...\n",
      "(A.5_pfail, discount rate 1)          0.000000  0.000000\n",
      "(A.5_pfail, discount rate 2)          0.000000  0.000000\n",
      "(discount rate 0, discount rate 1)    0.000000  0.000000\n",
      "(discount rate 0, discount rate 2)    0.000000  0.000000\n",
      "(discount rate 1, discount rate 2)    0.000000  0.000000\n",
      "\n",
      "[171 rows x 2 columns]\n"
     ]
    },
    {
     "name": "stderr",
     "output_type": "stream",
     "text": [
      "C:\\Users\\mmtud\\anaconda3\\envs\\gds\\lib\\site-packages\\SALib\\util\\__init__.py:274: FutureWarning: unique with argument that is not not a Series, Index, ExtensionArray, or np.ndarray is deprecated and will raise in a future version.\n",
      "  names = list(pd.unique(groups))\n"
     ]
    },
    {
     "name": "stdout",
     "output_type": "stream",
     "text": [
      "                               ST   ST_conf\n",
      "A.0_ID flood wave shape  0.005266  0.001574\n",
      "A.1_Bmax                 0.030951  0.014449\n",
      "A.1_Brate                0.000393  0.000309\n",
      "A.1_pfail                0.154494  0.036513\n",
      "A.2_Bmax                 0.002864  0.003238\n",
      "A.2_Brate                0.000022  0.000024\n",
      "A.2_pfail                0.040367  0.016014\n",
      "A.3_Bmax                 0.000000  0.000000\n",
      "A.3_Brate                0.000000  0.000000\n",
      "A.3_pfail                0.936004  0.076863\n",
      "A.4_Bmax                 0.000000  0.000000\n",
      "A.4_Brate                0.000000  0.000000\n",
      "A.4_pfail                0.000000  0.000000\n",
      "A.5_Bmax                 0.000000  0.000000\n",
      "A.5_Brate                0.000000  0.000000\n",
      "A.5_pfail                0.000000  0.000000\n",
      "discount rate 0          0.009657  0.001645\n",
      "discount rate 1          0.010338  0.002204\n",
      "discount rate 2          0.010002  0.002018\n",
      "                               S1   S1_conf\n",
      "A.0_ID flood wave shape  0.002403  0.005681\n",
      "A.1_Bmax                 0.003950  0.013407\n",
      "A.1_Brate               -0.002510  0.002419\n",
      "A.1_pfail                0.042427  0.026992\n",
      "A.2_Bmax                -0.002759  0.002850\n",
      "A.2_Brate               -0.000316  0.000323\n",
      "A.2_pfail                0.007481  0.020131\n",
      "A.3_Bmax                 0.000000  0.000000\n",
      "A.3_Brate                0.000000  0.000000\n",
      "A.3_pfail                0.748817  0.090220\n",
      "A.4_Bmax                 0.000000  0.000000\n",
      "A.4_Brate                0.000000  0.000000\n",
      "A.4_pfail                0.000000  0.000000\n",
      "A.5_Bmax                 0.000000  0.000000\n",
      "A.5_Brate                0.000000  0.000000\n",
      "A.5_pfail                0.000000  0.000000\n",
      "discount rate 0         -0.000832  0.007601\n",
      "discount rate 1          0.002135  0.008777\n",
      "discount rate 2          0.001206  0.009901\n",
      "                                                S2       S2_conf\n",
      "(A.0_ID flood wave shape, A.1_Bmax)   1.496818e-03  1.024103e-02\n",
      "(A.0_ID flood wave shape, A.1_Brate)  8.896154e-04  1.029902e-02\n",
      "(A.0_ID flood wave shape, A.1_pfail) -1.940579e-03  1.040578e-02\n",
      "(A.0_ID flood wave shape, A.2_Bmax)   7.511176e-04  1.028777e-02\n",
      "(A.0_ID flood wave shape, A.2_Brate)  8.368850e-04  1.028787e-02\n",
      "...                                            ...           ...\n",
      "(A.5_pfail, discount rate 1)          8.673617e-19  6.565402e-18\n",
      "(A.5_pfail, discount rate 2)          2.168404e-19  6.421887e-18\n",
      "(discount rate 0, discount rate 1)    4.453489e-03  1.461748e-02\n",
      "(discount rate 0, discount rate 2)    4.117464e-03  1.429853e-02\n",
      "(discount rate 1, discount rate 2)    9.292391e-04  1.623203e-02\n",
      "\n",
      "[171 rows x 2 columns]\n"
     ]
    },
    {
     "name": "stderr",
     "output_type": "stream",
     "text": [
      "C:\\Users\\mmtud\\anaconda3\\envs\\gds\\lib\\site-packages\\SALib\\util\\__init__.py:274: FutureWarning: unique with argument that is not not a Series, Index, ExtensionArray, or np.ndarray is deprecated and will raise in a future version.\n",
      "  names = list(pd.unique(groups))\n"
     ]
    },
    {
     "name": "stdout",
     "output_type": "stream",
     "text": [
      "                               ST   ST_conf\n",
      "A.0_ID flood wave shape  0.005902  0.001881\n",
      "A.1_Bmax                 0.030001  0.011418\n",
      "A.1_Brate                0.000383  0.000290\n",
      "A.1_pfail                0.164689  0.037083\n",
      "A.2_Bmax                 0.002549  0.002966\n",
      "A.2_Brate                0.000019  0.000020\n",
      "A.2_pfail                0.041830  0.016176\n",
      "A.3_Bmax                 0.000000  0.000000\n",
      "A.3_Brate                0.000000  0.000000\n",
      "A.3_pfail                0.928407  0.072508\n",
      "A.4_Bmax                 0.000000  0.000000\n",
      "A.4_Brate                0.000000  0.000000\n",
      "A.4_pfail                0.000000  0.000000\n",
      "A.5_Bmax                 0.000000  0.000000\n",
      "A.5_Brate                0.000000  0.000000\n",
      "A.5_pfail                0.000000  0.000000\n",
      "discount rate 0          0.000000  0.000000\n",
      "discount rate 1          0.000000  0.000000\n",
      "discount rate 2          0.000000  0.000000\n",
      "                               S1   S1_conf\n",
      "A.0_ID flood wave shape  0.003462  0.007150\n",
      "A.1_Bmax                 0.005156  0.016881\n",
      "A.1_Brate               -0.002683  0.002408\n",
      "A.1_pfail                0.049610  0.029813\n",
      "A.2_Bmax                -0.003094  0.003666\n",
      "A.2_Brate               -0.000360  0.000365\n",
      "A.2_pfail                0.012614  0.018754\n",
      "A.3_Bmax                 0.000000  0.000000\n",
      "A.3_Brate                0.000000  0.000000\n",
      "A.3_pfail                0.766162  0.092110\n",
      "A.4_Bmax                 0.000000  0.000000\n",
      "A.4_Brate                0.000000  0.000000\n",
      "A.4_pfail                0.000000  0.000000\n",
      "A.5_Bmax                 0.000000  0.000000\n",
      "A.5_Brate                0.000000  0.000000\n",
      "A.5_pfail                0.000000  0.000000\n",
      "discount rate 0          0.000000  0.000000\n",
      "discount rate 1          0.000000  0.000000\n",
      "discount rate 2          0.000000  0.000000\n",
      "                                            S2   S2_conf\n",
      "(A.0_ID flood wave shape, A.1_Bmax)   0.000652  0.010947\n",
      "(A.0_ID flood wave shape, A.1_Brate) -0.000001  0.011072\n",
      "(A.0_ID flood wave shape, A.1_pfail) -0.003232  0.012109\n",
      "(A.0_ID flood wave shape, A.2_Bmax)  -0.000173  0.011083\n",
      "(A.0_ID flood wave shape, A.2_Brate) -0.000092  0.011062\n",
      "...                                        ...       ...\n",
      "(A.5_pfail, discount rate 1)          0.000000  0.000000\n",
      "(A.5_pfail, discount rate 2)          0.000000  0.000000\n",
      "(discount rate 0, discount rate 1)    0.000000  0.000000\n",
      "(discount rate 0, discount rate 2)    0.000000  0.000000\n",
      "(discount rate 1, discount rate 2)    0.000000  0.000000\n",
      "\n",
      "[171 rows x 2 columns]\n"
     ]
    },
    {
     "name": "stderr",
     "output_type": "stream",
     "text": [
      "C:\\Users\\mmtud\\anaconda3\\envs\\gds\\lib\\site-packages\\SALib\\util\\__init__.py:274: FutureWarning: unique with argument that is not not a Series, Index, ExtensionArray, or np.ndarray is deprecated and will raise in a future version.\n",
      "  names = list(pd.unique(groups))\n"
     ]
    },
    {
     "name": "stdout",
     "output_type": "stream",
     "text": [
      "                               ST   ST_conf\n",
      "A.0_ID flood wave shape  0.015246  0.003536\n",
      "A.1_Bmax                 0.037440  0.018668\n",
      "A.1_Brate                0.000592  0.000428\n",
      "A.1_pfail                0.270587  0.059026\n",
      "A.2_Bmax                 0.001734  0.000882\n",
      "A.2_Brate                0.000129  0.000096\n",
      "A.2_pfail                0.114324  0.038408\n",
      "A.3_Bmax                 0.003919  0.003187\n",
      "A.3_Brate                0.000084  0.000064\n",
      "A.3_pfail                0.210650  0.056002\n",
      "A.4_Bmax                 0.000000  0.000000\n",
      "A.4_Brate                0.000000  0.000000\n",
      "A.4_pfail                0.755492  0.111182\n",
      "A.5_Bmax                 0.000000  0.000000\n",
      "A.5_Brate                0.000000  0.000000\n",
      "A.5_pfail                0.000000  0.000000\n",
      "discount rate 0          0.008752  0.002478\n",
      "discount rate 1          0.009470  0.002716\n",
      "discount rate 2          0.008494  0.002316\n",
      "                               S1   S1_conf\n",
      "A.0_ID flood wave shape -0.001069  0.011231\n",
      "A.1_Bmax                -0.004957  0.010465\n",
      "A.1_Brate               -0.000053  0.002125\n",
      "A.1_pfail                0.068271  0.036556\n",
      "A.2_Bmax                -0.001005  0.002460\n",
      "A.2_Brate               -0.001322  0.002127\n",
      "A.2_pfail                0.023394  0.021978\n",
      "A.3_Bmax                -0.000847  0.002598\n",
      "A.3_Brate               -0.000500  0.000680\n",
      "A.3_pfail                0.023441  0.019655\n",
      "A.4_Bmax                 0.000000  0.000000\n",
      "A.4_Brate                0.000000  0.000000\n",
      "A.4_pfail                0.464171  0.111244\n",
      "A.5_Bmax                 0.000000  0.000000\n",
      "A.5_Brate                0.000000  0.000000\n",
      "A.5_pfail                0.000000  0.000000\n",
      "discount rate 0          0.008814  0.012040\n",
      "discount rate 1         -0.004867  0.008721\n",
      "discount rate 2          0.004649  0.008488\n",
      "                                            S2       S2_conf\n",
      "(A.0_ID flood wave shape, A.1_Bmax)   0.007132  2.334779e-02\n",
      "(A.0_ID flood wave shape, A.1_Brate)  0.005172  2.353672e-02\n",
      "(A.0_ID flood wave shape, A.1_pfail)  0.001024  2.642723e-02\n",
      "(A.0_ID flood wave shape, A.2_Bmax)   0.005337  2.347164e-02\n",
      "(A.0_ID flood wave shape, A.2_Brate)  0.005398  2.347580e-02\n",
      "...                                        ...           ...\n",
      "(A.5_pfail, discount rate 1)          0.000000  4.431047e-18\n",
      "(A.5_pfail, discount rate 2)          0.000000  4.797358e-18\n",
      "(discount rate 0, discount rate 1)   -0.010419  2.123288e-02\n",
      "(discount rate 0, discount rate 2)   -0.012122  2.283444e-02\n",
      "(discount rate 1, discount rate 2)    0.011406  1.582974e-02\n",
      "\n",
      "[171 rows x 2 columns]\n"
     ]
    },
    {
     "name": "stderr",
     "output_type": "stream",
     "text": [
      "C:\\Users\\mmtud\\anaconda3\\envs\\gds\\lib\\site-packages\\SALib\\util\\__init__.py:274: FutureWarning: unique with argument that is not not a Series, Index, ExtensionArray, or np.ndarray is deprecated and will raise in a future version.\n",
      "  names = list(pd.unique(groups))\n"
     ]
    },
    {
     "name": "stdout",
     "output_type": "stream",
     "text": [
      "                               ST   ST_conf\n",
      "A.0_ID flood wave shape  0.017873  0.003638\n",
      "A.1_Bmax                 0.035511  0.015401\n",
      "A.1_Brate                0.000641  0.000369\n",
      "A.1_pfail                0.295049  0.062700\n",
      "A.2_Bmax                 0.002120  0.001080\n",
      "A.2_Brate                0.000162  0.000119\n",
      "A.2_pfail                0.119171  0.034557\n",
      "A.3_Bmax                 0.003900  0.002608\n",
      "A.3_Brate                0.000103  0.000072\n",
      "A.3_pfail                0.229768  0.054165\n",
      "A.4_Bmax                 0.000000  0.000000\n",
      "A.4_Brate                0.000000  0.000000\n",
      "A.4_pfail                0.743318  0.116061\n",
      "A.5_Bmax                 0.000000  0.000000\n",
      "A.5_Brate                0.000000  0.000000\n",
      "A.5_pfail                0.000000  0.000000\n",
      "discount rate 0          0.000000  0.000000\n",
      "discount rate 1          0.000000  0.000000\n",
      "discount rate 2          0.000000  0.000000\n",
      "                               S1   S1_conf\n",
      "A.0_ID flood wave shape -0.000353  0.015225\n",
      "A.1_Bmax                -0.004336  0.010808\n",
      "A.1_Brate               -0.000328  0.001899\n",
      "A.1_pfail                0.076069  0.039667\n",
      "A.2_Bmax                -0.001082  0.002626\n",
      "A.2_Brate               -0.001245  0.001983\n",
      "A.2_pfail                0.026221  0.027100\n",
      "A.3_Bmax                -0.000324  0.002931\n",
      "A.3_Brate               -0.000605  0.000553\n",
      "A.3_pfail                0.025370  0.022823\n",
      "A.4_Bmax                 0.000000  0.000000\n",
      "A.4_Brate                0.000000  0.000000\n",
      "A.4_pfail                0.434225  0.091826\n",
      "A.5_Bmax                 0.000000  0.000000\n",
      "A.5_Brate                0.000000  0.000000\n",
      "A.5_pfail                0.000000  0.000000\n",
      "discount rate 0          0.000000  0.000000\n",
      "discount rate 1          0.000000  0.000000\n",
      "discount rate 2          0.000000  0.000000\n",
      "                                            S2   S2_conf\n",
      "(A.0_ID flood wave shape, A.1_Bmax)   0.006056  0.031210\n",
      "(A.0_ID flood wave shape, A.1_Brate)  0.004136  0.031627\n",
      "(A.0_ID flood wave shape, A.1_pfail)  0.001181  0.033517\n",
      "(A.0_ID flood wave shape, A.2_Bmax)   0.004257  0.031504\n",
      "(A.0_ID flood wave shape, A.2_Brate)  0.004341  0.031494\n",
      "...                                        ...       ...\n",
      "(A.5_pfail, discount rate 1)          0.000000  0.000000\n",
      "(A.5_pfail, discount rate 2)          0.000000  0.000000\n",
      "(discount rate 0, discount rate 1)    0.000000  0.000000\n",
      "(discount rate 0, discount rate 2)    0.000000  0.000000\n",
      "(discount rate 1, discount rate 2)    0.000000  0.000000\n",
      "\n",
      "[171 rows x 2 columns]\n"
     ]
    },
    {
     "name": "stderr",
     "output_type": "stream",
     "text": [
      "C:\\Users\\mmtud\\anaconda3\\envs\\gds\\lib\\site-packages\\SALib\\util\\__init__.py:274: FutureWarning: unique with argument that is not not a Series, Index, ExtensionArray, or np.ndarray is deprecated and will raise in a future version.\n",
      "  names = list(pd.unique(groups))\n"
     ]
    },
    {
     "name": "stdout",
     "output_type": "stream",
     "text": [
      "                               ST   ST_conf\n",
      "A.0_ID flood wave shape  0.013801  0.004164\n",
      "A.1_Bmax                 0.030588  0.025300\n",
      "A.1_Brate                0.000743  0.001007\n",
      "A.1_pfail                0.213128  0.067881\n",
      "A.2_Bmax                 0.007727  0.006340\n",
      "A.2_Brate                0.000518  0.000749\n",
      "A.2_pfail                0.123001  0.044297\n",
      "A.3_Bmax                 0.012388  0.012172\n",
      "A.3_Brate                0.000213  0.000172\n",
      "A.3_pfail                0.171219  0.064939\n",
      "A.4_Bmax                 0.000383  0.000438\n",
      "A.4_Brate                0.000041  0.000053\n",
      "A.4_pfail                0.075092  0.034134\n",
      "A.5_Bmax                 0.000000  0.000000\n",
      "A.5_Brate                0.000000  0.000000\n",
      "A.5_pfail                0.865946  0.136863\n",
      "discount rate 0          0.009302  0.003208\n",
      "discount rate 1          0.006242  0.002493\n",
      "discount rate 2          0.009583  0.003407\n",
      "                               S1   S1_conf\n",
      "A.0_ID flood wave shape -0.005543  0.007891\n",
      "A.1_Bmax                 0.005449  0.010968\n",
      "A.1_Brate                0.000024  0.000851\n",
      "A.1_pfail                0.015650  0.034885\n",
      "A.2_Bmax                 0.004054  0.007119\n",
      "A.2_Brate               -0.001009  0.002001\n",
      "A.2_pfail                0.027011  0.043554\n",
      "A.3_Bmax                 0.004349  0.005678\n",
      "A.3_Brate                0.000214  0.000640\n",
      "A.3_pfail                0.047741  0.033401\n",
      "A.4_Bmax                 0.000865  0.001707\n",
      "A.4_Brate                0.000074  0.000247\n",
      "A.4_pfail                0.015234  0.015754\n",
      "A.5_Bmax                 0.000000  0.000000\n",
      "A.5_Brate                0.000000  0.000000\n",
      "A.5_pfail                0.578544  0.159492\n",
      "discount rate 0         -0.003042  0.005049\n",
      "discount rate 1         -0.000023  0.006854\n",
      "discount rate 2          0.003641  0.004869\n",
      "                                            S2   S2_conf\n",
      "(A.0_ID flood wave shape, A.1_Bmax)   0.016132  0.014567\n",
      "(A.0_ID flood wave shape, A.1_Brate)  0.013248  0.014600\n",
      "(A.0_ID flood wave shape, A.1_pfail)  0.015133  0.011490\n",
      "(A.0_ID flood wave shape, A.2_Bmax)   0.013486  0.014401\n",
      "(A.0_ID flood wave shape, A.2_Brate)  0.013436  0.014514\n",
      "...                                        ...       ...\n",
      "(A.5_pfail, discount rate 1)         -0.092194  0.258865\n",
      "(A.5_pfail, discount rate 2)         -0.098014  0.261751\n",
      "(discount rate 0, discount rate 1)    0.005042  0.010193\n",
      "(discount rate 0, discount rate 2)    0.005209  0.010649\n",
      "(discount rate 1, discount rate 2)    0.000206  0.012401\n",
      "\n",
      "[171 rows x 2 columns]\n"
     ]
    },
    {
     "name": "stderr",
     "output_type": "stream",
     "text": [
      "C:\\Users\\mmtud\\anaconda3\\envs\\gds\\lib\\site-packages\\SALib\\util\\__init__.py:274: FutureWarning: unique with argument that is not not a Series, Index, ExtensionArray, or np.ndarray is deprecated and will raise in a future version.\n",
      "  names = list(pd.unique(groups))\n"
     ]
    },
    {
     "name": "stdout",
     "output_type": "stream",
     "text": [
      "                               ST   ST_conf\n",
      "A.0_ID flood wave shape  0.015317  0.004903\n",
      "A.1_Bmax                 0.031840  0.020182\n",
      "A.1_Brate                0.000780  0.001065\n",
      "A.1_pfail                0.220927  0.062751\n",
      "A.2_Bmax                 0.007602  0.005851\n",
      "A.2_Brate                0.000431  0.000694\n",
      "A.2_pfail                0.127418  0.044498\n",
      "A.3_Bmax                 0.013426  0.013199\n",
      "A.3_Brate                0.000220  0.000208\n",
      "A.3_pfail                0.189513  0.071575\n",
      "A.4_Bmax                 0.000390  0.000410\n",
      "A.4_Brate                0.000045  0.000051\n",
      "A.4_pfail                0.073286  0.027288\n",
      "A.5_Bmax                 0.000000  0.000000\n",
      "A.5_Brate                0.000000  0.000000\n",
      "A.5_pfail                0.834330  0.112486\n",
      "discount rate 0          0.000000  0.000000\n",
      "discount rate 1          0.000000  0.000000\n",
      "discount rate 2          0.000000  0.000000\n",
      "                               S1   S1_conf\n",
      "A.0_ID flood wave shape -0.006770  0.011056\n",
      "A.1_Bmax                 0.007150  0.015554\n",
      "A.1_Brate                0.000110  0.000959\n",
      "A.1_pfail                0.019026  0.039382\n",
      "A.2_Bmax                 0.005676  0.008006\n",
      "A.2_Brate               -0.000802  0.001971\n",
      "A.2_pfail                0.039346  0.051603\n",
      "A.3_Bmax                 0.004052  0.005576\n",
      "A.3_Brate                0.000178  0.000565\n",
      "A.3_pfail                0.045644  0.034563\n",
      "A.4_Bmax                 0.001014  0.001669\n",
      "A.4_Brate                0.000101  0.000276\n",
      "A.4_pfail                0.015351  0.014153\n",
      "A.5_Bmax                 0.000000  0.000000\n",
      "A.5_Brate                0.000000  0.000000\n",
      "A.5_pfail                0.537767  0.160653\n",
      "discount rate 0          0.000000  0.000000\n",
      "discount rate 1          0.000000  0.000000\n",
      "discount rate 2          0.000000  0.000000\n",
      "                                            S2   S2_conf\n",
      "(A.0_ID flood wave shape, A.1_Bmax)   0.019840  0.022308\n",
      "(A.0_ID flood wave shape, A.1_Brate)  0.016335  0.021056\n",
      "(A.0_ID flood wave shape, A.1_pfail)  0.018549  0.020106\n",
      "(A.0_ID flood wave shape, A.2_Bmax)   0.016544  0.021140\n",
      "(A.0_ID flood wave shape, A.2_Brate)  0.016503  0.021082\n",
      "...                                        ...       ...\n",
      "(A.5_pfail, discount rate 1)         -0.062339  0.281396\n",
      "(A.5_pfail, discount rate 2)         -0.062339  0.281396\n",
      "(discount rate 0, discount rate 1)    0.000000  0.000000\n",
      "(discount rate 0, discount rate 2)    0.000000  0.000000\n",
      "(discount rate 1, discount rate 2)    0.000000  0.000000\n",
      "\n",
      "[171 rows x 2 columns]\n"
     ]
    },
    {
     "name": "stderr",
     "output_type": "stream",
     "text": [
      "C:\\Users\\mmtud\\anaconda3\\envs\\gds\\lib\\site-packages\\SALib\\util\\__init__.py:274: FutureWarning: unique with argument that is not not a Series, Index, ExtensionArray, or np.ndarray is deprecated and will raise in a future version.\n",
      "  names = list(pd.unique(groups))\n",
      "C:\\Users\\mmtud\\anaconda3\\envs\\gds\\lib\\site-packages\\SALib\\analyze\\sobol.py:141: RuntimeWarning: invalid value encountered in divide\n",
      "  Y = (Y - Y.mean()) / Y.std()\n"
     ]
    },
    {
     "name": "stdout",
     "output_type": "stream",
     "text": [
      "                         ST  ST_conf\n",
      "A.0_ID flood wave shape NaN      NaN\n",
      "A.1_Bmax                NaN      NaN\n",
      "A.1_Brate               NaN      NaN\n",
      "A.1_pfail               NaN      NaN\n",
      "A.2_Bmax                NaN      NaN\n",
      "A.2_Brate               NaN      NaN\n",
      "A.2_pfail               NaN      NaN\n",
      "A.3_Bmax                NaN      NaN\n",
      "A.3_Brate               NaN      NaN\n",
      "A.3_pfail               NaN      NaN\n",
      "A.4_Bmax                NaN      NaN\n",
      "A.4_Brate               NaN      NaN\n",
      "A.4_pfail               NaN      NaN\n",
      "A.5_Bmax                NaN      NaN\n",
      "A.5_Brate               NaN      NaN\n",
      "A.5_pfail               NaN      NaN\n",
      "discount rate 0         NaN      NaN\n",
      "discount rate 1         NaN      NaN\n",
      "discount rate 2         NaN      NaN\n",
      "                         S1  S1_conf\n",
      "A.0_ID flood wave shape NaN      NaN\n",
      "A.1_Bmax                NaN      NaN\n",
      "A.1_Brate               NaN      NaN\n",
      "A.1_pfail               NaN      NaN\n",
      "A.2_Bmax                NaN      NaN\n",
      "A.2_Brate               NaN      NaN\n",
      "A.2_pfail               NaN      NaN\n",
      "A.3_Bmax                NaN      NaN\n",
      "A.3_Brate               NaN      NaN\n",
      "A.3_pfail               NaN      NaN\n",
      "A.4_Bmax                NaN      NaN\n",
      "A.4_Brate               NaN      NaN\n",
      "A.4_pfail               NaN      NaN\n",
      "A.5_Bmax                NaN      NaN\n",
      "A.5_Brate               NaN      NaN\n",
      "A.5_pfail               NaN      NaN\n",
      "discount rate 0         NaN      NaN\n",
      "discount rate 1         NaN      NaN\n",
      "discount rate 2         NaN      NaN\n",
      "                                      S2  S2_conf\n",
      "(A.0_ID flood wave shape, A.1_Bmax)  NaN      NaN\n",
      "(A.0_ID flood wave shape, A.1_Brate) NaN      NaN\n",
      "(A.0_ID flood wave shape, A.1_pfail) NaN      NaN\n",
      "(A.0_ID flood wave shape, A.2_Bmax)  NaN      NaN\n",
      "(A.0_ID flood wave shape, A.2_Brate) NaN      NaN\n",
      "...                                   ..      ...\n",
      "(A.5_pfail, discount rate 1)         NaN      NaN\n",
      "(A.5_pfail, discount rate 2)         NaN      NaN\n",
      "(discount rate 0, discount rate 1)   NaN      NaN\n",
      "(discount rate 0, discount rate 2)   NaN      NaN\n",
      "(discount rate 1, discount rate 2)   NaN      NaN\n",
      "\n",
      "[171 rows x 2 columns]\n"
     ]
    },
    {
     "name": "stderr",
     "output_type": "stream",
     "text": [
      "C:\\Users\\mmtud\\anaconda3\\envs\\gds\\lib\\site-packages\\SALib\\util\\__init__.py:274: FutureWarning: unique with argument that is not not a Series, Index, ExtensionArray, or np.ndarray is deprecated and will raise in a future version.\n",
      "  names = list(pd.unique(groups))\n",
      "C:\\Users\\mmtud\\anaconda3\\envs\\gds\\lib\\site-packages\\SALib\\analyze\\sobol.py:141: RuntimeWarning: invalid value encountered in divide\n",
      "  Y = (Y - Y.mean()) / Y.std()\n"
     ]
    },
    {
     "name": "stdout",
     "output_type": "stream",
     "text": [
      "                         ST  ST_conf\n",
      "A.0_ID flood wave shape NaN      NaN\n",
      "A.1_Bmax                NaN      NaN\n",
      "A.1_Brate               NaN      NaN\n",
      "A.1_pfail               NaN      NaN\n",
      "A.2_Bmax                NaN      NaN\n",
      "A.2_Brate               NaN      NaN\n",
      "A.2_pfail               NaN      NaN\n",
      "A.3_Bmax                NaN      NaN\n",
      "A.3_Brate               NaN      NaN\n",
      "A.3_pfail               NaN      NaN\n",
      "A.4_Bmax                NaN      NaN\n",
      "A.4_Brate               NaN      NaN\n",
      "A.4_pfail               NaN      NaN\n",
      "A.5_Bmax                NaN      NaN\n",
      "A.5_Brate               NaN      NaN\n",
      "A.5_pfail               NaN      NaN\n",
      "discount rate 0         NaN      NaN\n",
      "discount rate 1         NaN      NaN\n",
      "discount rate 2         NaN      NaN\n",
      "                         S1  S1_conf\n",
      "A.0_ID flood wave shape NaN      NaN\n",
      "A.1_Bmax                NaN      NaN\n",
      "A.1_Brate               NaN      NaN\n",
      "A.1_pfail               NaN      NaN\n",
      "A.2_Bmax                NaN      NaN\n",
      "A.2_Brate               NaN      NaN\n",
      "A.2_pfail               NaN      NaN\n",
      "A.3_Bmax                NaN      NaN\n",
      "A.3_Brate               NaN      NaN\n",
      "A.3_pfail               NaN      NaN\n",
      "A.4_Bmax                NaN      NaN\n",
      "A.4_Brate               NaN      NaN\n",
      "A.4_pfail               NaN      NaN\n",
      "A.5_Bmax                NaN      NaN\n",
      "A.5_Brate               NaN      NaN\n",
      "A.5_pfail               NaN      NaN\n",
      "discount rate 0         NaN      NaN\n",
      "discount rate 1         NaN      NaN\n",
      "discount rate 2         NaN      NaN\n",
      "                                      S2  S2_conf\n",
      "(A.0_ID flood wave shape, A.1_Bmax)  NaN      NaN\n",
      "(A.0_ID flood wave shape, A.1_Brate) NaN      NaN\n",
      "(A.0_ID flood wave shape, A.1_pfail) NaN      NaN\n",
      "(A.0_ID flood wave shape, A.2_Bmax)  NaN      NaN\n",
      "(A.0_ID flood wave shape, A.2_Brate) NaN      NaN\n",
      "...                                   ..      ...\n",
      "(A.5_pfail, discount rate 1)         NaN      NaN\n",
      "(A.5_pfail, discount rate 2)         NaN      NaN\n",
      "(discount rate 0, discount rate 1)   NaN      NaN\n",
      "(discount rate 0, discount rate 2)   NaN      NaN\n",
      "(discount rate 1, discount rate 2)   NaN      NaN\n",
      "\n",
      "[171 rows x 2 columns]\n"
     ]
    }
   ],
   "execution_count": 52
  },
  {
   "metadata": {
    "ExecuteTime": {
     "end_time": "2024-06-03T12:36:24.472860Z",
     "start_time": "2024-06-03T12:36:24.409862Z"
    }
   },
   "cell_type": "code",
   "source": [
    "sobol_results = {}\n",
    "for policy in experiments.policy.unique():\n",
    "    logical = experiments.policy == policy\n",
    "    y = results['reliability'][logical]\n",
    "    indices = analyze(problem, y)\n",
    "    sobol_results[policy] = indices"
   ],
   "id": "5a1369d86daabefe",
   "outputs": [
    {
     "ename": "KeyError",
     "evalue": "'reliability'",
     "output_type": "error",
     "traceback": [
      "\u001B[1;31m---------------------------------------------------------------------------\u001B[0m",
      "\u001B[1;31mKeyError\u001B[0m                                  Traceback (most recent call last)",
      "Cell \u001B[1;32mIn[55], line 4\u001B[0m\n\u001B[0;32m      2\u001B[0m \u001B[38;5;28;01mfor\u001B[39;00m policy \u001B[38;5;129;01min\u001B[39;00m experiments\u001B[38;5;241m.\u001B[39mpolicy\u001B[38;5;241m.\u001B[39munique():\n\u001B[0;32m      3\u001B[0m     logical \u001B[38;5;241m=\u001B[39m experiments\u001B[38;5;241m.\u001B[39mpolicy \u001B[38;5;241m==\u001B[39m policy\n\u001B[1;32m----> 4\u001B[0m     y \u001B[38;5;241m=\u001B[39m \u001B[43mresults\u001B[49m\u001B[43m[\u001B[49m\u001B[38;5;124;43m'\u001B[39;49m\u001B[38;5;124;43mreliability\u001B[39;49m\u001B[38;5;124;43m'\u001B[39;49m\u001B[43m]\u001B[49m[logical]\n\u001B[0;32m      5\u001B[0m     indices \u001B[38;5;241m=\u001B[39m analyze(problem, y)\n\u001B[0;32m      6\u001B[0m     sobol_results[policy] \u001B[38;5;241m=\u001B[39m indices\n",
      "\u001B[1;31mKeyError\u001B[0m: 'reliability'"
     ]
    }
   ],
   "execution_count": 55
  },
  {
   "metadata": {
    "ExecuteTime": {
     "end_time": "2024-06-03T12:34:52.805458Z",
     "start_time": "2024-06-03T12:34:52.743001Z"
    }
   },
   "cell_type": "code",
   "source": "",
   "id": "647c39e25ab488f3",
   "outputs": [
    {
     "ename": "KeyError",
     "evalue": "'ST'",
     "output_type": "error",
     "traceback": [
      "\u001B[1;31m---------------------------------------------------------------------------\u001B[0m",
      "\u001B[1;31mKeyError\u001B[0m                                  Traceback (most recent call last)",
      "Cell \u001B[1;32mIn[53], line 1\u001B[0m\n\u001B[1;32m----> 1\u001B[0m scores_filtered \u001B[38;5;241m=\u001B[39m {k: results[k] \u001B[38;5;28;01mfor\u001B[39;00m k \u001B[38;5;129;01min\u001B[39;00m [\u001B[38;5;124m\"\u001B[39m\u001B[38;5;124mST\u001B[39m\u001B[38;5;124m\"\u001B[39m, \u001B[38;5;124m\"\u001B[39m\u001B[38;5;124mST_conf\u001B[39m\u001B[38;5;124m\"\u001B[39m, \u001B[38;5;124m\"\u001B[39m\u001B[38;5;124mS1\u001B[39m\u001B[38;5;124m\"\u001B[39m, \u001B[38;5;124m\"\u001B[39m\u001B[38;5;124mS1_conf\u001B[39m\u001B[38;5;124m\"\u001B[39m]}\n\u001B[0;32m      2\u001B[0m Si_df \u001B[38;5;241m=\u001B[39m pd\u001B[38;5;241m.\u001B[39mDataFrame(scores_filtered, index\u001B[38;5;241m=\u001B[39mproblem[\u001B[38;5;124m\"\u001B[39m\u001B[38;5;124mnames\u001B[39m\u001B[38;5;124m\"\u001B[39m])\n",
      "Cell \u001B[1;32mIn[53], line 1\u001B[0m, in \u001B[0;36m<dictcomp>\u001B[1;34m(.0)\u001B[0m\n\u001B[1;32m----> 1\u001B[0m scores_filtered \u001B[38;5;241m=\u001B[39m {k: \u001B[43mresults\u001B[49m\u001B[43m[\u001B[49m\u001B[43mk\u001B[49m\u001B[43m]\u001B[49m \u001B[38;5;28;01mfor\u001B[39;00m k \u001B[38;5;129;01min\u001B[39;00m [\u001B[38;5;124m\"\u001B[39m\u001B[38;5;124mST\u001B[39m\u001B[38;5;124m\"\u001B[39m, \u001B[38;5;124m\"\u001B[39m\u001B[38;5;124mST_conf\u001B[39m\u001B[38;5;124m\"\u001B[39m, \u001B[38;5;124m\"\u001B[39m\u001B[38;5;124mS1\u001B[39m\u001B[38;5;124m\"\u001B[39m, \u001B[38;5;124m\"\u001B[39m\u001B[38;5;124mS1_conf\u001B[39m\u001B[38;5;124m\"\u001B[39m]}\n\u001B[0;32m      2\u001B[0m Si_df \u001B[38;5;241m=\u001B[39m pd\u001B[38;5;241m.\u001B[39mDataFrame(scores_filtered, index\u001B[38;5;241m=\u001B[39mproblem[\u001B[38;5;124m\"\u001B[39m\u001B[38;5;124mnames\u001B[39m\u001B[38;5;124m\"\u001B[39m])\n",
      "\u001B[1;31mKeyError\u001B[0m: 'ST'"
     ]
    }
   ],
   "execution_count": 53
  },
  {
   "metadata": {
    "ExecuteTime": {
     "end_time": "2024-06-03T12:35:40.444496Z",
     "start_time": "2024-06-03T12:35:40.413244Z"
    }
   },
   "cell_type": "code",
   "source": "print(scores_filtered)",
   "id": "5190a29f84ad22b5",
   "outputs": [
    {
     "name": "stdout",
     "output_type": "stream",
     "text": [
      "{'ST': array([nan, nan, nan, nan, nan, nan, nan, nan, nan, nan, nan, nan, nan,\n",
      "       nan, nan, nan, nan, nan, nan]), 'ST_conf': array([nan, nan, nan, nan, nan, nan, nan, nan, nan, nan, nan, nan, nan,\n",
      "       nan, nan, nan, nan, nan, nan]), 'S1': array([nan, nan, nan, nan, nan, nan, nan, nan, nan, nan, nan, nan, nan,\n",
      "       nan, nan, nan, nan, nan, nan]), 'S1_conf': array([nan, nan, nan, nan, nan, nan, nan, nan, nan, nan, nan, nan, nan,\n",
      "       nan, nan, nan, nan, nan, nan])}\n"
     ]
    }
   ],
   "execution_count": 54
  },
  {
   "metadata": {
    "ExecuteTime": {
     "end_time": "2024-06-03T12:05:04.899351Z",
     "start_time": "2024-06-03T12:05:04.650141Z"
    }
   },
   "cell_type": "code",
   "source": [
    "df = pd.DataFrame.from_dict(results)\n",
    "display(df)"
   ],
   "id": "5dd0b3e2295bdd7d",
   "outputs": [
    {
     "data": {
      "text/plain": [
       "                                           A.1 Total Costs  \\\n",
       "S1       [-0.002125130779956923, 0.0, 0.0, 0.9573080527...   \n",
       "S1_conf  [0.003610688644735787, 0.0, 0.0, 0.06046390923...   \n",
       "ST       [0.0015550592738450204, 0.0, 0.0, 0.9852828198...   \n",
       "ST_conf  [0.0006096133239021526, 0.0, 0.0, 0.0659200745...   \n",
       "S2       [[nan, 0.0005125664747997983, 0.00051256647479...   \n",
       "S2_conf  [[nan, 0.004529436437517812, 0.004529436437517...   \n",
       "\n",
       "                             A.1_Expected Number of Deaths  \\\n",
       "S1       [-0.0023787091775002295, 0.0, 0.0, 0.997897039...   \n",
       "S1_conf  [0.004496467044253288, 0.0, 0.0, 0.07637813813...   \n",
       "ST       [0.001814719044908368, 0.0, 0.0, 0.99983689774...   \n",
       "ST_conf  [0.0006324107150154205, 0.0, 0.0, 0.0692180869...   \n",
       "S2       [[nan, 0.0007909348557796664, 0.00079093485577...   \n",
       "S2_conf  [[nan, 0.005631202383157964, 0.005631202383157...   \n",
       "\n",
       "                                           A.2 Total Costs  \\\n",
       "S1       [-0.0012195643225137805, 0.0036369296742197192...   \n",
       "S1_conf  [0.0078948704757686, 0.011140941666385837, 0.0...   \n",
       "ST       [0.005098408491698487, 0.02334969434323253, 9....   \n",
       "ST_conf  [0.0017582255808350719, 0.01248551790537973, 0...   \n",
       "S2       [[nan, 0.0004855031719394544, -0.0005471247274...   \n",
       "S2_conf  [[nan, 0.013175593455443384, 0.013560869288637...   \n",
       "\n",
       "                             A.2_Expected Number of Deaths  \\\n",
       "S1       [5.6187414403827506e-05, 0.0030012561359881854...   \n",
       "S1_conf  [0.0075643520501994166, 0.011736744548245063, ...   \n",
       "ST       [0.00492970105642332, 0.025907337052558998, 0....   \n",
       "ST_conf  [0.001487280722898329, 0.012803938956838986, 0...   \n",
       "S2       [[nan, -0.00015618923776800683, -0.00184919966...   \n",
       "S2_conf  [[nan, 0.011510450391506074, 0.011846553167674...   \n",
       "\n",
       "                                           A.3 Total Costs  \\\n",
       "S1       [0.002403448081323714, 0.003950170091335157, -...   \n",
       "S1_conf  [0.0058327561725574585, 0.013573331079406052, ...   \n",
       "ST       [0.00526567124415722, 0.03095052724025968, 0.0...   \n",
       "ST_conf  [0.0015851637048396347, 0.01429524886680732, 0...   \n",
       "S2       [[nan, 0.0014968181604600233, 0.00088961539298...   \n",
       "S2_conf  [[nan, 0.010360891210700019, 0.010325375649058...   \n",
       "\n",
       "                             A.3_Expected Number of Deaths  \\\n",
       "S1       [0.0034618222385297964, 0.0051564685348806745,...   \n",
       "S1_conf  [0.006374728160568194, 0.013530690004111195, 0...   \n",
       "ST       [0.005901999803294875, 0.030001339432205943, 0...   \n",
       "ST_conf  [0.0016661282452825016, 0.01097674680548697, 0...   \n",
       "S2       [[nan, 0.0006521466555948164, -1.0152296273536...   \n",
       "S2_conf  [[nan, 0.011372057173999903, 0.011367826641867...   \n",
       "\n",
       "                                           A.4 Total Costs  \\\n",
       "S1       [-0.00106856407958823, -0.0049565692339674575,...   \n",
       "S1_conf  [0.011545966362571648, 0.011218212281853235, 0...   \n",
       "ST       [0.015245589375301065, 0.03743994676283876, 0....   \n",
       "ST_conf  [0.0033414546458263327, 0.019444826782744628, ...   \n",
       "S2       [[nan, 0.007131881466374562, 0.005172020782608...   \n",
       "S2_conf  [[nan, 0.024718312840773016, 0.024317988161669...   \n",
       "\n",
       "                             A.4_Expected Number of Deaths  \\\n",
       "S1       [-0.0003532163332392836, -0.004335816685487215...   \n",
       "S1_conf  [0.014363175078888755, 0.010646220546232705, 0...   \n",
       "ST       [0.01787307358709154, 0.03551098703667767, 0.0...   \n",
       "ST_conf  [0.003965954511661885, 0.016725725682170588, 0...   \n",
       "S2       [[nan, 0.00605604076348694, 0.0041355702202927...   \n",
       "S2_conf  [[nan, 0.02943827609153807, 0.0297950560985766...   \n",
       "\n",
       "                                           A.5 Total Costs  \\\n",
       "S1       [-0.005543252147102582, 0.005448736535254986, ...   \n",
       "S1_conf  [0.00837560038299756, 0.010407685751030899, 0....   \n",
       "ST       [0.013801008024050923, 0.030587949707398063, 0...   \n",
       "ST_conf  [0.004721082738850072, 0.02444121021472599, 0....   \n",
       "S2       [[nan, 0.016131767094972778, 0.013247815427265...   \n",
       "S2_conf  [[nan, 0.017475293469675742, 0.016895968418411...   \n",
       "\n",
       "                             A.5_Expected Number of Deaths  \\\n",
       "S1       [-0.006770140785447941, 0.007149846768658483, ...   \n",
       "S1_conf  [0.009025691709235974, 0.01475204850085182, 0....   \n",
       "ST       [0.015317273983523987, 0.03183994293172672, 0....   \n",
       "ST_conf  [0.0050833320889727505, 0.02184152208030701, 0...   \n",
       "S2       [[nan, 0.019840397226009453, 0.016334911237016...   \n",
       "S2_conf  [[nan, 0.019601531495147102, 0.018570786520333...   \n",
       "\n",
       "                                           RfR Total Costs  \\\n",
       "S1       [nan, nan, nan, nan, nan, nan, nan, nan, nan, ...   \n",
       "S1_conf  [nan, nan, nan, nan, nan, nan, nan, nan, nan, ...   \n",
       "ST       [nan, nan, nan, nan, nan, nan, nan, nan, nan, ...   \n",
       "ST_conf  [nan, nan, nan, nan, nan, nan, nan, nan, nan, ...   \n",
       "S2       [[nan, nan, nan, nan, nan, nan, nan, nan, nan,...   \n",
       "S2_conf  [[nan, nan, nan, nan, nan, nan, nan, nan, nan,...   \n",
       "\n",
       "                                 Expected Evacuation Costs  \n",
       "S1       [nan, nan, nan, nan, nan, nan, nan, nan, nan, ...  \n",
       "S1_conf  [nan, nan, nan, nan, nan, nan, nan, nan, nan, ...  \n",
       "ST       [nan, nan, nan, nan, nan, nan, nan, nan, nan, ...  \n",
       "ST_conf  [nan, nan, nan, nan, nan, nan, nan, nan, nan, ...  \n",
       "S2       [[nan, nan, nan, nan, nan, nan, nan, nan, nan,...  \n",
       "S2_conf  [[nan, nan, nan, nan, nan, nan, nan, nan, nan,...  "
      ],
      "text/html": [
       "<div>\n",
       "<style scoped>\n",
       "    .dataframe tbody tr th:only-of-type {\n",
       "        vertical-align: middle;\n",
       "    }\n",
       "\n",
       "    .dataframe tbody tr th {\n",
       "        vertical-align: top;\n",
       "    }\n",
       "\n",
       "    .dataframe thead th {\n",
       "        text-align: right;\n",
       "    }\n",
       "</style>\n",
       "<table border=\"1\" class=\"dataframe\">\n",
       "  <thead>\n",
       "    <tr style=\"text-align: right;\">\n",
       "      <th></th>\n",
       "      <th>A.1 Total Costs</th>\n",
       "      <th>A.1_Expected Number of Deaths</th>\n",
       "      <th>A.2 Total Costs</th>\n",
       "      <th>A.2_Expected Number of Deaths</th>\n",
       "      <th>A.3 Total Costs</th>\n",
       "      <th>A.3_Expected Number of Deaths</th>\n",
       "      <th>A.4 Total Costs</th>\n",
       "      <th>A.4_Expected Number of Deaths</th>\n",
       "      <th>A.5 Total Costs</th>\n",
       "      <th>A.5_Expected Number of Deaths</th>\n",
       "      <th>RfR Total Costs</th>\n",
       "      <th>Expected Evacuation Costs</th>\n",
       "    </tr>\n",
       "  </thead>\n",
       "  <tbody>\n",
       "    <tr>\n",
       "      <th>S1</th>\n",
       "      <td>[-0.002125130779956923, 0.0, 0.0, 0.9573080527...</td>\n",
       "      <td>[-0.0023787091775002295, 0.0, 0.0, 0.997897039...</td>\n",
       "      <td>[-0.0012195643225137805, 0.0036369296742197192...</td>\n",
       "      <td>[5.6187414403827506e-05, 0.0030012561359881854...</td>\n",
       "      <td>[0.002403448081323714, 0.003950170091335157, -...</td>\n",
       "      <td>[0.0034618222385297964, 0.0051564685348806745,...</td>\n",
       "      <td>[-0.00106856407958823, -0.0049565692339674575,...</td>\n",
       "      <td>[-0.0003532163332392836, -0.004335816685487215...</td>\n",
       "      <td>[-0.005543252147102582, 0.005448736535254986, ...</td>\n",
       "      <td>[-0.006770140785447941, 0.007149846768658483, ...</td>\n",
       "      <td>[nan, nan, nan, nan, nan, nan, nan, nan, nan, ...</td>\n",
       "      <td>[nan, nan, nan, nan, nan, nan, nan, nan, nan, ...</td>\n",
       "    </tr>\n",
       "    <tr>\n",
       "      <th>S1_conf</th>\n",
       "      <td>[0.003610688644735787, 0.0, 0.0, 0.06046390923...</td>\n",
       "      <td>[0.004496467044253288, 0.0, 0.0, 0.07637813813...</td>\n",
       "      <td>[0.0078948704757686, 0.011140941666385837, 0.0...</td>\n",
       "      <td>[0.0075643520501994166, 0.011736744548245063, ...</td>\n",
       "      <td>[0.0058327561725574585, 0.013573331079406052, ...</td>\n",
       "      <td>[0.006374728160568194, 0.013530690004111195, 0...</td>\n",
       "      <td>[0.011545966362571648, 0.011218212281853235, 0...</td>\n",
       "      <td>[0.014363175078888755, 0.010646220546232705, 0...</td>\n",
       "      <td>[0.00837560038299756, 0.010407685751030899, 0....</td>\n",
       "      <td>[0.009025691709235974, 0.01475204850085182, 0....</td>\n",
       "      <td>[nan, nan, nan, nan, nan, nan, nan, nan, nan, ...</td>\n",
       "      <td>[nan, nan, nan, nan, nan, nan, nan, nan, nan, ...</td>\n",
       "    </tr>\n",
       "    <tr>\n",
       "      <th>ST</th>\n",
       "      <td>[0.0015550592738450204, 0.0, 0.0, 0.9852828198...</td>\n",
       "      <td>[0.001814719044908368, 0.0, 0.0, 0.99983689774...</td>\n",
       "      <td>[0.005098408491698487, 0.02334969434323253, 9....</td>\n",
       "      <td>[0.00492970105642332, 0.025907337052558998, 0....</td>\n",
       "      <td>[0.00526567124415722, 0.03095052724025968, 0.0...</td>\n",
       "      <td>[0.005901999803294875, 0.030001339432205943, 0...</td>\n",
       "      <td>[0.015245589375301065, 0.03743994676283876, 0....</td>\n",
       "      <td>[0.01787307358709154, 0.03551098703667767, 0.0...</td>\n",
       "      <td>[0.013801008024050923, 0.030587949707398063, 0...</td>\n",
       "      <td>[0.015317273983523987, 0.03183994293172672, 0....</td>\n",
       "      <td>[nan, nan, nan, nan, nan, nan, nan, nan, nan, ...</td>\n",
       "      <td>[nan, nan, nan, nan, nan, nan, nan, nan, nan, ...</td>\n",
       "    </tr>\n",
       "    <tr>\n",
       "      <th>ST_conf</th>\n",
       "      <td>[0.0006096133239021526, 0.0, 0.0, 0.0659200745...</td>\n",
       "      <td>[0.0006324107150154205, 0.0, 0.0, 0.0692180869...</td>\n",
       "      <td>[0.0017582255808350719, 0.01248551790537973, 0...</td>\n",
       "      <td>[0.001487280722898329, 0.012803938956838986, 0...</td>\n",
       "      <td>[0.0015851637048396347, 0.01429524886680732, 0...</td>\n",
       "      <td>[0.0016661282452825016, 0.01097674680548697, 0...</td>\n",
       "      <td>[0.0033414546458263327, 0.019444826782744628, ...</td>\n",
       "      <td>[0.003965954511661885, 0.016725725682170588, 0...</td>\n",
       "      <td>[0.004721082738850072, 0.02444121021472599, 0....</td>\n",
       "      <td>[0.0050833320889727505, 0.02184152208030701, 0...</td>\n",
       "      <td>[nan, nan, nan, nan, nan, nan, nan, nan, nan, ...</td>\n",
       "      <td>[nan, nan, nan, nan, nan, nan, nan, nan, nan, ...</td>\n",
       "    </tr>\n",
       "    <tr>\n",
       "      <th>S2</th>\n",
       "      <td>[[nan, 0.0005125664747997983, 0.00051256647479...</td>\n",
       "      <td>[[nan, 0.0007909348557796664, 0.00079093485577...</td>\n",
       "      <td>[[nan, 0.0004855031719394544, -0.0005471247274...</td>\n",
       "      <td>[[nan, -0.00015618923776800683, -0.00184919966...</td>\n",
       "      <td>[[nan, 0.0014968181604600233, 0.00088961539298...</td>\n",
       "      <td>[[nan, 0.0006521466555948164, -1.0152296273536...</td>\n",
       "      <td>[[nan, 0.007131881466374562, 0.005172020782608...</td>\n",
       "      <td>[[nan, 0.00605604076348694, 0.0041355702202927...</td>\n",
       "      <td>[[nan, 0.016131767094972778, 0.013247815427265...</td>\n",
       "      <td>[[nan, 0.019840397226009453, 0.016334911237016...</td>\n",
       "      <td>[[nan, nan, nan, nan, nan, nan, nan, nan, nan,...</td>\n",
       "      <td>[[nan, nan, nan, nan, nan, nan, nan, nan, nan,...</td>\n",
       "    </tr>\n",
       "    <tr>\n",
       "      <th>S2_conf</th>\n",
       "      <td>[[nan, 0.004529436437517812, 0.004529436437517...</td>\n",
       "      <td>[[nan, 0.005631202383157964, 0.005631202383157...</td>\n",
       "      <td>[[nan, 0.013175593455443384, 0.013560869288637...</td>\n",
       "      <td>[[nan, 0.011510450391506074, 0.011846553167674...</td>\n",
       "      <td>[[nan, 0.010360891210700019, 0.010325375649058...</td>\n",
       "      <td>[[nan, 0.011372057173999903, 0.011367826641867...</td>\n",
       "      <td>[[nan, 0.024718312840773016, 0.024317988161669...</td>\n",
       "      <td>[[nan, 0.02943827609153807, 0.0297950560985766...</td>\n",
       "      <td>[[nan, 0.017475293469675742, 0.016895968418411...</td>\n",
       "      <td>[[nan, 0.019601531495147102, 0.018570786520333...</td>\n",
       "      <td>[[nan, nan, nan, nan, nan, nan, nan, nan, nan,...</td>\n",
       "      <td>[[nan, nan, nan, nan, nan, nan, nan, nan, nan,...</td>\n",
       "    </tr>\n",
       "  </tbody>\n",
       "</table>\n",
       "</div>"
      ]
     },
     "metadata": {},
     "output_type": "display_data"
    }
   ],
   "execution_count": 18
  },
  {
   "metadata": {
    "ExecuteTime": {
     "end_time": "2024-06-03T12:06:45.339706Z",
     "start_time": "2024-06-03T12:06:45.324112Z"
    }
   },
   "cell_type": "code",
   "source": [
    "for i in df[\"A.1 Total Costs\"]:\n",
    "    print(i[0])"
   ],
   "id": "49931385ce8c53a8",
   "outputs": [
    {
     "name": "stdout",
     "output_type": "stream",
     "text": [
      "-0.002125130779956923\n",
      "0.003610688644735787\n",
      "0.0015550592738450204\n",
      "0.0006096133239021526\n",
      "[       nan 0.00051257 0.00051257 0.0034736  0.00051257 0.00051257\n",
      " 0.00051257 0.00051257 0.00051257 0.00051257 0.00051257 0.00051257\n",
      " 0.00051257 0.00051257 0.00051257 0.00051257 0.00079428 0.00070661\n",
      " 0.00055488]\n",
      "[       nan 0.00452944 0.00452944 0.00519799 0.00452944 0.00452944\n",
      " 0.00452944 0.00452944 0.00452944 0.00452944 0.00452944 0.00452944\n",
      " 0.00452944 0.00452944 0.00452944 0.00452944 0.0046767  0.00467939\n",
      " 0.00470727]\n"
     ]
    }
   ],
   "execution_count": 22
  },
  {
   "metadata": {},
   "cell_type": "code",
   "outputs": [],
   "execution_count": null,
   "source": "",
   "id": "e1c87ab676f09eda"
  },
  {
   "metadata": {},
   "cell_type": "code",
   "outputs": [],
   "execution_count": null,
   "source": "",
   "id": "3b078538b34c24ff"
  },
  {
   "metadata": {},
   "cell_type": "code",
   "outputs": [],
   "execution_count": null,
   "source": "",
   "id": "f011474d6a5c01a9"
  },
  {
   "metadata": {},
   "cell_type": "code",
   "outputs": [],
   "execution_count": null,
   "source": "",
   "id": "eca1254b75f6edcb"
  }
 ],
 "metadata": {
  "kernelspec": {
   "display_name": "gds",
   "language": "python",
   "name": "gds"
  },
  "language_info": {
   "codemirror_mode": {
    "name": "ipython",
    "version": 2
   },
   "file_extension": ".py",
   "mimetype": "text/x-python",
   "name": "python",
   "nbconvert_exporter": "python",
   "pygments_lexer": "ipython2",
   "version": "2.7.6"
  }
 },
 "nbformat": 4,
 "nbformat_minor": 5
}
