{
 "cells": [
  {
   "metadata": {},
   "cell_type": "markdown",
   "source": "## Import relevant libraries and functions",
   "id": "2e403abdea28bbea"
  },
  {
   "cell_type": "code",
   "id": "initial_id",
   "metadata": {
    "collapsed": true,
    "ExecuteTime": {
     "end_time": "2024-06-02T12:44:33.349818Z",
     "start_time": "2024-06-02T12:44:22.673310Z"
    }
   },
   "source": [
    "import numpy as np\n",
    "import scipy as sp\n",
    "import pandas as pd\n",
    "import matplotlib.pyplot as plt\n",
    "import seaborn as sns\n",
    "import networkx as nx\n",
    "import pickle\n",
    "\n",
    "from ema_workbench import (\n",
    "    Model,\n",
    "    Policy,\n",
    "    ema_logging,\n",
    "    SequentialEvaluator,\n",
    "    MultiprocessingEvaluator, \n",
    "    perform_experiments,\n",
    "    Samplers, \n",
    ")\n",
    "from SALib.analyze import sobol\n",
    "from ema_workbench.em_framework.salib_samplers import get_SALib_problem\n",
    "from ema_workbench.analysis import (feature_scoring, pairs_plotting)\n",
    "\n",
    "from dike_model_function import DikeNetwork  # @UnresolvedImport\n",
    "from problem_formulation import get_model_for_problem_formulation, sum_over, sum_over_time"
   ],
   "outputs": [],
   "execution_count": 1
  },
  {
   "metadata": {},
   "cell_type": "markdown",
   "source": "## Prepare model and parameters",
   "id": "31af932dec7c6fae"
  },
  {
   "metadata": {
    "ExecuteTime": {
     "end_time": "2024-06-02T12:44:34.748808Z",
     "start_time": "2024-06-02T12:44:33.351817Z"
    }
   },
   "cell_type": "code",
   "source": [
    "ema_logging.log_to_stderr(ema_logging.INFO)\n",
    "\n",
    "# choose problem formulation number, between 0-5\n",
    "# each problem formulation has its own list of outcomes\n",
    "dike_model, planning_steps = get_model_for_problem_formulation(2)\n",
    "\n",
    "# enlisting uncertainties, their types (RealParameter/IntegerParameter/CategoricalParameter), lower boundary, and upper boundary\n",
    "import copy\n",
    "\n",
    "for unc in dike_model.uncertainties:\n",
    "    print(repr(unc))\n",
    "\n",
    "uncertainties = copy.deepcopy(dike_model.uncertainties)\n",
    "\n",
    "# enlisting policy levers, their types (RealParameter/IntegerParameter), lower boundary, and upper boundary\n",
    "for policy in dike_model.levers:\n",
    "    print(repr(policy))\n",
    "\n",
    "levers = copy.deepcopy(dike_model.levers)\n",
    "\n",
    "# enlisting outcomes\n",
    "for outcome in dike_model.outcomes:\n",
    "    print(repr(outcome))"
   ],
   "id": "917b159e15f25eb9",
   "outputs": [
    {
     "name": "stdout",
     "output_type": "stream",
     "text": [
      "CategoricalParameter('discount rate 0', [0, 1, 2, 3])\n",
      "CategoricalParameter('discount rate 1', [0, 1, 2, 3])\n",
      "CategoricalParameter('discount rate 2', [0, 1, 2, 3])\n",
      "IntegerParameter('A.0_ID flood wave shape', 0, 132, resolution=None, default=None, variable_name=['A.0_ID flood wave shape'], pff=False)\n",
      "RealParameter('A.1_Bmax', 30, 350, resolution=None, default=None, variable_name=['A.1_Bmax'], pff=False)\n",
      "RealParameter('A.1_pfail', 0, 1, resolution=None, default=None, variable_name=['A.1_pfail'], pff=False)\n",
      "CategoricalParameter('A.1_Brate', [0, 1, 2])\n",
      "RealParameter('A.2_Bmax', 30, 350, resolution=None, default=None, variable_name=['A.2_Bmax'], pff=False)\n",
      "RealParameter('A.2_pfail', 0, 1, resolution=None, default=None, variable_name=['A.2_pfail'], pff=False)\n",
      "CategoricalParameter('A.2_Brate', [0, 1, 2])\n",
      "RealParameter('A.3_Bmax', 30, 350, resolution=None, default=None, variable_name=['A.3_Bmax'], pff=False)\n",
      "RealParameter('A.3_pfail', 0, 1, resolution=None, default=None, variable_name=['A.3_pfail'], pff=False)\n",
      "CategoricalParameter('A.3_Brate', [0, 1, 2])\n",
      "RealParameter('A.4_Bmax', 30, 350, resolution=None, default=None, variable_name=['A.4_Bmax'], pff=False)\n",
      "RealParameter('A.4_pfail', 0, 1, resolution=None, default=None, variable_name=['A.4_pfail'], pff=False)\n",
      "CategoricalParameter('A.4_Brate', [0, 1, 2])\n",
      "RealParameter('A.5_Bmax', 30, 350, resolution=None, default=None, variable_name=['A.5_Bmax'], pff=False)\n",
      "RealParameter('A.5_pfail', 0, 1, resolution=None, default=None, variable_name=['A.5_pfail'], pff=False)\n",
      "CategoricalParameter('A.5_Brate', [0, 1, 2])\n",
      "IntegerParameter('0_RfR 0', 0, 1, resolution=None, default=None, variable_name=['0_RfR 0'], pff=False)\n",
      "IntegerParameter('0_RfR 1', 0, 1, resolution=None, default=None, variable_name=['0_RfR 1'], pff=False)\n",
      "IntegerParameter('0_RfR 2', 0, 1, resolution=None, default=None, variable_name=['0_RfR 2'], pff=False)\n",
      "IntegerParameter('1_RfR 0', 0, 1, resolution=None, default=None, variable_name=['1_RfR 0'], pff=False)\n",
      "IntegerParameter('1_RfR 1', 0, 1, resolution=None, default=None, variable_name=['1_RfR 1'], pff=False)\n",
      "IntegerParameter('1_RfR 2', 0, 1, resolution=None, default=None, variable_name=['1_RfR 2'], pff=False)\n",
      "IntegerParameter('2_RfR 0', 0, 1, resolution=None, default=None, variable_name=['2_RfR 0'], pff=False)\n",
      "IntegerParameter('2_RfR 1', 0, 1, resolution=None, default=None, variable_name=['2_RfR 1'], pff=False)\n",
      "IntegerParameter('2_RfR 2', 0, 1, resolution=None, default=None, variable_name=['2_RfR 2'], pff=False)\n",
      "IntegerParameter('3_RfR 0', 0, 1, resolution=None, default=None, variable_name=['3_RfR 0'], pff=False)\n",
      "IntegerParameter('3_RfR 1', 0, 1, resolution=None, default=None, variable_name=['3_RfR 1'], pff=False)\n",
      "IntegerParameter('3_RfR 2', 0, 1, resolution=None, default=None, variable_name=['3_RfR 2'], pff=False)\n",
      "IntegerParameter('4_RfR 0', 0, 1, resolution=None, default=None, variable_name=['4_RfR 0'], pff=False)\n",
      "IntegerParameter('4_RfR 1', 0, 1, resolution=None, default=None, variable_name=['4_RfR 1'], pff=False)\n",
      "IntegerParameter('4_RfR 2', 0, 1, resolution=None, default=None, variable_name=['4_RfR 2'], pff=False)\n",
      "IntegerParameter('EWS_DaysToThreat', 0, 4, resolution=None, default=None, variable_name=['EWS_DaysToThreat'], pff=False)\n",
      "IntegerParameter('A.1_DikeIncrease 0', 0, 10, resolution=None, default=None, variable_name=['A.1_DikeIncrease 0'], pff=False)\n",
      "IntegerParameter('A.1_DikeIncrease 1', 0, 10, resolution=None, default=None, variable_name=['A.1_DikeIncrease 1'], pff=False)\n",
      "IntegerParameter('A.1_DikeIncrease 2', 0, 10, resolution=None, default=None, variable_name=['A.1_DikeIncrease 2'], pff=False)\n",
      "IntegerParameter('A.2_DikeIncrease 0', 0, 10, resolution=None, default=None, variable_name=['A.2_DikeIncrease 0'], pff=False)\n",
      "IntegerParameter('A.2_DikeIncrease 1', 0, 10, resolution=None, default=None, variable_name=['A.2_DikeIncrease 1'], pff=False)\n",
      "IntegerParameter('A.2_DikeIncrease 2', 0, 10, resolution=None, default=None, variable_name=['A.2_DikeIncrease 2'], pff=False)\n",
      "IntegerParameter('A.3_DikeIncrease 0', 0, 10, resolution=None, default=None, variable_name=['A.3_DikeIncrease 0'], pff=False)\n",
      "IntegerParameter('A.3_DikeIncrease 1', 0, 10, resolution=None, default=None, variable_name=['A.3_DikeIncrease 1'], pff=False)\n",
      "IntegerParameter('A.3_DikeIncrease 2', 0, 10, resolution=None, default=None, variable_name=['A.3_DikeIncrease 2'], pff=False)\n",
      "IntegerParameter('A.4_DikeIncrease 0', 0, 10, resolution=None, default=None, variable_name=['A.4_DikeIncrease 0'], pff=False)\n",
      "IntegerParameter('A.4_DikeIncrease 1', 0, 10, resolution=None, default=None, variable_name=['A.4_DikeIncrease 1'], pff=False)\n",
      "IntegerParameter('A.4_DikeIncrease 2', 0, 10, resolution=None, default=None, variable_name=['A.4_DikeIncrease 2'], pff=False)\n",
      "IntegerParameter('A.5_DikeIncrease 0', 0, 10, resolution=None, default=None, variable_name=['A.5_DikeIncrease 0'], pff=False)\n",
      "IntegerParameter('A.5_DikeIncrease 1', 0, 10, resolution=None, default=None, variable_name=['A.5_DikeIncrease 1'], pff=False)\n",
      "IntegerParameter('A.5_DikeIncrease 2', 0, 10, resolution=None, default=None, variable_name=['A.5_DikeIncrease 2'], pff=False)\n",
      "ScalarOutcome('Expected Annual Damage', variable_name=('A.1_Expected Annual Damage', 'A.2_Expected Annual Damage', 'A.3_Expected Annual Damage', 'A.4_Expected Annual Damage', 'A.5_Expected Annual Damage'), function=<function sum_over at 0x0000029A24182CA0>)\n",
      "ScalarOutcome('Dike Investment Costs', variable_name=('A.1_Dike Investment Costs', 'A.2_Dike Investment Costs', 'A.3_Dike Investment Costs', 'A.4_Dike Investment Costs', 'A.5_Dike Investment Costs'), function=<function sum_over at 0x0000029A24182CA0>)\n",
      "ScalarOutcome('RfR Investment Costs', variable_name=('RfR Total Costs',), function=<function sum_over at 0x0000029A24182CA0>)\n",
      "ScalarOutcome('Evacuation Costs', variable_name=('Expected Evacuation Costs',), function=<function sum_over at 0x0000029A24182CA0>)\n",
      "ScalarOutcome('Expected Number of Deaths', variable_name=('A.1_Expected Number of Deaths', 'A.2_Expected Number of Deaths', 'A.3_Expected Number of Deaths', 'A.4_Expected Number of Deaths', 'A.5_Expected Number of Deaths'), function=<function sum_over at 0x0000029A24182CA0>)\n"
     ]
    }
   ],
   "execution_count": 2
  },
  {
   "metadata": {},
   "cell_type": "markdown",
   "source": "## Define zero policy",
   "id": "5b9e0f39fcedf6f2"
  },
  {
   "metadata": {
    "ExecuteTime": {
     "end_time": "2024-06-02T12:44:34.784540Z",
     "start_time": "2024-06-02T12:44:34.754783Z"
    }
   },
   "cell_type": "code",
   "source": [
    "# defining specific policies\n",
    "\n",
    "def get_do_nothing_dict():\n",
    "    return {l.name: 0 for l in dike_model.levers}\n",
    "\n",
    "zeropolicy = Policy(\"zero policy\",**dict(get_do_nothing_dict()))"
   ],
   "id": "c1743ca6c0aefbdf",
   "outputs": [],
   "execution_count": 3
  },
  {
   "metadata": {},
   "cell_type": "markdown",
   "source": "## Run and save open exploration experiments",
   "id": "24020314f78b0783"
  },
  {
   "metadata": {},
   "cell_type": "code",
   "outputs": [],
   "execution_count": null,
   "source": [
    "n_exp = 1000\n",
    "\n",
    "with MultiprocessingEvaluator(dike_model) as evaluator:\n",
    "    sa_results = evaluator.perform_experiments(scenarios=n_exp, policies=20, uncertainty_sampling=Samplers.SOBOL)\n",
    "\n",
    "experiments, outcomes = sa_results\n",
    "\n",
    "experiments.to_pickle('experiments_SOBOL_1000x20')\n",
    "\n",
    "with open('outcomes_SOBOL_1000x20', 'wb') as f:\n",
    "    pickle.dump(outcomes, f)"
   ],
   "id": "f828888279afc9e3"
  },
  {
   "metadata": {},
   "cell_type": "code",
   "outputs": [],
   "execution_count": null,
   "source": [
    "with open('experiments_SOBOL_1000x20', 'rb') as file:\n",
    "    experiments_SOBOL_OE_SA = pickle.load(file)\n",
    "    \n",
    "with open('outcomes_SOBOL_1000x20', 'rb') as file:\n",
    "    outcomes_SOBOL_OE_SA = pickle.load(file)"
   ],
   "id": "e48440377eca817"
  },
  {
   "metadata": {},
   "cell_type": "markdown",
   "source": "## Analyse open exploration",
   "id": "647e7e2de8eea616"
  },
  {
   "metadata": {},
   "cell_type": "code",
   "outputs": [],
   "execution_count": null,
   "source": [
    "fig, axes = pairs_plotting.pairs_scatter(experiments_SOBOL_OE_SA, outcomes_SOBOL_OE_SA, group_by='policy', legend=False)\n",
    "fig.set_size_inches(12, 12)\n",
    "plt.show()"
   ],
   "id": "60af2489d4823829"
  },
  {
   "metadata": {},
   "cell_type": "markdown",
   "source": "## Feature scoring",
   "id": "acc72bb1471d42d5"
  },
  {
   "metadata": {},
   "cell_type": "code",
   "outputs": [],
   "execution_count": null,
   "source": [
    "fs = feature_scoring.get_feature_scores_all(experiments_SOBOL_OE_SA, outcomes_SOBOL_OE_SA)\n",
    "sns.heatmap(fs, cmap=\"viridis\", annot=True)\n",
    "plt.show()"
   ],
   "id": "331b3477db384692"
  },
  {
   "metadata": {},
   "cell_type": "markdown",
   "source": [
    "## Analyse SOBOL sensitivity\n",
    "\n",
    "Eventueel hier twee runs gaan doen: eentje voor alleen uncertainties met zero policy, en een met reference scenario en dan veel policies"
   ],
   "id": "1758680b6660e35c"
  },
  {
   "metadata": {},
   "cell_type": "code",
   "outputs": [],
   "execution_count": null,
   "source": [
    "problem = get_SALib_problem(uncertainties)\n",
    "\n",
    "Si = sobol.analyze(problem, outcomes['xx'], calc_second_order=True, print_to_console=True)"
   ],
   "id": "57003123fd53769c"
  }
 ],
 "metadata": {
  "kernelspec": {
   "display_name": "Python 3",
   "language": "python",
   "name": "python3"
  },
  "language_info": {
   "codemirror_mode": {
    "name": "ipython",
    "version": 2
   },
   "file_extension": ".py",
   "mimetype": "text/x-python",
   "name": "python",
   "nbconvert_exporter": "python",
   "pygments_lexer": "ipython2",
   "version": "2.7.6"
  }
 },
 "nbformat": 4,
 "nbformat_minor": 5
}
