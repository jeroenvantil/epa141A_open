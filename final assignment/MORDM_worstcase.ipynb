{
 "cells": [
  {
   "metadata": {},
   "cell_type": "markdown",
   "source": "# Import libraries",
   "id": "c852766616d98c1a"
  },
  {
   "cell_type": "code",
   "id": "initial_id",
   "metadata": {
    "collapsed": true,
    "ExecuteTime": {
     "end_time": "2024-06-16T12:54:08.041171Z",
     "start_time": "2024-06-16T12:54:04.951697Z"
    }
   },
   "source": [
    "import pandas as pd\n",
    "import matplotlib.pyplot as plt\n",
    "import seaborn as sns\n",
    "import numpy as np\n",
    "\n",
    "from ema_workbench import (\n",
    "    ema_logging,\n",
    "    perform_experiments,\n",
    "    Scenario,\n",
    "    HypervolumeMetric,\n",
    "    GenerationalDistanceMetric,\n",
    "    EpsilonIndicatorMetric,\n",
    "    InvertedGenerationalDistanceMetric,\n",
    "    SpacingMetric,\n",
    "    Policy,\n",
    "    MultiprocessingEvaluator,\n",
    "    load_results, save_results\n",
    ")\n",
    "\n",
    "\n",
    "from ema_workbench.em_framework.optimization import (ArchiveLogger, EpsilonProgress, to_problem)\n",
    "from ema_workbench.analysis import parcoords\n",
    "from problem_formulation import get_model_for_problem_formulation\n",
    "from MORDM_pyfile import MORDM_function\n"
   ],
   "outputs": [],
   "execution_count": 1
  },
  {
   "metadata": {},
   "cell_type": "markdown",
   "source": "# Define calculation metrics",
   "id": "7a9f475f8ca05400"
  },
  {
   "metadata": {
    "ExecuteTime": {
     "end_time": "2024-06-16T15:34:36.111586Z",
     "start_time": "2024-06-16T15:34:36.105394Z"
    }
   },
   "cell_type": "code",
   "source": [
    "def calculate_metrics(archives, reference_set):\n",
    "    problem = to_problem(dike_model, searchover=\"levers\", reference=worstcase_scenario)\n",
    "\n",
    "    hv = HypervolumeMetric(reference_set, problem)\n",
    "    gd = GenerationalDistanceMetric(reference_set, problem, d=1)\n",
    "    ei = EpsilonIndicatorMetric(reference_set, problem)\n",
    "    ig = InvertedGenerationalDistanceMetric(reference_set, problem, d=1)\n",
    "    sm = SpacingMetric(problem)\n",
    "\n",
    "    metrics = []\n",
    "    for nfe, archive in archives.items():\n",
    "        scores = {\n",
    "            \"generational_distance\": gd.calculate(archive),\n",
    "            \"hypervolume\": hv.calculate(archive),\n",
    "            \"epsilon_indicator\": ei.calculate(archive),\n",
    "            \"inverted_gd\": ig.calculate(archive),\n",
    "            \"spacing\": sm.calculate(archive),\n",
    "            \"nfe\": int(nfe),\n",
    "        }\n",
    "        metrics.append(scores)\n",
    "    metrics = pd.DataFrame.from_dict(metrics)\n",
    "\n",
    "    # sort metrics by number of function evaluations\n",
    "    metrics.sort_values(by=\"nfe\", inplace=True)\n",
    "    return metrics\n",
    "\n",
    "\n",
    "def plot_metrics(metrics, convergence):\n",
    "    sns.set_style(\"white\")\n",
    "    fig, axes = plt.subplots(nrows=6, figsize=(8, 12), sharex=True)\n",
    "\n",
    "    ax1, ax2, ax3, ax4, ax5, ax6 = axes\n",
    "\n",
    "    ax1.plot(metrics.nfe, metrics.hypervolume)\n",
    "    ax1.set_ylabel(\"hypervolume\")\n",
    "\n",
    "    ax2.plot(convergence.nfe, convergence.epsilon_progress)\n",
    "    ax2.set_ylabel(\"$\\epsilon$ progress\")\n",
    "\n",
    "    ax3.plot(metrics.nfe, metrics.generational_distance)\n",
    "    ax3.set_ylabel(\"generational distance\")\n",
    "\n",
    "    ax4.plot(metrics.nfe, metrics.epsilon_indicator)\n",
    "    ax4.set_ylabel(\"epsilon indicator\")\n",
    "\n",
    "    ax5.plot(metrics.nfe, metrics.inverted_gd)\n",
    "    ax5.set_ylabel(\"inverted generational\\ndistance\")\n",
    "\n",
    "    ax6.plot(metrics.nfe, metrics.spacing)\n",
    "    ax6.set_ylabel(\"spacing\")\n",
    "\n",
    "    ax6.set_xlabel(\"nfe\")\n",
    "\n",
    "    sns.despine(fig)"
   ],
   "id": "360edc54488f04ca",
   "outputs": [],
   "execution_count": 21
  },
  {
   "metadata": {},
   "cell_type": "markdown",
   "source": "# Define model and worst-case scenario",
   "id": "b4bc3823e20f729"
  },
  {
   "cell_type": "code",
   "source": [
    "ema_logging.log_to_stderr(ema_logging.INFO)\n",
    "\n",
    "# choose problem formulation number, between 0-5\n",
    "# each problem formulation has its own list of outcomes\n",
    "dike_model, planning_steps = get_model_for_problem_formulation(2)\n",
    "\n",
    "# enlisting uncertainties, their types (RealParameter/IntegerParameter/CategoricalParameter), lower boundary, and upper boundary\n",
    "import copy\n",
    "\n",
    "for unc in dike_model.uncertainties:\n",
    "    print(repr(unc))\n",
    "\n",
    "uncertainties = copy.deepcopy(dike_model.uncertainties)\n",
    "\n",
    "# enlisting policy levers, their types (RealParameter/IntegerParameter), lower boundary, and upper boundary\n",
    "for policy in dike_model.levers:\n",
    "    print(repr(policy))\n",
    "\n",
    "levers = copy.deepcopy(dike_model.levers)\n",
    "\n",
    "# enlisting outcomes\n",
    "for outcome in dike_model.outcomes:\n",
    "    print(repr(outcome))\n",
    "\n",
    "worstcase_scenario = Scenario('Worst Case Scenario', **dict({\n",
    "    'discount rate 0': 1.5,\n",
    "    'discount rate 1': 1.5,\n",
    "    'discount rate 2': 1.5,\n",
    "    'A.0_ID flood wave shape': 4,\n",
    "    'A.1_Bmax': 175,\n",
    "    'A.2_Bmax': 175,\n",
    "    'A.3_Bmax': 175,\n",
    "    'A.4_Bmax': 175,\n",
    "    'A.5_Bmax': 175,\n",
    "    'A.1_pfail': 1,\n",
    "    'A.2_pfail': 1,\n",
    "    'A.3_pfail': 1,\n",
    "    'A.4_pfail': 1,\n",
    "    'A.5_pfail': 1,\n",
    "    'A.1_Brate': 1.5,\n",
    "    'A.2_Brate': 1.5,\n",
    "    'A.3_Brate': 1.5,\n",
    "    'A.4_Brate': 1.5,\n",
    "    'A.5_Brate': 1.5\n",
    "}))"
   ],
   "metadata": {
    "collapsed": false,
    "ExecuteTime": {
     "end_time": "2024-06-16T12:54:08.484342Z",
     "start_time": "2024-06-16T12:54:08.047901Z"
    }
   },
   "id": "b82e1f3c284d8950",
   "outputs": [
    {
     "name": "stdout",
     "output_type": "stream",
     "text": [
      "CategoricalParameter('discount rate 0', [0, 1, 2, 3])\n",
      "CategoricalParameter('discount rate 1', [0, 1, 2, 3])\n",
      "CategoricalParameter('discount rate 2', [0, 1, 2, 3])\n",
      "IntegerParameter('A.0_ID flood wave shape', 0, 132, resolution=None, default=None, variable_name=['A.0_ID flood wave shape'], pff=False)\n",
      "RealParameter('A.1_Bmax', 30, 350, resolution=None, default=None, variable_name=['A.1_Bmax'], pff=False)\n",
      "RealParameter('A.1_pfail', 0, 1, resolution=None, default=None, variable_name=['A.1_pfail'], pff=False)\n",
      "CategoricalParameter('A.1_Brate', [0, 1, 2])\n",
      "RealParameter('A.2_Bmax', 30, 350, resolution=None, default=None, variable_name=['A.2_Bmax'], pff=False)\n",
      "RealParameter('A.2_pfail', 0, 1, resolution=None, default=None, variable_name=['A.2_pfail'], pff=False)\n",
      "CategoricalParameter('A.2_Brate', [0, 1, 2])\n",
      "RealParameter('A.3_Bmax', 30, 350, resolution=None, default=None, variable_name=['A.3_Bmax'], pff=False)\n",
      "RealParameter('A.3_pfail', 0, 1, resolution=None, default=None, variable_name=['A.3_pfail'], pff=False)\n",
      "CategoricalParameter('A.3_Brate', [0, 1, 2])\n",
      "RealParameter('A.4_Bmax', 30, 350, resolution=None, default=None, variable_name=['A.4_Bmax'], pff=False)\n",
      "RealParameter('A.4_pfail', 0, 1, resolution=None, default=None, variable_name=['A.4_pfail'], pff=False)\n",
      "CategoricalParameter('A.4_Brate', [0, 1, 2])\n",
      "RealParameter('A.5_Bmax', 30, 350, resolution=None, default=None, variable_name=['A.5_Bmax'], pff=False)\n",
      "RealParameter('A.5_pfail', 0, 1, resolution=None, default=None, variable_name=['A.5_pfail'], pff=False)\n",
      "CategoricalParameter('A.5_Brate', [0, 1, 2])\n",
      "IntegerParameter('0_RfR 0', 0, 1, resolution=None, default=None, variable_name=['0_RfR 0'], pff=False)\n",
      "IntegerParameter('0_RfR 1', 0, 1, resolution=None, default=None, variable_name=['0_RfR 1'], pff=False)\n",
      "IntegerParameter('0_RfR 2', 0, 1, resolution=None, default=None, variable_name=['0_RfR 2'], pff=False)\n",
      "IntegerParameter('1_RfR 0', 0, 1, resolution=None, default=None, variable_name=['1_RfR 0'], pff=False)\n",
      "IntegerParameter('1_RfR 1', 0, 1, resolution=None, default=None, variable_name=['1_RfR 1'], pff=False)\n",
      "IntegerParameter('1_RfR 2', 0, 1, resolution=None, default=None, variable_name=['1_RfR 2'], pff=False)\n",
      "IntegerParameter('2_RfR 0', 0, 1, resolution=None, default=None, variable_name=['2_RfR 0'], pff=False)\n",
      "IntegerParameter('2_RfR 1', 0, 1, resolution=None, default=None, variable_name=['2_RfR 1'], pff=False)\n",
      "IntegerParameter('2_RfR 2', 0, 1, resolution=None, default=None, variable_name=['2_RfR 2'], pff=False)\n",
      "IntegerParameter('3_RfR 0', 0, 1, resolution=None, default=None, variable_name=['3_RfR 0'], pff=False)\n",
      "IntegerParameter('3_RfR 1', 0, 1, resolution=None, default=None, variable_name=['3_RfR 1'], pff=False)\n",
      "IntegerParameter('3_RfR 2', 0, 1, resolution=None, default=None, variable_name=['3_RfR 2'], pff=False)\n",
      "IntegerParameter('4_RfR 0', 0, 1, resolution=None, default=None, variable_name=['4_RfR 0'], pff=False)\n",
      "IntegerParameter('4_RfR 1', 0, 1, resolution=None, default=None, variable_name=['4_RfR 1'], pff=False)\n",
      "IntegerParameter('4_RfR 2', 0, 1, resolution=None, default=None, variable_name=['4_RfR 2'], pff=False)\n",
      "IntegerParameter('EWS_DaysToThreat', 0, 4, resolution=None, default=None, variable_name=['EWS_DaysToThreat'], pff=False)\n",
      "IntegerParameter('A.1_DikeIncrease 0', 0, 10, resolution=None, default=None, variable_name=['A.1_DikeIncrease 0'], pff=False)\n",
      "IntegerParameter('A.1_DikeIncrease 1', 0, 10, resolution=None, default=None, variable_name=['A.1_DikeIncrease 1'], pff=False)\n",
      "IntegerParameter('A.1_DikeIncrease 2', 0, 10, resolution=None, default=None, variable_name=['A.1_DikeIncrease 2'], pff=False)\n",
      "IntegerParameter('A.2_DikeIncrease 0', 0, 10, resolution=None, default=None, variable_name=['A.2_DikeIncrease 0'], pff=False)\n",
      "IntegerParameter('A.2_DikeIncrease 1', 0, 10, resolution=None, default=None, variable_name=['A.2_DikeIncrease 1'], pff=False)\n",
      "IntegerParameter('A.2_DikeIncrease 2', 0, 10, resolution=None, default=None, variable_name=['A.2_DikeIncrease 2'], pff=False)\n",
      "IntegerParameter('A.3_DikeIncrease 0', 0, 10, resolution=None, default=None, variable_name=['A.3_DikeIncrease 0'], pff=False)\n",
      "IntegerParameter('A.3_DikeIncrease 1', 0, 10, resolution=None, default=None, variable_name=['A.3_DikeIncrease 1'], pff=False)\n",
      "IntegerParameter('A.3_DikeIncrease 2', 0, 10, resolution=None, default=None, variable_name=['A.3_DikeIncrease 2'], pff=False)\n",
      "IntegerParameter('A.4_DikeIncrease 0', 0, 10, resolution=None, default=None, variable_name=['A.4_DikeIncrease 0'], pff=False)\n",
      "IntegerParameter('A.4_DikeIncrease 1', 0, 10, resolution=None, default=None, variable_name=['A.4_DikeIncrease 1'], pff=False)\n",
      "IntegerParameter('A.4_DikeIncrease 2', 0, 10, resolution=None, default=None, variable_name=['A.4_DikeIncrease 2'], pff=False)\n",
      "IntegerParameter('A.5_DikeIncrease 0', 0, 10, resolution=None, default=None, variable_name=['A.5_DikeIncrease 0'], pff=False)\n",
      "IntegerParameter('A.5_DikeIncrease 1', 0, 10, resolution=None, default=None, variable_name=['A.5_DikeIncrease 1'], pff=False)\n",
      "IntegerParameter('A.5_DikeIncrease 2', 0, 10, resolution=None, default=None, variable_name=['A.5_DikeIncrease 2'], pff=False)\n",
      "ScalarOutcome('Expected Annual Damage', variable_name=('A.1_Expected Annual Damage', 'A.2_Expected Annual Damage', 'A.3_Expected Annual Damage', 'A.4_Expected Annual Damage', 'A.5_Expected Annual Damage'), function=<function sum_over at 0x000001ADB35179C0>)\n",
      "ScalarOutcome('Dike Investment Costs', variable_name=('A.1_Dike Investment Costs', 'A.2_Dike Investment Costs', 'A.3_Dike Investment Costs', 'A.4_Dike Investment Costs', 'A.5_Dike Investment Costs'), function=<function sum_over at 0x000001ADB35179C0>)\n",
      "ScalarOutcome('RfR Investment Costs', variable_name=('RfR Total Costs',), function=<function sum_over at 0x000001ADB35179C0>)\n",
      "ScalarOutcome('Evacuation Costs', variable_name=('Expected Evacuation Costs',), function=<function sum_over at 0x000001ADB35179C0>)\n",
      "ScalarOutcome('Expected Number of Deaths', variable_name=('A.1_Expected Number of Deaths', 'A.2_Expected Number of Deaths', 'A.3_Expected Number of Deaths', 'A.4_Expected Number of Deaths', 'A.5_Expected Number of Deaths'), function=<function sum_over at 0x000001ADB35179C0>)\n"
     ]
    }
   ],
   "execution_count": 3
  },
  {
   "metadata": {},
   "cell_type": "markdown",
   "source": "# Define convergence metrics and optimization function for worst case scenario",
   "id": "d1a6bcc550c33f08"
  },
  {
   "metadata": {
    "ExecuteTime": {
     "end_time": "2024-06-16T15:59:30.799542Z",
     "start_time": "2024-06-16T15:59:30.796478Z"
    }
   },
   "cell_type": "code",
   "source": [
    "convergence_metrics = [ArchiveLogger(\n",
    "                        \"./archives\",\n",
    "                        [l.name for l in dike_model.levers],\n",
    "                        [o.name for o in dike_model.outcomes],\n",
    "                        base_filename=\"optimization_worstcase_10000x0001.tar.gz\",\n",
    "                        ),\n",
    "                        EpsilonProgress(),\n",
    "                        ]"
   ],
   "id": "b40e09fe4fec5216",
   "outputs": [],
   "execution_count": 31
  },
  {
   "metadata": {
    "ExecuteTime": {
     "end_time": "2024-06-16T16:19:12.688642Z",
     "start_time": "2024-06-16T15:59:30.988502Z"
    }
   },
   "cell_type": "code",
   "source": [
    "nfe = 20000\n",
    "epsilons = 0.001\n",
    "\n",
    "results, convergence = MORDM_function(dike_model, worstcase_scenario, nfe, epsilons, convergence_metrics)"
   ],
   "id": "1d2ef7710b146dec",
   "outputs": [
    {
     "name": "stderr",
     "output_type": "stream",
     "text": [
      "[MainProcess/INFO] pool started with 16 workers\n",
      "20022it [18:59, 17.57it/s]                                                     \n",
      "[MainProcess/INFO] optimization completed, found 1 solutions\n",
      "[MainProcess/INFO] terminating pool\n"
     ]
    }
   ],
   "execution_count": 32
  },
  {
   "metadata": {},
   "cell_type": "markdown",
   "source": "# Calculate metrics to check convergence",
   "id": "14462dd2f964c2a6"
  },
  {
   "metadata": {
    "ExecuteTime": {
     "end_time": "2024-06-16T16:19:34.906982Z",
     "start_time": "2024-06-16T16:19:34.874960Z"
    }
   },
   "cell_type": "code",
   "source": [
    "archives = ArchiveLogger.load_archives(f\"./archives/optimization_worstcase_10000x0001.tar.gz\")\n",
    "for key in archives:\n",
    "    if 'Unnamed: 0' in archives[key].columns:\n",
    "        archives[key] = archives[key].drop(columns=['Unnamed: 0'])\n",
    "reference_set = archives[max(archives.keys())] # this is the final archive"
   ],
   "id": "9156b9be542a4f91",
   "outputs": [],
   "execution_count": 33
  },
  {
   "metadata": {
    "ExecuteTime": {
     "end_time": "2024-06-16T16:19:35.798698Z",
     "start_time": "2024-06-16T16:19:35.788096Z"
    }
   },
   "cell_type": "code",
   "source": "reference_set",
   "id": "be0721f3b619d634",
   "outputs": [
    {
     "data": {
      "text/plain": [
       "   0_RfR 0  0_RfR 1  0_RfR 2  1_RfR 0  1_RfR 1  1_RfR 2  2_RfR 0  2_RfR 1  \\\n",
       "0        0        0        0        0        0        0        0        0   \n",
       "\n",
       "   2_RfR 2  3_RfR 0  ...  A.4_DikeIncrease 1  A.4_DikeIncrease 2  \\\n",
       "0        0        0  ...                   0                   0   \n",
       "\n",
       "   A.5_DikeIncrease 0  A.5_DikeIncrease 1  A.5_DikeIncrease 2  \\\n",
       "0                   0                   0                   0   \n",
       "\n",
       "   Expected Annual Damage  Dike Investment Costs  RfR Investment Costs  \\\n",
       "0                     0.0                    0.0                   0.0   \n",
       "\n",
       "   Evacuation Costs  Expected Number of Deaths  \n",
       "0               0.0                        0.0  \n",
       "\n",
       "[1 rows x 36 columns]"
      ],
      "text/html": [
       "<div>\n",
       "<style scoped>\n",
       "    .dataframe tbody tr th:only-of-type {\n",
       "        vertical-align: middle;\n",
       "    }\n",
       "\n",
       "    .dataframe tbody tr th {\n",
       "        vertical-align: top;\n",
       "    }\n",
       "\n",
       "    .dataframe thead th {\n",
       "        text-align: right;\n",
       "    }\n",
       "</style>\n",
       "<table border=\"1\" class=\"dataframe\">\n",
       "  <thead>\n",
       "    <tr style=\"text-align: right;\">\n",
       "      <th></th>\n",
       "      <th>0_RfR 0</th>\n",
       "      <th>0_RfR 1</th>\n",
       "      <th>0_RfR 2</th>\n",
       "      <th>1_RfR 0</th>\n",
       "      <th>1_RfR 1</th>\n",
       "      <th>1_RfR 2</th>\n",
       "      <th>2_RfR 0</th>\n",
       "      <th>2_RfR 1</th>\n",
       "      <th>2_RfR 2</th>\n",
       "      <th>3_RfR 0</th>\n",
       "      <th>...</th>\n",
       "      <th>A.4_DikeIncrease 1</th>\n",
       "      <th>A.4_DikeIncrease 2</th>\n",
       "      <th>A.5_DikeIncrease 0</th>\n",
       "      <th>A.5_DikeIncrease 1</th>\n",
       "      <th>A.5_DikeIncrease 2</th>\n",
       "      <th>Expected Annual Damage</th>\n",
       "      <th>Dike Investment Costs</th>\n",
       "      <th>RfR Investment Costs</th>\n",
       "      <th>Evacuation Costs</th>\n",
       "      <th>Expected Number of Deaths</th>\n",
       "    </tr>\n",
       "  </thead>\n",
       "  <tbody>\n",
       "    <tr>\n",
       "      <th>0</th>\n",
       "      <td>0</td>\n",
       "      <td>0</td>\n",
       "      <td>0</td>\n",
       "      <td>0</td>\n",
       "      <td>0</td>\n",
       "      <td>0</td>\n",
       "      <td>0</td>\n",
       "      <td>0</td>\n",
       "      <td>0</td>\n",
       "      <td>0</td>\n",
       "      <td>...</td>\n",
       "      <td>0</td>\n",
       "      <td>0</td>\n",
       "      <td>0</td>\n",
       "      <td>0</td>\n",
       "      <td>0</td>\n",
       "      <td>0.0</td>\n",
       "      <td>0.0</td>\n",
       "      <td>0.0</td>\n",
       "      <td>0.0</td>\n",
       "      <td>0.0</td>\n",
       "    </tr>\n",
       "  </tbody>\n",
       "</table>\n",
       "<p>1 rows × 36 columns</p>\n",
       "</div>"
      ]
     },
     "execution_count": 34,
     "metadata": {},
     "output_type": "execute_result"
    }
   ],
   "execution_count": 34
  },
  {
   "metadata": {
    "ExecuteTime": {
     "end_time": "2024-06-16T16:19:41.472226Z",
     "start_time": "2024-06-16T16:19:41.428645Z"
    }
   },
   "cell_type": "code",
   "source": [
    "metrics = calculate_metrics(archives, reference_set)\n",
    "plot_metrics(metrics, convergence)\n",
    "\n",
    "plt.show()"
   ],
   "id": "d7dca41a5a9ad1b3",
   "outputs": [
    {
     "ename": "PlatypusError",
     "evalue": "objective with empty range",
     "output_type": "error",
     "traceback": [
      "\u001B[1;31m---------------------------------------------------------------------------\u001B[0m",
      "\u001B[1;31mPlatypusError\u001B[0m                             Traceback (most recent call last)",
      "Cell \u001B[1;32mIn[35], line 1\u001B[0m\n\u001B[1;32m----> 1\u001B[0m metrics \u001B[38;5;241m=\u001B[39m \u001B[43mcalculate_metrics\u001B[49m\u001B[43m(\u001B[49m\u001B[43marchives\u001B[49m\u001B[43m,\u001B[49m\u001B[43m \u001B[49m\u001B[43mreference_set\u001B[49m\u001B[43m)\u001B[49m\n\u001B[0;32m      2\u001B[0m plot_metrics(metrics, convergence)\n\u001B[0;32m      4\u001B[0m plt\u001B[38;5;241m.\u001B[39mshow()\n",
      "Cell \u001B[1;32mIn[21], line 4\u001B[0m, in \u001B[0;36mcalculate_metrics\u001B[1;34m(archives, reference_set)\u001B[0m\n\u001B[0;32m      1\u001B[0m \u001B[38;5;28;01mdef\u001B[39;00m \u001B[38;5;21mcalculate_metrics\u001B[39m(archives, reference_set):\n\u001B[0;32m      2\u001B[0m     problem \u001B[38;5;241m=\u001B[39m to_problem(dike_model, searchover\u001B[38;5;241m=\u001B[39m\u001B[38;5;124m\"\u001B[39m\u001B[38;5;124mlevers\u001B[39m\u001B[38;5;124m\"\u001B[39m, reference\u001B[38;5;241m=\u001B[39mworstcase_scenario)\n\u001B[1;32m----> 4\u001B[0m     hv \u001B[38;5;241m=\u001B[39m \u001B[43mHypervolumeMetric\u001B[49m\u001B[43m(\u001B[49m\u001B[43mreference_set\u001B[49m\u001B[43m,\u001B[49m\u001B[43m \u001B[49m\u001B[43mproblem\u001B[49m\u001B[43m)\u001B[49m\n\u001B[0;32m      5\u001B[0m     gd \u001B[38;5;241m=\u001B[39m GenerationalDistanceMetric(reference_set, problem, d\u001B[38;5;241m=\u001B[39m\u001B[38;5;241m1\u001B[39m)\n\u001B[0;32m      6\u001B[0m     ei \u001B[38;5;241m=\u001B[39m EpsilonIndicatorMetric(reference_set, problem)\n",
      "File \u001B[1;32m~\\OneDrive - Delft University of Technology\\Documents\\Python\\Environments\\Model-Based\\Lib\\site-packages\\ema_workbench\\em_framework\\optimization.py:515\u001B[0m, in \u001B[0;36mMetricWrapper.__init__\u001B[1;34m(self, reference_set, problem, **kwargs)\u001B[0m\n\u001B[0;32m    513\u001B[0m \u001B[38;5;28mself\u001B[39m\u001B[38;5;241m.\u001B[39mproblem \u001B[38;5;241m=\u001B[39m problem\n\u001B[0;32m    514\u001B[0m reference_set \u001B[38;5;241m=\u001B[39m rebuild_platypus_population(reference_set, \u001B[38;5;28mself\u001B[39m\u001B[38;5;241m.\u001B[39mproblem)\n\u001B[1;32m--> 515\u001B[0m \u001B[38;5;28;43msuper\u001B[39;49m\u001B[43m(\u001B[49m\u001B[43m)\u001B[49m\u001B[38;5;241;43m.\u001B[39;49m\u001B[38;5;21;43m__init__\u001B[39;49m\u001B[43m(\u001B[49m\u001B[43mreference_set\u001B[49m\u001B[38;5;241;43m=\u001B[39;49m\u001B[43mreference_set\u001B[49m\u001B[43m,\u001B[49m\u001B[43m \u001B[49m\u001B[38;5;241;43m*\u001B[39;49m\u001B[38;5;241;43m*\u001B[39;49m\u001B[43mkwargs\u001B[49m\u001B[43m)\u001B[49m\n",
      "File \u001B[1;32m~\\OneDrive - Delft University of Technology\\Documents\\Python\\Environments\\Model-Based\\Lib\\site-packages\\platypus\\indicators.py:113\u001B[0m, in \u001B[0;36mHypervolume.__init__\u001B[1;34m(self, reference_set, minimum, maximum)\u001B[0m\n\u001B[0;32m    111\u001B[0m         \u001B[38;5;28;01mraise\u001B[39;00m \u001B[38;5;167;01mValueError\u001B[39;00m(\u001B[38;5;124m\"\u001B[39m\u001B[38;5;124mminimum and maximum must not be specified if reference_set is defined\u001B[39m\u001B[38;5;124m\"\u001B[39m)\n\u001B[0;32m    112\u001B[0m     \u001B[38;5;28mself\u001B[39m\u001B[38;5;241m.\u001B[39mreference_set \u001B[38;5;241m=\u001B[39m [s \u001B[38;5;28;01mfor\u001B[39;00m s \u001B[38;5;129;01min\u001B[39;00m reference_set \u001B[38;5;28;01mif\u001B[39;00m s\u001B[38;5;241m.\u001B[39mconstraint_violation\u001B[38;5;241m==\u001B[39m\u001B[38;5;241m0.0\u001B[39m]\n\u001B[1;32m--> 113\u001B[0m     \u001B[38;5;28mself\u001B[39m\u001B[38;5;241m.\u001B[39mminimum, \u001B[38;5;28mself\u001B[39m\u001B[38;5;241m.\u001B[39mmaximum \u001B[38;5;241m=\u001B[39m \u001B[43mnormalize\u001B[49m\u001B[43m(\u001B[49m\u001B[43mreference_set\u001B[49m\u001B[43m)\u001B[49m\n\u001B[0;32m    114\u001B[0m \u001B[38;5;28;01melse\u001B[39;00m:\n\u001B[0;32m    115\u001B[0m     \u001B[38;5;28;01mif\u001B[39;00m minimum \u001B[38;5;129;01mis\u001B[39;00m \u001B[38;5;28;01mNone\u001B[39;00m \u001B[38;5;129;01mor\u001B[39;00m maximum \u001B[38;5;129;01mis\u001B[39;00m \u001B[38;5;28;01mNone\u001B[39;00m:\n",
      "File \u001B[1;32m~\\OneDrive - Delft University of Technology\\Documents\\Python\\Environments\\Model-Based\\Lib\\site-packages\\platypus\\core.py:1242\u001B[0m, in \u001B[0;36mnormalize\u001B[1;34m(solutions, minimum, maximum)\u001B[0m\n\u001B[0;32m   1239\u001B[0m         maximum \u001B[38;5;241m=\u001B[39m [\u001B[38;5;28mmax\u001B[39m([s\u001B[38;5;241m.\u001B[39mobjectives[i] \u001B[38;5;28;01mfor\u001B[39;00m s \u001B[38;5;129;01min\u001B[39;00m feasible]) \u001B[38;5;28;01mfor\u001B[39;00m i \u001B[38;5;129;01min\u001B[39;00m \u001B[38;5;28mrange\u001B[39m(problem\u001B[38;5;241m.\u001B[39mnobjs)]\n\u001B[0;32m   1241\u001B[0m \u001B[38;5;28;01mif\u001B[39;00m \u001B[38;5;28many\u001B[39m([maximum[i]\u001B[38;5;241m-\u001B[39mminimum[i] \u001B[38;5;241m<\u001B[39m EPSILON \u001B[38;5;28;01mfor\u001B[39;00m i \u001B[38;5;129;01min\u001B[39;00m \u001B[38;5;28mrange\u001B[39m(problem\u001B[38;5;241m.\u001B[39mnobjs)]):\n\u001B[1;32m-> 1242\u001B[0m     \u001B[38;5;28;01mraise\u001B[39;00m PlatypusError(\u001B[38;5;124m\"\u001B[39m\u001B[38;5;124mobjective with empty range\u001B[39m\u001B[38;5;124m\"\u001B[39m)\n\u001B[0;32m   1244\u001B[0m \u001B[38;5;28;01mfor\u001B[39;00m s \u001B[38;5;129;01min\u001B[39;00m feasible:\n\u001B[0;32m   1245\u001B[0m     s\u001B[38;5;241m.\u001B[39mnormalized_objectives \u001B[38;5;241m=\u001B[39m [(s\u001B[38;5;241m.\u001B[39mobjectives[i] \u001B[38;5;241m-\u001B[39m minimum[i]) \u001B[38;5;241m/\u001B[39m (maximum[i] \u001B[38;5;241m-\u001B[39m minimum[i]) \u001B[38;5;28;01mfor\u001B[39;00m i \u001B[38;5;129;01min\u001B[39;00m \u001B[38;5;28mrange\u001B[39m(problem\u001B[38;5;241m.\u001B[39mnobjs)]\n",
      "\u001B[1;31mPlatypusError\u001B[0m: objective with empty range"
     ]
    }
   ],
   "execution_count": 35
  },
  {
   "metadata": {},
   "cell_type": "markdown",
   "source": "# Visualise outcomes",
   "id": "15c428dfdea5e24b"
  },
  {
   "metadata": {
    "ExecuteTime": {
     "end_time": "2024-06-16T15:57:14.194461Z",
     "start_time": "2024-06-16T15:57:13.954311Z"
    }
   },
   "cell_type": "code",
   "source": [
    "outcomes = reference_set.loc[:, ['Expected Annual Damage', 'Dike Investment Costs', 'RfR Investment Costs', 'Evacuation Costs', 'Expected Number of Deaths']]\n",
    "\n",
    "limits = parcoords.get_limits(outcomes)\n",
    "axes = parcoords.ParallelAxes(limits)\n",
    "axes.plot(outcomes)\n",
    "\n",
    "# we invert this axis so direction of desirability is the same \n",
    "# axes.invert_axis('Expected Number of Deaths') \n",
    "# plt.show()\n"
   ],
   "id": "86b54a629f251d1f",
   "outputs": [
    {
     "data": {
      "text/plain": [
       "<Figure size 640x480 with 4 Axes>"
      ],
      "image/png": "[encoded data removed]"
     },
     "metadata": {},
     "output_type": "display_data"
    }
   ],
   "execution_count": 30
  },
  {
   "metadata": {
    "ExecuteTime": {
     "end_time": "2024-06-16T13:03:03.359731Z",
     "start_time": "2024-06-16T13:03:03.359731Z"
    }
   },
   "cell_type": "code",
   "source": [
    "# conditional on y\n",
    "all_data = pd.DataFrame({k:v for k,v in outcomes.items()})\n",
    "\n",
    "# let's get the unique indices for the minima and maxima across \n",
    "# all objectives\n",
    "indices = pd.concat([all_data.idxmax(), all_data.idxmin()]).unique()\n",
    "\n",
    "limits = parcoords.get_limits(all_data)\n",
    "axes = parcoords.ParallelAxes(limits)\n",
    "\n",
    "# we set the linewidth lower, and make the lines slightly transparent using alpha\n",
    "# this often helps reveal patterns in the results.\n",
    "axes.plot(all_data, color='lightgrey', lw=0.5, alpha=0.5)\n",
    "axes.plot(all_data.iloc[indices, :], color=sns.color_palette()[0], lw=1)\n",
    "\n",
    "fig = plt.gcf()\n",
    "fig.set_size_inches((8, 4))\n",
    "\n",
    "plt.show()"
   ],
   "id": "52558dd59c14f449",
   "outputs": [],
   "execution_count": null
  },
  {
   "metadata": {},
   "cell_type": "markdown",
   "source": "# Robustness test",
   "id": "3a2e0262449addd2"
  },
  {
   "metadata": {
    "ExecuteTime": {
     "end_time": "2024-06-16T13:03:03.359731Z",
     "start_time": "2024-06-16T13:03:03.359731Z"
    }
   },
   "cell_type": "code",
   "source": [
    "candidate_solutions = reference_set.iloc[indices]\n",
    "candidate_solutions = candidate_solutions.drop([o.name for o in dike_model.outcomes], axis=1)\n",
    "\n",
    "candidate_policies = []\n",
    "\n",
    "for i, policy in candidate_solutions.iterrows():\n",
    "    candidate_policies.append(Policy(str(i), **policy.to_dict()))"
   ],
   "id": "8ab4cd782820748b",
   "outputs": [],
   "execution_count": null
  },
  {
   "metadata": {
    "ExecuteTime": {
     "end_time": "2024-06-16T13:03:03.360728Z",
     "start_time": "2024-06-16T13:03:03.360728Z"
    }
   },
   "cell_type": "code",
   "source": [
    "n_scenarios = 10000\n",
    "with MultiprocessingEvaluator(dike_model) as evaluator:\n",
    "    experiments, results = evaluator.perform_experiments(n_scenarios,\n",
    "                                            candidate_policies)\n",
    "    \n",
    "save_results('robustness_worstcase_10000.tar.gz')"
   ],
   "id": "b325e34a7b6ce32f",
   "outputs": [],
   "execution_count": null
  },
  {
   "metadata": {
    "ExecuteTime": {
     "end_time": "2024-06-16T13:03:03.361725Z",
     "start_time": "2024-06-16T13:03:03.361725Z"
    }
   },
   "cell_type": "code",
   "source": "load_results('robustness_reference_10000.tar.gz')",
   "id": "f4e99f2ee4a35cad",
   "outputs": [],
   "execution_count": null
  },
  {
   "metadata": {
    "ExecuteTime": {
     "end_time": "2024-06-16T13:03:03.362724Z",
     "start_time": "2024-06-16T13:03:03.362724Z"
    }
   },
   "cell_type": "code",
   "source": [
    "def s_to_n(data, direction):\n",
    "    mean = np.mean(data)\n",
    "    std = np.std(data)\n",
    "    \n",
    "    if direction==ScalarOutcome.MAXIMIZE:\n",
    "        return mean/std\n",
    "    else:\n",
    "        return mean*std"
   ],
   "id": "b1a588ccabd76c90",
   "outputs": [],
   "execution_count": null
  },
  {
   "metadata": {
    "ExecuteTime": {
     "end_time": "2024-06-16T13:03:03.362724Z",
     "start_time": "2024-06-16T13:03:03.362724Z"
    }
   },
   "cell_type": "code",
   "source": [
    "experiments, outcomes = results\n",
    "\n",
    "overall_scores = {}\n",
    "for policy in np.unique(experiments['policy']):\n",
    "    scores = {}\n",
    "    \n",
    "    logical = experiments['policy']==policy\n",
    "    \n",
    "    for outcome in model.outcomes:\n",
    "        value  = outcomes[outcome.name][logical]\n",
    "        sn_ratio = s_to_n(value, outcome.kind)\n",
    "        scores[outcome.name] = sn_ratio\n",
    "    overall_scores[policy] = scores\n",
    "scores = pd.DataFrame.from_dict(overall_scores).T\n",
    "scores"
   ],
   "id": "ce0143b6436652c7",
   "outputs": [],
   "execution_count": null
  },
  {
   "metadata": {
    "ExecuteTime": {
     "end_time": "2024-06-16T13:03:03.363721Z",
     "start_time": "2024-06-16T13:03:03.363721Z"
    }
   },
   "cell_type": "code",
   "source": [
    "data = scores\n",
    "limits = parcoords.get_limits(data)\n",
    "limits.loc[0, ['utility', 'inertia', 'reliability', 'max_P']] = 0\n",
    "\n",
    "paraxes = parcoords.ParallelAxes(limits)\n",
    "paraxes.plot(data)\n",
    "paraxes.invert_axis('max_P')\n",
    "plt.show()"
   ],
   "id": "ae91fbde2df34799",
   "outputs": [],
   "execution_count": null
  },
  {
   "metadata": {
    "ExecuteTime": {
     "end_time": "2024-06-16T13:03:03.364718Z",
     "start_time": "2024-06-16T13:03:03.364718Z"
    }
   },
   "cell_type": "code",
   "source": [
    "experiments, outcomes = results\n",
    "\n",
    "overall_regret = {}\n",
    "max_regret = {}\n",
    "for outcome in model.outcomes:\n",
    "    policy_column = experiments['policy']\n",
    "    \n",
    "    # create a DataFrame with all the relevent information\n",
    "    # i.e., policy, scenario_id, and scores\n",
    "    data = pd.DataFrame({outcome.name: outcomes[outcome.name], \n",
    "                         \"policy\":experiments['policy'],\n",
    "                         \"scenario\":experiments['scenario']})\n",
    "    \n",
    "    # reorient the data by indexing with policy and scenario id\n",
    "    data = data.pivot(index='scenario', columns='policy')\n",
    "    \n",
    "    # flatten the resulting hierarchical index resulting from \n",
    "    # pivoting, (might be a nicer solution possible)\n",
    "    data.columns = data.columns.get_level_values(1)\n",
    "    \n",
    "    # we need to control the broadcasting. \n",
    "    # max returns a 1d vector across scenario id. By passing\n",
    "    # np.newaxis we ensure that the shape is the same as the data\n",
    "    # next we take the absolute value\n",
    "    #\n",
    "    # basically we take the difference of the maximum across \n",
    "    # the row and the actual values in the row\n",
    "    #\n",
    "    outcome_regret = (data.max(axis=1).values[:, np.newaxis] - data).abs()\n",
    "    \n",
    "    overall_regret[outcome.name] = outcome_regret\n",
    "    max_regret[outcome.name] = outcome_regret.max()\n",
    "    \n",
    "max_regret = pd.DataFrame(max_regret)\n",
    "sns.heatmap(max_regret/max_regret.max(), cmap='viridis', annot=True)\n",
    "plt.show()"
   ],
   "id": "f97dc38f8df14f6f",
   "outputs": [],
   "execution_count": null
  }
 ],
 "metadata": {
  "kernelspec": {
   "display_name": "Python 3",
   "language": "python",
   "name": "python3"
  },
  "language_info": {
   "codemirror_mode": {
    "name": "ipython",
    "version": 2
   },
   "file_extension": ".py",
   "mimetype": "text/x-python",
   "name": "python",
   "nbconvert_exporter": "python",
   "pygments_lexer": "ipython2",
   "version": "2.7.6"
  }
 },
 "nbformat": 4,
 "nbformat_minor": 5
}
