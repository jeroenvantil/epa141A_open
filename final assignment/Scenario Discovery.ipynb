{
 "cells": [
  {
   "metadata": {},
   "cell_type": "markdown",
   "source": "## Import relevant libraries and functions",
   "id": "51f73e21125f4f40"
  },
  {
   "cell_type": "code",
   "id": "initial_id",
   "metadata": {
    "collapsed": true,
    "ExecuteTime": {
     "end_time": "2024-06-03T13:32:58.459472Z",
     "start_time": "2024-06-03T13:32:58.451241Z"
    }
   },
   "source": [
    "import numpy as np\n",
    "import scipy as sp\n",
    "import pandas as pd\n",
    "import matplotlib.pyplot as plt\n",
    "import seaborn as sns\n",
    "import networkx as nx\n",
    "import pickle\n",
    "\n",
    "from ema_workbench import (\n",
    "    Model,\n",
    "    Policy,\n",
    "    ema_logging,\n",
    "    SequentialEvaluator,\n",
    "    MultiprocessingEvaluator, \n",
    "    perform_experiments,\n",
    "    Samplers, Constant,\n",
    "    RealParameter, Scenario\n",
    ")\n",
    "from SALib.analyze import sobol\n",
    "from ema_workbench.em_framework.salib_samplers import get_SALib_problem\n",
    "from ema_workbench.analysis import (feature_scoring, pairs_plotting)\n",
    "\n",
    "from dike_model_function import DikeNetwork  # @UnresolvedImport\n",
    "from problem_formulation import get_model_for_problem_formulation, sum_over, sum_over_time"
   ],
   "outputs": [],
   "execution_count": 7
  },
  {
   "metadata": {},
   "cell_type": "markdown",
   "source": "## Prepare model and parameters",
   "id": "5153106599ec8bb6"
  },
  {
   "metadata": {
    "ExecuteTime": {
     "end_time": "2024-06-03T13:32:59.565838Z",
     "start_time": "2024-06-03T13:32:58.505062Z"
    }
   },
   "cell_type": "code",
   "source": [
    "ema_logging.log_to_stderr(ema_logging.INFO)\n",
    "\n",
    "# choose problem formulation number, between 0-5\n",
    "# each problem formulation has its own list of outcomes\n",
    "dike_model, planning_steps = get_model_for_problem_formulation(2)\n",
    "\n",
    "# enlisting uncertainties, their types (RealParameter/IntegerParameter/CategoricalParameter), lower boundary, and upper boundary\n",
    "import copy\n",
    "\n",
    "for unc in dike_model.uncertainties:\n",
    "    print(repr(unc))\n",
    "\n",
    "uncertainties = copy.deepcopy(dike_model.uncertainties)\n",
    "\n",
    "# enlisting policy levers, their types (RealParameter/IntegerParameter), lower boundary, and upper boundary\n",
    "for policy in dike_model.levers:\n",
    "    print(repr(policy))\n",
    "\n",
    "levers = copy.deepcopy(dike_model.levers)\n",
    "\n",
    "# enlisting outcomes\n",
    "for outcome in dike_model.outcomes:\n",
    "    print(repr(outcome))"
   ],
   "id": "5a32bd12153e2f7",
   "outputs": [
    {
     "name": "stdout",
     "output_type": "stream",
     "text": [
      "CategoricalParameter('discount rate 0', [0, 1, 2, 3])\n",
      "CategoricalParameter('discount rate 1', [0, 1, 2, 3])\n",
      "CategoricalParameter('discount rate 2', [0, 1, 2, 3])\n",
      "IntegerParameter('A.0_ID flood wave shape', 0, 132, resolution=None, default=None, variable_name=['A.0_ID flood wave shape'], pff=False)\n",
      "RealParameter('A.1_Bmax', 30, 350, resolution=None, default=None, variable_name=['A.1_Bmax'], pff=False)\n",
      "RealParameter('A.1_pfail', 0, 1, resolution=None, default=None, variable_name=['A.1_pfail'], pff=False)\n",
      "CategoricalParameter('A.1_Brate', [0, 1, 2])\n",
      "RealParameter('A.2_Bmax', 30, 350, resolution=None, default=None, variable_name=['A.2_Bmax'], pff=False)\n",
      "RealParameter('A.2_pfail', 0, 1, resolution=None, default=None, variable_name=['A.2_pfail'], pff=False)\n",
      "CategoricalParameter('A.2_Brate', [0, 1, 2])\n",
      "RealParameter('A.3_Bmax', 30, 350, resolution=None, default=None, variable_name=['A.3_Bmax'], pff=False)\n",
      "RealParameter('A.3_pfail', 0, 1, resolution=None, default=None, variable_name=['A.3_pfail'], pff=False)\n",
      "CategoricalParameter('A.3_Brate', [0, 1, 2])\n",
      "RealParameter('A.4_Bmax', 30, 350, resolution=None, default=None, variable_name=['A.4_Bmax'], pff=False)\n",
      "RealParameter('A.4_pfail', 0, 1, resolution=None, default=None, variable_name=['A.4_pfail'], pff=False)\n",
      "CategoricalParameter('A.4_Brate', [0, 1, 2])\n",
      "RealParameter('A.5_Bmax', 30, 350, resolution=None, default=None, variable_name=['A.5_Bmax'], pff=False)\n",
      "RealParameter('A.5_pfail', 0, 1, resolution=None, default=None, variable_name=['A.5_pfail'], pff=False)\n",
      "CategoricalParameter('A.5_Brate', [0, 1, 2])\n",
      "IntegerParameter('0_RfR 0', 0, 1, resolution=None, default=None, variable_name=['0_RfR 0'], pff=False)\n",
      "IntegerParameter('0_RfR 1', 0, 1, resolution=None, default=None, variable_name=['0_RfR 1'], pff=False)\n",
      "IntegerParameter('0_RfR 2', 0, 1, resolution=None, default=None, variable_name=['0_RfR 2'], pff=False)\n",
      "IntegerParameter('1_RfR 0', 0, 1, resolution=None, default=None, variable_name=['1_RfR 0'], pff=False)\n",
      "IntegerParameter('1_RfR 1', 0, 1, resolution=None, default=None, variable_name=['1_RfR 1'], pff=False)\n",
      "IntegerParameter('1_RfR 2', 0, 1, resolution=None, default=None, variable_name=['1_RfR 2'], pff=False)\n",
      "IntegerParameter('2_RfR 0', 0, 1, resolution=None, default=None, variable_name=['2_RfR 0'], pff=False)\n",
      "IntegerParameter('2_RfR 1', 0, 1, resolution=None, default=None, variable_name=['2_RfR 1'], pff=False)\n",
      "IntegerParameter('2_RfR 2', 0, 1, resolution=None, default=None, variable_name=['2_RfR 2'], pff=False)\n",
      "IntegerParameter('3_RfR 0', 0, 1, resolution=None, default=None, variable_name=['3_RfR 0'], pff=False)\n",
      "IntegerParameter('3_RfR 1', 0, 1, resolution=None, default=None, variable_name=['3_RfR 1'], pff=False)\n",
      "IntegerParameter('3_RfR 2', 0, 1, resolution=None, default=None, variable_name=['3_RfR 2'], pff=False)\n",
      "IntegerParameter('4_RfR 0', 0, 1, resolution=None, default=None, variable_name=['4_RfR 0'], pff=False)\n",
      "IntegerParameter('4_RfR 1', 0, 1, resolution=None, default=None, variable_name=['4_RfR 1'], pff=False)\n",
      "IntegerParameter('4_RfR 2', 0, 1, resolution=None, default=None, variable_name=['4_RfR 2'], pff=False)\n",
      "IntegerParameter('EWS_DaysToThreat', 0, 4, resolution=None, default=None, variable_name=['EWS_DaysToThreat'], pff=False)\n",
      "IntegerParameter('A.1_DikeIncrease 0', 0, 10, resolution=None, default=None, variable_name=['A.1_DikeIncrease 0'], pff=False)\n",
      "IntegerParameter('A.1_DikeIncrease 1', 0, 10, resolution=None, default=None, variable_name=['A.1_DikeIncrease 1'], pff=False)\n",
      "IntegerParameter('A.1_DikeIncrease 2', 0, 10, resolution=None, default=None, variable_name=['A.1_DikeIncrease 2'], pff=False)\n",
      "IntegerParameter('A.2_DikeIncrease 0', 0, 10, resolution=None, default=None, variable_name=['A.2_DikeIncrease 0'], pff=False)\n",
      "IntegerParameter('A.2_DikeIncrease 1', 0, 10, resolution=None, default=None, variable_name=['A.2_DikeIncrease 1'], pff=False)\n",
      "IntegerParameter('A.2_DikeIncrease 2', 0, 10, resolution=None, default=None, variable_name=['A.2_DikeIncrease 2'], pff=False)\n",
      "IntegerParameter('A.3_DikeIncrease 0', 0, 10, resolution=None, default=None, variable_name=['A.3_DikeIncrease 0'], pff=False)\n",
      "IntegerParameter('A.3_DikeIncrease 1', 0, 10, resolution=None, default=None, variable_name=['A.3_DikeIncrease 1'], pff=False)\n",
      "IntegerParameter('A.3_DikeIncrease 2', 0, 10, resolution=None, default=None, variable_name=['A.3_DikeIncrease 2'], pff=False)\n",
      "IntegerParameter('A.4_DikeIncrease 0', 0, 10, resolution=None, default=None, variable_name=['A.4_DikeIncrease 0'], pff=False)\n",
      "IntegerParameter('A.4_DikeIncrease 1', 0, 10, resolution=None, default=None, variable_name=['A.4_DikeIncrease 1'], pff=False)\n",
      "IntegerParameter('A.4_DikeIncrease 2', 0, 10, resolution=None, default=None, variable_name=['A.4_DikeIncrease 2'], pff=False)\n",
      "IntegerParameter('A.5_DikeIncrease 0', 0, 10, resolution=None, default=None, variable_name=['A.5_DikeIncrease 0'], pff=False)\n",
      "IntegerParameter('A.5_DikeIncrease 1', 0, 10, resolution=None, default=None, variable_name=['A.5_DikeIncrease 1'], pff=False)\n",
      "IntegerParameter('A.5_DikeIncrease 2', 0, 10, resolution=None, default=None, variable_name=['A.5_DikeIncrease 2'], pff=False)\n",
      "ScalarOutcome('Expected Annual Damage', variable_name=('A.1_Expected Annual Damage', 'A.2_Expected Annual Damage', 'A.3_Expected Annual Damage', 'A.4_Expected Annual Damage', 'A.5_Expected Annual Damage'), function=<function sum_over at 0x0000029728E2E700>)\n",
      "ScalarOutcome('Dike Investment Costs', variable_name=('A.1_Dike Investment Costs', 'A.2_Dike Investment Costs', 'A.3_Dike Investment Costs', 'A.4_Dike Investment Costs', 'A.5_Dike Investment Costs'), function=<function sum_over at 0x0000029728E2E700>)\n",
      "ScalarOutcome('RfR Investment Costs', variable_name=('RfR Total Costs',), function=<function sum_over at 0x0000029728E2E700>)\n",
      "ScalarOutcome('Evacuation Costs', variable_name=('Expected Evacuation Costs',), function=<function sum_over at 0x0000029728E2E700>)\n",
      "ScalarOutcome('Expected Number of Deaths', variable_name=('A.1_Expected Number of Deaths', 'A.2_Expected Number of Deaths', 'A.3_Expected Number of Deaths', 'A.4_Expected Number of Deaths', 'A.5_Expected Number of Deaths'), function=<function sum_over at 0x0000029728E2E700>)\n"
     ]
    }
   ],
   "execution_count": 8
  },
  {
   "metadata": {
    "ExecuteTime": {
     "end_time": "2024-06-03T13:32:59.581425Z",
     "start_time": "2024-06-03T13:32:59.571291Z"
    }
   },
   "cell_type": "code",
   "source": [
    "# defining specific policies\n",
    "\n",
    "def get_do_nothing_dict():\n",
    "    return {l.name: 0 for l in dike_model.levers}\n",
    "\n",
    "zeropolicy = Policy(\"zero policy\",**dict(get_do_nothing_dict()))"
   ],
   "id": "742c9eef2beac382",
   "outputs": [],
   "execution_count": 9
  },
  {
   "metadata": {},
   "cell_type": "markdown",
   "source": "## Open experiments",
   "id": "dad2eba67b58fc4c"
  },
  {
   "metadata": {
    "ExecuteTime": {
     "end_time": "2024-06-03T13:33:01.435067Z",
     "start_time": "2024-06-03T13:32:59.583446Z"
    }
   },
   "cell_type": "code",
   "source": [
    "with open('experiments_SOBOL_1000x30', 'rb') as file:\n",
    "    experiments_SOBOL_OE_SA = pickle.load(file)\n",
    "    \n",
    "with open('outcomes_SOBOL_1000x30', 'rb') as file:\n",
    "    outcomes_SOBOL_OE_SA = pickle.load(file)"
   ],
   "id": "faf4fb236529ec50",
   "outputs": [],
   "execution_count": 10
  },
  {
   "metadata": {},
   "cell_type": "markdown",
   "source": "## Scenario Discovery",
   "id": "471d16fc705be17"
  },
  {
   "metadata": {
    "ExecuteTime": {
     "end_time": "2024-06-03T13:33:01.459382Z",
     "start_time": "2024-06-03T13:33:01.439511Z"
    }
   },
   "cell_type": "code",
   "source": "outcomes_SOBOL_OE_SA",
   "id": "21bab8ee19f71e6",
   "outputs": [
    {
     "data": {
      "text/plain": [
       "{'Expected Annual Damage': array([0., 0., 0., ..., 0., 0., 0.]),\n",
       " 'Dike Investment Costs': array([6.72353782e+08, 6.72353782e+08, 6.72353782e+08, ...,\n",
       "        6.50368937e+08, 6.50368937e+08, 6.50368937e+08]),\n",
       " 'RfR Investment Costs': array([1.3379e+09, 1.3379e+09, 1.3379e+09, ..., 1.2245e+09, 1.2245e+09,\n",
       "        1.2245e+09]),\n",
       " 'Evacuation Costs': array([0., 0., 0., ..., 0., 0., 0.]),\n",
       " 'Expected Number of Deaths': array([0., 0., 0., ..., 0., 0., 0.])}"
      ]
     },
     "execution_count": 11,
     "metadata": {},
     "output_type": "execute_result"
    }
   ],
   "execution_count": 11
  },
  {
   "metadata": {
    "ExecuteTime": {
     "end_time": "2024-06-03T13:44:29.757285Z",
     "start_time": "2024-06-03T13:33:01.464636Z"
    }
   },
   "cell_type": "code",
   "source": [
    "problem = get_SALib_problem(uncertainties)\n",
    "results = {}\n",
    "for i in outcomes_SOBOL_OE_SA:\n",
    "    print(i)\n",
    "    Si = sobol.analyze(problem, outcomes_SOBOL_OE_SA[i], calc_second_order=True, print_to_console=True)\n",
    "    results[i] = Si\n"
   ],
   "id": "73f6c99620971aae",
   "outputs": [
    {
     "name": "stdout",
     "output_type": "stream",
     "text": [
      "Expected Annual Damage\n"
     ]
    },
    {
     "name": "stderr",
     "output_type": "stream",
     "text": [
      "C:\\Users\\Asus\\Documents\\Python venvs\\MBDMv2\\Lib\\site-packages\\SALib\\util\\__init__.py:274: FutureWarning: unique with argument that is not not a Series, Index, ExtensionArray, or np.ndarray is deprecated and will raise in a future version.\n",
      "  names = list(pd.unique(groups))\n"
     ]
    },
    {
     "name": "stdout",
     "output_type": "stream",
     "text": [
      "                                   ST       ST_conf\n",
      "A.0_ID flood wave shape  6.344984e-03  7.191533e-04\n",
      "A.1_Bmax                 2.727820e-04  2.311709e-04\n",
      "A.1_Brate                3.558831e-06  6.148996e-06\n",
      "A.1_pfail                3.336354e-01  2.481481e-02\n",
      "A.2_Bmax                 5.896626e-05  4.944574e-05\n",
      "A.2_Brate                1.639663e-06  1.048402e-06\n",
      "A.2_pfail                1.761456e-01  1.343678e-02\n",
      "A.3_Bmax                 7.950504e-06  5.665754e-06\n",
      "A.3_Brate                7.744179e-07  5.580692e-07\n",
      "A.3_pfail                3.139702e-01  2.125417e-02\n",
      "A.4_Bmax                 2.561704e-05  1.641731e-05\n",
      "A.4_Brate                1.335162e-06  6.856500e-07\n",
      "A.4_pfail                2.472599e-03  2.947073e-04\n",
      "A.5_Bmax                 0.000000e+00  0.000000e+00\n",
      "A.5_Brate                0.000000e+00  0.000000e+00\n",
      "A.5_pfail                5.926904e-02  6.492389e-03\n",
      "discount rate 0          3.753215e-02  3.273655e-03\n",
      "discount rate 1          8.521419e-03  1.301815e-03\n",
      "discount rate 2          5.842216e-04  1.933079e-04\n",
      "                               S1   S1_conf\n",
      "A.0_ID flood wave shape  0.001161  0.001619\n",
      "A.1_Bmax                -0.000042  0.000088\n",
      "A.1_Brate                0.000014  0.000013\n",
      "A.1_pfail                0.326208  0.044755\n",
      "A.2_Bmax                -0.000154  0.000202\n",
      "A.2_Brate                0.000050  0.000069\n",
      "A.2_pfail                0.168530  0.018836\n",
      "A.3_Bmax                 0.000015  0.000052\n",
      "A.3_Brate                0.000005  0.000010\n",
      "A.3_pfail                0.291700  0.028509\n",
      "A.4_Bmax                 0.000034  0.000063\n",
      "A.4_Brate               -0.000004  0.000014\n",
      "A.4_pfail                0.001528  0.000757\n",
      "A.5_Bmax                 0.000000  0.000000\n",
      "A.5_Brate                0.000000  0.000000\n",
      "A.5_pfail                0.052256  0.007651\n",
      "discount rate 0          0.005941  0.003721\n",
      "discount rate 1          0.003121  0.002307\n",
      "discount rate 2          0.000065  0.000698\n",
      "                                            S2   S2_conf\n",
      "(A.0_ID flood wave shape, A.1_Bmax)   0.002923  0.002848\n",
      "(A.0_ID flood wave shape, A.1_Brate)  0.002924  0.002849\n",
      "(A.0_ID flood wave shape, A.1_pfail)  0.003519  0.003069\n",
      "(A.0_ID flood wave shape, A.2_Bmax)   0.002922  0.002850\n",
      "(A.0_ID flood wave shape, A.2_Brate)  0.002925  0.002849\n",
      "...                                        ...       ...\n",
      "(A.5_pfail, discount rate 1)          0.004315  0.010140\n",
      "(A.5_pfail, discount rate 2)          0.004740  0.010485\n",
      "(discount rate 0, discount rate 1)    0.005614  0.007414\n",
      "(discount rate 0, discount rate 2)    0.006182  0.007418\n",
      "(discount rate 1, discount rate 2)   -0.002655  0.004495\n",
      "\n",
      "[171 rows x 2 columns]\n",
      "Dike Investment Costs\n"
     ]
    },
    {
     "name": "stderr",
     "output_type": "stream",
     "text": [
      "C:\\Users\\Asus\\Documents\\Python venvs\\MBDMv2\\Lib\\site-packages\\SALib\\util\\__init__.py:274: FutureWarning: unique with argument that is not not a Series, Index, ExtensionArray, or np.ndarray is deprecated and will raise in a future version.\n",
      "  names = list(pd.unique(groups))\n"
     ]
    },
    {
     "name": "stdout",
     "output_type": "stream",
     "text": [
      "                          ST  ST_conf\n",
      "A.0_ID flood wave shape  0.0      0.0\n",
      "A.1_Bmax                 0.0      0.0\n",
      "A.1_Brate                0.0      0.0\n",
      "A.1_pfail                0.0      0.0\n",
      "A.2_Bmax                 0.0      0.0\n",
      "A.2_Brate                0.0      0.0\n",
      "A.2_pfail                0.0      0.0\n",
      "A.3_Bmax                 0.0      0.0\n",
      "A.3_Brate                0.0      0.0\n",
      "A.3_pfail                0.0      0.0\n",
      "A.4_Bmax                 0.0      0.0\n",
      "A.4_Brate                0.0      0.0\n",
      "A.4_pfail                0.0      0.0\n",
      "A.5_Bmax                 0.0      0.0\n",
      "A.5_Brate                0.0      0.0\n",
      "A.5_pfail                0.0      0.0\n",
      "discount rate 0          0.0      0.0\n",
      "discount rate 1          0.0      0.0\n",
      "discount rate 2          0.0      0.0\n",
      "                          S1  S1_conf\n",
      "A.0_ID flood wave shape  0.0      0.0\n",
      "A.1_Bmax                 0.0      0.0\n",
      "A.1_Brate                0.0      0.0\n",
      "A.1_pfail                0.0      0.0\n",
      "A.2_Bmax                 0.0      0.0\n",
      "A.2_Brate                0.0      0.0\n",
      "A.2_pfail                0.0      0.0\n",
      "A.3_Bmax                 0.0      0.0\n",
      "A.3_Brate                0.0      0.0\n",
      "A.3_pfail                0.0      0.0\n",
      "A.4_Bmax                 0.0      0.0\n",
      "A.4_Brate                0.0      0.0\n",
      "A.4_pfail                0.0      0.0\n",
      "A.5_Bmax                 0.0      0.0\n",
      "A.5_Brate                0.0      0.0\n",
      "A.5_pfail                0.0      0.0\n",
      "discount rate 0          0.0      0.0\n",
      "discount rate 1          0.0      0.0\n",
      "discount rate 2          0.0      0.0\n",
      "                                       S2  S2_conf\n",
      "(A.0_ID flood wave shape, A.1_Bmax)   0.0      0.0\n",
      "(A.0_ID flood wave shape, A.1_Brate)  0.0      0.0\n",
      "(A.0_ID flood wave shape, A.1_pfail)  0.0      0.0\n",
      "(A.0_ID flood wave shape, A.2_Bmax)   0.0      0.0\n",
      "(A.0_ID flood wave shape, A.2_Brate)  0.0      0.0\n",
      "...                                   ...      ...\n",
      "(A.5_pfail, discount rate 1)          0.0      0.0\n",
      "(A.5_pfail, discount rate 2)          0.0      0.0\n",
      "(discount rate 0, discount rate 1)    0.0      0.0\n",
      "(discount rate 0, discount rate 2)    0.0      0.0\n",
      "(discount rate 1, discount rate 2)    0.0      0.0\n",
      "\n",
      "[171 rows x 2 columns]\n",
      "RfR Investment Costs\n"
     ]
    },
    {
     "name": "stderr",
     "output_type": "stream",
     "text": [
      "C:\\Users\\Asus\\Documents\\Python venvs\\MBDMv2\\Lib\\site-packages\\SALib\\util\\__init__.py:274: FutureWarning: unique with argument that is not not a Series, Index, ExtensionArray, or np.ndarray is deprecated and will raise in a future version.\n",
      "  names = list(pd.unique(groups))\n"
     ]
    },
    {
     "name": "stdout",
     "output_type": "stream",
     "text": [
      "                          ST  ST_conf\n",
      "A.0_ID flood wave shape  0.0      0.0\n",
      "A.1_Bmax                 0.0      0.0\n",
      "A.1_Brate                0.0      0.0\n",
      "A.1_pfail                0.0      0.0\n",
      "A.2_Bmax                 0.0      0.0\n",
      "A.2_Brate                0.0      0.0\n",
      "A.2_pfail                0.0      0.0\n",
      "A.3_Bmax                 0.0      0.0\n",
      "A.3_Brate                0.0      0.0\n",
      "A.3_pfail                0.0      0.0\n",
      "A.4_Bmax                 0.0      0.0\n",
      "A.4_Brate                0.0      0.0\n",
      "A.4_pfail                0.0      0.0\n",
      "A.5_Bmax                 0.0      0.0\n",
      "A.5_Brate                0.0      0.0\n",
      "A.5_pfail                0.0      0.0\n",
      "discount rate 0          0.0      0.0\n",
      "discount rate 1          0.0      0.0\n",
      "discount rate 2          0.0      0.0\n",
      "                          S1  S1_conf\n",
      "A.0_ID flood wave shape  0.0      0.0\n",
      "A.1_Bmax                 0.0      0.0\n",
      "A.1_Brate                0.0      0.0\n",
      "A.1_pfail                0.0      0.0\n",
      "A.2_Bmax                 0.0      0.0\n",
      "A.2_Brate                0.0      0.0\n",
      "A.2_pfail                0.0      0.0\n",
      "A.3_Bmax                 0.0      0.0\n",
      "A.3_Brate                0.0      0.0\n",
      "A.3_pfail                0.0      0.0\n",
      "A.4_Bmax                 0.0      0.0\n",
      "A.4_Brate                0.0      0.0\n",
      "A.4_pfail                0.0      0.0\n",
      "A.5_Bmax                 0.0      0.0\n",
      "A.5_Brate                0.0      0.0\n",
      "A.5_pfail                0.0      0.0\n",
      "discount rate 0          0.0      0.0\n",
      "discount rate 1          0.0      0.0\n",
      "discount rate 2          0.0      0.0\n",
      "                                       S2  S2_conf\n",
      "(A.0_ID flood wave shape, A.1_Bmax)   0.0      0.0\n",
      "(A.0_ID flood wave shape, A.1_Brate)  0.0      0.0\n",
      "(A.0_ID flood wave shape, A.1_pfail)  0.0      0.0\n",
      "(A.0_ID flood wave shape, A.2_Bmax)   0.0      0.0\n",
      "(A.0_ID flood wave shape, A.2_Brate)  0.0      0.0\n",
      "...                                   ...      ...\n",
      "(A.5_pfail, discount rate 1)          0.0      0.0\n",
      "(A.5_pfail, discount rate 2)          0.0      0.0\n",
      "(discount rate 0, discount rate 1)    0.0      0.0\n",
      "(discount rate 0, discount rate 2)    0.0      0.0\n",
      "(discount rate 1, discount rate 2)    0.0      0.0\n",
      "\n",
      "[171 rows x 2 columns]\n",
      "Evacuation Costs\n"
     ]
    },
    {
     "name": "stderr",
     "output_type": "stream",
     "text": [
      "C:\\Users\\Asus\\Documents\\Python venvs\\MBDMv2\\Lib\\site-packages\\SALib\\util\\__init__.py:274: FutureWarning: unique with argument that is not not a Series, Index, ExtensionArray, or np.ndarray is deprecated and will raise in a future version.\n",
      "  names = list(pd.unique(groups))\n"
     ]
    },
    {
     "name": "stdout",
     "output_type": "stream",
     "text": [
      "                                   ST       ST_conf\n",
      "A.0_ID flood wave shape  8.111273e-03  9.292061e-04\n",
      "A.1_Bmax                 2.276803e-04  1.845005e-04\n",
      "A.1_Brate                2.326341e-06  4.047926e-06\n",
      "A.1_pfail                1.539614e-02  2.051177e-03\n",
      "A.2_Bmax                 1.133031e-04  1.436345e-04\n",
      "A.2_Brate                5.245625e-06  6.397475e-06\n",
      "A.2_pfail                3.331488e-01  2.658112e-02\n",
      "A.3_Bmax                 5.624227e-06  5.056483e-06\n",
      "A.3_Brate                8.966741e-07  9.671377e-07\n",
      "A.3_pfail                3.503851e-01  3.108224e-02\n",
      "A.4_Bmax                 7.657303e-05  5.407652e-05\n",
      "A.4_Brate                4.310360e-06  3.189606e-06\n",
      "A.4_pfail                6.548505e-03  7.707551e-04\n",
      "A.5_Bmax                 0.000000e+00  0.000000e+00\n",
      "A.5_Brate                0.000000e+00  0.000000e+00\n",
      "A.5_pfail                1.013967e-01  8.916537e-03\n",
      "discount rate 0          0.000000e+00  0.000000e+00\n",
      "discount rate 1          0.000000e+00  0.000000e+00\n",
      "discount rate 2          0.000000e+00  0.000000e+00\n",
      "                               S1   S1_conf\n",
      "A.0_ID flood wave shape -0.001092  0.003197\n",
      "A.1_Bmax                -0.000055  0.000075\n",
      "A.1_Brate                0.000003  0.000011\n",
      "A.1_pfail                0.014147  0.002630\n",
      "A.2_Bmax                -0.000263  0.000301\n",
      "A.2_Brate                0.000153  0.000263\n",
      "A.2_pfail                0.330198  0.047081\n",
      "A.3_Bmax                -0.000007  0.000027\n",
      "A.3_Brate               -0.000003  0.000011\n",
      "A.3_pfail                0.342000  0.045599\n",
      "A.4_Bmax                 0.000083  0.000203\n",
      "A.4_Brate               -0.000010  0.000043\n",
      "A.4_pfail                0.003846  0.001548\n",
      "A.5_Bmax                 0.000000  0.000000\n",
      "A.5_Brate                0.000000  0.000000\n",
      "A.5_pfail                0.094010  0.011522\n",
      "discount rate 0          0.000000  0.000000\n",
      "discount rate 1          0.000000  0.000000\n",
      "discount rate 2          0.000000  0.000000\n",
      "                                            S2   S2_conf\n",
      "(A.0_ID flood wave shape, A.1_Bmax)   0.007730  0.005267\n",
      "(A.0_ID flood wave shape, A.1_Brate)  0.007730  0.005267\n",
      "(A.0_ID flood wave shape, A.1_pfail)  0.007648  0.005254\n",
      "(A.0_ID flood wave shape, A.2_Bmax)   0.007730  0.005267\n",
      "(A.0_ID flood wave shape, A.2_Brate)  0.007730  0.005266\n",
      "...                                        ...       ...\n",
      "(A.5_pfail, discount rate 1)          0.000522  0.018257\n",
      "(A.5_pfail, discount rate 2)          0.000522  0.018257\n",
      "(discount rate 0, discount rate 1)    0.000000  0.000000\n",
      "(discount rate 0, discount rate 2)    0.000000  0.000000\n",
      "(discount rate 1, discount rate 2)    0.000000  0.000000\n",
      "\n",
      "[171 rows x 2 columns]\n",
      "Expected Number of Deaths\n"
     ]
    },
    {
     "name": "stderr",
     "output_type": "stream",
     "text": [
      "C:\\Users\\Asus\\Documents\\Python venvs\\MBDMv2\\Lib\\site-packages\\SALib\\util\\__init__.py:274: FutureWarning: unique with argument that is not not a Series, Index, ExtensionArray, or np.ndarray is deprecated and will raise in a future version.\n",
      "  names = list(pd.unique(groups))\n"
     ]
    },
    {
     "name": "stdout",
     "output_type": "stream",
     "text": [
      "                                   ST       ST_conf\n",
      "A.0_ID flood wave shape  7.801914e-03  1.225264e-03\n",
      "A.1_Bmax                 4.152601e-05  4.354896e-05\n",
      "A.1_Brate                4.048232e-07  6.100387e-07\n",
      "A.1_pfail                2.113789e-02  3.916564e-03\n",
      "A.2_Bmax                 3.510848e-05  2.194921e-05\n",
      "A.2_Brate                1.057768e-06  6.278699e-07\n",
      "A.2_pfail                6.879420e-02  9.199043e-03\n",
      "A.3_Bmax                 1.662762e-05  1.341212e-05\n",
      "A.3_Brate                5.813518e-07  3.975396e-07\n",
      "A.3_pfail                6.579953e-01  3.012792e-02\n",
      "A.4_Bmax                 4.476841e-06  3.160415e-06\n",
      "A.4_Brate                2.939072e-07  3.390277e-07\n",
      "A.4_pfail                5.823701e-04  2.346859e-04\n",
      "A.5_Bmax                 0.000000e+00  0.000000e+00\n",
      "A.5_Brate                0.000000e+00  0.000000e+00\n",
      "A.5_pfail                5.138403e-02  7.063705e-03\n",
      "discount rate 0          0.000000e+00  0.000000e+00\n",
      "discount rate 1          0.000000e+00  0.000000e+00\n",
      "discount rate 2          0.000000e+00  0.000000e+00\n",
      "                                   S1   S1_conf\n",
      "A.0_ID flood wave shape  3.754133e-03  0.004497\n",
      "A.1_Bmax                -9.250344e-06  0.000022\n",
      "A.1_Brate                2.729698e-06  0.000003\n",
      "A.1_pfail                2.105808e-02  0.005794\n",
      "A.2_Bmax                 1.120912e-05  0.000334\n",
      "A.2_Brate                1.833930e-05  0.000033\n",
      "A.2_pfail                6.726874e-02  0.012576\n",
      "A.3_Bmax                 1.936074e-04  0.000346\n",
      "A.3_Brate                6.449120e-06  0.000033\n",
      "A.3_pfail                6.465806e-01  0.076994\n",
      "A.4_Bmax                 4.498965e-07  0.000006\n",
      "A.4_Brate               -8.847323e-07  0.000001\n",
      "A.4_pfail                7.510586e-05  0.000211\n",
      "A.5_Bmax                 0.000000e+00  0.000000\n",
      "A.5_Brate                0.000000e+00  0.000000\n",
      "A.5_pfail                5.065007e-02  0.015459\n",
      "discount rate 0          0.000000e+00  0.000000\n",
      "discount rate 1          0.000000e+00  0.000000\n",
      "discount rate 2          0.000000e+00  0.000000\n",
      "                                            S2   S2_conf\n",
      "(A.0_ID flood wave shape, A.1_Bmax)   0.001161  0.008690\n",
      "(A.0_ID flood wave shape, A.1_Brate)  0.001162  0.008689\n",
      "(A.0_ID flood wave shape, A.1_pfail)  0.001247  0.008705\n",
      "(A.0_ID flood wave shape, A.2_Bmax)   0.001149  0.008692\n",
      "(A.0_ID flood wave shape, A.2_Brate)  0.001161  0.008690\n",
      "...                                        ...       ...\n",
      "(A.5_pfail, discount rate 1)         -0.005331  0.025318\n",
      "(A.5_pfail, discount rate 2)         -0.005331  0.025318\n",
      "(discount rate 0, discount rate 1)    0.000000  0.000000\n",
      "(discount rate 0, discount rate 2)    0.000000  0.000000\n",
      "(discount rate 1, discount rate 2)    0.000000  0.000000\n",
      "\n",
      "[171 rows x 2 columns]\n"
     ]
    }
   ],
   "execution_count": 12
  },
  {
   "metadata": {
    "ExecuteTime": {
     "end_time": "2024-06-03T13:46:50.241055Z",
     "start_time": "2024-06-03T13:46:50.211328Z"
    }
   },
   "cell_type": "code",
   "source": [
    "def sum_three_arrays_in_dict(dictionary, key1, key2, key3, result_key):\n",
    "    if key1 in dictionary and key2 in dictionary and key3 in dictionary:\n",
    "        array1 = dictionary[key1]\n",
    "        array2 = dictionary[key2]\n",
    "        array3 = dictionary[key3]\n",
    "        \n",
    "        if isinstance(array1, np.ndarray) and isinstance(array2, np.ndarray) and isinstance(array3, np.ndarray):\n",
    "            if array1.shape == array2.shape == array3.shape:\n",
    "                dictionary[result_key] = array1 + array2 + array3\n",
    "            else:\n",
    "                raise ValueError(f\"Arrays under keys '{key1}', '{key2}', and '{key3}' are not of the same shape\")\n",
    "        else:\n",
    "            raise TypeError(f\"Values under keys '{key1}', '{key2}', and '{key3}' are not NumPy arrays\")\n",
    "    else:\n",
    "        raise KeyError(f\"Keys '{key1}', '{key2}', and/or '{key3}' not found in the dictionary\")\n",
    "\n",
    "    return dictionary"
   ],
   "id": "cba677787843a207",
   "outputs": [],
   "execution_count": 16
  },
  {
   "metadata": {},
   "cell_type": "markdown",
   "source": "## Dit aanpassen naar top 10% ofzo",
   "id": "cb3a419cac5c63d5"
  },
  {
   "metadata": {
    "ExecuteTime": {
     "end_time": "2024-06-03T13:55:26.424835Z",
     "start_time": "2024-06-03T13:55:26.418789Z"
    }
   },
   "cell_type": "code",
   "source": "top_10 = int(0.1*len(outcomes_SOBOL_OE_SA['Expected Annual Damage']))",
   "id": "692354560253901a",
   "outputs": [
    {
     "name": "stdout",
     "output_type": "stream",
     "text": [
      "120000\n"
     ]
    }
   ],
   "execution_count": 26
  },
  {
   "metadata": {
    "ExecuteTime": {
     "end_time": "2024-06-03T13:56:17.343400Z",
     "start_time": "2024-06-03T13:56:17.308567Z"
    }
   },
   "cell_type": "code",
   "source": [
    "y_damages = outcomes_SOBOL_OE_SA['Expected Annual Damage'].sort_values().iloc[top_10]\n",
    "y_deaths = outcomes_SOBOL_OE_SA['Expected Number of Deaths'].sort_values().iloc[top_10]\n",
    "new_cost_dict = sum_three_arrays_in_dict(outcomes_SOBOL_OE_SA, 'Dike Investment Costs', 'RfR Investment Costs', 'Evacuation Costs', 'Total Costs')\n",
    "y_costs = new_cost_dict['Total Costs'].sort_values().iloc[top_10]"
   ],
   "id": "7b6ee227c283b405",
   "outputs": [
    {
     "ename": "AttributeError",
     "evalue": "'numpy.ndarray' object has no attribute 'sort_values'",
     "output_type": "error",
     "traceback": [
      "\u001B[1;31m---------------------------------------------------------------------------\u001B[0m",
      "\u001B[1;31mAttributeError\u001B[0m                            Traceback (most recent call last)",
      "Cell \u001B[1;32mIn[28], line 1\u001B[0m\n\u001B[1;32m----> 1\u001B[0m y_damages \u001B[38;5;241m=\u001B[39m \u001B[43moutcomes_SOBOL_OE_SA\u001B[49m\u001B[43m[\u001B[49m\u001B[38;5;124;43m'\u001B[39;49m\u001B[38;5;124;43mExpected Annual Damage\u001B[39;49m\u001B[38;5;124;43m'\u001B[39;49m\u001B[43m]\u001B[49m\u001B[38;5;241;43m.\u001B[39;49m\u001B[43msort_values\u001B[49m()\u001B[38;5;241m.\u001B[39miloc[top_10]\n\u001B[0;32m      2\u001B[0m y_deaths \u001B[38;5;241m=\u001B[39m outcomes_SOBOL_OE_SA[\u001B[38;5;124m'\u001B[39m\u001B[38;5;124mExpected Number of Deaths\u001B[39m\u001B[38;5;124m'\u001B[39m]\u001B[38;5;241m.\u001B[39msort_values()\u001B[38;5;241m.\u001B[39miloc[top_10]\n\u001B[0;32m      3\u001B[0m new_cost_dict \u001B[38;5;241m=\u001B[39m sum_three_arrays_in_dict(outcomes_SOBOL_OE_SA, \u001B[38;5;124m'\u001B[39m\u001B[38;5;124mDike Investment Costs\u001B[39m\u001B[38;5;124m'\u001B[39m, \u001B[38;5;124m'\u001B[39m\u001B[38;5;124mRfR Investment Costs\u001B[39m\u001B[38;5;124m'\u001B[39m, \u001B[38;5;124m'\u001B[39m\u001B[38;5;124mEvacuation Costs\u001B[39m\u001B[38;5;124m'\u001B[39m, \u001B[38;5;124m'\u001B[39m\u001B[38;5;124mTotal Costs\u001B[39m\u001B[38;5;124m'\u001B[39m)\n",
      "\u001B[1;31mAttributeError\u001B[0m: 'numpy.ndarray' object has no attribute 'sort_values'"
     ]
    }
   ],
   "execution_count": 28
  },
  {
   "metadata": {
    "ExecuteTime": {
     "end_time": "2024-06-03T13:47:04.422837Z",
     "start_time": "2024-06-03T13:47:04.416197Z"
    }
   },
   "cell_type": "code",
   "source": "x = experiments_SOBOL_OE_SA",
   "id": "54ae0e18df91a52",
   "outputs": [],
   "execution_count": 19
  },
  {
   "metadata": {},
   "cell_type": "markdown",
   "source": "## PRIM",
   "id": "b1af11ad141c0ada"
  },
  {
   "metadata": {},
   "cell_type": "code",
   "outputs": [],
   "execution_count": null,
   "source": [
    "ema_logging.log_to_stderr(ema_logging.INFO)\n",
    "prim_alg = prim.Prim(x=x, y=y_damages, threshold= 0.8, peel_alpha= 0.1)\n",
    "\n",
    "box_damages = prim_alg.find_box()"
   ],
   "id": "1fed2aa7fd2ced32"
  },
  {
   "metadata": {},
   "cell_type": "code",
   "outputs": [],
   "execution_count": null,
   "source": [
    "ema_logging.log_to_stderr(ema_logging.INFO)\n",
    "prim_alg = prim.Prim(x=x, y=y_deaths, threshold= 0.8, peel_alpha= 0.1)\n",
    "\n",
    "box_deaths = prim_alg.find_box()"
   ],
   "id": "8512b0e47a8657ed"
  },
  {
   "metadata": {},
   "cell_type": "code",
   "outputs": [],
   "execution_count": null,
   "source": [
    "ema_logging.log_to_stderr(ema_logging.INFO)\n",
    "prim_alg = prim.Prim(x=x, y=y_costs, threshold= 0.8, peel_alpha= 0.1)\n",
    "\n",
    "box_costs = prim_alg.find_box()"
   ],
   "id": "7f5a5740c6211ba7"
  }
 ],
 "metadata": {
  "kernelspec": {
   "display_name": "Python 3",
   "language": "python",
   "name": "python3"
  },
  "language_info": {
   "codemirror_mode": {
    "name": "ipython",
    "version": 2
   },
   "file_extension": ".py",
   "mimetype": "text/x-python",
   "name": "python",
   "nbconvert_exporter": "python",
   "pygments_lexer": "ipython2",
   "version": "2.7.6"
  }
 },
 "nbformat": 4,
 "nbformat_minor": 5
}
