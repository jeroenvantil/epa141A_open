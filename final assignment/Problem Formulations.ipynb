{
 "cells": [
  {
   "cell_type": "code",
   "execution_count": 1,
   "metadata": {
    "ExecuteTime": {
     "end_time": "2024-05-27T12:11:22.270161300Z",
     "start_time": "2024-05-27T12:11:21.735869700Z"
    }
   },
   "outputs": [],
   "source": [
    "import numpy as np\n",
    "import scipy as sp\n",
    "import pandas as pd\n",
    "import matplotlib.pyplot as plt\n",
    "import seaborn as sns\n",
    "import networkx as nx"
   ]
  },
  {
   "cell_type": "code",
   "execution_count": 2,
   "metadata": {
    "ExecuteTime": {
     "end_time": "2024-05-27T12:11:26.088968200Z",
     "start_time": "2024-05-27T12:11:26.075613700Z"
    }
   },
   "outputs": [
    {
     "name": "stdout",
     "output_type": "stream",
     "text": [
      "2.0.3\n",
      "3.1\n"
     ]
    }
   ],
   "source": [
    "# make sure pandas is version 1.0 or higher\n",
    "# make sure networkx is verion 2.4 or higher\n",
    "print(pd.__version__)\n",
    "print(nx.__version__)"
   ]
  },
  {
   "cell_type": "code",
   "execution_count": 5,
   "metadata": {
    "scrolled": true,
    "ExecuteTime": {
     "end_time": "2024-05-27T12:16:51.513681100Z",
     "start_time": "2024-05-27T12:16:51.476887Z"
    }
   },
   "outputs": [],
   "source": [
    "from ema_workbench import (\n",
    "    Model,\n",
    "    Policy,\n",
    "    ema_logging,\n",
    "    SequentialEvaluator,\n",
    "    MultiprocessingEvaluator,\n",
    ")\n",
    "from dike_model_function import DikeNetwork  # @UnresolvedImport\n",
    "from problem_formulation import get_model_for_problem_formulation, sum_over, sum_over_time\n",
    "\n"
   ]
  },
  {
   "cell_type": "code",
   "execution_count": 6,
   "metadata": {
    "ExecuteTime": {
     "end_time": "2024-05-27T12:16:58.402098700Z",
     "start_time": "2024-05-27T12:16:57.535263600Z"
    }
   },
   "outputs": [],
   "source": [
    "ema_logging.log_to_stderr(ema_logging.INFO)\n",
    "\n",
    "# choose problem formulation number, between 0-5\n",
    "# each problem formulation has its own list of outcomes\n",
    "dike_model, planning_steps = get_model_for_problem_formulation(3)"
   ]
  },
  {
   "cell_type": "code",
   "execution_count": 7,
   "metadata": {
    "ExecuteTime": {
     "end_time": "2024-05-27T12:17:00.044292200Z",
     "start_time": "2024-05-27T12:17:00.028699600Z"
    }
   },
   "outputs": [
    {
     "name": "stdout",
     "output_type": "stream",
     "text": [
      "CategoricalParameter('discount rate 0', [0, 1, 2, 3])\n",
      "CategoricalParameter('discount rate 1', [0, 1, 2, 3])\n",
      "CategoricalParameter('discount rate 2', [0, 1, 2, 3])\n",
      "IntegerParameter('A.0_ID flood wave shape', 0, 132, resolution=None, default=None, variable_name=['A.0_ID flood wave shape'], pff=False)\n",
      "RealParameter('A.1_Bmax', 30, 350, resolution=None, default=None, variable_name=['A.1_Bmax'], pff=False)\n",
      "RealParameter('A.1_pfail', 0, 1, resolution=None, default=None, variable_name=['A.1_pfail'], pff=False)\n",
      "CategoricalParameter('A.1_Brate', [0, 1, 2])\n",
      "RealParameter('A.2_Bmax', 30, 350, resolution=None, default=None, variable_name=['A.2_Bmax'], pff=False)\n",
      "RealParameter('A.2_pfail', 0, 1, resolution=None, default=None, variable_name=['A.2_pfail'], pff=False)\n",
      "CategoricalParameter('A.2_Brate', [0, 1, 2])\n",
      "RealParameter('A.3_Bmax', 30, 350, resolution=None, default=None, variable_name=['A.3_Bmax'], pff=False)\n",
      "RealParameter('A.3_pfail', 0, 1, resolution=None, default=None, variable_name=['A.3_pfail'], pff=False)\n",
      "CategoricalParameter('A.3_Brate', [0, 1, 2])\n",
      "RealParameter('A.4_Bmax', 30, 350, resolution=None, default=None, variable_name=['A.4_Bmax'], pff=False)\n",
      "RealParameter('A.4_pfail', 0, 1, resolution=None, default=None, variable_name=['A.4_pfail'], pff=False)\n",
      "CategoricalParameter('A.4_Brate', [0, 1, 2])\n",
      "RealParameter('A.5_Bmax', 30, 350, resolution=None, default=None, variable_name=['A.5_Bmax'], pff=False)\n",
      "RealParameter('A.5_pfail', 0, 1, resolution=None, default=None, variable_name=['A.5_pfail'], pff=False)\n",
      "CategoricalParameter('A.5_Brate', [0, 1, 2])\n"
     ]
    }
   ],
   "source": [
    "# enlisting uncertainties, their types (RealParameter/IntegerParameter/CategoricalParameter), lower boundary, and upper boundary\n",
    "import copy\n",
    "\n",
    "for unc in dike_model.uncertainties:\n",
    "    print(repr(unc))\n",
    "\n",
    "uncertainties = copy.deepcopy(dike_model.uncertainties)"
   ]
  },
  {
   "cell_type": "code",
   "execution_count": 8,
   "metadata": {
    "ExecuteTime": {
     "end_time": "2024-05-27T12:17:01.468565600Z",
     "start_time": "2024-05-27T12:17:01.447965200Z"
    }
   },
   "outputs": [
    {
     "name": "stdout",
     "output_type": "stream",
     "text": [
      "IntegerParameter('0_RfR 0', 0, 1, resolution=None, default=None, variable_name=['0_RfR 0'], pff=False)\n",
      "IntegerParameter('0_RfR 1', 0, 1, resolution=None, default=None, variable_name=['0_RfR 1'], pff=False)\n",
      "IntegerParameter('0_RfR 2', 0, 1, resolution=None, default=None, variable_name=['0_RfR 2'], pff=False)\n",
      "IntegerParameter('1_RfR 0', 0, 1, resolution=None, default=None, variable_name=['1_RfR 0'], pff=False)\n",
      "IntegerParameter('1_RfR 1', 0, 1, resolution=None, default=None, variable_name=['1_RfR 1'], pff=False)\n",
      "IntegerParameter('1_RfR 2', 0, 1, resolution=None, default=None, variable_name=['1_RfR 2'], pff=False)\n",
      "IntegerParameter('2_RfR 0', 0, 1, resolution=None, default=None, variable_name=['2_RfR 0'], pff=False)\n",
      "IntegerParameter('2_RfR 1', 0, 1, resolution=None, default=None, variable_name=['2_RfR 1'], pff=False)\n",
      "IntegerParameter('2_RfR 2', 0, 1, resolution=None, default=None, variable_name=['2_RfR 2'], pff=False)\n",
      "IntegerParameter('3_RfR 0', 0, 1, resolution=None, default=None, variable_name=['3_RfR 0'], pff=False)\n",
      "IntegerParameter('3_RfR 1', 0, 1, resolution=None, default=None, variable_name=['3_RfR 1'], pff=False)\n",
      "IntegerParameter('3_RfR 2', 0, 1, resolution=None, default=None, variable_name=['3_RfR 2'], pff=False)\n",
      "IntegerParameter('4_RfR 0', 0, 1, resolution=None, default=None, variable_name=['4_RfR 0'], pff=False)\n",
      "IntegerParameter('4_RfR 1', 0, 1, resolution=None, default=None, variable_name=['4_RfR 1'], pff=False)\n",
      "IntegerParameter('4_RfR 2', 0, 1, resolution=None, default=None, variable_name=['4_RfR 2'], pff=False)\n",
      "IntegerParameter('EWS_DaysToThreat', 0, 4, resolution=None, default=None, variable_name=['EWS_DaysToThreat'], pff=False)\n",
      "IntegerParameter('A.1_DikeIncrease 0', 0, 10, resolution=None, default=None, variable_name=['A.1_DikeIncrease 0'], pff=False)\n",
      "IntegerParameter('A.1_DikeIncrease 1', 0, 10, resolution=None, default=None, variable_name=['A.1_DikeIncrease 1'], pff=False)\n",
      "IntegerParameter('A.1_DikeIncrease 2', 0, 10, resolution=None, default=None, variable_name=['A.1_DikeIncrease 2'], pff=False)\n",
      "IntegerParameter('A.2_DikeIncrease 0', 0, 10, resolution=None, default=None, variable_name=['A.2_DikeIncrease 0'], pff=False)\n",
      "IntegerParameter('A.2_DikeIncrease 1', 0, 10, resolution=None, default=None, variable_name=['A.2_DikeIncrease 1'], pff=False)\n",
      "IntegerParameter('A.2_DikeIncrease 2', 0, 10, resolution=None, default=None, variable_name=['A.2_DikeIncrease 2'], pff=False)\n",
      "IntegerParameter('A.3_DikeIncrease 0', 0, 10, resolution=None, default=None, variable_name=['A.3_DikeIncrease 0'], pff=False)\n",
      "IntegerParameter('A.3_DikeIncrease 1', 0, 10, resolution=None, default=None, variable_name=['A.3_DikeIncrease 1'], pff=False)\n",
      "IntegerParameter('A.3_DikeIncrease 2', 0, 10, resolution=None, default=None, variable_name=['A.3_DikeIncrease 2'], pff=False)\n",
      "IntegerParameter('A.4_DikeIncrease 0', 0, 10, resolution=None, default=None, variable_name=['A.4_DikeIncrease 0'], pff=False)\n",
      "IntegerParameter('A.4_DikeIncrease 1', 0, 10, resolution=None, default=None, variable_name=['A.4_DikeIncrease 1'], pff=False)\n",
      "IntegerParameter('A.4_DikeIncrease 2', 0, 10, resolution=None, default=None, variable_name=['A.4_DikeIncrease 2'], pff=False)\n",
      "IntegerParameter('A.5_DikeIncrease 0', 0, 10, resolution=None, default=None, variable_name=['A.5_DikeIncrease 0'], pff=False)\n",
      "IntegerParameter('A.5_DikeIncrease 1', 0, 10, resolution=None, default=None, variable_name=['A.5_DikeIncrease 1'], pff=False)\n",
      "IntegerParameter('A.5_DikeIncrease 2', 0, 10, resolution=None, default=None, variable_name=['A.5_DikeIncrease 2'], pff=False)\n"
     ]
    }
   ],
   "source": [
    "# enlisting policy levers, their types (RealParameter/IntegerParameter), lower boundary, and upper boundary\n",
    "for policy in dike_model.levers:\n",
    "    print(repr(policy))\n",
    "\n",
    "levers = copy.deepcopy(dike_model.levers)"
   ]
  },
  {
   "cell_type": "code",
   "execution_count": 9,
   "metadata": {
    "ExecuteTime": {
     "end_time": "2024-05-27T12:17:03.068987500Z",
     "start_time": "2024-05-27T12:17:03.059712200Z"
    }
   },
   "outputs": [
    {
     "name": "stdout",
     "output_type": "stream",
     "text": [
      "ScalarOutcome('A.1 Total Costs', variable_name=('A.1_Expected Annual Damage', 'A.1_Dike Investment Costs'), function=<function sum_over at 0x000001EF8A81B6A0>)\n",
      "ScalarOutcome('A.1_Expected Number of Deaths', variable_name=('A.1_Expected Number of Deaths',), function=<function sum_over at 0x000001EF8A81B6A0>)\n",
      "ScalarOutcome('A.2 Total Costs', variable_name=('A.2_Expected Annual Damage', 'A.2_Dike Investment Costs'), function=<function sum_over at 0x000001EF8A81B6A0>)\n",
      "ScalarOutcome('A.2_Expected Number of Deaths', variable_name=('A.2_Expected Number of Deaths',), function=<function sum_over at 0x000001EF8A81B6A0>)\n",
      "ScalarOutcome('A.3 Total Costs', variable_name=('A.3_Expected Annual Damage', 'A.3_Dike Investment Costs'), function=<function sum_over at 0x000001EF8A81B6A0>)\n",
      "ScalarOutcome('A.3_Expected Number of Deaths', variable_name=('A.3_Expected Number of Deaths',), function=<function sum_over at 0x000001EF8A81B6A0>)\n",
      "ScalarOutcome('A.4 Total Costs', variable_name=('A.4_Expected Annual Damage', 'A.4_Dike Investment Costs'), function=<function sum_over at 0x000001EF8A81B6A0>)\n",
      "ScalarOutcome('A.4_Expected Number of Deaths', variable_name=('A.4_Expected Number of Deaths',), function=<function sum_over at 0x000001EF8A81B6A0>)\n",
      "ScalarOutcome('A.5 Total Costs', variable_name=('A.5_Expected Annual Damage', 'A.5_Dike Investment Costs'), function=<function sum_over at 0x000001EF8A81B6A0>)\n",
      "ScalarOutcome('A.5_Expected Number of Deaths', variable_name=('A.5_Expected Number of Deaths',), function=<function sum_over at 0x000001EF8A81B6A0>)\n",
      "ScalarOutcome('RfR Total Costs', variable_name=('RfR Total Costs',), function=<function sum_over at 0x000001EF8A81B6A0>)\n",
      "ScalarOutcome('Expected Evacuation Costs', variable_name=('Expected Evacuation Costs',), function=<function sum_over at 0x000001EF8A81B6A0>)\n"
     ]
    }
   ],
   "source": [
    "# enlisting outcomes\n",
    "for outcome in dike_model.outcomes:\n",
    "    print(repr(outcome))"
   ]
  },
  {
   "cell_type": "code",
   "execution_count": 10,
   "metadata": {
    "ExecuteTime": {
     "end_time": "2024-05-27T12:18:03.022074200Z",
     "start_time": "2024-05-27T12:17:04.158416300Z"
    }
   },
   "outputs": [
    {
     "name": "stderr",
     "output_type": "stream",
     "text": [
      "[MainProcess/INFO] pool started with 12 workers\n",
      "[MainProcess/INFO] performing 50 scenarios * 4 policies * 1 model(s) = 200 experiments\n",
      "100%|████████████████████████████████████████| 200/200 [00:22<00:00,  8.97it/s]\n",
      "[MainProcess/INFO] experiments finished\n",
      "[MainProcess/INFO] terminating pool\n"
     ]
    }
   ],
   "source": [
    "# running the model through EMA workbench\n",
    "with MultiprocessingEvaluator(dike_model) as evaluator:\n",
    "    results = evaluator.perform_experiments(scenarios=50, policies=4)"
   ]
  },
  {
   "cell_type": "code",
   "execution_count": 11,
   "metadata": {
    "scrolled": true,
    "ExecuteTime": {
     "end_time": "2024-05-27T12:18:09.300748900Z",
     "start_time": "2024-05-27T12:18:09.232028Z"
    }
   },
   "outputs": [
    {
     "name": "stdout",
     "output_type": "stream",
     "text": [
      "dict_keys(['A.1 Total Costs', 'A.1_Expected Number of Deaths', 'A.2 Total Costs', 'A.2_Expected Number of Deaths', 'A.3 Total Costs', 'A.3_Expected Number of Deaths', 'A.4 Total Costs', 'A.4_Expected Number of Deaths', 'A.5 Total Costs', 'A.5_Expected Number of Deaths', 'RfR Total Costs', 'Expected Evacuation Costs'])\n"
     ]
    },
    {
     "data": {
      "text/plain": "     A.0_ID flood wave shape    A.1_Bmax A.1_Brate  A.1_pfail    A.2_Bmax  \\\n0                         41  328.816325       1.0   0.474382  106.600561   \n1                         96  280.193585      10.0   0.495807  283.754666   \n2                         90  341.821568       1.5   0.799057  180.976928   \n3                        119   62.272166       1.0   0.150021  224.370612   \n4                         87   38.303393       1.0   0.188409  236.732793   \n..                       ...         ...       ...        ...         ...   \n195                      107  113.539388       1.0   0.255096  270.213161   \n196                       25  310.642747      10.0   0.640694  118.619959   \n197                       27  212.364834       1.5   0.621456  171.469022   \n198                      131  110.004429       1.5   0.280031  315.725984   \n199                       82  141.588937       1.5   0.503075  108.883086   \n\n    A.2_Brate  A.2_pfail    A.3_Bmax A.3_Brate  A.3_pfail  ...  \\\n0        10.0   0.333964  107.099877      10.0   0.072681  ...   \n1         1.0   0.018178  134.814008      10.0   0.407957  ...   \n2        10.0   0.583633  284.514478      10.0   0.337459  ...   \n3         1.0   0.265739  103.003156       1.5   0.266381  ...   \n4        10.0   0.615437  197.001472       1.5   0.822070  ...   \n..        ...        ...         ...       ...        ...  ...   \n195       1.5   0.503223  164.717881       1.5   0.908909  ...   \n196      10.0   0.452347   56.294458       1.0   0.786943  ...   \n197      10.0   0.310424  229.741949      10.0   0.368351  ...   \n198       1.0   0.796230  303.835931       1.0   0.512335  ...   \n199      10.0   0.374282  347.418078       1.5   0.080808  ...   \n\n     A.4_DikeIncrease 0 A.4_DikeIncrease 1  A.4_DikeIncrease 2  \\\n0                     6                  2                   0   \n1                     6                  2                   0   \n2                     6                  2                   0   \n3                     6                  2                   0   \n4                     6                  2                   0   \n..                  ...                ...                 ...   \n195                   8                  8                   9   \n196                   8                  8                   9   \n197                   8                  8                   9   \n198                   8                  8                   9   \n199                   8                  8                   9   \n\n     A.5_DikeIncrease 0 A.5_DikeIncrease 1  A.5_DikeIncrease 2  \\\n0                     3                  3                   5   \n1                     3                  3                   5   \n2                     3                  3                   5   \n3                     3                  3                   5   \n4                     3                  3                   5   \n..                  ...                ...                 ...   \n195                   2                  0                   8   \n196                   2                  0                   8   \n197                   2                  0                   8   \n198                   2                  0                   8   \n199                   2                  0                   8   \n\n    EWS_DaysToThreat scenario policy     model  \n0                  3        4      0  dikesnet  \n1                  3        5      0  dikesnet  \n2                  3        6      0  dikesnet  \n3                  3        7      0  dikesnet  \n4                  3        8      0  dikesnet  \n..               ...      ...    ...       ...  \n195                4       49      3  dikesnet  \n196                4       50      3  dikesnet  \n197                4       51      3  dikesnet  \n198                4       52      3  dikesnet  \n199                4       53      3  dikesnet  \n\n[200 rows x 53 columns]",
      "text/html": "<div>\n<style scoped>\n    .dataframe tbody tr th:only-of-type {\n        vertical-align: middle;\n    }\n\n    .dataframe tbody tr th {\n        vertical-align: top;\n    }\n\n    .dataframe thead th {\n        text-align: right;\n    }\n</style>\n<table border=\"1\" class=\"dataframe\">\n  <thead>\n    <tr style=\"text-align: right;\">\n      <th></th>\n      <th>A.0_ID flood wave shape</th>\n      <th>A.1_Bmax</th>\n      <th>A.1_Brate</th>\n      <th>A.1_pfail</th>\n      <th>A.2_Bmax</th>\n      <th>A.2_Brate</th>\n      <th>A.2_pfail</th>\n      <th>A.3_Bmax</th>\n      <th>A.3_Brate</th>\n      <th>A.3_pfail</th>\n      <th>...</th>\n      <th>A.4_DikeIncrease 0</th>\n      <th>A.4_DikeIncrease 1</th>\n      <th>A.4_DikeIncrease 2</th>\n      <th>A.5_DikeIncrease 0</th>\n      <th>A.5_DikeIncrease 1</th>\n      <th>A.5_DikeIncrease 2</th>\n      <th>EWS_DaysToThreat</th>\n      <th>scenario</th>\n      <th>policy</th>\n      <th>model</th>\n    </tr>\n  </thead>\n  <tbody>\n    <tr>\n      <th>0</th>\n      <td>41</td>\n      <td>328.816325</td>\n      <td>1.0</td>\n      <td>0.474382</td>\n      <td>106.600561</td>\n      <td>10.0</td>\n      <td>0.333964</td>\n      <td>107.099877</td>\n      <td>10.0</td>\n      <td>0.072681</td>\n      <td>...</td>\n      <td>6</td>\n      <td>2</td>\n      <td>0</td>\n      <td>3</td>\n      <td>3</td>\n      <td>5</td>\n      <td>3</td>\n      <td>4</td>\n      <td>0</td>\n      <td>dikesnet</td>\n    </tr>\n    <tr>\n      <th>1</th>\n      <td>96</td>\n      <td>280.193585</td>\n      <td>10.0</td>\n      <td>0.495807</td>\n      <td>283.754666</td>\n      <td>1.0</td>\n      <td>0.018178</td>\n      <td>134.814008</td>\n      <td>10.0</td>\n      <td>0.407957</td>\n      <td>...</td>\n      <td>6</td>\n      <td>2</td>\n      <td>0</td>\n      <td>3</td>\n      <td>3</td>\n      <td>5</td>\n      <td>3</td>\n      <td>5</td>\n      <td>0</td>\n      <td>dikesnet</td>\n    </tr>\n    <tr>\n      <th>2</th>\n      <td>90</td>\n      <td>341.821568</td>\n      <td>1.5</td>\n      <td>0.799057</td>\n      <td>180.976928</td>\n      <td>10.0</td>\n      <td>0.583633</td>\n      <td>284.514478</td>\n      <td>10.0</td>\n      <td>0.337459</td>\n      <td>...</td>\n      <td>6</td>\n      <td>2</td>\n      <td>0</td>\n      <td>3</td>\n      <td>3</td>\n      <td>5</td>\n      <td>3</td>\n      <td>6</td>\n      <td>0</td>\n      <td>dikesnet</td>\n    </tr>\n    <tr>\n      <th>3</th>\n      <td>119</td>\n      <td>62.272166</td>\n      <td>1.0</td>\n      <td>0.150021</td>\n      <td>224.370612</td>\n      <td>1.0</td>\n      <td>0.265739</td>\n      <td>103.003156</td>\n      <td>1.5</td>\n      <td>0.266381</td>\n      <td>...</td>\n      <td>6</td>\n      <td>2</td>\n      <td>0</td>\n      <td>3</td>\n      <td>3</td>\n      <td>5</td>\n      <td>3</td>\n      <td>7</td>\n      <td>0</td>\n      <td>dikesnet</td>\n    </tr>\n    <tr>\n      <th>4</th>\n      <td>87</td>\n      <td>38.303393</td>\n      <td>1.0</td>\n      <td>0.188409</td>\n      <td>236.732793</td>\n      <td>10.0</td>\n      <td>0.615437</td>\n      <td>197.001472</td>\n      <td>1.5</td>\n      <td>0.822070</td>\n      <td>...</td>\n      <td>6</td>\n      <td>2</td>\n      <td>0</td>\n      <td>3</td>\n      <td>3</td>\n      <td>5</td>\n      <td>3</td>\n      <td>8</td>\n      <td>0</td>\n      <td>dikesnet</td>\n    </tr>\n    <tr>\n      <th>...</th>\n      <td>...</td>\n      <td>...</td>\n      <td>...</td>\n      <td>...</td>\n      <td>...</td>\n      <td>...</td>\n      <td>...</td>\n      <td>...</td>\n      <td>...</td>\n      <td>...</td>\n      <td>...</td>\n      <td>...</td>\n      <td>...</td>\n      <td>...</td>\n      <td>...</td>\n      <td>...</td>\n      <td>...</td>\n      <td>...</td>\n      <td>...</td>\n      <td>...</td>\n      <td>...</td>\n    </tr>\n    <tr>\n      <th>195</th>\n      <td>107</td>\n      <td>113.539388</td>\n      <td>1.0</td>\n      <td>0.255096</td>\n      <td>270.213161</td>\n      <td>1.5</td>\n      <td>0.503223</td>\n      <td>164.717881</td>\n      <td>1.5</td>\n      <td>0.908909</td>\n      <td>...</td>\n      <td>8</td>\n      <td>8</td>\n      <td>9</td>\n      <td>2</td>\n      <td>0</td>\n      <td>8</td>\n      <td>4</td>\n      <td>49</td>\n      <td>3</td>\n      <td>dikesnet</td>\n    </tr>\n    <tr>\n      <th>196</th>\n      <td>25</td>\n      <td>310.642747</td>\n      <td>10.0</td>\n      <td>0.640694</td>\n      <td>118.619959</td>\n      <td>10.0</td>\n      <td>0.452347</td>\n      <td>56.294458</td>\n      <td>1.0</td>\n      <td>0.786943</td>\n      <td>...</td>\n      <td>8</td>\n      <td>8</td>\n      <td>9</td>\n      <td>2</td>\n      <td>0</td>\n      <td>8</td>\n      <td>4</td>\n      <td>50</td>\n      <td>3</td>\n      <td>dikesnet</td>\n    </tr>\n    <tr>\n      <th>197</th>\n      <td>27</td>\n      <td>212.364834</td>\n      <td>1.5</td>\n      <td>0.621456</td>\n      <td>171.469022</td>\n      <td>10.0</td>\n      <td>0.310424</td>\n      <td>229.741949</td>\n      <td>10.0</td>\n      <td>0.368351</td>\n      <td>...</td>\n      <td>8</td>\n      <td>8</td>\n      <td>9</td>\n      <td>2</td>\n      <td>0</td>\n      <td>8</td>\n      <td>4</td>\n      <td>51</td>\n      <td>3</td>\n      <td>dikesnet</td>\n    </tr>\n    <tr>\n      <th>198</th>\n      <td>131</td>\n      <td>110.004429</td>\n      <td>1.5</td>\n      <td>0.280031</td>\n      <td>315.725984</td>\n      <td>1.0</td>\n      <td>0.796230</td>\n      <td>303.835931</td>\n      <td>1.0</td>\n      <td>0.512335</td>\n      <td>...</td>\n      <td>8</td>\n      <td>8</td>\n      <td>9</td>\n      <td>2</td>\n      <td>0</td>\n      <td>8</td>\n      <td>4</td>\n      <td>52</td>\n      <td>3</td>\n      <td>dikesnet</td>\n    </tr>\n    <tr>\n      <th>199</th>\n      <td>82</td>\n      <td>141.588937</td>\n      <td>1.5</td>\n      <td>0.503075</td>\n      <td>108.883086</td>\n      <td>10.0</td>\n      <td>0.374282</td>\n      <td>347.418078</td>\n      <td>1.5</td>\n      <td>0.080808</td>\n      <td>...</td>\n      <td>8</td>\n      <td>8</td>\n      <td>9</td>\n      <td>2</td>\n      <td>0</td>\n      <td>8</td>\n      <td>4</td>\n      <td>53</td>\n      <td>3</td>\n      <td>dikesnet</td>\n    </tr>\n  </tbody>\n</table>\n<p>200 rows × 53 columns</p>\n</div>"
     },
     "execution_count": 11,
     "metadata": {},
     "output_type": "execute_result"
    }
   ],
   "source": [
    "# observing the simulation runs\n",
    "experiments, outcomes = results\n",
    "print(outcomes.keys())\n",
    "experiments"
   ]
  },
  {
   "cell_type": "code",
   "execution_count": 12,
   "metadata": {
    "ExecuteTime": {
     "end_time": "2024-05-27T12:18:10.895607700Z",
     "start_time": "2024-05-27T12:18:10.861456300Z"
    }
   },
   "outputs": [
    {
     "data": {
      "text/plain": "     A.1 Total Costs  A.1_Expected Number of Deaths  A.2 Total Costs  \\\n0       2.381715e+08                            0.0     1.654765e+08   \n1       2.381715e+08                            0.0     1.703637e+08   \n2       2.381715e+08                            0.0     1.654765e+08   \n3       2.381715e+08                            0.0     1.654765e+08   \n4       2.381715e+08                            0.0     1.654765e+08   \n..               ...                            ...              ...   \n195     2.538147e+08                            0.0     1.590092e+08   \n196     2.538147e+08                            0.0     1.590092e+08   \n197     2.538147e+08                            0.0     1.590092e+08   \n198     2.538147e+08                            0.0     1.590092e+08   \n199     2.538147e+08                            0.0     1.590092e+08   \n\n     A.2_Expected Number of Deaths  A.3 Total Costs  \\\n0                         0.000000     1.144555e+08   \n1                         0.000817     1.144555e+08   \n2                         0.000000     1.144555e+08   \n3                         0.000000     1.144555e+08   \n4                         0.000000     1.144555e+08   \n..                             ...              ...   \n195                       0.000000     4.760489e+07   \n196                       0.000000     4.760489e+07   \n197                       0.000000     8.201169e+07   \n198                       0.000000     7.665121e+07   \n199                       0.000000     5.696560e+08   \n\n     A.3_Expected Number of Deaths  A.4 Total Costs  \\\n0                         0.000000     2.155622e+07   \n1                         0.000000     2.155622e+07   \n2                         0.000000     2.155622e+07   \n3                         0.000000     2.432435e+07   \n4                         0.000000     2.155622e+07   \n..                             ...              ...   \n195                       0.000000     6.824645e+07   \n196                       0.000000     6.824645e+07   \n197                       0.008194     6.824645e+07   \n198                       0.006252     6.824645e+07   \n199                       0.098998     6.824645e+07   \n\n     A.4_Expected Number of Deaths  A.5 Total Costs  \\\n0                         0.000000     1.087907e+08   \n1                         0.000000     1.087907e+08   \n2                         0.000000     1.087907e+08   \n3                         0.000147     1.087907e+08   \n4                         0.000000     1.087907e+08   \n..                             ...              ...   \n195                       0.000000     7.941061e+07   \n196                       0.000000     7.941061e+07   \n197                       0.000000     7.941061e+07   \n198                       0.000000     7.941061e+07   \n199                       0.000000     7.941061e+07   \n\n     A.5_Expected Number of Deaths  RfR Total Costs  Expected Evacuation Costs  \n0                              0.0     1.239600e+09                   0.000000  \n1                              0.0     1.239600e+09                 397.190245  \n2                              0.0     1.239600e+09                   0.000000  \n3                              0.0     1.239600e+09                 203.405037  \n4                              0.0     1.239600e+09                   0.000000  \n..                             ...              ...                        ...  \n195                            0.0     1.390100e+09                   0.000000  \n196                            0.0     1.390100e+09                   0.000000  \n197                            0.0     1.390100e+09                2003.778571  \n198                            0.0     1.390100e+09                1530.353019  \n199                            0.0     1.390100e+09               30346.616137  \n\n[200 rows x 12 columns]",
      "text/html": "<div>\n<style scoped>\n    .dataframe tbody tr th:only-of-type {\n        vertical-align: middle;\n    }\n\n    .dataframe tbody tr th {\n        vertical-align: top;\n    }\n\n    .dataframe thead th {\n        text-align: right;\n    }\n</style>\n<table border=\"1\" class=\"dataframe\">\n  <thead>\n    <tr style=\"text-align: right;\">\n      <th></th>\n      <th>A.1 Total Costs</th>\n      <th>A.1_Expected Number of Deaths</th>\n      <th>A.2 Total Costs</th>\n      <th>A.2_Expected Number of Deaths</th>\n      <th>A.3 Total Costs</th>\n      <th>A.3_Expected Number of Deaths</th>\n      <th>A.4 Total Costs</th>\n      <th>A.4_Expected Number of Deaths</th>\n      <th>A.5 Total Costs</th>\n      <th>A.5_Expected Number of Deaths</th>\n      <th>RfR Total Costs</th>\n      <th>Expected Evacuation Costs</th>\n    </tr>\n  </thead>\n  <tbody>\n    <tr>\n      <th>0</th>\n      <td>2.381715e+08</td>\n      <td>0.0</td>\n      <td>1.654765e+08</td>\n      <td>0.000000</td>\n      <td>1.144555e+08</td>\n      <td>0.000000</td>\n      <td>2.155622e+07</td>\n      <td>0.000000</td>\n      <td>1.087907e+08</td>\n      <td>0.0</td>\n      <td>1.239600e+09</td>\n      <td>0.000000</td>\n    </tr>\n    <tr>\n      <th>1</th>\n      <td>2.381715e+08</td>\n      <td>0.0</td>\n      <td>1.703637e+08</td>\n      <td>0.000817</td>\n      <td>1.144555e+08</td>\n      <td>0.000000</td>\n      <td>2.155622e+07</td>\n      <td>0.000000</td>\n      <td>1.087907e+08</td>\n      <td>0.0</td>\n      <td>1.239600e+09</td>\n      <td>397.190245</td>\n    </tr>\n    <tr>\n      <th>2</th>\n      <td>2.381715e+08</td>\n      <td>0.0</td>\n      <td>1.654765e+08</td>\n      <td>0.000000</td>\n      <td>1.144555e+08</td>\n      <td>0.000000</td>\n      <td>2.155622e+07</td>\n      <td>0.000000</td>\n      <td>1.087907e+08</td>\n      <td>0.0</td>\n      <td>1.239600e+09</td>\n      <td>0.000000</td>\n    </tr>\n    <tr>\n      <th>3</th>\n      <td>2.381715e+08</td>\n      <td>0.0</td>\n      <td>1.654765e+08</td>\n      <td>0.000000</td>\n      <td>1.144555e+08</td>\n      <td>0.000000</td>\n      <td>2.432435e+07</td>\n      <td>0.000147</td>\n      <td>1.087907e+08</td>\n      <td>0.0</td>\n      <td>1.239600e+09</td>\n      <td>203.405037</td>\n    </tr>\n    <tr>\n      <th>4</th>\n      <td>2.381715e+08</td>\n      <td>0.0</td>\n      <td>1.654765e+08</td>\n      <td>0.000000</td>\n      <td>1.144555e+08</td>\n      <td>0.000000</td>\n      <td>2.155622e+07</td>\n      <td>0.000000</td>\n      <td>1.087907e+08</td>\n      <td>0.0</td>\n      <td>1.239600e+09</td>\n      <td>0.000000</td>\n    </tr>\n    <tr>\n      <th>...</th>\n      <td>...</td>\n      <td>...</td>\n      <td>...</td>\n      <td>...</td>\n      <td>...</td>\n      <td>...</td>\n      <td>...</td>\n      <td>...</td>\n      <td>...</td>\n      <td>...</td>\n      <td>...</td>\n      <td>...</td>\n    </tr>\n    <tr>\n      <th>195</th>\n      <td>2.538147e+08</td>\n      <td>0.0</td>\n      <td>1.590092e+08</td>\n      <td>0.000000</td>\n      <td>4.760489e+07</td>\n      <td>0.000000</td>\n      <td>6.824645e+07</td>\n      <td>0.000000</td>\n      <td>7.941061e+07</td>\n      <td>0.0</td>\n      <td>1.390100e+09</td>\n      <td>0.000000</td>\n    </tr>\n    <tr>\n      <th>196</th>\n      <td>2.538147e+08</td>\n      <td>0.0</td>\n      <td>1.590092e+08</td>\n      <td>0.000000</td>\n      <td>4.760489e+07</td>\n      <td>0.000000</td>\n      <td>6.824645e+07</td>\n      <td>0.000000</td>\n      <td>7.941061e+07</td>\n      <td>0.0</td>\n      <td>1.390100e+09</td>\n      <td>0.000000</td>\n    </tr>\n    <tr>\n      <th>197</th>\n      <td>2.538147e+08</td>\n      <td>0.0</td>\n      <td>1.590092e+08</td>\n      <td>0.000000</td>\n      <td>8.201169e+07</td>\n      <td>0.008194</td>\n      <td>6.824645e+07</td>\n      <td>0.000000</td>\n      <td>7.941061e+07</td>\n      <td>0.0</td>\n      <td>1.390100e+09</td>\n      <td>2003.778571</td>\n    </tr>\n    <tr>\n      <th>198</th>\n      <td>2.538147e+08</td>\n      <td>0.0</td>\n      <td>1.590092e+08</td>\n      <td>0.000000</td>\n      <td>7.665121e+07</td>\n      <td>0.006252</td>\n      <td>6.824645e+07</td>\n      <td>0.000000</td>\n      <td>7.941061e+07</td>\n      <td>0.0</td>\n      <td>1.390100e+09</td>\n      <td>1530.353019</td>\n    </tr>\n    <tr>\n      <th>199</th>\n      <td>2.538147e+08</td>\n      <td>0.0</td>\n      <td>1.590092e+08</td>\n      <td>0.000000</td>\n      <td>5.696560e+08</td>\n      <td>0.098998</td>\n      <td>6.824645e+07</td>\n      <td>0.000000</td>\n      <td>7.941061e+07</td>\n      <td>0.0</td>\n      <td>1.390100e+09</td>\n      <td>30346.616137</td>\n    </tr>\n  </tbody>\n</table>\n<p>200 rows × 12 columns</p>\n</div>"
     },
     "execution_count": 12,
     "metadata": {},
     "output_type": "execute_result"
    }
   ],
   "source": [
    "# only works because we have scalar outcomes\n",
    "pd.DataFrame(outcomes)"
   ]
  },
  {
   "cell_type": "code",
   "execution_count": 13,
   "metadata": {
    "ExecuteTime": {
     "end_time": "2024-05-27T12:18:11.767565Z",
     "start_time": "2024-05-27T12:18:11.748766900Z"
    }
   },
   "outputs": [],
   "source": [
    "# defining specific policies\n",
    "# for example, policy 1 is about extra protection in upper boundary\n",
    "# policy 2 is about extra protection in lower boundary\n",
    "# policy 3 is extra protection in random locations\n",
    "\n",
    "\n",
    "def get_do_nothing_dict():\n",
    "    return {l.name: 0 for l in dike_model.levers}\n",
    "\n",
    "\n",
    "policies = [\n",
    "    Policy(\n",
    "        \"policy 1\",\n",
    "        **dict(\n",
    "            get_do_nothing_dict(),\n",
    "            **{\"0_RfR 0\": 1, \"0_RfR 1\": 1, \"0_RfR 2\": 1, \"A.1_DikeIncrease 0\": 5}\n",
    "        )\n",
    "    ),\n",
    "    Policy(\n",
    "        \"policy 2\",\n",
    "        **dict(\n",
    "            get_do_nothing_dict(),\n",
    "            **{\"4_RfR 0\": 1, \"4_RfR 1\": 1, \"4_RfR 2\": 1, \"A.5_DikeIncrease 0\": 5}\n",
    "        )\n",
    "    ),\n",
    "    Policy(\n",
    "        \"policy 3\",\n",
    "        **dict(\n",
    "            get_do_nothing_dict(),\n",
    "            **{\"1_RfR 0\": 1, \"2_RfR 1\": 1, \"3_RfR 2\": 1, \"A.3_DikeIncrease 0\": 5}\n",
    "        )\n",
    "    ),\n",
    "]"
   ]
  },
  {
   "cell_type": "code",
   "execution_count": 14,
   "metadata": {
    "ExecuteTime": {
     "end_time": "2024-05-27T12:19:26.627292400Z",
     "start_time": "2024-05-27T12:18:13.722493500Z"
    }
   },
   "outputs": [
    {
     "name": "stderr",
     "output_type": "stream",
     "text": [
      "[MainProcess/INFO] pool started with 12 workers\n",
      "[MainProcess/INFO] performing 100 scenarios * 3 policies * 1 model(s) = 300 experiments\n",
      "100%|████████████████████████████████████████| 300/300 [00:36<00:00,  8.15it/s]\n",
      "[MainProcess/INFO] experiments finished\n",
      "[MainProcess/INFO] terminating pool\n"
     ]
    }
   ],
   "source": [
    "# pass the policies list to EMA workbench experiment runs\n",
    "n_scenarios = 100\n",
    "with MultiprocessingEvaluator(dike_model) as evaluator:\n",
    "    results = evaluator.perform_experiments(n_scenarios, policies)"
   ]
  },
  {
   "cell_type": "code",
   "execution_count": 15,
   "metadata": {
    "ExecuteTime": {
     "end_time": "2024-05-27T12:19:34.163991Z",
     "start_time": "2024-05-27T12:19:34.143213900Z"
    }
   },
   "outputs": [],
   "source": [
    "experiments, outcomes = results"
   ]
  },
  {
   "cell_type": "code",
   "execution_count": 16,
   "metadata": {
    "ExecuteTime": {
     "end_time": "2024-05-27T12:19:34.850997700Z",
     "start_time": "2024-05-27T12:19:34.818323700Z"
    }
   },
   "outputs": [
    {
     "data": {
      "text/plain": "     A.1 Total Costs  A.1_Expected Number of Deaths  A.2 Total Costs  \\\n0       5.397251e+07                       0.000000     6.730818e+08   \n1       5.397251e+07                       0.000000     9.273152e+08   \n2       5.397251e+07                       0.000000     7.738218e+07   \n3       5.397251e+07                       0.000000     1.162590e+08   \n4       5.397251e+07                       0.000000     4.675440e+08   \n..               ...                            ...              ...   \n295     0.000000e+00                       0.000000     2.043931e+06   \n296     1.297293e+08                       0.098067     6.980930e+08   \n297     0.000000e+00                       0.000000     3.408242e+07   \n298     0.000000e+00                       0.000000     4.321335e+07   \n299     0.000000e+00                       0.000000     3.642483e+08   \n\n     A.2_Expected Number of Deaths  A.3 Total Costs  \\\n0                         0.750853     1.298041e+09   \n1                         0.751339     0.000000e+00   \n2                         0.055302     2.406400e+09   \n3                         0.097303     4.194902e+07   \n4                         0.439664     0.000000e+00   \n..                             ...              ...   \n295                       0.002214     2.879840e+07   \n296                       0.696222     2.879840e+07   \n297                       0.036310     2.879840e+07   \n298                       0.036117     2.879840e+07   \n299                       0.261573     2.879840e+07   \n\n     A.3_Expected Number of Deaths  A.4 Total Costs  \\\n0                         2.744323     0.000000e+00   \n1                         0.000000     0.000000e+00   \n2                         3.047160     0.000000e+00   \n3                         0.066999     0.000000e+00   \n4                         0.000000     9.450423e+07   \n..                             ...              ...   \n295                       0.000000     4.748429e+07   \n296                       0.000000     0.000000e+00   \n297                       0.000000     1.282220e+07   \n298                       0.000000     1.354206e+07   \n299                       0.000000     0.000000e+00   \n\n     A.4_Expected Number of Deaths  A.5 Total Costs  \\\n0                         0.000000     0.000000e+00   \n1                         0.000000     0.000000e+00   \n2                         0.000000     0.000000e+00   \n3                         0.000000     0.000000e+00   \n4                         0.039204     0.000000e+00   \n..                             ...              ...   \n295                       0.024349     0.000000e+00   \n296                       0.000000     0.000000e+00   \n297                       0.007064     3.102053e+08   \n298                       0.005712     1.024950e+08   \n299                       0.000000     0.000000e+00   \n\n     A.5_Expected Number of Deaths  RfR Total Costs  Expected Evacuation Costs  \n0                         0.000000      253800000.0                        0.0  \n1                         0.000000      253800000.0                        0.0  \n2                         0.000000      253800000.0                        0.0  \n3                         0.000000      253800000.0                        0.0  \n4                         0.000000      253800000.0                        0.0  \n..                             ...              ...                        ...  \n295                       0.000000      369700000.0                        0.0  \n296                       0.000000      369700000.0                        0.0  \n297                       0.306489      369700000.0                        0.0  \n298                       0.080962      369700000.0                        0.0  \n299                       0.000000      369700000.0                        0.0  \n\n[300 rows x 12 columns]",
      "text/html": "<div>\n<style scoped>\n    .dataframe tbody tr th:only-of-type {\n        vertical-align: middle;\n    }\n\n    .dataframe tbody tr th {\n        vertical-align: top;\n    }\n\n    .dataframe thead th {\n        text-align: right;\n    }\n</style>\n<table border=\"1\" class=\"dataframe\">\n  <thead>\n    <tr style=\"text-align: right;\">\n      <th></th>\n      <th>A.1 Total Costs</th>\n      <th>A.1_Expected Number of Deaths</th>\n      <th>A.2 Total Costs</th>\n      <th>A.2_Expected Number of Deaths</th>\n      <th>A.3 Total Costs</th>\n      <th>A.3_Expected Number of Deaths</th>\n      <th>A.4 Total Costs</th>\n      <th>A.4_Expected Number of Deaths</th>\n      <th>A.5 Total Costs</th>\n      <th>A.5_Expected Number of Deaths</th>\n      <th>RfR Total Costs</th>\n      <th>Expected Evacuation Costs</th>\n    </tr>\n  </thead>\n  <tbody>\n    <tr>\n      <th>0</th>\n      <td>5.397251e+07</td>\n      <td>0.000000</td>\n      <td>6.730818e+08</td>\n      <td>0.750853</td>\n      <td>1.298041e+09</td>\n      <td>2.744323</td>\n      <td>0.000000e+00</td>\n      <td>0.000000</td>\n      <td>0.000000e+00</td>\n      <td>0.000000</td>\n      <td>253800000.0</td>\n      <td>0.0</td>\n    </tr>\n    <tr>\n      <th>1</th>\n      <td>5.397251e+07</td>\n      <td>0.000000</td>\n      <td>9.273152e+08</td>\n      <td>0.751339</td>\n      <td>0.000000e+00</td>\n      <td>0.000000</td>\n      <td>0.000000e+00</td>\n      <td>0.000000</td>\n      <td>0.000000e+00</td>\n      <td>0.000000</td>\n      <td>253800000.0</td>\n      <td>0.0</td>\n    </tr>\n    <tr>\n      <th>2</th>\n      <td>5.397251e+07</td>\n      <td>0.000000</td>\n      <td>7.738218e+07</td>\n      <td>0.055302</td>\n      <td>2.406400e+09</td>\n      <td>3.047160</td>\n      <td>0.000000e+00</td>\n      <td>0.000000</td>\n      <td>0.000000e+00</td>\n      <td>0.000000</td>\n      <td>253800000.0</td>\n      <td>0.0</td>\n    </tr>\n    <tr>\n      <th>3</th>\n      <td>5.397251e+07</td>\n      <td>0.000000</td>\n      <td>1.162590e+08</td>\n      <td>0.097303</td>\n      <td>4.194902e+07</td>\n      <td>0.066999</td>\n      <td>0.000000e+00</td>\n      <td>0.000000</td>\n      <td>0.000000e+00</td>\n      <td>0.000000</td>\n      <td>253800000.0</td>\n      <td>0.0</td>\n    </tr>\n    <tr>\n      <th>4</th>\n      <td>5.397251e+07</td>\n      <td>0.000000</td>\n      <td>4.675440e+08</td>\n      <td>0.439664</td>\n      <td>0.000000e+00</td>\n      <td>0.000000</td>\n      <td>9.450423e+07</td>\n      <td>0.039204</td>\n      <td>0.000000e+00</td>\n      <td>0.000000</td>\n      <td>253800000.0</td>\n      <td>0.0</td>\n    </tr>\n    <tr>\n      <th>...</th>\n      <td>...</td>\n      <td>...</td>\n      <td>...</td>\n      <td>...</td>\n      <td>...</td>\n      <td>...</td>\n      <td>...</td>\n      <td>...</td>\n      <td>...</td>\n      <td>...</td>\n      <td>...</td>\n      <td>...</td>\n    </tr>\n    <tr>\n      <th>295</th>\n      <td>0.000000e+00</td>\n      <td>0.000000</td>\n      <td>2.043931e+06</td>\n      <td>0.002214</td>\n      <td>2.879840e+07</td>\n      <td>0.000000</td>\n      <td>4.748429e+07</td>\n      <td>0.024349</td>\n      <td>0.000000e+00</td>\n      <td>0.000000</td>\n      <td>369700000.0</td>\n      <td>0.0</td>\n    </tr>\n    <tr>\n      <th>296</th>\n      <td>1.297293e+08</td>\n      <td>0.098067</td>\n      <td>6.980930e+08</td>\n      <td>0.696222</td>\n      <td>2.879840e+07</td>\n      <td>0.000000</td>\n      <td>0.000000e+00</td>\n      <td>0.000000</td>\n      <td>0.000000e+00</td>\n      <td>0.000000</td>\n      <td>369700000.0</td>\n      <td>0.0</td>\n    </tr>\n    <tr>\n      <th>297</th>\n      <td>0.000000e+00</td>\n      <td>0.000000</td>\n      <td>3.408242e+07</td>\n      <td>0.036310</td>\n      <td>2.879840e+07</td>\n      <td>0.000000</td>\n      <td>1.282220e+07</td>\n      <td>0.007064</td>\n      <td>3.102053e+08</td>\n      <td>0.306489</td>\n      <td>369700000.0</td>\n      <td>0.0</td>\n    </tr>\n    <tr>\n      <th>298</th>\n      <td>0.000000e+00</td>\n      <td>0.000000</td>\n      <td>4.321335e+07</td>\n      <td>0.036117</td>\n      <td>2.879840e+07</td>\n      <td>0.000000</td>\n      <td>1.354206e+07</td>\n      <td>0.005712</td>\n      <td>1.024950e+08</td>\n      <td>0.080962</td>\n      <td>369700000.0</td>\n      <td>0.0</td>\n    </tr>\n    <tr>\n      <th>299</th>\n      <td>0.000000e+00</td>\n      <td>0.000000</td>\n      <td>3.642483e+08</td>\n      <td>0.261573</td>\n      <td>2.879840e+07</td>\n      <td>0.000000</td>\n      <td>0.000000e+00</td>\n      <td>0.000000</td>\n      <td>0.000000e+00</td>\n      <td>0.000000</td>\n      <td>369700000.0</td>\n      <td>0.0</td>\n    </tr>\n  </tbody>\n</table>\n<p>300 rows × 12 columns</p>\n</div>"
     },
     "execution_count": 16,
     "metadata": {},
     "output_type": "execute_result"
    }
   ],
   "source": [
    "# only works because we have scalar outcomes\n",
    "pd.DataFrame(outcomes)"
   ]
  },
  {
   "cell_type": "code",
   "execution_count": null,
   "metadata": {
    "pycharm": {
     "name": "#%%"
    }
   },
   "outputs": [],
   "source": []
  }
 ],
 "metadata": {
  "kernelspec": {
   "display_name": "Python 3 (ipykernel)",
   "language": "python",
   "name": "python3"
  },
  "language_info": {
   "codemirror_mode": {
    "name": "ipython",
    "version": 3
   },
   "file_extension": ".py",
   "mimetype": "text/x-python",
   "name": "python",
   "nbconvert_exporter": "python",
   "pygments_lexer": "ipython3",
   "version": "3.9.16"
  }
 },
 "nbformat": 4,
 "nbformat_minor": 4
}
