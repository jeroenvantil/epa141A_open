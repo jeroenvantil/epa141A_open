{
 "cells": [
  {
   "cell_type": "code",
   "execution_count": 3,
   "metadata": {
    "ExecuteTime": {
     "end_time": "2024-05-27T13:58:57.850165700Z",
     "start_time": "2024-05-27T13:58:57.605564900Z"
    }
   },
   "outputs": [],
   "source": [
    "import numpy as np\n",
    "import scipy as sp\n",
    "import pandas as pd\n",
    "import matplotlib.pyplot as plt\n",
    "import seaborn as sns\n",
    "import networkx as nx"
   ]
  },
  {
   "cell_type": "code",
   "execution_count": 4,
   "metadata": {
    "ExecuteTime": {
     "end_time": "2024-05-27T13:58:58.474682Z",
     "start_time": "2024-05-27T13:58:58.464441100Z"
    }
   },
   "outputs": [
    {
     "name": "stdout",
     "output_type": "stream",
     "text": [
      "2.0.3\n",
      "3.1\n"
     ]
    }
   ],
   "source": [
    "# make sure pandas is version 1.0 or higher\n",
    "# make sure networkx is verion 2.4 or higher\n",
    "print(pd.__version__)\n",
    "print(nx.__version__)"
   ]
  },
  {
   "cell_type": "code",
   "execution_count": 5,
   "metadata": {
    "scrolled": true,
    "ExecuteTime": {
     "end_time": "2024-05-27T13:59:01.007275Z",
     "start_time": "2024-05-27T13:58:59.465472100Z"
    }
   },
   "outputs": [],
   "source": [
    "from ema_workbench import (\n",
    "    Model,\n",
    "    Policy,\n",
    "    ema_logging,\n",
    "    SequentialEvaluator,\n",
    "    MultiprocessingEvaluator,\n",
    ")\n",
    "from dike_model_function import DikeNetwork  # @UnresolvedImport\n",
    "from problem_formulation import get_model_for_problem_formulation, sum_over, sum_over_time\n",
    "\n"
   ]
  },
  {
   "cell_type": "code",
   "execution_count": 17,
   "metadata": {
    "ExecuteTime": {
     "end_time": "2024-05-27T14:44:21.270471500Z",
     "start_time": "2024-05-27T14:44:20.431746400Z"
    }
   },
   "outputs": [],
   "source": [
    "ema_logging.log_to_stderr(ema_logging.INFO)\n",
    "\n",
    "# choose problem formulation number, between 0-5\n",
    "# each problem formulation has its own list of outcomes\n",
    "dike_model, planning_steps = get_model_for_problem_formulation(2)"
   ]
  },
  {
   "cell_type": "code",
   "execution_count": 18,
   "metadata": {
    "ExecuteTime": {
     "end_time": "2024-05-27T14:44:22.181084200Z",
     "start_time": "2024-05-27T14:44:22.145206200Z"
    }
   },
   "outputs": [
    {
     "name": "stdout",
     "output_type": "stream",
     "text": [
      "CategoricalParameter('discount rate 0', [0, 1, 2, 3])\n",
      "CategoricalParameter('discount rate 1', [0, 1, 2, 3])\n",
      "CategoricalParameter('discount rate 2', [0, 1, 2, 3])\n",
      "IntegerParameter('A.0_ID flood wave shape', 0, 132, resolution=None, default=None, variable_name=['A.0_ID flood wave shape'], pff=False)\n",
      "RealParameter('A.1_Bmax', 30, 350, resolution=None, default=None, variable_name=['A.1_Bmax'], pff=False)\n",
      "RealParameter('A.1_pfail', 0, 1, resolution=None, default=None, variable_name=['A.1_pfail'], pff=False)\n",
      "CategoricalParameter('A.1_Brate', [0, 1, 2])\n",
      "RealParameter('A.2_Bmax', 30, 350, resolution=None, default=None, variable_name=['A.2_Bmax'], pff=False)\n",
      "RealParameter('A.2_pfail', 0, 1, resolution=None, default=None, variable_name=['A.2_pfail'], pff=False)\n",
      "CategoricalParameter('A.2_Brate', [0, 1, 2])\n",
      "RealParameter('A.3_Bmax', 30, 350, resolution=None, default=None, variable_name=['A.3_Bmax'], pff=False)\n",
      "RealParameter('A.3_pfail', 0, 1, resolution=None, default=None, variable_name=['A.3_pfail'], pff=False)\n",
      "CategoricalParameter('A.3_Brate', [0, 1, 2])\n",
      "RealParameter('A.4_Bmax', 30, 350, resolution=None, default=None, variable_name=['A.4_Bmax'], pff=False)\n",
      "RealParameter('A.4_pfail', 0, 1, resolution=None, default=None, variable_name=['A.4_pfail'], pff=False)\n",
      "CategoricalParameter('A.4_Brate', [0, 1, 2])\n",
      "RealParameter('A.5_Bmax', 30, 350, resolution=None, default=None, variable_name=['A.5_Bmax'], pff=False)\n",
      "RealParameter('A.5_pfail', 0, 1, resolution=None, default=None, variable_name=['A.5_pfail'], pff=False)\n",
      "CategoricalParameter('A.5_Brate', [0, 1, 2])\n"
     ]
    }
   ],
   "source": [
    "# enlisting uncertainties, their types (RealParameter/IntegerParameter/CategoricalParameter), lower boundary, and upper boundary\n",
    "import copy\n",
    "\n",
    "for unc in dike_model.uncertainties:\n",
    "    print(repr(unc))\n",
    "\n",
    "uncertainties = copy.deepcopy(dike_model.uncertainties)"
   ]
  },
  {
   "cell_type": "code",
   "execution_count": 19,
   "metadata": {
    "ExecuteTime": {
     "end_time": "2024-05-27T14:44:24.987085700Z",
     "start_time": "2024-05-27T14:44:24.961415300Z"
    }
   },
   "outputs": [
    {
     "name": "stdout",
     "output_type": "stream",
     "text": [
      "IntegerParameter('0_RfR 0', 0, 1, resolution=None, default=None, variable_name=['0_RfR 0'], pff=False)\n",
      "IntegerParameter('0_RfR 1', 0, 1, resolution=None, default=None, variable_name=['0_RfR 1'], pff=False)\n",
      "IntegerParameter('0_RfR 2', 0, 1, resolution=None, default=None, variable_name=['0_RfR 2'], pff=False)\n",
      "IntegerParameter('1_RfR 0', 0, 1, resolution=None, default=None, variable_name=['1_RfR 0'], pff=False)\n",
      "IntegerParameter('1_RfR 1', 0, 1, resolution=None, default=None, variable_name=['1_RfR 1'], pff=False)\n",
      "IntegerParameter('1_RfR 2', 0, 1, resolution=None, default=None, variable_name=['1_RfR 2'], pff=False)\n",
      "IntegerParameter('2_RfR 0', 0, 1, resolution=None, default=None, variable_name=['2_RfR 0'], pff=False)\n",
      "IntegerParameter('2_RfR 1', 0, 1, resolution=None, default=None, variable_name=['2_RfR 1'], pff=False)\n",
      "IntegerParameter('2_RfR 2', 0, 1, resolution=None, default=None, variable_name=['2_RfR 2'], pff=False)\n",
      "IntegerParameter('3_RfR 0', 0, 1, resolution=None, default=None, variable_name=['3_RfR 0'], pff=False)\n",
      "IntegerParameter('3_RfR 1', 0, 1, resolution=None, default=None, variable_name=['3_RfR 1'], pff=False)\n",
      "IntegerParameter('3_RfR 2', 0, 1, resolution=None, default=None, variable_name=['3_RfR 2'], pff=False)\n",
      "IntegerParameter('4_RfR 0', 0, 1, resolution=None, default=None, variable_name=['4_RfR 0'], pff=False)\n",
      "IntegerParameter('4_RfR 1', 0, 1, resolution=None, default=None, variable_name=['4_RfR 1'], pff=False)\n",
      "IntegerParameter('4_RfR 2', 0, 1, resolution=None, default=None, variable_name=['4_RfR 2'], pff=False)\n",
      "IntegerParameter('EWS_DaysToThreat', 0, 4, resolution=None, default=None, variable_name=['EWS_DaysToThreat'], pff=False)\n",
      "IntegerParameter('A.1_DikeIncrease 0', 0, 10, resolution=None, default=None, variable_name=['A.1_DikeIncrease 0'], pff=False)\n",
      "IntegerParameter('A.1_DikeIncrease 1', 0, 10, resolution=None, default=None, variable_name=['A.1_DikeIncrease 1'], pff=False)\n",
      "IntegerParameter('A.1_DikeIncrease 2', 0, 10, resolution=None, default=None, variable_name=['A.1_DikeIncrease 2'], pff=False)\n",
      "IntegerParameter('A.2_DikeIncrease 0', 0, 10, resolution=None, default=None, variable_name=['A.2_DikeIncrease 0'], pff=False)\n",
      "IntegerParameter('A.2_DikeIncrease 1', 0, 10, resolution=None, default=None, variable_name=['A.2_DikeIncrease 1'], pff=False)\n",
      "IntegerParameter('A.2_DikeIncrease 2', 0, 10, resolution=None, default=None, variable_name=['A.2_DikeIncrease 2'], pff=False)\n",
      "IntegerParameter('A.3_DikeIncrease 0', 0, 10, resolution=None, default=None, variable_name=['A.3_DikeIncrease 0'], pff=False)\n",
      "IntegerParameter('A.3_DikeIncrease 1', 0, 10, resolution=None, default=None, variable_name=['A.3_DikeIncrease 1'], pff=False)\n",
      "IntegerParameter('A.3_DikeIncrease 2', 0, 10, resolution=None, default=None, variable_name=['A.3_DikeIncrease 2'], pff=False)\n",
      "IntegerParameter('A.4_DikeIncrease 0', 0, 10, resolution=None, default=None, variable_name=['A.4_DikeIncrease 0'], pff=False)\n",
      "IntegerParameter('A.4_DikeIncrease 1', 0, 10, resolution=None, default=None, variable_name=['A.4_DikeIncrease 1'], pff=False)\n",
      "IntegerParameter('A.4_DikeIncrease 2', 0, 10, resolution=None, default=None, variable_name=['A.4_DikeIncrease 2'], pff=False)\n",
      "IntegerParameter('A.5_DikeIncrease 0', 0, 10, resolution=None, default=None, variable_name=['A.5_DikeIncrease 0'], pff=False)\n",
      "IntegerParameter('A.5_DikeIncrease 1', 0, 10, resolution=None, default=None, variable_name=['A.5_DikeIncrease 1'], pff=False)\n",
      "IntegerParameter('A.5_DikeIncrease 2', 0, 10, resolution=None, default=None, variable_name=['A.5_DikeIncrease 2'], pff=False)\n"
     ]
    }
   ],
   "source": [
    "# enlisting policy levers, their types (RealParameter/IntegerParameter), lower boundary, and upper boundary\n",
    "for policy in dike_model.levers:\n",
    "    print(repr(policy))\n",
    "\n",
    "levers = copy.deepcopy(dike_model.levers)"
   ]
  },
  {
   "cell_type": "code",
   "execution_count": 20,
   "metadata": {
    "ExecuteTime": {
     "end_time": "2024-05-27T14:44:26.563583500Z",
     "start_time": "2024-05-27T14:44:26.554067300Z"
    }
   },
   "outputs": [
    {
     "name": "stdout",
     "output_type": "stream",
     "text": [
      "ScalarOutcome('Expected Annual Damage', variable_name=('A.1_Expected Annual Damage', 'A.2_Expected Annual Damage', 'A.3_Expected Annual Damage', 'A.4_Expected Annual Damage', 'A.5_Expected Annual Damage'), function=<function sum_over at 0x000001CC6575BBA0>)\n",
      "ScalarOutcome('Dike Investment Costs', variable_name=('A.1_Dike Investment Costs', 'A.2_Dike Investment Costs', 'A.3_Dike Investment Costs', 'A.4_Dike Investment Costs', 'A.5_Dike Investment Costs'), function=<function sum_over at 0x000001CC6575BBA0>)\n",
      "ScalarOutcome('RfR Investment Costs', variable_name=('RfR Total Costs',), function=<function sum_over at 0x000001CC6575BBA0>)\n",
      "ScalarOutcome('Evacuation Costs', variable_name=('Expected Evacuation Costs',), function=<function sum_over at 0x000001CC6575BBA0>)\n",
      "ScalarOutcome('Expected Number of Deaths', variable_name=('A.1_Expected Number of Deaths', 'A.2_Expected Number of Deaths', 'A.3_Expected Number of Deaths', 'A.4_Expected Number of Deaths', 'A.5_Expected Number of Deaths'), function=<function sum_over at 0x000001CC6575BBA0>)\n"
     ]
    }
   ],
   "source": [
    "# enlisting outcomes\n",
    "for outcome in dike_model.outcomes:\n",
    "    print(repr(outcome))"
   ]
  },
  {
   "cell_type": "code",
   "execution_count": 21,
   "metadata": {
    "ExecuteTime": {
     "end_time": "2024-05-27T14:45:41.476500800Z",
     "start_time": "2024-05-27T14:44:28.464854400Z"
    }
   },
   "outputs": [
    {
     "name": "stderr",
     "output_type": "stream",
     "text": [
      "[MainProcess/INFO] pool started with 12 workers\n",
      "[MainProcess/INFO] performing 50 scenarios * 4 policies * 1 model(s) = 200 experiments\n",
      "100%|████████████████████████████████████████| 200/200 [00:30<00:00,  6.47it/s]\n",
      "[MainProcess/INFO] experiments finished\n",
      "[MainProcess/INFO] terminating pool\n"
     ]
    }
   ],
   "source": [
    "# running the model through EMA workbench\n",
    "with MultiprocessingEvaluator(dike_model) as evaluator:\n",
    "    results = evaluator.perform_experiments(scenarios=50, policies=4)"
   ]
  },
  {
   "cell_type": "code",
   "execution_count": 22,
   "metadata": {
    "scrolled": true,
    "ExecuteTime": {
     "end_time": "2024-05-27T14:45:47.017647400Z",
     "start_time": "2024-05-27T14:45:46.966585500Z"
    }
   },
   "outputs": [
    {
     "name": "stdout",
     "output_type": "stream",
     "text": [
      "dict_keys(['Expected Annual Damage', 'Dike Investment Costs', 'RfR Investment Costs', 'Evacuation Costs', 'Expected Number of Deaths'])\n"
     ]
    },
    {
     "data": {
      "text/plain": "     A.0_ID flood wave shape    A.1_Bmax A.1_Brate  A.1_pfail    A.2_Bmax  \\\n0                          0  247.205283      10.0   0.664077  236.676645   \n1                         60   60.338034       1.0   0.906600  135.016767   \n2                        114  255.233828       1.5   0.835157  126.643156   \n3                         98  275.368495      10.0   0.407247  313.126604   \n4                         41   78.228741      10.0   0.526537  187.790088   \n..                       ...         ...       ...        ...         ...   \n195                       62  238.176492       1.0   0.899904  245.517236   \n196                       91  280.166389       1.5   0.277761   74.745402   \n197                       56  312.405834      10.0   0.696594  145.351237   \n198                        8  190.281024       1.5   0.723454  266.906858   \n199                       93   83.548037       1.5   0.769183  140.333004   \n\n    A.2_Brate  A.2_pfail    A.3_Bmax A.3_Brate  A.3_pfail  ...  \\\n0         1.5   0.054812   68.898952      10.0   0.563560  ...   \n1         1.5   0.908551  165.546785       1.5   0.402633  ...   \n2        10.0   0.828499  342.750524       1.0   0.723729  ...   \n3         1.5   0.096659  187.831450       1.0   0.123011  ...   \n4         1.5   0.866286  172.465148       1.5   0.184826  ...   \n..        ...        ...         ...       ...        ...  ...   \n195      10.0   0.407298   75.456003       1.5   0.869392  ...   \n196       1.0   0.972846  181.756991      10.0   0.625035  ...   \n197      10.0   0.421926  325.211118       1.5   0.981577  ...   \n198      10.0   0.606508   65.541713       1.5   0.440267  ...   \n199       1.5   0.314160  196.508713       1.0   0.080448  ...   \n\n     A.4_DikeIncrease 0 A.4_DikeIncrease 1  A.4_DikeIncrease 2  \\\n0                     3                  3                   0   \n1                     3                  3                   0   \n2                     3                  3                   0   \n3                     3                  3                   0   \n4                     3                  3                   0   \n..                  ...                ...                 ...   \n195                   2                  1                   2   \n196                   2                  1                   2   \n197                   2                  1                   2   \n198                   2                  1                   2   \n199                   2                  1                   2   \n\n     A.5_DikeIncrease 0 A.5_DikeIncrease 1  A.5_DikeIncrease 2  \\\n0                     2                  0                   2   \n1                     2                  0                   2   \n2                     2                  0                   2   \n3                     2                  0                   2   \n4                     2                  0                   2   \n..                  ...                ...                 ...   \n195                   3                  4                   2   \n196                   3                  4                   2   \n197                   3                  4                   2   \n198                   3                  4                   2   \n199                   3                  4                   2   \n\n    EWS_DaysToThreat scenario policy     model  \n0                  0      158    154  dikesnet  \n1                  0      159    154  dikesnet  \n2                  0      160    154  dikesnet  \n3                  0      161    154  dikesnet  \n4                  0      162    154  dikesnet  \n..               ...      ...    ...       ...  \n195                3      203    157  dikesnet  \n196                3      204    157  dikesnet  \n197                3      205    157  dikesnet  \n198                3      206    157  dikesnet  \n199                3      207    157  dikesnet  \n\n[200 rows x 53 columns]",
      "text/html": "<div>\n<style scoped>\n    .dataframe tbody tr th:only-of-type {\n        vertical-align: middle;\n    }\n\n    .dataframe tbody tr th {\n        vertical-align: top;\n    }\n\n    .dataframe thead th {\n        text-align: right;\n    }\n</style>\n<table border=\"1\" class=\"dataframe\">\n  <thead>\n    <tr style=\"text-align: right;\">\n      <th></th>\n      <th>A.0_ID flood wave shape</th>\n      <th>A.1_Bmax</th>\n      <th>A.1_Brate</th>\n      <th>A.1_pfail</th>\n      <th>A.2_Bmax</th>\n      <th>A.2_Brate</th>\n      <th>A.2_pfail</th>\n      <th>A.3_Bmax</th>\n      <th>A.3_Brate</th>\n      <th>A.3_pfail</th>\n      <th>...</th>\n      <th>A.4_DikeIncrease 0</th>\n      <th>A.4_DikeIncrease 1</th>\n      <th>A.4_DikeIncrease 2</th>\n      <th>A.5_DikeIncrease 0</th>\n      <th>A.5_DikeIncrease 1</th>\n      <th>A.5_DikeIncrease 2</th>\n      <th>EWS_DaysToThreat</th>\n      <th>scenario</th>\n      <th>policy</th>\n      <th>model</th>\n    </tr>\n  </thead>\n  <tbody>\n    <tr>\n      <th>0</th>\n      <td>0</td>\n      <td>247.205283</td>\n      <td>10.0</td>\n      <td>0.664077</td>\n      <td>236.676645</td>\n      <td>1.5</td>\n      <td>0.054812</td>\n      <td>68.898952</td>\n      <td>10.0</td>\n      <td>0.563560</td>\n      <td>...</td>\n      <td>3</td>\n      <td>3</td>\n      <td>0</td>\n      <td>2</td>\n      <td>0</td>\n      <td>2</td>\n      <td>0</td>\n      <td>158</td>\n      <td>154</td>\n      <td>dikesnet</td>\n    </tr>\n    <tr>\n      <th>1</th>\n      <td>60</td>\n      <td>60.338034</td>\n      <td>1.0</td>\n      <td>0.906600</td>\n      <td>135.016767</td>\n      <td>1.5</td>\n      <td>0.908551</td>\n      <td>165.546785</td>\n      <td>1.5</td>\n      <td>0.402633</td>\n      <td>...</td>\n      <td>3</td>\n      <td>3</td>\n      <td>0</td>\n      <td>2</td>\n      <td>0</td>\n      <td>2</td>\n      <td>0</td>\n      <td>159</td>\n      <td>154</td>\n      <td>dikesnet</td>\n    </tr>\n    <tr>\n      <th>2</th>\n      <td>114</td>\n      <td>255.233828</td>\n      <td>1.5</td>\n      <td>0.835157</td>\n      <td>126.643156</td>\n      <td>10.0</td>\n      <td>0.828499</td>\n      <td>342.750524</td>\n      <td>1.0</td>\n      <td>0.723729</td>\n      <td>...</td>\n      <td>3</td>\n      <td>3</td>\n      <td>0</td>\n      <td>2</td>\n      <td>0</td>\n      <td>2</td>\n      <td>0</td>\n      <td>160</td>\n      <td>154</td>\n      <td>dikesnet</td>\n    </tr>\n    <tr>\n      <th>3</th>\n      <td>98</td>\n      <td>275.368495</td>\n      <td>10.0</td>\n      <td>0.407247</td>\n      <td>313.126604</td>\n      <td>1.5</td>\n      <td>0.096659</td>\n      <td>187.831450</td>\n      <td>1.0</td>\n      <td>0.123011</td>\n      <td>...</td>\n      <td>3</td>\n      <td>3</td>\n      <td>0</td>\n      <td>2</td>\n      <td>0</td>\n      <td>2</td>\n      <td>0</td>\n      <td>161</td>\n      <td>154</td>\n      <td>dikesnet</td>\n    </tr>\n    <tr>\n      <th>4</th>\n      <td>41</td>\n      <td>78.228741</td>\n      <td>10.0</td>\n      <td>0.526537</td>\n      <td>187.790088</td>\n      <td>1.5</td>\n      <td>0.866286</td>\n      <td>172.465148</td>\n      <td>1.5</td>\n      <td>0.184826</td>\n      <td>...</td>\n      <td>3</td>\n      <td>3</td>\n      <td>0</td>\n      <td>2</td>\n      <td>0</td>\n      <td>2</td>\n      <td>0</td>\n      <td>162</td>\n      <td>154</td>\n      <td>dikesnet</td>\n    </tr>\n    <tr>\n      <th>...</th>\n      <td>...</td>\n      <td>...</td>\n      <td>...</td>\n      <td>...</td>\n      <td>...</td>\n      <td>...</td>\n      <td>...</td>\n      <td>...</td>\n      <td>...</td>\n      <td>...</td>\n      <td>...</td>\n      <td>...</td>\n      <td>...</td>\n      <td>...</td>\n      <td>...</td>\n      <td>...</td>\n      <td>...</td>\n      <td>...</td>\n      <td>...</td>\n      <td>...</td>\n      <td>...</td>\n    </tr>\n    <tr>\n      <th>195</th>\n      <td>62</td>\n      <td>238.176492</td>\n      <td>1.0</td>\n      <td>0.899904</td>\n      <td>245.517236</td>\n      <td>10.0</td>\n      <td>0.407298</td>\n      <td>75.456003</td>\n      <td>1.5</td>\n      <td>0.869392</td>\n      <td>...</td>\n      <td>2</td>\n      <td>1</td>\n      <td>2</td>\n      <td>3</td>\n      <td>4</td>\n      <td>2</td>\n      <td>3</td>\n      <td>203</td>\n      <td>157</td>\n      <td>dikesnet</td>\n    </tr>\n    <tr>\n      <th>196</th>\n      <td>91</td>\n      <td>280.166389</td>\n      <td>1.5</td>\n      <td>0.277761</td>\n      <td>74.745402</td>\n      <td>1.0</td>\n      <td>0.972846</td>\n      <td>181.756991</td>\n      <td>10.0</td>\n      <td>0.625035</td>\n      <td>...</td>\n      <td>2</td>\n      <td>1</td>\n      <td>2</td>\n      <td>3</td>\n      <td>4</td>\n      <td>2</td>\n      <td>3</td>\n      <td>204</td>\n      <td>157</td>\n      <td>dikesnet</td>\n    </tr>\n    <tr>\n      <th>197</th>\n      <td>56</td>\n      <td>312.405834</td>\n      <td>10.0</td>\n      <td>0.696594</td>\n      <td>145.351237</td>\n      <td>10.0</td>\n      <td>0.421926</td>\n      <td>325.211118</td>\n      <td>1.5</td>\n      <td>0.981577</td>\n      <td>...</td>\n      <td>2</td>\n      <td>1</td>\n      <td>2</td>\n      <td>3</td>\n      <td>4</td>\n      <td>2</td>\n      <td>3</td>\n      <td>205</td>\n      <td>157</td>\n      <td>dikesnet</td>\n    </tr>\n    <tr>\n      <th>198</th>\n      <td>8</td>\n      <td>190.281024</td>\n      <td>1.5</td>\n      <td>0.723454</td>\n      <td>266.906858</td>\n      <td>10.0</td>\n      <td>0.606508</td>\n      <td>65.541713</td>\n      <td>1.5</td>\n      <td>0.440267</td>\n      <td>...</td>\n      <td>2</td>\n      <td>1</td>\n      <td>2</td>\n      <td>3</td>\n      <td>4</td>\n      <td>2</td>\n      <td>3</td>\n      <td>206</td>\n      <td>157</td>\n      <td>dikesnet</td>\n    </tr>\n    <tr>\n      <th>199</th>\n      <td>93</td>\n      <td>83.548037</td>\n      <td>1.5</td>\n      <td>0.769183</td>\n      <td>140.333004</td>\n      <td>1.5</td>\n      <td>0.314160</td>\n      <td>196.508713</td>\n      <td>1.0</td>\n      <td>0.080448</td>\n      <td>...</td>\n      <td>2</td>\n      <td>1</td>\n      <td>2</td>\n      <td>3</td>\n      <td>4</td>\n      <td>2</td>\n      <td>3</td>\n      <td>207</td>\n      <td>157</td>\n      <td>dikesnet</td>\n    </tr>\n  </tbody>\n</table>\n<p>200 rows × 53 columns</p>\n</div>"
     },
     "execution_count": 22,
     "metadata": {},
     "output_type": "execute_result"
    }
   ],
   "source": [
    "# observing the simulation runs\n",
    "experiments, outcomes = results\n",
    "print(outcomes.keys())\n",
    "experiments"
   ]
  },
  {
   "cell_type": "code",
   "execution_count": 23,
   "metadata": {
    "ExecuteTime": {
     "end_time": "2024-05-27T14:45:48.172517300Z",
     "start_time": "2024-05-27T14:45:48.129503Z"
    }
   },
   "outputs": [
    {
     "data": {
      "text/plain": "     Expected Annual Damage  Dike Investment Costs  RfR Investment Costs  \\\n0              3.138065e+08           6.055853e+08          1.482300e+09   \n1              8.458916e+06           6.055853e+08          1.482300e+09   \n2              1.744254e+06           6.055853e+08          1.482300e+09   \n3              1.816941e+08           6.055853e+08          1.482300e+09   \n4              2.437189e+07           6.055853e+08          1.482300e+09   \n..                      ...                    ...                   ...   \n195            3.596042e+06           5.466728e+08          1.099700e+09   \n196            2.429640e+06           5.466728e+08          1.099700e+09   \n197            5.955223e+06           5.466728e+08          1.099700e+09   \n198            5.538697e+07           5.466728e+08          1.099700e+09   \n199            9.531037e+07           5.466728e+08          1.099700e+09   \n\n     Evacuation Costs  Expected Number of Deaths  \n0            0.000000                   0.206278  \n1            0.000000                   0.008393  \n2            0.000000                   0.001680  \n3            0.000000                   0.131056  \n4            0.000000                   0.025289  \n..                ...                        ...  \n195        272.804596                   0.000490  \n196        161.146883                   0.000150  \n197        384.352115                   0.000321  \n198       4080.065146                   0.003315  \n199       6106.855185                   0.019576  \n\n[200 rows x 5 columns]",
      "text/html": "<div>\n<style scoped>\n    .dataframe tbody tr th:only-of-type {\n        vertical-align: middle;\n    }\n\n    .dataframe tbody tr th {\n        vertical-align: top;\n    }\n\n    .dataframe thead th {\n        text-align: right;\n    }\n</style>\n<table border=\"1\" class=\"dataframe\">\n  <thead>\n    <tr style=\"text-align: right;\">\n      <th></th>\n      <th>Expected Annual Damage</th>\n      <th>Dike Investment Costs</th>\n      <th>RfR Investment Costs</th>\n      <th>Evacuation Costs</th>\n      <th>Expected Number of Deaths</th>\n    </tr>\n  </thead>\n  <tbody>\n    <tr>\n      <th>0</th>\n      <td>3.138065e+08</td>\n      <td>6.055853e+08</td>\n      <td>1.482300e+09</td>\n      <td>0.000000</td>\n      <td>0.206278</td>\n    </tr>\n    <tr>\n      <th>1</th>\n      <td>8.458916e+06</td>\n      <td>6.055853e+08</td>\n      <td>1.482300e+09</td>\n      <td>0.000000</td>\n      <td>0.008393</td>\n    </tr>\n    <tr>\n      <th>2</th>\n      <td>1.744254e+06</td>\n      <td>6.055853e+08</td>\n      <td>1.482300e+09</td>\n      <td>0.000000</td>\n      <td>0.001680</td>\n    </tr>\n    <tr>\n      <th>3</th>\n      <td>1.816941e+08</td>\n      <td>6.055853e+08</td>\n      <td>1.482300e+09</td>\n      <td>0.000000</td>\n      <td>0.131056</td>\n    </tr>\n    <tr>\n      <th>4</th>\n      <td>2.437189e+07</td>\n      <td>6.055853e+08</td>\n      <td>1.482300e+09</td>\n      <td>0.000000</td>\n      <td>0.025289</td>\n    </tr>\n    <tr>\n      <th>...</th>\n      <td>...</td>\n      <td>...</td>\n      <td>...</td>\n      <td>...</td>\n      <td>...</td>\n    </tr>\n    <tr>\n      <th>195</th>\n      <td>3.596042e+06</td>\n      <td>5.466728e+08</td>\n      <td>1.099700e+09</td>\n      <td>272.804596</td>\n      <td>0.000490</td>\n    </tr>\n    <tr>\n      <th>196</th>\n      <td>2.429640e+06</td>\n      <td>5.466728e+08</td>\n      <td>1.099700e+09</td>\n      <td>161.146883</td>\n      <td>0.000150</td>\n    </tr>\n    <tr>\n      <th>197</th>\n      <td>5.955223e+06</td>\n      <td>5.466728e+08</td>\n      <td>1.099700e+09</td>\n      <td>384.352115</td>\n      <td>0.000321</td>\n    </tr>\n    <tr>\n      <th>198</th>\n      <td>5.538697e+07</td>\n      <td>5.466728e+08</td>\n      <td>1.099700e+09</td>\n      <td>4080.065146</td>\n      <td>0.003315</td>\n    </tr>\n    <tr>\n      <th>199</th>\n      <td>9.531037e+07</td>\n      <td>5.466728e+08</td>\n      <td>1.099700e+09</td>\n      <td>6106.855185</td>\n      <td>0.019576</td>\n    </tr>\n  </tbody>\n</table>\n<p>200 rows × 5 columns</p>\n</div>"
     },
     "execution_count": 23,
     "metadata": {},
     "output_type": "execute_result"
    }
   ],
   "source": [
    "# only works because we have scalar outcomes\n",
    "pd.DataFrame(outcomes)"
   ]
  },
  {
   "cell_type": "code",
   "execution_count": 24,
   "metadata": {
    "ExecuteTime": {
     "end_time": "2024-05-27T14:45:49.166040500Z",
     "start_time": "2024-05-27T14:45:49.149458700Z"
    }
   },
   "outputs": [],
   "source": [
    "# defining specific policies\n",
    "# for example, policy 1 is about extra protection in upper boundary\n",
    "# policy 2 is about extra protection in lower boundary\n",
    "# policy 3 is extra protection in random locations\n",
    "\n",
    "\n",
    "def get_do_nothing_dict():\n",
    "    return {l.name: 0 for l in dike_model.levers}\n",
    "\n",
    "\n",
    "policies = [\n",
    "    Policy(\n",
    "        \"policy 1\",\n",
    "        **dict(\n",
    "            get_do_nothing_dict(),\n",
    "            **{\"0_RfR 0\": 1, \"0_RfR 1\": 1, \"0_RfR 2\": 1, \"A.1_DikeIncrease 0\": 5}\n",
    "        )\n",
    "    ),\n",
    "    Policy(\n",
    "        \"policy 2\",\n",
    "        **dict(\n",
    "            get_do_nothing_dict(),\n",
    "            **{\"4_RfR 0\": 1, \"4_RfR 1\": 1, \"4_RfR 2\": 1, \"A.5_DikeIncrease 0\": 5}\n",
    "        )\n",
    "    ),\n",
    "    Policy(\n",
    "        \"policy 3\",\n",
    "        **dict(\n",
    "            get_do_nothing_dict(),\n",
    "            **{\"1_RfR 0\": 1, \"2_RfR 1\": 1, \"3_RfR 2\": 1, \"A.3_DikeIncrease 0\": 5}\n",
    "        )\n",
    "    ),\n",
    "]"
   ]
  },
  {
   "cell_type": "code",
   "execution_count": 25,
   "metadata": {
    "ExecuteTime": {
     "end_time": "2024-05-27T14:47:27.202762100Z",
     "start_time": "2024-05-27T14:45:51.086068800Z"
    }
   },
   "outputs": [
    {
     "name": "stderr",
     "output_type": "stream",
     "text": [
      "[MainProcess/INFO] pool started with 12 workers\n",
      "[MainProcess/INFO] performing 100 scenarios * 3 policies * 1 model(s) = 300 experiments\n",
      "100%|████████████████████████████████████████| 300/300 [00:47<00:00,  6.33it/s]\n",
      "[MainProcess/INFO] experiments finished\n",
      "[MainProcess/INFO] terminating pool\n"
     ]
    }
   ],
   "source": [
    "# pass the policies list to EMA workbench experiment runs\n",
    "n_scenarios = 100\n",
    "with MultiprocessingEvaluator(dike_model) as evaluator:\n",
    "    results = evaluator.perform_experiments(n_scenarios, policies)"
   ]
  },
  {
   "cell_type": "code",
   "execution_count": 26,
   "metadata": {
    "ExecuteTime": {
     "end_time": "2024-05-27T14:47:27.222224900Z",
     "start_time": "2024-05-27T14:47:27.210130100Z"
    }
   },
   "outputs": [],
   "source": [
    "experiments, outcomes = results"
   ]
  },
  {
   "cell_type": "code",
   "execution_count": 27,
   "metadata": {
    "ExecuteTime": {
     "end_time": "2024-05-27T14:47:27.271951Z",
     "start_time": "2024-05-27T14:47:27.217960Z"
    }
   },
   "outputs": [
    {
     "data": {
      "text/plain": "     Expected Annual Damage  Dike Investment Costs  RfR Investment Costs  \\\n0              8.167305e+08           5.397251e+07           253800000.0   \n1              3.221137e+08           5.397251e+07           253800000.0   \n2              1.141255e+08           5.397251e+07           253800000.0   \n3              4.011993e+08           5.397251e+07           253800000.0   \n4              5.148275e+08           5.397251e+07           253800000.0   \n..                      ...                    ...                   ...   \n295            1.027849e+08           2.879840e+07           369700000.0   \n296            2.419468e+09           2.879840e+07           369700000.0   \n297            3.855063e+08           2.879840e+07           369700000.0   \n298            2.870363e+09           2.879840e+07           369700000.0   \n299            3.312838e+07           2.879840e+07           369700000.0   \n\n     Evacuation Costs  Expected Number of Deaths  \n0                 0.0                   0.899376  \n1                 0.0                   0.261957  \n2                 0.0                   0.132941  \n3                 0.0                   0.399451  \n4                 0.0                   1.027389  \n..                ...                        ...  \n295               0.0                   0.104628  \n296               0.0                   1.721550  \n297               0.0                   0.497921  \n298               0.0                   1.741875  \n299               0.0                   0.025874  \n\n[300 rows x 5 columns]",
      "text/html": "<div>\n<style scoped>\n    .dataframe tbody tr th:only-of-type {\n        vertical-align: middle;\n    }\n\n    .dataframe tbody tr th {\n        vertical-align: top;\n    }\n\n    .dataframe thead th {\n        text-align: right;\n    }\n</style>\n<table border=\"1\" class=\"dataframe\">\n  <thead>\n    <tr style=\"text-align: right;\">\n      <th></th>\n      <th>Expected Annual Damage</th>\n      <th>Dike Investment Costs</th>\n      <th>RfR Investment Costs</th>\n      <th>Evacuation Costs</th>\n      <th>Expected Number of Deaths</th>\n    </tr>\n  </thead>\n  <tbody>\n    <tr>\n      <th>0</th>\n      <td>8.167305e+08</td>\n      <td>5.397251e+07</td>\n      <td>253800000.0</td>\n      <td>0.0</td>\n      <td>0.899376</td>\n    </tr>\n    <tr>\n      <th>1</th>\n      <td>3.221137e+08</td>\n      <td>5.397251e+07</td>\n      <td>253800000.0</td>\n      <td>0.0</td>\n      <td>0.261957</td>\n    </tr>\n    <tr>\n      <th>2</th>\n      <td>1.141255e+08</td>\n      <td>5.397251e+07</td>\n      <td>253800000.0</td>\n      <td>0.0</td>\n      <td>0.132941</td>\n    </tr>\n    <tr>\n      <th>3</th>\n      <td>4.011993e+08</td>\n      <td>5.397251e+07</td>\n      <td>253800000.0</td>\n      <td>0.0</td>\n      <td>0.399451</td>\n    </tr>\n    <tr>\n      <th>4</th>\n      <td>5.148275e+08</td>\n      <td>5.397251e+07</td>\n      <td>253800000.0</td>\n      <td>0.0</td>\n      <td>1.027389</td>\n    </tr>\n    <tr>\n      <th>...</th>\n      <td>...</td>\n      <td>...</td>\n      <td>...</td>\n      <td>...</td>\n      <td>...</td>\n    </tr>\n    <tr>\n      <th>295</th>\n      <td>1.027849e+08</td>\n      <td>2.879840e+07</td>\n      <td>369700000.0</td>\n      <td>0.0</td>\n      <td>0.104628</td>\n    </tr>\n    <tr>\n      <th>296</th>\n      <td>2.419468e+09</td>\n      <td>2.879840e+07</td>\n      <td>369700000.0</td>\n      <td>0.0</td>\n      <td>1.721550</td>\n    </tr>\n    <tr>\n      <th>297</th>\n      <td>3.855063e+08</td>\n      <td>2.879840e+07</td>\n      <td>369700000.0</td>\n      <td>0.0</td>\n      <td>0.497921</td>\n    </tr>\n    <tr>\n      <th>298</th>\n      <td>2.870363e+09</td>\n      <td>2.879840e+07</td>\n      <td>369700000.0</td>\n      <td>0.0</td>\n      <td>1.741875</td>\n    </tr>\n    <tr>\n      <th>299</th>\n      <td>3.312838e+07</td>\n      <td>2.879840e+07</td>\n      <td>369700000.0</td>\n      <td>0.0</td>\n      <td>0.025874</td>\n    </tr>\n  </tbody>\n</table>\n<p>300 rows × 5 columns</p>\n</div>"
     },
     "execution_count": 27,
     "metadata": {},
     "output_type": "execute_result"
    }
   ],
   "source": [
    "# only works because we have scalar outcomes\n",
    "pd.DataFrame(outcomes)"
   ]
  },
  {
   "cell_type": "code",
   "execution_count": 27,
   "metadata": {
    "pycharm": {
     "name": "#%%"
    },
    "ExecuteTime": {
     "end_time": "2024-05-27T14:47:27.274616300Z",
     "start_time": "2024-05-27T14:47:27.246037300Z"
    }
   },
   "outputs": [],
   "source": []
  },
  {
   "cell_type": "code",
   "outputs": [],
   "source": [],
   "metadata": {
    "collapsed": false
   }
  }
 ],
 "metadata": {
  "kernelspec": {
   "display_name": "Python 3 (ipykernel)",
   "language": "python",
   "name": "python3"
  },
  "language_info": {
   "codemirror_mode": {
    "name": "ipython",
    "version": 3
   },
   "file_extension": ".py",
   "mimetype": "text/x-python",
   "name": "python",
   "nbconvert_exporter": "python",
   "pygments_lexer": "ipython3",
   "version": "3.9.16"
  }
 },
 "nbformat": 4,
 "nbformat_minor": 4
}
