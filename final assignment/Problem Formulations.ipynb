{
 "cells": [
  {
   "cell_type": "code",
   "metadata": {
    "ExecuteTime": {
     "end_time": "2024-05-30T12:21:14.385178Z",
     "start_time": "2024-05-30T12:21:12.592017Z"
    }
   },
   "source": [
    "import numpy as np\n",
    "import scipy as sp\n",
    "import pandas as pd\n",
    "import matplotlib.pyplot as plt\n",
    "import seaborn as sns\n",
    "import networkx as nx"
   ],
   "outputs": [],
   "execution_count": 1
  },
  {
   "cell_type": "code",
   "metadata": {
    "ExecuteTime": {
     "end_time": "2024-05-30T12:21:14.417606Z",
     "start_time": "2024-05-30T12:21:14.390165Z"
    }
   },
   "source": [
    "# make sure pandas is version 1.0 or higher\n",
    "# make sure networkx is verion 2.4 or higher\n",
    "print(pd.__version__)\n",
    "print(nx.__version__)"
   ],
   "outputs": [
    {
     "name": "stdout",
     "output_type": "stream",
     "text": [
      "2.1.3\n",
      "3.2.1\n"
     ]
    }
   ],
   "execution_count": 2
  },
  {
   "cell_type": "code",
   "source": [
    "from ema_workbench import (\n",
    "    Model,\n",
    "    Policy,\n",
    "    ema_logging,\n",
    "    SequentialEvaluator,\n",
    "    MultiprocessingEvaluator, \n",
    "    perform_experiments,\n",
    "    Samplers\n",
    ")\n",
    "from SALib.analyze import sobol\n",
    "from ema_workbench.em_framework.salib_samplers import get_SALib_problem\n",
    "from tqdm import tqdm\n",
    "from ema_workbench.analysis import feature_scoring\n",
    "\n",
    "from dike_model_function import DikeNetwork  # @UnresolvedImport\n",
    "from problem_formulation import get_model_for_problem_formulation, sum_over, sum_over_time\n",
    "\n"
   ],
   "metadata": {
    "collapsed": false,
    "ExecuteTime": {
     "end_time": "2024-05-30T12:21:25.488981Z",
     "start_time": "2024-05-30T12:21:14.424589Z"
    }
   },
   "outputs": [],
   "execution_count": 3
  },
  {
   "cell_type": "code",
   "source": [
    "ema_logging.log_to_stderr(ema_logging.INFO)\n",
    "\n",
    "# choose problem formulation number, between 0-5\n",
    "# each problem formulation has its own list of outcomes\n",
    "dike_model, planning_steps = get_model_for_problem_formulation(2)"
   ],
   "metadata": {
    "collapsed": false,
    "ExecuteTime": {
     "end_time": "2024-05-30T12:21:27.945418Z",
     "start_time": "2024-05-30T12:21:25.492066Z"
    }
   },
   "outputs": [],
   "execution_count": 4
  },
  {
   "cell_type": "code",
   "source": [
    "# enlisting uncertainties, their types (RealParameter/IntegerParameter/CategoricalParameter), lower boundary, and upper boundary\n",
    "import copy\n",
    "\n",
    "for unc in dike_model.uncertainties:\n",
    "    print(repr(unc))\n",
    "\n",
    "uncertainties = copy.deepcopy(dike_model.uncertainties)"
   ],
   "metadata": {
    "collapsed": false,
    "ExecuteTime": {
     "end_time": "2024-05-30T12:21:29.936350Z",
     "start_time": "2024-05-30T12:21:29.896932Z"
    }
   },
   "outputs": [
    {
     "name": "stdout",
     "output_type": "stream",
     "text": [
      "CategoricalParameter('discount rate 0', [0, 1, 2, 3])\n",
      "CategoricalParameter('discount rate 1', [0, 1, 2, 3])\n",
      "CategoricalParameter('discount rate 2', [0, 1, 2, 3])\n",
      "IntegerParameter('A.0_ID flood wave shape', 0, 132, resolution=None, default=None, variable_name=['A.0_ID flood wave shape'], pff=False)\n",
      "RealParameter('A.1_Bmax', 30, 350, resolution=None, default=None, variable_name=['A.1_Bmax'], pff=False)\n",
      "RealParameter('A.1_pfail', 0, 1, resolution=None, default=None, variable_name=['A.1_pfail'], pff=False)\n",
      "CategoricalParameter('A.1_Brate', [0, 1, 2])\n",
      "RealParameter('A.2_Bmax', 30, 350, resolution=None, default=None, variable_name=['A.2_Bmax'], pff=False)\n",
      "RealParameter('A.2_pfail', 0, 1, resolution=None, default=None, variable_name=['A.2_pfail'], pff=False)\n",
      "CategoricalParameter('A.2_Brate', [0, 1, 2])\n",
      "RealParameter('A.3_Bmax', 30, 350, resolution=None, default=None, variable_name=['A.3_Bmax'], pff=False)\n",
      "RealParameter('A.3_pfail', 0, 1, resolution=None, default=None, variable_name=['A.3_pfail'], pff=False)\n",
      "CategoricalParameter('A.3_Brate', [0, 1, 2])\n",
      "RealParameter('A.4_Bmax', 30, 350, resolution=None, default=None, variable_name=['A.4_Bmax'], pff=False)\n",
      "RealParameter('A.4_pfail', 0, 1, resolution=None, default=None, variable_name=['A.4_pfail'], pff=False)\n",
      "CategoricalParameter('A.4_Brate', [0, 1, 2])\n",
      "RealParameter('A.5_Bmax', 30, 350, resolution=None, default=None, variable_name=['A.5_Bmax'], pff=False)\n",
      "RealParameter('A.5_pfail', 0, 1, resolution=None, default=None, variable_name=['A.5_pfail'], pff=False)\n",
      "CategoricalParameter('A.5_Brate', [0, 1, 2])\n"
     ]
    }
   ],
   "execution_count": 5
  },
  {
   "cell_type": "code",
   "source": [
    "# enlisting policy levers, their types (RealParameter/IntegerParameter), lower boundary, and upper boundary\n",
    "for policy in dike_model.levers:\n",
    "    print(repr(policy))\n",
    "\n",
    "levers = copy.deepcopy(dike_model.levers)"
   ],
   "metadata": {
    "collapsed": false,
    "ExecuteTime": {
     "end_time": "2024-05-30T12:21:30.467380Z",
     "start_time": "2024-05-30T12:21:30.411798Z"
    }
   },
   "outputs": [
    {
     "name": "stdout",
     "output_type": "stream",
     "text": [
      "IntegerParameter('0_RfR 0', 0, 1, resolution=None, default=None, variable_name=['0_RfR 0'], pff=False)\n",
      "IntegerParameter('0_RfR 1', 0, 1, resolution=None, default=None, variable_name=['0_RfR 1'], pff=False)\n",
      "IntegerParameter('0_RfR 2', 0, 1, resolution=None, default=None, variable_name=['0_RfR 2'], pff=False)\n",
      "IntegerParameter('1_RfR 0', 0, 1, resolution=None, default=None, variable_name=['1_RfR 0'], pff=False)\n",
      "IntegerParameter('1_RfR 1', 0, 1, resolution=None, default=None, variable_name=['1_RfR 1'], pff=False)\n",
      "IntegerParameter('1_RfR 2', 0, 1, resolution=None, default=None, variable_name=['1_RfR 2'], pff=False)\n",
      "IntegerParameter('2_RfR 0', 0, 1, resolution=None, default=None, variable_name=['2_RfR 0'], pff=False)\n",
      "IntegerParameter('2_RfR 1', 0, 1, resolution=None, default=None, variable_name=['2_RfR 1'], pff=False)\n",
      "IntegerParameter('2_RfR 2', 0, 1, resolution=None, default=None, variable_name=['2_RfR 2'], pff=False)\n",
      "IntegerParameter('3_RfR 0', 0, 1, resolution=None, default=None, variable_name=['3_RfR 0'], pff=False)\n",
      "IntegerParameter('3_RfR 1', 0, 1, resolution=None, default=None, variable_name=['3_RfR 1'], pff=False)\n",
      "IntegerParameter('3_RfR 2', 0, 1, resolution=None, default=None, variable_name=['3_RfR 2'], pff=False)\n",
      "IntegerParameter('4_RfR 0', 0, 1, resolution=None, default=None, variable_name=['4_RfR 0'], pff=False)\n",
      "IntegerParameter('4_RfR 1', 0, 1, resolution=None, default=None, variable_name=['4_RfR 1'], pff=False)\n",
      "IntegerParameter('4_RfR 2', 0, 1, resolution=None, default=None, variable_name=['4_RfR 2'], pff=False)\n",
      "IntegerParameter('EWS_DaysToThreat', 0, 4, resolution=None, default=None, variable_name=['EWS_DaysToThreat'], pff=False)\n",
      "IntegerParameter('A.1_DikeIncrease 0', 0, 10, resolution=None, default=None, variable_name=['A.1_DikeIncrease 0'], pff=False)\n",
      "IntegerParameter('A.1_DikeIncrease 1', 0, 10, resolution=None, default=None, variable_name=['A.1_DikeIncrease 1'], pff=False)\n",
      "IntegerParameter('A.1_DikeIncrease 2', 0, 10, resolution=None, default=None, variable_name=['A.1_DikeIncrease 2'], pff=False)\n",
      "IntegerParameter('A.2_DikeIncrease 0', 0, 10, resolution=None, default=None, variable_name=['A.2_DikeIncrease 0'], pff=False)\n",
      "IntegerParameter('A.2_DikeIncrease 1', 0, 10, resolution=None, default=None, variable_name=['A.2_DikeIncrease 1'], pff=False)\n",
      "IntegerParameter('A.2_DikeIncrease 2', 0, 10, resolution=None, default=None, variable_name=['A.2_DikeIncrease 2'], pff=False)\n",
      "IntegerParameter('A.3_DikeIncrease 0', 0, 10, resolution=None, default=None, variable_name=['A.3_DikeIncrease 0'], pff=False)\n",
      "IntegerParameter('A.3_DikeIncrease 1', 0, 10, resolution=None, default=None, variable_name=['A.3_DikeIncrease 1'], pff=False)\n",
      "IntegerParameter('A.3_DikeIncrease 2', 0, 10, resolution=None, default=None, variable_name=['A.3_DikeIncrease 2'], pff=False)\n",
      "IntegerParameter('A.4_DikeIncrease 0', 0, 10, resolution=None, default=None, variable_name=['A.4_DikeIncrease 0'], pff=False)\n",
      "IntegerParameter('A.4_DikeIncrease 1', 0, 10, resolution=None, default=None, variable_name=['A.4_DikeIncrease 1'], pff=False)\n",
      "IntegerParameter('A.4_DikeIncrease 2', 0, 10, resolution=None, default=None, variable_name=['A.4_DikeIncrease 2'], pff=False)\n",
      "IntegerParameter('A.5_DikeIncrease 0', 0, 10, resolution=None, default=None, variable_name=['A.5_DikeIncrease 0'], pff=False)\n",
      "IntegerParameter('A.5_DikeIncrease 1', 0, 10, resolution=None, default=None, variable_name=['A.5_DikeIncrease 1'], pff=False)\n",
      "IntegerParameter('A.5_DikeIncrease 2', 0, 10, resolution=None, default=None, variable_name=['A.5_DikeIncrease 2'], pff=False)\n"
     ]
    }
   ],
   "execution_count": 6
  },
  {
   "cell_type": "code",
   "source": [
    "# enlisting outcomes\n",
    "for outcome in dike_model.outcomes:\n",
    "    print(repr(outcome))"
   ],
   "metadata": {
    "collapsed": false,
    "ExecuteTime": {
     "end_time": "2024-05-30T12:21:32.621758Z",
     "start_time": "2024-05-30T12:21:32.609780Z"
    }
   },
   "outputs": [
    {
     "name": "stdout",
     "output_type": "stream",
     "text": [
      "ScalarOutcome('A.1 Total Costs', variable_name=('A.1_Expected Annual Damage', 'A.1_Dike Investment Costs'), function=<function sum_over at 0x000001A0418EB160>)\n",
      "ScalarOutcome('A.1_Expected Number of Deaths', variable_name=('A.1_Expected Number of Deaths',), function=<function sum_over at 0x000001A0418EB160>)\n",
      "ScalarOutcome('A.2 Total Costs', variable_name=('A.2_Expected Annual Damage', 'A.2_Dike Investment Costs'), function=<function sum_over at 0x000001A0418EB160>)\n",
      "ScalarOutcome('A.2_Expected Number of Deaths', variable_name=('A.2_Expected Number of Deaths',), function=<function sum_over at 0x000001A0418EB160>)\n",
      "ScalarOutcome('A.3 Total Costs', variable_name=('A.3_Expected Annual Damage', 'A.3_Dike Investment Costs'), function=<function sum_over at 0x000001A0418EB160>)\n",
      "ScalarOutcome('A.3_Expected Number of Deaths', variable_name=('A.3_Expected Number of Deaths',), function=<function sum_over at 0x000001A0418EB160>)\n",
      "ScalarOutcome('A.4 Total Costs', variable_name=('A.4_Expected Annual Damage', 'A.4_Dike Investment Costs'), function=<function sum_over at 0x000001A0418EB160>)\n",
      "ScalarOutcome('A.4_Expected Number of Deaths', variable_name=('A.4_Expected Number of Deaths',), function=<function sum_over at 0x000001A0418EB160>)\n",
      "ScalarOutcome('A.5 Total Costs', variable_name=('A.5_Expected Annual Damage', 'A.5_Dike Investment Costs'), function=<function sum_over at 0x000001A0418EB160>)\n",
      "ScalarOutcome('A.5_Expected Number of Deaths', variable_name=('A.5_Expected Number of Deaths',), function=<function sum_over at 0x000001A0418EB160>)\n",
      "ScalarOutcome('RfR Total Costs', variable_name=('RfR Total Costs',), function=<function sum_over at 0x000001A0418EB160>)\n",
      "ScalarOutcome('Expected Evacuation Costs', variable_name=('Expected Evacuation Costs',), function=<function sum_over at 0x000001A0418EB160>)\n"
     ]
    }
   ],
   "execution_count": 7
  },
  {
   "cell_type": "code",
   "source": [
    "# # running the model through EMA workbench\n",
    "# with MultiprocessingEvaluator(dike_model) as evaluator:\n",
    "#     results = evaluator.perform_experiments(scenarios=50, policies=4)"
   ],
   "metadata": {
    "collapsed": false,
    "ExecuteTime": {
     "end_time": "2024-05-30T12:21:33.558550Z",
     "start_time": "2024-05-30T12:21:33.544584Z"
    }
   },
   "outputs": [],
   "execution_count": 8
  },
  {
   "cell_type": "code",
   "source": [
    "# # observing the simulation runs\n",
    "# experiments, outcomes = results\n",
    "# print(outcomes.keys())\n",
    "# experiments"
   ],
   "metadata": {
    "collapsed": false,
    "ExecuteTime": {
     "end_time": "2024-05-30T12:21:35.379434Z",
     "start_time": "2024-05-30T12:21:35.363479Z"
    }
   },
   "outputs": [],
   "execution_count": 9
  },
  {
   "cell_type": "code",
   "source": [
    "# # only works because we have scalar outcomes\n",
    "# pd.DataFrame(outcomes)"
   ],
   "metadata": {
    "collapsed": false,
    "ExecuteTime": {
     "end_time": "2024-05-30T12:21:35.768840Z",
     "start_time": "2024-05-30T12:21:35.760669Z"
    }
   },
   "outputs": [],
   "execution_count": 10
  },
  {
   "cell_type": "code",
   "source": [
    "# defining specific policies\n",
    "# for example, policy 1 is about extra protection in upper boundary\n",
    "# policy 2 is about extra protection in lower boundary\n",
    "# policy 3 is extra protection in random locations\n",
    "\n",
    "\n",
    "def get_do_nothing_dict():\n",
    "    return {l.name: 0 for l in dike_model.levers}\n",
    "\n",
    "\n",
    "# policies = [\n",
    "#     Policy(\n",
    "#         \"policy 1\",\n",
    "#         **dict(\n",
    "#             get_do_nothing_dict(),\n",
    "#             **{\"0_RfR 0\": 1, \"0_RfR 1\": 1, \"0_RfR 2\": 1, \"A.1_DikeIncrease 0\": 5}\n",
    "#         )\n",
    "#     ),\n",
    "#     Policy(\n",
    "#         \"policy 2\",\n",
    "#         **dict(\n",
    "#             get_do_nothing_dict(),\n",
    "#             **{\"4_RfR 0\": 1, \"4_RfR 1\": 1, \"4_RfR 2\": 1, \"A.5_DikeIncrease 0\": 5}\n",
    "#         )\n",
    "#     ),\n",
    "#     Policy(\n",
    "#         \"policy 3\",\n",
    "#         **dict(\n",
    "#             get_do_nothing_dict(),\n",
    "#             **{\"1_RfR 0\": 1, \"2_RfR 1\": 1, \"3_RfR 2\": 1, \"A.3_DikeIncrease 0\": 5}\n",
    "#         )\n",
    "#     ),\n",
    "# ]\n",
    "zeropolicy = Policy(\"zero policy\",**dict(get_do_nothing_dict()))"
   ],
   "metadata": {
    "collapsed": false,
    "ExecuteTime": {
     "end_time": "2024-05-30T12:21:36.190835Z",
     "start_time": "2024-05-30T12:21:36.177716Z"
    }
   },
   "outputs": [],
   "execution_count": 11
  },
  {
   "cell_type": "code",
   "outputs": [],
   "source": [],
   "metadata": {
    "collapsed": false
   },
   "execution_count": null
  },
  {
   "cell_type": "code",
   "source": [
    "# n_exp = 1000\n",
    "# \n",
    "# with MultiprocessingEvaluator(dike_model) as evaluator:\n",
    "#     sa_results = evaluator.perform_experiments(scenarios=1000, policies=zeropolicy, uncertainty_sampling=Samplers.SOBOL)\n",
    "# \n",
    "# experiments, outcomes = sa_results\n",
    "\n",
    "problem = get_SALib_problem(uncertainties)"
   ],
   "metadata": {
    "collapsed": false,
    "ExecuteTime": {
     "end_time": "2024-05-30T12:21:40.864549Z",
     "start_time": "2024-05-30T12:21:40.842608Z"
    }
   },
   "outputs": [],
   "execution_count": 12
  },
  {
   "cell_type": "code",
   "source": [
    "# Save files\n",
    "import pickle\n",
    "\n",
    "experiments.to_pickle('saved_experiments.pkl')\n",
    "\n",
    "with open('saved_outcomes.pkl', 'wb') as f:\n",
    "    pickle.dump(outcomes, f)"
   ],
   "metadata": {
    "collapsed": false,
    "ExecuteTime": {
     "end_time": "2024-05-30T12:21:42.930032Z",
     "start_time": "2024-05-30T12:21:41.437594Z"
    }
   },
   "outputs": [
    {
     "ename": "NameError",
     "evalue": "name 'experiments' is not defined",
     "output_type": "error",
     "traceback": [
      "\u001B[1;31m---------------------------------------------------------------------------\u001B[0m",
      "\u001B[1;31mNameError\u001B[0m                                 Traceback (most recent call last)",
      "Cell \u001B[1;32mIn[13], line 4\u001B[0m\n\u001B[0;32m      1\u001B[0m \u001B[38;5;66;03m# Save files\u001B[39;00m\n\u001B[0;32m      2\u001B[0m \u001B[38;5;28;01mimport\u001B[39;00m \u001B[38;5;21;01mpickle\u001B[39;00m\n\u001B[1;32m----> 4\u001B[0m \u001B[43mexperiments\u001B[49m\u001B[38;5;241m.\u001B[39mto_pickle(\u001B[38;5;124m'\u001B[39m\u001B[38;5;124msaved_experiments.pkl\u001B[39m\u001B[38;5;124m'\u001B[39m)\n\u001B[0;32m      6\u001B[0m \u001B[38;5;28;01mwith\u001B[39;00m \u001B[38;5;28mopen\u001B[39m(\u001B[38;5;124m'\u001B[39m\u001B[38;5;124msaved_outcomes.pkl\u001B[39m\u001B[38;5;124m'\u001B[39m, \u001B[38;5;124m'\u001B[39m\u001B[38;5;124mwb\u001B[39m\u001B[38;5;124m'\u001B[39m) \u001B[38;5;28;01mas\u001B[39;00m f:\n\u001B[0;32m      7\u001B[0m     pickle\u001B[38;5;241m.\u001B[39mdump(outcomes, f)\n",
      "\u001B[1;31mNameError\u001B[0m: name 'experiments' is not defined"
     ]
    }
   ],
   "execution_count": 13
  },
  {
   "metadata": {
    "ExecuteTime": {
     "end_time": "2024-05-30T11:57:11.001888Z",
     "start_time": "2024-05-30T11:57:10.991820Z"
    }
   },
   "cell_type": "code",
   "source": [
    "import pickle\n",
    "with open('saved_problem.pkl', 'wb') as f:\n",
    "    pickle.dump(problem, f)"
   ],
   "outputs": [],
   "execution_count": 36
  },
  {
   "cell_type": "code",
   "source": "outcomes = pd.read_pickle('saved_outcomes.pkl')",
   "metadata": {
    "collapsed": false,
    "ExecuteTime": {
     "end_time": "2024-05-30T12:21:58.747867Z",
     "start_time": "2024-05-30T12:21:58.708970Z"
    }
   },
   "outputs": [],
   "execution_count": 14
  },
  {
   "metadata": {
    "ExecuteTime": {
     "end_time": "2024-05-30T12:21:59.465145Z",
     "start_time": "2024-05-30T12:21:59.439095Z"
    }
   },
   "cell_type": "code",
   "source": "outcomes",
   "outputs": [
    {
     "data": {
      "text/plain": [
       "{'A.1 Total Costs': array([3.02540344e+09, 3.03193252e+09, 3.02540344e+09, ...,\n",
       "        2.30593910e+09, 2.96682517e+09, 2.81951571e+09]),\n",
       " 'A.1_Expected Number of Deaths': array([1.91719022, 1.92240951, 1.91719022, ..., 1.96039471, 1.96039471,\n",
       "        1.96039471]),\n",
       " 'A.2 Total Costs': array([0., 0., 0., ..., 0., 0., 0.]),\n",
       " 'A.2_Expected Number of Deaths': array([0., 0., 0., ..., 0., 0., 0.]),\n",
       " 'A.3 Total Costs': array([      0.        ,       0.        , 5823382.65047013, ...,\n",
       "        3965696.83702916, 5102272.28628632, 4848933.13805701]),\n",
       " 'A.3_Expected Number of Deaths': array([0.        , 0.        , 0.00978125, ..., 0.00847817, 0.00847817,\n",
       "        0.00847817]),\n",
       " 'A.4 Total Costs': array([      0.        ,       0.        ,       0.        , ...,\n",
       "        1122544.67944606, 1444267.89122551, 1372556.783537  ]),\n",
       " 'A.4_Expected Number of Deaths': array([0.        , 0.        , 0.        , ..., 0.00048467, 0.00048467,\n",
       "        0.00048467]),\n",
       " 'A.5 Total Costs': array([0., 0., 0., ..., 0., 0., 0.]),\n",
       " 'A.5_Expected Number of Deaths': array([0., 0., 0., ..., 0., 0., 0.]),\n",
       " 'RfR Total Costs': array([0., 0., 0., ..., 0., 0., 0.]),\n",
       " 'Expected Evacuation Costs': array([0., 0., 0., ..., 0., 0., 0.])}"
      ]
     },
     "execution_count": 15,
     "metadata": {},
     "output_type": "execute_result"
    }
   ],
   "execution_count": 15
  },
  {
   "cell_type": "code",
   "source": "Si = sobol.analyze(problem, outcomes['A.1_Expected Number of Deaths'], calc_second_order=True, print_to_console=True)",
   "metadata": {
    "collapsed": false,
    "ExecuteTime": {
     "end_time": "2024-05-30T12:22:09.074337Z",
     "start_time": "2024-05-30T12:22:02.862074Z"
    }
   },
   "outputs": [
    {
     "name": "stderr",
     "output_type": "stream",
     "text": [
      "C:\\Users\\mmtud\\anaconda3\\envs\\gds\\lib\\site-packages\\SALib\\util\\__init__.py:274: FutureWarning: unique with argument that is not not a Series, Index, ExtensionArray, or np.ndarray is deprecated and will raise in a future version.\n",
      "  names = list(pd.unique(groups))\n"
     ]
    },
    {
     "name": "stdout",
     "output_type": "stream",
     "text": [
      "                               ST   ST_conf\n",
      "A.0_ID flood wave shape  0.001815  0.000654\n",
      "A.1_Bmax                 0.000000  0.000000\n",
      "A.1_Brate                0.000000  0.000000\n",
      "A.1_pfail                0.999837  0.061828\n",
      "A.2_Bmax                 0.000000  0.000000\n",
      "A.2_Brate                0.000000  0.000000\n",
      "A.2_pfail                0.000000  0.000000\n",
      "A.3_Bmax                 0.000000  0.000000\n",
      "A.3_Brate                0.000000  0.000000\n",
      "A.3_pfail                0.000000  0.000000\n",
      "A.4_Bmax                 0.000000  0.000000\n",
      "A.4_Brate                0.000000  0.000000\n",
      "A.4_pfail                0.000000  0.000000\n",
      "A.5_Bmax                 0.000000  0.000000\n",
      "A.5_Brate                0.000000  0.000000\n",
      "A.5_pfail                0.000000  0.000000\n",
      "discount rate 0          0.000000  0.000000\n",
      "discount rate 1          0.000000  0.000000\n",
      "discount rate 2          0.000000  0.000000\n",
      "                               S1   S1_conf\n",
      "A.0_ID flood wave shape -0.002379  0.003753\n",
      "A.1_Bmax                 0.000000  0.000000\n",
      "A.1_Brate                0.000000  0.000000\n",
      "A.1_pfail                0.997897  0.064920\n",
      "A.2_Bmax                 0.000000  0.000000\n",
      "A.2_Brate                0.000000  0.000000\n",
      "A.2_pfail                0.000000  0.000000\n",
      "A.3_Bmax                 0.000000  0.000000\n",
      "A.3_Brate                0.000000  0.000000\n",
      "A.3_pfail                0.000000  0.000000\n",
      "A.4_Bmax                 0.000000  0.000000\n",
      "A.4_Brate                0.000000  0.000000\n",
      "A.4_pfail                0.000000  0.000000\n",
      "A.5_Bmax                 0.000000  0.000000\n",
      "A.5_Brate                0.000000  0.000000\n",
      "A.5_pfail                0.000000  0.000000\n",
      "discount rate 0          0.000000  0.000000\n",
      "discount rate 1          0.000000  0.000000\n",
      "discount rate 2          0.000000  0.000000\n",
      "                                            S2   S2_conf\n",
      "(A.0_ID flood wave shape, A.1_Bmax)   0.000791  0.005848\n",
      "(A.0_ID flood wave shape, A.1_Brate)  0.000791  0.005848\n",
      "(A.0_ID flood wave shape, A.1_pfail)  0.004090  0.005695\n",
      "(A.0_ID flood wave shape, A.2_Bmax)   0.000791  0.005848\n",
      "(A.0_ID flood wave shape, A.2_Brate)  0.000791  0.005848\n",
      "...                                        ...       ...\n",
      "(A.5_pfail, discount rate 1)          0.000000  0.000000\n",
      "(A.5_pfail, discount rate 2)          0.000000  0.000000\n",
      "(discount rate 0, discount rate 1)    0.000000  0.000000\n",
      "(discount rate 0, discount rate 2)    0.000000  0.000000\n",
      "(discount rate 1, discount rate 2)    0.000000  0.000000\n",
      "\n",
      "[171 rows x 2 columns]\n"
     ]
    }
   ],
   "execution_count": 16
  },
  {
   "cell_type": "code",
   "source": [
    "# Convert to dataframe\n",
    "def dataframing(problem, Si):\n",
    "    Si_df = pd.DataFrame({\n",
    "    'ST': Si['ST'],\n",
    "    'ST_conf': Si['ST_conf'],\n",
    "    })\n",
    "\n",
    "    # Adding index names\n",
    "    Si_df.index = problem['names']\n",
    "    Si_df.index.name = 'Parameter'\n",
    "    return Si_df\n",
    "\n",
    "\n",
    "# Display the DataFrame\n",
    "display(Si_df)\n"
   ],
   "metadata": {
    "collapsed": false,
    "ExecuteTime": {
     "end_time": "2024-05-30T12:39:24.740272Z",
     "start_time": "2024-05-30T12:39:24.692984Z"
    }
   },
   "outputs": [
    {
     "data": {
      "text/plain": [
       "                               ST   ST_conf\n",
       "Parameter                                  \n",
       "A.0_ID flood wave shape  0.001815  0.000654\n",
       "A.1_Bmax                 0.000000  0.000000\n",
       "A.1_Brate                0.000000  0.000000\n",
       "A.1_pfail                0.999837  0.061828\n",
       "A.2_Bmax                 0.000000  0.000000\n",
       "A.2_Brate                0.000000  0.000000\n",
       "A.2_pfail                0.000000  0.000000\n",
       "A.3_Bmax                 0.000000  0.000000\n",
       "A.3_Brate                0.000000  0.000000\n",
       "A.3_pfail                0.000000  0.000000\n",
       "A.4_Bmax                 0.000000  0.000000\n",
       "A.4_Brate                0.000000  0.000000\n",
       "A.4_pfail                0.000000  0.000000\n",
       "A.5_Bmax                 0.000000  0.000000\n",
       "A.5_Brate                0.000000  0.000000\n",
       "A.5_pfail                0.000000  0.000000\n",
       "discount rate 0          0.000000  0.000000\n",
       "discount rate 1          0.000000  0.000000\n",
       "discount rate 2          0.000000  0.000000"
      ],
      "text/html": [
       "<div>\n",
       "<style scoped>\n",
       "    .dataframe tbody tr th:only-of-type {\n",
       "        vertical-align: middle;\n",
       "    }\n",
       "\n",
       "    .dataframe tbody tr th {\n",
       "        vertical-align: top;\n",
       "    }\n",
       "\n",
       "    .dataframe thead th {\n",
       "        text-align: right;\n",
       "    }\n",
       "</style>\n",
       "<table border=\"1\" class=\"dataframe\">\n",
       "  <thead>\n",
       "    <tr style=\"text-align: right;\">\n",
       "      <th></th>\n",
       "      <th>ST</th>\n",
       "      <th>ST_conf</th>\n",
       "    </tr>\n",
       "    <tr>\n",
       "      <th>Parameter</th>\n",
       "      <th></th>\n",
       "      <th></th>\n",
       "    </tr>\n",
       "  </thead>\n",
       "  <tbody>\n",
       "    <tr>\n",
       "      <th>A.0_ID flood wave shape</th>\n",
       "      <td>0.001815</td>\n",
       "      <td>0.000654</td>\n",
       "    </tr>\n",
       "    <tr>\n",
       "      <th>A.1_Bmax</th>\n",
       "      <td>0.000000</td>\n",
       "      <td>0.000000</td>\n",
       "    </tr>\n",
       "    <tr>\n",
       "      <th>A.1_Brate</th>\n",
       "      <td>0.000000</td>\n",
       "      <td>0.000000</td>\n",
       "    </tr>\n",
       "    <tr>\n",
       "      <th>A.1_pfail</th>\n",
       "      <td>0.999837</td>\n",
       "      <td>0.061828</td>\n",
       "    </tr>\n",
       "    <tr>\n",
       "      <th>A.2_Bmax</th>\n",
       "      <td>0.000000</td>\n",
       "      <td>0.000000</td>\n",
       "    </tr>\n",
       "    <tr>\n",
       "      <th>A.2_Brate</th>\n",
       "      <td>0.000000</td>\n",
       "      <td>0.000000</td>\n",
       "    </tr>\n",
       "    <tr>\n",
       "      <th>A.2_pfail</th>\n",
       "      <td>0.000000</td>\n",
       "      <td>0.000000</td>\n",
       "    </tr>\n",
       "    <tr>\n",
       "      <th>A.3_Bmax</th>\n",
       "      <td>0.000000</td>\n",
       "      <td>0.000000</td>\n",
       "    </tr>\n",
       "    <tr>\n",
       "      <th>A.3_Brate</th>\n",
       "      <td>0.000000</td>\n",
       "      <td>0.000000</td>\n",
       "    </tr>\n",
       "    <tr>\n",
       "      <th>A.3_pfail</th>\n",
       "      <td>0.000000</td>\n",
       "      <td>0.000000</td>\n",
       "    </tr>\n",
       "    <tr>\n",
       "      <th>A.4_Bmax</th>\n",
       "      <td>0.000000</td>\n",
       "      <td>0.000000</td>\n",
       "    </tr>\n",
       "    <tr>\n",
       "      <th>A.4_Brate</th>\n",
       "      <td>0.000000</td>\n",
       "      <td>0.000000</td>\n",
       "    </tr>\n",
       "    <tr>\n",
       "      <th>A.4_pfail</th>\n",
       "      <td>0.000000</td>\n",
       "      <td>0.000000</td>\n",
       "    </tr>\n",
       "    <tr>\n",
       "      <th>A.5_Bmax</th>\n",
       "      <td>0.000000</td>\n",
       "      <td>0.000000</td>\n",
       "    </tr>\n",
       "    <tr>\n",
       "      <th>A.5_Brate</th>\n",
       "      <td>0.000000</td>\n",
       "      <td>0.000000</td>\n",
       "    </tr>\n",
       "    <tr>\n",
       "      <th>A.5_pfail</th>\n",
       "      <td>0.000000</td>\n",
       "      <td>0.000000</td>\n",
       "    </tr>\n",
       "    <tr>\n",
       "      <th>discount rate 0</th>\n",
       "      <td>0.000000</td>\n",
       "      <td>0.000000</td>\n",
       "    </tr>\n",
       "    <tr>\n",
       "      <th>discount rate 1</th>\n",
       "      <td>0.000000</td>\n",
       "      <td>0.000000</td>\n",
       "    </tr>\n",
       "    <tr>\n",
       "      <th>discount rate 2</th>\n",
       "      <td>0.000000</td>\n",
       "      <td>0.000000</td>\n",
       "    </tr>\n",
       "  </tbody>\n",
       "</table>\n",
       "</div>"
      ]
     },
     "metadata": {},
     "output_type": "display_data"
    }
   ],
   "execution_count": 32
  },
  {
   "cell_type": "code",
   "source": [
    "# Store all outcome names in a list\n",
    "outcome_names = list(outcomes.keys())\n",
    "print(outcome_names)\n",
    "\n"
   ],
   "metadata": {
    "collapsed": false,
    "ExecuteTime": {
     "end_time": "2024-05-30T13:16:17.680259Z",
     "start_time": "2024-05-30T13:16:17.664633Z"
    }
   },
   "outputs": [
    {
     "name": "stdout",
     "output_type": "stream",
     "text": [
      "['A.1 Total Costs', 'A.1_Expected Number of Deaths', 'A.2 Total Costs', 'A.2_Expected Number of Deaths', 'A.3 Total Costs', 'A.3_Expected Number of Deaths', 'A.4 Total Costs', 'A.4_Expected Number of Deaths', 'A.5 Total Costs', 'A.5_Expected Number of Deaths', 'RfR Total Costs', 'Expected Evacuation Costs']\n",
      "dict_keys(['A.1 Total Costs', 'A.1_Expected Number of Deaths', 'A.2 Total Costs', 'A.2_Expected Number of Deaths', 'A.3 Total Costs', 'A.3_Expected Number of Deaths', 'A.4 Total Costs', 'A.4_Expected Number of Deaths', 'A.5 Total Costs', 'A.5_Expected Number of Deaths', 'RfR Total Costs', 'Expected Evacuation Costs'])\n"
     ]
    }
   ],
   "execution_count": 50
  },
  {
   "cell_type": "code",
   "metadata": {
    "pycharm": {
     "name": "#%%"
    },
    "ExecuteTime": {
     "end_time": "2024-05-30T13:21:42.431215Z",
     "start_time": "2024-05-30T13:21:21.388061Z"
    }
   },
   "source": [
    "results = {}\n",
    "for i in outcome_names:\n",
    "    Si = sobol.analyze(problem, outcomes[i], calc_second_order=True, print_to_console=True)\n",
    "    results[i] = Si\n"
   ],
   "outputs": [
    {
     "name": "stderr",
     "output_type": "stream",
     "text": [
      "C:\\Users\\mmtud\\anaconda3\\envs\\gds\\lib\\site-packages\\SALib\\util\\__init__.py:274: FutureWarning: unique with argument that is not not a Series, Index, ExtensionArray, or np.ndarray is deprecated and will raise in a future version.\n",
      "  names = list(pd.unique(groups))\n"
     ]
    },
    {
     "name": "stdout",
     "output_type": "stream",
     "text": [
      "                               ST   ST_conf\n",
      "A.0_ID flood wave shape  0.001555  0.000538\n",
      "A.1_Bmax                 0.000000  0.000000\n",
      "A.1_Brate                0.000000  0.000000\n",
      "A.1_pfail                0.985283  0.070971\n",
      "A.2_Bmax                 0.000000  0.000000\n",
      "A.2_Brate                0.000000  0.000000\n",
      "A.2_pfail                0.000000  0.000000\n",
      "A.3_Bmax                 0.000000  0.000000\n",
      "A.3_Brate                0.000000  0.000000\n",
      "A.3_pfail                0.000000  0.000000\n",
      "A.4_Bmax                 0.000000  0.000000\n",
      "A.4_Brate                0.000000  0.000000\n",
      "A.4_pfail                0.000000  0.000000\n",
      "A.5_Bmax                 0.000000  0.000000\n",
      "A.5_Brate                0.000000  0.000000\n",
      "A.5_pfail                0.000000  0.000000\n",
      "discount rate 0          0.012768  0.001771\n",
      "discount rate 1          0.012664  0.001903\n",
      "discount rate 2          0.012649  0.002067\n",
      "                               S1   S1_conf\n",
      "A.0_ID flood wave shape -0.002125  0.003789\n",
      "A.1_Bmax                 0.000000  0.000000\n",
      "A.1_Brate                0.000000  0.000000\n",
      "A.1_pfail                0.957308  0.071175\n",
      "A.2_Bmax                 0.000000  0.000000\n",
      "A.2_Brate                0.000000  0.000000\n",
      "A.2_pfail                0.000000  0.000000\n",
      "A.3_Bmax                 0.000000  0.000000\n",
      "A.3_Brate                0.000000  0.000000\n",
      "A.3_pfail                0.000000  0.000000\n",
      "A.4_Bmax                 0.000000  0.000000\n",
      "A.4_Brate                0.000000  0.000000\n",
      "A.4_pfail                0.000000  0.000000\n",
      "A.5_Bmax                 0.000000  0.000000\n",
      "A.5_Brate                0.000000  0.000000\n",
      "A.5_pfail                0.000000  0.000000\n",
      "discount rate 0          0.004370  0.009542\n",
      "discount rate 1          0.004590  0.009673\n",
      "discount rate 2          0.005594  0.009504\n",
      "                                                S2       S2_conf\n",
      "(A.0_ID flood wave shape, A.1_Bmax)   5.125665e-04  5.206023e-03\n",
      "(A.0_ID flood wave shape, A.1_Brate)  5.125665e-04  5.206023e-03\n",
      "(A.0_ID flood wave shape, A.1_pfail)  3.473602e-03  6.220043e-03\n",
      "(A.0_ID flood wave shape, A.2_Bmax)   5.125665e-04  5.206023e-03\n",
      "(A.0_ID flood wave shape, A.2_Brate)  5.125665e-04  5.206023e-03\n",
      "...                                            ...           ...\n",
      "(A.5_pfail, discount rate 1)          0.000000e+00  8.102120e-18\n",
      "(A.5_pfail, discount rate 2)         -2.602085e-18  9.729776e-18\n",
      "(discount rate 0, discount rate 1)    8.003448e-04  1.764404e-02\n",
      "(discount rate 0, discount rate 2)   -1.089471e-04  1.752609e-02\n",
      "(discount rate 1, discount rate 2)   -6.788248e-04  1.585972e-02\n",
      "\n",
      "[171 rows x 2 columns]\n"
     ]
    },
    {
     "name": "stderr",
     "output_type": "stream",
     "text": [
      "C:\\Users\\mmtud\\anaconda3\\envs\\gds\\lib\\site-packages\\SALib\\util\\__init__.py:274: FutureWarning: unique with argument that is not not a Series, Index, ExtensionArray, or np.ndarray is deprecated and will raise in a future version.\n",
      "  names = list(pd.unique(groups))\n"
     ]
    },
    {
     "name": "stdout",
     "output_type": "stream",
     "text": [
      "                               ST   ST_conf\n",
      "A.0_ID flood wave shape  0.001815  0.000675\n",
      "A.1_Bmax                 0.000000  0.000000\n",
      "A.1_Brate                0.000000  0.000000\n",
      "A.1_pfail                0.999837  0.066111\n",
      "A.2_Bmax                 0.000000  0.000000\n",
      "A.2_Brate                0.000000  0.000000\n",
      "A.2_pfail                0.000000  0.000000\n",
      "A.3_Bmax                 0.000000  0.000000\n",
      "A.3_Brate                0.000000  0.000000\n",
      "A.3_pfail                0.000000  0.000000\n",
      "A.4_Bmax                 0.000000  0.000000\n",
      "A.4_Brate                0.000000  0.000000\n",
      "A.4_pfail                0.000000  0.000000\n",
      "A.5_Bmax                 0.000000  0.000000\n",
      "A.5_Brate                0.000000  0.000000\n",
      "A.5_pfail                0.000000  0.000000\n",
      "discount rate 0          0.000000  0.000000\n",
      "discount rate 1          0.000000  0.000000\n",
      "discount rate 2          0.000000  0.000000\n",
      "                               S1   S1_conf\n",
      "A.0_ID flood wave shape -0.002379  0.004385\n",
      "A.1_Bmax                 0.000000  0.000000\n",
      "A.1_Brate                0.000000  0.000000\n",
      "A.1_pfail                0.997897  0.071315\n",
      "A.2_Bmax                 0.000000  0.000000\n",
      "A.2_Brate                0.000000  0.000000\n",
      "A.2_pfail                0.000000  0.000000\n",
      "A.3_Bmax                 0.000000  0.000000\n",
      "A.3_Brate                0.000000  0.000000\n",
      "A.3_pfail                0.000000  0.000000\n",
      "A.4_Bmax                 0.000000  0.000000\n",
      "A.4_Brate                0.000000  0.000000\n",
      "A.4_pfail                0.000000  0.000000\n",
      "A.5_Bmax                 0.000000  0.000000\n",
      "A.5_Brate                0.000000  0.000000\n",
      "A.5_pfail                0.000000  0.000000\n",
      "discount rate 0          0.000000  0.000000\n",
      "discount rate 1          0.000000  0.000000\n",
      "discount rate 2          0.000000  0.000000\n",
      "                                            S2   S2_conf\n",
      "(A.0_ID flood wave shape, A.1_Bmax)   0.000791  0.005761\n",
      "(A.0_ID flood wave shape, A.1_Brate)  0.000791  0.005761\n",
      "(A.0_ID flood wave shape, A.1_pfail)  0.004090  0.006701\n",
      "(A.0_ID flood wave shape, A.2_Bmax)   0.000791  0.005761\n",
      "(A.0_ID flood wave shape, A.2_Brate)  0.000791  0.005761\n",
      "...                                        ...       ...\n",
      "(A.5_pfail, discount rate 1)          0.000000  0.000000\n",
      "(A.5_pfail, discount rate 2)          0.000000  0.000000\n",
      "(discount rate 0, discount rate 1)    0.000000  0.000000\n",
      "(discount rate 0, discount rate 2)    0.000000  0.000000\n",
      "(discount rate 1, discount rate 2)    0.000000  0.000000\n",
      "\n",
      "[171 rows x 2 columns]\n"
     ]
    },
    {
     "name": "stderr",
     "output_type": "stream",
     "text": [
      "C:\\Users\\mmtud\\anaconda3\\envs\\gds\\lib\\site-packages\\SALib\\util\\__init__.py:274: FutureWarning: unique with argument that is not not a Series, Index, ExtensionArray, or np.ndarray is deprecated and will raise in a future version.\n",
      "  names = list(pd.unique(groups))\n"
     ]
    },
    {
     "name": "stdout",
     "output_type": "stream",
     "text": [
      "                               ST   ST_conf\n",
      "A.0_ID flood wave shape  0.005098  0.001880\n",
      "A.1_Bmax                 0.023350  0.013631\n",
      "A.1_Brate                0.000099  0.000138\n",
      "A.1_pfail                0.201903  0.055922\n",
      "A.2_Bmax                 0.000000  0.000000\n",
      "A.2_Brate                0.000000  0.000000\n",
      "A.2_pfail                0.899929  0.097556\n",
      "A.3_Bmax                 0.000000  0.000000\n",
      "A.3_Brate                0.000000  0.000000\n",
      "A.3_pfail                0.000000  0.000000\n",
      "A.4_Bmax                 0.000000  0.000000\n",
      "A.4_Brate                0.000000  0.000000\n",
      "A.4_pfail                0.000000  0.000000\n",
      "A.5_Bmax                 0.000000  0.000000\n",
      "A.5_Brate                0.000000  0.000000\n",
      "A.5_pfail                0.000000  0.000000\n",
      "discount rate 0          0.009626  0.002540\n",
      "discount rate 1          0.009510  0.002387\n",
      "discount rate 2          0.009031  0.002252\n",
      "                               S1   S1_conf\n",
      "A.0_ID flood wave shape -0.001220  0.007256\n",
      "A.1_Bmax                 0.003637  0.009506\n",
      "A.1_Brate                0.000089  0.000316\n",
      "A.1_pfail                0.065506  0.028539\n",
      "A.2_Bmax                 0.000000  0.000000\n",
      "A.2_Brate                0.000000  0.000000\n",
      "A.2_pfail                0.739212  0.124436\n",
      "A.3_Bmax                 0.000000  0.000000\n",
      "A.3_Brate                0.000000  0.000000\n",
      "A.3_pfail                0.000000  0.000000\n",
      "A.4_Bmax                 0.000000  0.000000\n",
      "A.4_Brate                0.000000  0.000000\n",
      "A.4_pfail                0.000000  0.000000\n",
      "A.5_Bmax                 0.000000  0.000000\n",
      "A.5_Brate                0.000000  0.000000\n",
      "A.5_pfail                0.000000  0.000000\n",
      "discount rate 0          0.004848  0.006894\n",
      "discount rate 1          0.006135  0.008283\n",
      "discount rate 2          0.002357  0.010240\n",
      "                                                S2       S2_conf\n",
      "(A.0_ID flood wave shape, A.1_Bmax)   4.855032e-04  1.215764e-02\n",
      "(A.0_ID flood wave shape, A.1_Brate) -5.471247e-04  1.215039e-02\n",
      "(A.0_ID flood wave shape, A.1_pfail) -1.497050e-03  1.233129e-02\n",
      "(A.0_ID flood wave shape, A.2_Bmax)  -6.015669e-04  1.215895e-02\n",
      "(A.0_ID flood wave shape, A.2_Brate) -6.015669e-04  1.215895e-02\n",
      "...                                            ...           ...\n",
      "(A.5_pfail, discount rate 1)          1.734723e-18  7.401896e-18\n",
      "(A.5_pfail, discount rate 2)          3.035766e-18  7.035585e-18\n",
      "(discount rate 0, discount rate 1)   -2.098024e-03  1.267747e-02\n",
      "(discount rate 0, discount rate 2)   -2.353763e-03  1.308377e-02\n",
      "(discount rate 1, discount rate 2)   -3.965344e-03  1.467618e-02\n",
      "\n",
      "[171 rows x 2 columns]\n"
     ]
    },
    {
     "name": "stderr",
     "output_type": "stream",
     "text": [
      "C:\\Users\\mmtud\\anaconda3\\envs\\gds\\lib\\site-packages\\SALib\\util\\__init__.py:274: FutureWarning: unique with argument that is not not a Series, Index, ExtensionArray, or np.ndarray is deprecated and will raise in a future version.\n",
      "  names = list(pd.unique(groups))\n"
     ]
    },
    {
     "name": "stdout",
     "output_type": "stream",
     "text": [
      "                               ST   ST_conf\n",
      "A.0_ID flood wave shape  0.004930  0.001603\n",
      "A.1_Bmax                 0.025907  0.012385\n",
      "A.1_Brate                0.000147  0.000226\n",
      "A.1_pfail                0.216402  0.055961\n",
      "A.2_Bmax                 0.000000  0.000000\n",
      "A.2_Brate                0.000000  0.000000\n",
      "A.2_pfail                0.902384  0.082125\n",
      "A.3_Bmax                 0.000000  0.000000\n",
      "A.3_Brate                0.000000  0.000000\n",
      "A.3_pfail                0.000000  0.000000\n",
      "A.4_Bmax                 0.000000  0.000000\n",
      "A.4_Brate                0.000000  0.000000\n",
      "A.4_pfail                0.000000  0.000000\n",
      "A.5_Bmax                 0.000000  0.000000\n",
      "A.5_Brate                0.000000  0.000000\n",
      "A.5_pfail                0.000000  0.000000\n",
      "discount rate 0          0.000000  0.000000\n",
      "discount rate 1          0.000000  0.000000\n",
      "discount rate 2          0.000000  0.000000\n",
      "                               S1   S1_conf\n",
      "A.0_ID flood wave shape  0.000056  0.007395\n",
      "A.1_Bmax                 0.003001  0.011606\n",
      "A.1_Brate                0.000101  0.000431\n",
      "A.1_pfail                0.076728  0.033804\n",
      "A.2_Bmax                 0.000000  0.000000\n",
      "A.2_Brate                0.000000  0.000000\n",
      "A.2_pfail                0.761112  0.124399\n",
      "A.3_Bmax                 0.000000  0.000000\n",
      "A.3_Brate                0.000000  0.000000\n",
      "A.3_pfail                0.000000  0.000000\n",
      "A.4_Bmax                 0.000000  0.000000\n",
      "A.4_Brate                0.000000  0.000000\n",
      "A.4_pfail                0.000000  0.000000\n",
      "A.5_Bmax                 0.000000  0.000000\n",
      "A.5_Brate                0.000000  0.000000\n",
      "A.5_pfail                0.000000  0.000000\n",
      "discount rate 0          0.000000  0.000000\n",
      "discount rate 1          0.000000  0.000000\n",
      "discount rate 2          0.000000  0.000000\n",
      "                                            S2   S2_conf\n",
      "(A.0_ID flood wave shape, A.1_Bmax)  -0.000156  0.011693\n",
      "(A.0_ID flood wave shape, A.1_Brate) -0.001849  0.011958\n",
      "(A.0_ID flood wave shape, A.1_pfail) -0.003235  0.013189\n",
      "(A.0_ID flood wave shape, A.2_Bmax)  -0.001910  0.011961\n",
      "(A.0_ID flood wave shape, A.2_Brate) -0.001910  0.011961\n",
      "...                                        ...       ...\n",
      "(A.5_pfail, discount rate 1)          0.000000  0.000000\n",
      "(A.5_pfail, discount rate 2)          0.000000  0.000000\n",
      "(discount rate 0, discount rate 1)    0.000000  0.000000\n",
      "(discount rate 0, discount rate 2)    0.000000  0.000000\n",
      "(discount rate 1, discount rate 2)    0.000000  0.000000\n",
      "\n",
      "[171 rows x 2 columns]\n"
     ]
    },
    {
     "name": "stderr",
     "output_type": "stream",
     "text": [
      "C:\\Users\\mmtud\\anaconda3\\envs\\gds\\lib\\site-packages\\SALib\\util\\__init__.py:274: FutureWarning: unique with argument that is not not a Series, Index, ExtensionArray, or np.ndarray is deprecated and will raise in a future version.\n",
      "  names = list(pd.unique(groups))\n"
     ]
    },
    {
     "name": "stdout",
     "output_type": "stream",
     "text": [
      "                               ST   ST_conf\n",
      "A.0_ID flood wave shape  0.005266  0.001612\n",
      "A.1_Bmax                 0.030951  0.013293\n",
      "A.1_Brate                0.000393  0.000301\n",
      "A.1_pfail                0.154494  0.032352\n",
      "A.2_Bmax                 0.002864  0.004315\n",
      "A.2_Brate                0.000022  0.000025\n",
      "A.2_pfail                0.040367  0.016832\n",
      "A.3_Bmax                 0.000000  0.000000\n",
      "A.3_Brate                0.000000  0.000000\n",
      "A.3_pfail                0.936004  0.080733\n",
      "A.4_Bmax                 0.000000  0.000000\n",
      "A.4_Brate                0.000000  0.000000\n",
      "A.4_pfail                0.000000  0.000000\n",
      "A.5_Bmax                 0.000000  0.000000\n",
      "A.5_Brate                0.000000  0.000000\n",
      "A.5_pfail                0.000000  0.000000\n",
      "discount rate 0          0.009657  0.001795\n",
      "discount rate 1          0.010338  0.002169\n",
      "discount rate 2          0.010002  0.001864\n",
      "                               S1   S1_conf\n",
      "A.0_ID flood wave shape  0.002403  0.005282\n",
      "A.1_Bmax                 0.003950  0.013860\n",
      "A.1_Brate               -0.002510  0.002414\n",
      "A.1_pfail                0.042427  0.026420\n",
      "A.2_Bmax                -0.002759  0.003574\n",
      "A.2_Brate               -0.000316  0.000293\n",
      "A.2_pfail                0.007481  0.019126\n",
      "A.3_Bmax                 0.000000  0.000000\n",
      "A.3_Brate                0.000000  0.000000\n",
      "A.3_pfail                0.748817  0.099673\n",
      "A.4_Bmax                 0.000000  0.000000\n",
      "A.4_Brate                0.000000  0.000000\n",
      "A.4_pfail                0.000000  0.000000\n",
      "A.5_Bmax                 0.000000  0.000000\n",
      "A.5_Brate                0.000000  0.000000\n",
      "A.5_pfail                0.000000  0.000000\n",
      "discount rate 0         -0.000832  0.008358\n",
      "discount rate 1          0.002135  0.008715\n",
      "discount rate 2          0.001206  0.009156\n",
      "                                                S2       S2_conf\n",
      "(A.0_ID flood wave shape, A.1_Bmax)   1.496818e-03  9.845157e-03\n",
      "(A.0_ID flood wave shape, A.1_Brate)  8.896154e-04  9.656943e-03\n",
      "(A.0_ID flood wave shape, A.1_pfail) -1.940579e-03  9.240720e-03\n",
      "(A.0_ID flood wave shape, A.2_Bmax)   7.511176e-04  9.627892e-03\n",
      "(A.0_ID flood wave shape, A.2_Brate)  8.368850e-04  9.635369e-03\n",
      "...                                            ...           ...\n",
      "(A.5_pfail, discount rate 1)          8.673617e-19  6.377621e-18\n",
      "(A.5_pfail, discount rate 2)          2.168404e-19  6.397145e-18\n",
      "(discount rate 0, discount rate 1)    4.453489e-03  1.599965e-02\n",
      "(discount rate 0, discount rate 2)    4.117464e-03  1.563427e-02\n",
      "(discount rate 1, discount rate 2)    9.292391e-04  1.686884e-02\n",
      "\n",
      "[171 rows x 2 columns]\n"
     ]
    },
    {
     "name": "stderr",
     "output_type": "stream",
     "text": [
      "C:\\Users\\mmtud\\anaconda3\\envs\\gds\\lib\\site-packages\\SALib\\util\\__init__.py:274: FutureWarning: unique with argument that is not not a Series, Index, ExtensionArray, or np.ndarray is deprecated and will raise in a future version.\n",
      "  names = list(pd.unique(groups))\n"
     ]
    },
    {
     "name": "stdout",
     "output_type": "stream",
     "text": [
      "                               ST   ST_conf\n",
      "A.0_ID flood wave shape  0.005902  0.001413\n",
      "A.1_Bmax                 0.030001  0.012126\n",
      "A.1_Brate                0.000383  0.000349\n",
      "A.1_pfail                0.164689  0.040773\n",
      "A.2_Bmax                 0.002549  0.003408\n",
      "A.2_Brate                0.000019  0.000021\n",
      "A.2_pfail                0.041830  0.016085\n",
      "A.3_Bmax                 0.000000  0.000000\n",
      "A.3_Brate                0.000000  0.000000\n",
      "A.3_pfail                0.928407  0.076824\n",
      "A.4_Bmax                 0.000000  0.000000\n",
      "A.4_Brate                0.000000  0.000000\n",
      "A.4_pfail                0.000000  0.000000\n",
      "A.5_Bmax                 0.000000  0.000000\n",
      "A.5_Brate                0.000000  0.000000\n",
      "A.5_pfail                0.000000  0.000000\n",
      "discount rate 0          0.000000  0.000000\n",
      "discount rate 1          0.000000  0.000000\n",
      "discount rate 2          0.000000  0.000000\n",
      "                               S1   S1_conf\n",
      "A.0_ID flood wave shape  0.003462  0.006253\n",
      "A.1_Bmax                 0.005156  0.016485\n",
      "A.1_Brate               -0.002683  0.002824\n",
      "A.1_pfail                0.049610  0.030525\n",
      "A.2_Bmax                -0.003094  0.003782\n",
      "A.2_Brate               -0.000360  0.000371\n",
      "A.2_pfail                0.012614  0.023388\n",
      "A.3_Bmax                 0.000000  0.000000\n",
      "A.3_Brate                0.000000  0.000000\n",
      "A.3_pfail                0.766162  0.095968\n",
      "A.4_Bmax                 0.000000  0.000000\n",
      "A.4_Brate                0.000000  0.000000\n",
      "A.4_pfail                0.000000  0.000000\n",
      "A.5_Bmax                 0.000000  0.000000\n",
      "A.5_Brate                0.000000  0.000000\n",
      "A.5_pfail                0.000000  0.000000\n",
      "discount rate 0          0.000000  0.000000\n",
      "discount rate 1          0.000000  0.000000\n",
      "discount rate 2          0.000000  0.000000\n",
      "                                            S2   S2_conf\n",
      "(A.0_ID flood wave shape, A.1_Bmax)   0.000652  0.010329\n",
      "(A.0_ID flood wave shape, A.1_Brate) -0.000001  0.010496\n",
      "(A.0_ID flood wave shape, A.1_pfail) -0.003232  0.011225\n",
      "(A.0_ID flood wave shape, A.2_Bmax)  -0.000173  0.010483\n",
      "(A.0_ID flood wave shape, A.2_Brate) -0.000092  0.010481\n",
      "...                                        ...       ...\n",
      "(A.5_pfail, discount rate 1)          0.000000  0.000000\n",
      "(A.5_pfail, discount rate 2)          0.000000  0.000000\n",
      "(discount rate 0, discount rate 1)    0.000000  0.000000\n",
      "(discount rate 0, discount rate 2)    0.000000  0.000000\n",
      "(discount rate 1, discount rate 2)    0.000000  0.000000\n",
      "\n",
      "[171 rows x 2 columns]\n"
     ]
    },
    {
     "name": "stderr",
     "output_type": "stream",
     "text": [
      "C:\\Users\\mmtud\\anaconda3\\envs\\gds\\lib\\site-packages\\SALib\\util\\__init__.py:274: FutureWarning: unique with argument that is not not a Series, Index, ExtensionArray, or np.ndarray is deprecated and will raise in a future version.\n",
      "  names = list(pd.unique(groups))\n"
     ]
    },
    {
     "name": "stdout",
     "output_type": "stream",
     "text": [
      "                               ST   ST_conf\n",
      "A.0_ID flood wave shape  0.015246  0.003326\n",
      "A.1_Bmax                 0.037440  0.018924\n",
      "A.1_Brate                0.000592  0.000358\n",
      "A.1_pfail                0.270587  0.064289\n",
      "A.2_Bmax                 0.001734  0.000957\n",
      "A.2_Brate                0.000129  0.000085\n",
      "A.2_pfail                0.114324  0.040209\n",
      "A.3_Bmax                 0.003919  0.003289\n",
      "A.3_Brate                0.000084  0.000068\n",
      "A.3_pfail                0.210650  0.055983\n",
      "A.4_Bmax                 0.000000  0.000000\n",
      "A.4_Brate                0.000000  0.000000\n",
      "A.4_pfail                0.755492  0.101876\n",
      "A.5_Bmax                 0.000000  0.000000\n",
      "A.5_Brate                0.000000  0.000000\n",
      "A.5_pfail                0.000000  0.000000\n",
      "discount rate 0          0.008752  0.002275\n",
      "discount rate 1          0.009470  0.002263\n",
      "discount rate 2          0.008494  0.002307\n",
      "                               S1   S1_conf\n",
      "A.0_ID flood wave shape -0.001069  0.013040\n",
      "A.1_Bmax                -0.004957  0.009587\n",
      "A.1_Brate               -0.000053  0.001822\n",
      "A.1_pfail                0.068271  0.050757\n",
      "A.2_Bmax                -0.001005  0.002396\n",
      "A.2_Brate               -0.001322  0.002418\n",
      "A.2_pfail                0.023394  0.024318\n",
      "A.3_Bmax                -0.000847  0.002856\n",
      "A.3_Brate               -0.000500  0.000597\n",
      "A.3_pfail                0.023441  0.023365\n",
      "A.4_Bmax                 0.000000  0.000000\n",
      "A.4_Brate                0.000000  0.000000\n",
      "A.4_pfail                0.464171  0.102080\n",
      "A.5_Bmax                 0.000000  0.000000\n",
      "A.5_Brate                0.000000  0.000000\n",
      "A.5_pfail                0.000000  0.000000\n",
      "discount rate 0          0.008814  0.012491\n",
      "discount rate 1         -0.004867  0.008652\n",
      "discount rate 2          0.004649  0.008018\n",
      "                                            S2       S2_conf\n",
      "(A.0_ID flood wave shape, A.1_Bmax)   0.007132  2.687812e-02\n",
      "(A.0_ID flood wave shape, A.1_Brate)  0.005172  2.728956e-02\n",
      "(A.0_ID flood wave shape, A.1_pfail)  0.001024  2.940151e-02\n",
      "(A.0_ID flood wave shape, A.2_Bmax)   0.005337  2.720396e-02\n",
      "(A.0_ID flood wave shape, A.2_Brate)  0.005398  2.721816e-02\n",
      "...                                        ...           ...\n",
      "(A.5_pfail, discount rate 1)          0.000000  4.556825e-18\n",
      "(A.5_pfail, discount rate 2)          0.000000  5.397829e-18\n",
      "(discount rate 0, discount rate 1)   -0.010419  2.348687e-02\n",
      "(discount rate 0, discount rate 2)   -0.012122  2.476197e-02\n",
      "(discount rate 1, discount rate 2)    0.011406  1.534846e-02\n",
      "\n",
      "[171 rows x 2 columns]\n"
     ]
    },
    {
     "name": "stderr",
     "output_type": "stream",
     "text": [
      "C:\\Users\\mmtud\\anaconda3\\envs\\gds\\lib\\site-packages\\SALib\\util\\__init__.py:274: FutureWarning: unique with argument that is not not a Series, Index, ExtensionArray, or np.ndarray is deprecated and will raise in a future version.\n",
      "  names = list(pd.unique(groups))\n"
     ]
    },
    {
     "name": "stdout",
     "output_type": "stream",
     "text": [
      "                               ST   ST_conf\n",
      "A.0_ID flood wave shape  0.017873  0.003889\n",
      "A.1_Bmax                 0.035511  0.014597\n",
      "A.1_Brate                0.000641  0.000407\n",
      "A.1_pfail                0.295049  0.065625\n",
      "A.2_Bmax                 0.002120  0.000896\n",
      "A.2_Brate                0.000162  0.000129\n",
      "A.2_pfail                0.119171  0.042004\n",
      "A.3_Bmax                 0.003900  0.002754\n",
      "A.3_Brate                0.000103  0.000068\n",
      "A.3_pfail                0.229768  0.058172\n",
      "A.4_Bmax                 0.000000  0.000000\n",
      "A.4_Brate                0.000000  0.000000\n",
      "A.4_pfail                0.743318  0.097731\n",
      "A.5_Bmax                 0.000000  0.000000\n",
      "A.5_Brate                0.000000  0.000000\n",
      "A.5_pfail                0.000000  0.000000\n",
      "discount rate 0          0.000000  0.000000\n",
      "discount rate 1          0.000000  0.000000\n",
      "discount rate 2          0.000000  0.000000\n",
      "                               S1   S1_conf\n",
      "A.0_ID flood wave shape -0.000353  0.015035\n",
      "A.1_Bmax                -0.004336  0.009758\n",
      "A.1_Brate               -0.000328  0.002053\n",
      "A.1_pfail                0.076069  0.039570\n",
      "A.2_Bmax                -0.001082  0.002471\n",
      "A.2_Brate               -0.001245  0.001764\n",
      "A.2_pfail                0.026221  0.025764\n",
      "A.3_Bmax                -0.000324  0.002961\n",
      "A.3_Brate               -0.000605  0.000634\n",
      "A.3_pfail                0.025370  0.021552\n",
      "A.4_Bmax                 0.000000  0.000000\n",
      "A.4_Brate                0.000000  0.000000\n",
      "A.4_pfail                0.434225  0.086152\n",
      "A.5_Bmax                 0.000000  0.000000\n",
      "A.5_Brate                0.000000  0.000000\n",
      "A.5_pfail                0.000000  0.000000\n",
      "discount rate 0          0.000000  0.000000\n",
      "discount rate 1          0.000000  0.000000\n",
      "discount rate 2          0.000000  0.000000\n",
      "                                            S2   S2_conf\n",
      "(A.0_ID flood wave shape, A.1_Bmax)   0.006056  0.028478\n",
      "(A.0_ID flood wave shape, A.1_Brate)  0.004136  0.028634\n",
      "(A.0_ID flood wave shape, A.1_pfail)  0.001181  0.033286\n",
      "(A.0_ID flood wave shape, A.2_Bmax)   0.004257  0.028562\n",
      "(A.0_ID flood wave shape, A.2_Brate)  0.004341  0.028566\n",
      "...                                        ...       ...\n",
      "(A.5_pfail, discount rate 1)          0.000000  0.000000\n",
      "(A.5_pfail, discount rate 2)          0.000000  0.000000\n",
      "(discount rate 0, discount rate 1)    0.000000  0.000000\n",
      "(discount rate 0, discount rate 2)    0.000000  0.000000\n",
      "(discount rate 1, discount rate 2)    0.000000  0.000000\n",
      "\n",
      "[171 rows x 2 columns]\n"
     ]
    },
    {
     "name": "stderr",
     "output_type": "stream",
     "text": [
      "C:\\Users\\mmtud\\anaconda3\\envs\\gds\\lib\\site-packages\\SALib\\util\\__init__.py:274: FutureWarning: unique with argument that is not not a Series, Index, ExtensionArray, or np.ndarray is deprecated and will raise in a future version.\n",
      "  names = list(pd.unique(groups))\n"
     ]
    },
    {
     "name": "stdout",
     "output_type": "stream",
     "text": [
      "                               ST   ST_conf\n",
      "A.0_ID flood wave shape  0.013801  0.004114\n",
      "A.1_Bmax                 0.030588  0.024653\n",
      "A.1_Brate                0.000743  0.001002\n",
      "A.1_pfail                0.213128  0.076177\n",
      "A.2_Bmax                 0.007727  0.007324\n",
      "A.2_Brate                0.000518  0.000726\n",
      "A.2_pfail                0.123001  0.047015\n",
      "A.3_Bmax                 0.012388  0.013170\n",
      "A.3_Brate                0.000213  0.000188\n",
      "A.3_pfail                0.171219  0.072920\n",
      "A.4_Bmax                 0.000383  0.000490\n",
      "A.4_Brate                0.000041  0.000067\n",
      "A.4_pfail                0.075092  0.034913\n",
      "A.5_Bmax                 0.000000  0.000000\n",
      "A.5_Brate                0.000000  0.000000\n",
      "A.5_pfail                0.865946  0.124893\n",
      "discount rate 0          0.009302  0.003431\n",
      "discount rate 1          0.006242  0.002429\n",
      "discount rate 2          0.009583  0.003099\n",
      "                               S1   S1_conf\n",
      "A.0_ID flood wave shape -0.005543  0.009060\n",
      "A.1_Bmax                 0.005449  0.011502\n",
      "A.1_Brate                0.000024  0.000789\n",
      "A.1_pfail                0.015650  0.035095\n",
      "A.2_Bmax                 0.004054  0.006000\n",
      "A.2_Brate               -0.001009  0.002146\n",
      "A.2_pfail                0.027011  0.038974\n",
      "A.3_Bmax                 0.004349  0.005703\n",
      "A.3_Brate                0.000214  0.000577\n",
      "A.3_pfail                0.047741  0.036869\n",
      "A.4_Bmax                 0.000865  0.001447\n",
      "A.4_Brate                0.000074  0.000243\n",
      "A.4_pfail                0.015234  0.013762\n",
      "A.5_Bmax                 0.000000  0.000000\n",
      "A.5_Brate                0.000000  0.000000\n",
      "A.5_pfail                0.578544  0.157193\n",
      "discount rate 0         -0.003042  0.005087\n",
      "discount rate 1         -0.000023  0.005897\n",
      "discount rate 2          0.003641  0.004845\n",
      "                                            S2   S2_conf\n",
      "(A.0_ID flood wave shape, A.1_Bmax)   0.016132  0.018267\n",
      "(A.0_ID flood wave shape, A.1_Brate)  0.013248  0.017894\n",
      "(A.0_ID flood wave shape, A.1_pfail)  0.015133  0.014432\n",
      "(A.0_ID flood wave shape, A.2_Bmax)   0.013486  0.018054\n",
      "(A.0_ID flood wave shape, A.2_Brate)  0.013436  0.017948\n",
      "...                                        ...       ...\n",
      "(A.5_pfail, discount rate 1)         -0.092194  0.234619\n",
      "(A.5_pfail, discount rate 2)         -0.098014  0.237639\n",
      "(discount rate 0, discount rate 1)    0.005042  0.009497\n",
      "(discount rate 0, discount rate 2)    0.005209  0.009932\n",
      "(discount rate 1, discount rate 2)    0.000206  0.011013\n",
      "\n",
      "[171 rows x 2 columns]\n"
     ]
    },
    {
     "name": "stderr",
     "output_type": "stream",
     "text": [
      "C:\\Users\\mmtud\\anaconda3\\envs\\gds\\lib\\site-packages\\SALib\\util\\__init__.py:274: FutureWarning: unique with argument that is not not a Series, Index, ExtensionArray, or np.ndarray is deprecated and will raise in a future version.\n",
      "  names = list(pd.unique(groups))\n"
     ]
    },
    {
     "name": "stdout",
     "output_type": "stream",
     "text": [
      "                               ST   ST_conf\n",
      "A.0_ID flood wave shape  0.015317  0.003973\n",
      "A.1_Bmax                 0.031840  0.020854\n",
      "A.1_Brate                0.000780  0.000887\n",
      "A.1_pfail                0.220927  0.074855\n",
      "A.2_Bmax                 0.007602  0.006472\n",
      "A.2_Brate                0.000431  0.000649\n",
      "A.2_pfail                0.127418  0.045998\n",
      "A.3_Bmax                 0.013426  0.012665\n",
      "A.3_Brate                0.000220  0.000208\n",
      "A.3_pfail                0.189513  0.064401\n",
      "A.4_Bmax                 0.000390  0.000411\n",
      "A.4_Brate                0.000045  0.000051\n",
      "A.4_pfail                0.073286  0.027880\n",
      "A.5_Bmax                 0.000000  0.000000\n",
      "A.5_Brate                0.000000  0.000000\n",
      "A.5_pfail                0.834330  0.099572\n",
      "discount rate 0          0.000000  0.000000\n",
      "discount rate 1          0.000000  0.000000\n",
      "discount rate 2          0.000000  0.000000\n",
      "                               S1   S1_conf\n",
      "A.0_ID flood wave shape -0.006770  0.011068\n",
      "A.1_Bmax                 0.007150  0.015777\n",
      "A.1_Brate                0.000110  0.000687\n",
      "A.1_pfail                0.019026  0.037468\n",
      "A.2_Bmax                 0.005676  0.008284\n",
      "A.2_Brate               -0.000802  0.001774\n",
      "A.2_pfail                0.039346  0.053329\n",
      "A.3_Bmax                 0.004052  0.005853\n",
      "A.3_Brate                0.000178  0.000636\n",
      "A.3_pfail                0.045644  0.031006\n",
      "A.4_Bmax                 0.001014  0.001976\n",
      "A.4_Brate                0.000101  0.000226\n",
      "A.4_pfail                0.015351  0.016691\n",
      "A.5_Bmax                 0.000000  0.000000\n",
      "A.5_Brate                0.000000  0.000000\n",
      "A.5_pfail                0.537767  0.138323\n",
      "discount rate 0          0.000000  0.000000\n",
      "discount rate 1          0.000000  0.000000\n",
      "discount rate 2          0.000000  0.000000\n",
      "                                            S2   S2_conf\n",
      "(A.0_ID flood wave shape, A.1_Bmax)   0.019840  0.023361\n",
      "(A.0_ID flood wave shape, A.1_Brate)  0.016335  0.022390\n",
      "(A.0_ID flood wave shape, A.1_pfail)  0.018549  0.018121\n",
      "(A.0_ID flood wave shape, A.2_Bmax)   0.016544  0.022368\n",
      "(A.0_ID flood wave shape, A.2_Brate)  0.016503  0.022385\n",
      "...                                        ...       ...\n",
      "(A.5_pfail, discount rate 1)         -0.062339  0.199521\n",
      "(A.5_pfail, discount rate 2)         -0.062339  0.199521\n",
      "(discount rate 0, discount rate 1)    0.000000  0.000000\n",
      "(discount rate 0, discount rate 2)    0.000000  0.000000\n",
      "(discount rate 1, discount rate 2)    0.000000  0.000000\n",
      "\n",
      "[171 rows x 2 columns]\n"
     ]
    },
    {
     "name": "stderr",
     "output_type": "stream",
     "text": [
      "C:\\Users\\mmtud\\anaconda3\\envs\\gds\\lib\\site-packages\\SALib\\util\\__init__.py:274: FutureWarning: unique with argument that is not not a Series, Index, ExtensionArray, or np.ndarray is deprecated and will raise in a future version.\n",
      "  names = list(pd.unique(groups))\n",
      "C:\\Users\\mmtud\\anaconda3\\envs\\gds\\lib\\site-packages\\SALib\\analyze\\sobol.py:141: RuntimeWarning: invalid value encountered in divide\n",
      "  Y = (Y - Y.mean()) / Y.std()\n"
     ]
    },
    {
     "name": "stdout",
     "output_type": "stream",
     "text": [
      "                         ST  ST_conf\n",
      "A.0_ID flood wave shape NaN      NaN\n",
      "A.1_Bmax                NaN      NaN\n",
      "A.1_Brate               NaN      NaN\n",
      "A.1_pfail               NaN      NaN\n",
      "A.2_Bmax                NaN      NaN\n",
      "A.2_Brate               NaN      NaN\n",
      "A.2_pfail               NaN      NaN\n",
      "A.3_Bmax                NaN      NaN\n",
      "A.3_Brate               NaN      NaN\n",
      "A.3_pfail               NaN      NaN\n",
      "A.4_Bmax                NaN      NaN\n",
      "A.4_Brate               NaN      NaN\n",
      "A.4_pfail               NaN      NaN\n",
      "A.5_Bmax                NaN      NaN\n",
      "A.5_Brate               NaN      NaN\n",
      "A.5_pfail               NaN      NaN\n",
      "discount rate 0         NaN      NaN\n",
      "discount rate 1         NaN      NaN\n",
      "discount rate 2         NaN      NaN\n",
      "                         S1  S1_conf\n",
      "A.0_ID flood wave shape NaN      NaN\n",
      "A.1_Bmax                NaN      NaN\n",
      "A.1_Brate               NaN      NaN\n",
      "A.1_pfail               NaN      NaN\n",
      "A.2_Bmax                NaN      NaN\n",
      "A.2_Brate               NaN      NaN\n",
      "A.2_pfail               NaN      NaN\n",
      "A.3_Bmax                NaN      NaN\n",
      "A.3_Brate               NaN      NaN\n",
      "A.3_pfail               NaN      NaN\n",
      "A.4_Bmax                NaN      NaN\n",
      "A.4_Brate               NaN      NaN\n",
      "A.4_pfail               NaN      NaN\n",
      "A.5_Bmax                NaN      NaN\n",
      "A.5_Brate               NaN      NaN\n",
      "A.5_pfail               NaN      NaN\n",
      "discount rate 0         NaN      NaN\n",
      "discount rate 1         NaN      NaN\n",
      "discount rate 2         NaN      NaN\n",
      "                                      S2  S2_conf\n",
      "(A.0_ID flood wave shape, A.1_Bmax)  NaN      NaN\n",
      "(A.0_ID flood wave shape, A.1_Brate) NaN      NaN\n",
      "(A.0_ID flood wave shape, A.1_pfail) NaN      NaN\n",
      "(A.0_ID flood wave shape, A.2_Bmax)  NaN      NaN\n",
      "(A.0_ID flood wave shape, A.2_Brate) NaN      NaN\n",
      "...                                   ..      ...\n",
      "(A.5_pfail, discount rate 1)         NaN      NaN\n",
      "(A.5_pfail, discount rate 2)         NaN      NaN\n",
      "(discount rate 0, discount rate 1)   NaN      NaN\n",
      "(discount rate 0, discount rate 2)   NaN      NaN\n",
      "(discount rate 1, discount rate 2)   NaN      NaN\n",
      "\n",
      "[171 rows x 2 columns]\n"
     ]
    },
    {
     "name": "stderr",
     "output_type": "stream",
     "text": [
      "C:\\Users\\mmtud\\anaconda3\\envs\\gds\\lib\\site-packages\\SALib\\util\\__init__.py:274: FutureWarning: unique with argument that is not not a Series, Index, ExtensionArray, or np.ndarray is deprecated and will raise in a future version.\n",
      "  names = list(pd.unique(groups))\n",
      "C:\\Users\\mmtud\\anaconda3\\envs\\gds\\lib\\site-packages\\SALib\\analyze\\sobol.py:141: RuntimeWarning: invalid value encountered in divide\n",
      "  Y = (Y - Y.mean()) / Y.std()\n"
     ]
    },
    {
     "name": "stdout",
     "output_type": "stream",
     "text": [
      "                         ST  ST_conf\n",
      "A.0_ID flood wave shape NaN      NaN\n",
      "A.1_Bmax                NaN      NaN\n",
      "A.1_Brate               NaN      NaN\n",
      "A.1_pfail               NaN      NaN\n",
      "A.2_Bmax                NaN      NaN\n",
      "A.2_Brate               NaN      NaN\n",
      "A.2_pfail               NaN      NaN\n",
      "A.3_Bmax                NaN      NaN\n",
      "A.3_Brate               NaN      NaN\n",
      "A.3_pfail               NaN      NaN\n",
      "A.4_Bmax                NaN      NaN\n",
      "A.4_Brate               NaN      NaN\n",
      "A.4_pfail               NaN      NaN\n",
      "A.5_Bmax                NaN      NaN\n",
      "A.5_Brate               NaN      NaN\n",
      "A.5_pfail               NaN      NaN\n",
      "discount rate 0         NaN      NaN\n",
      "discount rate 1         NaN      NaN\n",
      "discount rate 2         NaN      NaN\n",
      "                         S1  S1_conf\n",
      "A.0_ID flood wave shape NaN      NaN\n",
      "A.1_Bmax                NaN      NaN\n",
      "A.1_Brate               NaN      NaN\n",
      "A.1_pfail               NaN      NaN\n",
      "A.2_Bmax                NaN      NaN\n",
      "A.2_Brate               NaN      NaN\n",
      "A.2_pfail               NaN      NaN\n",
      "A.3_Bmax                NaN      NaN\n",
      "A.3_Brate               NaN      NaN\n",
      "A.3_pfail               NaN      NaN\n",
      "A.4_Bmax                NaN      NaN\n",
      "A.4_Brate               NaN      NaN\n",
      "A.4_pfail               NaN      NaN\n",
      "A.5_Bmax                NaN      NaN\n",
      "A.5_Brate               NaN      NaN\n",
      "A.5_pfail               NaN      NaN\n",
      "discount rate 0         NaN      NaN\n",
      "discount rate 1         NaN      NaN\n",
      "discount rate 2         NaN      NaN\n",
      "                                      S2  S2_conf\n",
      "(A.0_ID flood wave shape, A.1_Bmax)  NaN      NaN\n",
      "(A.0_ID flood wave shape, A.1_Brate) NaN      NaN\n",
      "(A.0_ID flood wave shape, A.1_pfail) NaN      NaN\n",
      "(A.0_ID flood wave shape, A.2_Bmax)  NaN      NaN\n",
      "(A.0_ID flood wave shape, A.2_Brate) NaN      NaN\n",
      "...                                   ..      ...\n",
      "(A.5_pfail, discount rate 1)         NaN      NaN\n",
      "(A.5_pfail, discount rate 2)         NaN      NaN\n",
      "(discount rate 0, discount rate 1)   NaN      NaN\n",
      "(discount rate 0, discount rate 2)   NaN      NaN\n",
      "(discount rate 1, discount rate 2)   NaN      NaN\n",
      "\n",
      "[171 rows x 2 columns]\n"
     ]
    }
   ],
   "execution_count": 53
  },
  {
   "metadata": {
    "ExecuteTime": {
     "end_time": "2024-05-30T13:32:22.208246Z",
     "start_time": "2024-05-30T13:32:22.176998Z"
    }
   },
   "cell_type": "code",
   "source": "",
   "outputs": [],
   "execution_count": 60
  },
  {
   "metadata": {},
   "cell_type": "code",
   "outputs": [],
   "execution_count": null,
   "source": ""
  },
  {
   "metadata": {},
   "cell_type": "code",
   "outputs": [],
   "execution_count": null,
   "source": ""
  }
 ],
 "metadata": {
  "kernelspec": {
   "display_name": "gds",
   "language": "python",
   "name": "gds"
  },
  "language_info": {
   "codemirror_mode": {
    "name": "ipython",
    "version": 3
   },
   "file_extension": ".py",
   "mimetype": "text/x-python",
   "name": "python",
   "nbconvert_exporter": "python",
   "pygments_lexer": "ipython3",
   "version": "3.9.16"
  }
 },
 "nbformat": 4,
 "nbformat_minor": 4
}
